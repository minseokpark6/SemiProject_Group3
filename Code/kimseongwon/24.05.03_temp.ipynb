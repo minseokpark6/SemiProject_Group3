{
 "cells": [
  {
   "cell_type": "code",
   "execution_count": 2,
   "metadata": {},
   "outputs": [
    {
     "name": "stdout",
     "output_type": "stream",
     "text": [
      "      대여소_ID\n",
      "0     ST-975\n",
      "1     ST-837\n",
      "2     ST-836\n",
      "3     ST-835\n",
      "4     ST-834\n",
      "..       ...\n",
      "219  ST-1066\n",
      "220  ST-1065\n",
      "221  ST-1064\n",
      "222  ST-1063\n",
      "223  ST-1062\n",
      "\n",
      "[224 rows x 1 columns]\n"
     ]
    }
   ],
   "source": [
    "import pandas as pd\n",
    "import numpy as np\n",
    "import matplotlib.pyplot as plt\n",
    "import matplotlib as mpl\n",
    "import matplotlib.font_manager as fm\n",
    "font_path = 'C:\\\\Windows\\\\Fonts\\\\gulim.ttc'\n",
    "font = fm.FontProperties(fname=font_path).get_name()\n",
    "mpl.rc('font', family=font)\n",
    "\n",
    "강서_대여소_ID = pd.read_csv('../../Data/따릉이/강서_따릉이_대여소_ID.csv',encoding='utf-8')\n",
    "print(강서_대여소_ID)"
   ]
  },
  {
   "cell_type": "code",
   "execution_count": 3,
   "metadata": {},
   "outputs": [
    {
     "name": "stdout",
     "output_type": "stream",
     "text": [
      "       대여소_ID                      주소1            주소2         위도          경도\n",
      "0      ST-999       서울특별시 양천구 목동서로 280  목동아파트 8단지 상가동   0.000000    0.000000\n",
      "1      ST-998       서울특별시 양천구 목동서로 130  목동아파트 4단지 상가동   0.000000    0.000000\n",
      "2      ST-997       서울특별시 양천구 목동중앙로 49  목동3단지 시내버스정류장  37.534390  126.869598\n",
      "3      ST-996   서울특별시 양천구 남부순환로88길5-16     양강중학교앞 교차로  37.524334  126.850548\n",
      "4      ST-995  서울특별시 양천구 중앙로 153 공중화장실            NaN  37.510597  126.857323\n",
      "...       ...                      ...            ...        ...         ...\n",
      "3281  ST-1002     서울특별시 양천구 목동동로 316-6   서울시 도로환경관리센터  37.529900  126.876541\n",
      "3282  ST-1001      서울특별시 양천구 남부순환로4길20        서서울호수공원   0.000000    0.000000\n",
      "3283  ST-1000        서울특별시 양천구 신정동 236    서부식자재마트 건너편  37.510380  126.866798\n",
      "3284   ST-100       서울특별시 광진구 아차산로 262    더샵스타시티 C동 앞  37.536667  127.073593\n",
      "3285    ST-10         서울특별시 마포구 양화로 93            427  37.552746  126.918617\n",
      "\n",
      "[3286 rows x 5 columns]\n"
     ]
    }
   ],
   "source": [
    "따릉이대여소_마스터정보 = pd.read_csv('../../Data/따릉이/서울시 따릉이대여소 마스터 정보.csv',encoding='cp949')\n",
    "print(따릉이대여소_마스터정보)"
   ]
  },
  {
   "cell_type": "code",
   "execution_count": 4,
   "metadata": {},
   "outputs": [],
   "source": [
    "강서_마스터정보 = 따릉이대여소_마스터정보[따릉이대여소_마스터정보['대여소_ID'].isin(강서_대여소_ID['대여소_ID'])]"
   ]
  },
  {
   "cell_type": "code",
   "execution_count": 5,
   "metadata": {},
   "outputs": [],
   "source": [
    "강서_마스터정보 = 강서_마스터정보.reset_index()"
   ]
  },
  {
   "cell_type": "code",
   "execution_count": 6,
   "metadata": {},
   "outputs": [
    {
     "name": "stdout",
     "output_type": "stream",
     "text": [
      "<class 'pandas.core.frame.DataFrame'>\n",
      "RangeIndex: 224 entries, 0 to 223\n",
      "Data columns (total 6 columns):\n",
      " #   Column  Non-Null Count  Dtype  \n",
      "---  ------  --------------  -----  \n",
      " 0   index   224 non-null    int64  \n",
      " 1   대여소_ID  224 non-null    object \n",
      " 2   주소1     224 non-null    object \n",
      " 3   주소2     80 non-null     object \n",
      " 4   위도      224 non-null    float64\n",
      " 5   경도      224 non-null    float64\n",
      "dtypes: float64(2), int64(1), object(3)\n",
      "memory usage: 10.6+ KB\n"
     ]
    }
   ],
   "source": [
    "강서_마스터정보.info()"
   ]
  },
  {
   "cell_type": "code",
   "execution_count": 7,
   "metadata": {},
   "outputs": [
    {
     "data": {
      "text/html": [
       "<div>\n",
       "<style scoped>\n",
       "    .dataframe tbody tr th:only-of-type {\n",
       "        vertical-align: middle;\n",
       "    }\n",
       "\n",
       "    .dataframe tbody tr th {\n",
       "        vertical-align: top;\n",
       "    }\n",
       "\n",
       "    .dataframe thead th {\n",
       "        text-align: right;\n",
       "    }\n",
       "</style>\n",
       "<table border=\"1\" class=\"dataframe\">\n",
       "  <thead>\n",
       "    <tr style=\"text-align: right;\">\n",
       "      <th></th>\n",
       "      <th>대여소_ID</th>\n",
       "      <th>주소1</th>\n",
       "      <th>주소2</th>\n",
       "      <th>위도</th>\n",
       "      <th>경도</th>\n",
       "    </tr>\n",
       "  </thead>\n",
       "  <tbody>\n",
       "    <tr>\n",
       "      <th>0</th>\n",
       "      <td>ST-975</td>\n",
       "      <td>서울특별시 강서구 마곡서1로 111-12</td>\n",
       "      <td>신방화역환승주차장</td>\n",
       "      <td>37.567284</td>\n",
       "      <td>126.818275</td>\n",
       "    </tr>\n",
       "    <tr>\n",
       "      <th>1</th>\n",
       "      <td>ST-837</td>\n",
       "      <td>서울특별시 강서구 강서로 지하 54</td>\n",
       "      <td>강서구 화곡동 662-5</td>\n",
       "      <td>37.532551</td>\n",
       "      <td>126.846321</td>\n",
       "    </tr>\n",
       "    <tr>\n",
       "      <th>2</th>\n",
       "      <td>ST-836</td>\n",
       "      <td>서울특별시 강서구 곰달래로37길 13</td>\n",
       "      <td>강서구곰달래로37길 13</td>\n",
       "      <td>37.531780</td>\n",
       "      <td>126.854485</td>\n",
       "    </tr>\n",
       "    <tr>\n",
       "      <th>3</th>\n",
       "      <td>ST-835</td>\n",
       "      <td>서울특별시 강서구 강서로 304</td>\n",
       "      <td>강서구 내발산동 724-42</td>\n",
       "      <td>37.552914</td>\n",
       "      <td>126.836571</td>\n",
       "    </tr>\n",
       "    <tr>\n",
       "      <th>4</th>\n",
       "      <td>ST-834</td>\n",
       "      <td>서울특별시 강서구 공항대로 329</td>\n",
       "      <td>강서구 등촌동 675-7</td>\n",
       "      <td>37.558197</td>\n",
       "      <td>126.844261</td>\n",
       "    </tr>\n",
       "    <tr>\n",
       "      <th>...</th>\n",
       "      <td>...</td>\n",
       "      <td>...</td>\n",
       "      <td>...</td>\n",
       "      <td>...</td>\n",
       "      <td>...</td>\n",
       "    </tr>\n",
       "    <tr>\n",
       "      <th>219</th>\n",
       "      <td>ST-1066</td>\n",
       "      <td>서울특별시 서울 강서구 내발산동 741-8</td>\n",
       "      <td>마곡수명산파크2단지 교차로</td>\n",
       "      <td>0.000000</td>\n",
       "      <td>0.000000</td>\n",
       "    </tr>\n",
       "    <tr>\n",
       "      <th>220</th>\n",
       "      <td>ST-1065</td>\n",
       "      <td>서울특별시 강서구 마곡동 797-5</td>\n",
       "      <td>NaN</td>\n",
       "      <td>37.558949</td>\n",
       "      <td>126.837173</td>\n",
       "    </tr>\n",
       "    <tr>\n",
       "      <th>221</th>\n",
       "      <td>ST-1064</td>\n",
       "      <td>서울특별시 강서구 마곡동 728-168</td>\n",
       "      <td>마곡역7번출구</td>\n",
       "      <td>37.558311</td>\n",
       "      <td>126.826523</td>\n",
       "    </tr>\n",
       "    <tr>\n",
       "      <th>222</th>\n",
       "      <td>ST-1063</td>\n",
       "      <td>서울특별시 강서구 공항대로 163 마곡역(5호선)</td>\n",
       "      <td>NaN</td>\n",
       "      <td>37.560207</td>\n",
       "      <td>126.824142</td>\n",
       "    </tr>\n",
       "    <tr>\n",
       "      <th>223</th>\n",
       "      <td>ST-1062</td>\n",
       "      <td>서울특별시 강서구 공항대로 33 송정역(5호선)</td>\n",
       "      <td>NaN</td>\n",
       "      <td>37.561531</td>\n",
       "      <td>126.810699</td>\n",
       "    </tr>\n",
       "  </tbody>\n",
       "</table>\n",
       "<p>224 rows × 5 columns</p>\n",
       "</div>"
      ],
      "text/plain": [
       "      대여소_ID                          주소1              주소2         위도  \\\n",
       "0     ST-975       서울특별시 강서구 마곡서1로 111-12        신방화역환승주차장  37.567284   \n",
       "1     ST-837          서울특별시 강서구 강서로 지하 54    강서구 화곡동 662-5  37.532551   \n",
       "2     ST-836         서울특별시 강서구 곰달래로37길 13    강서구곰달래로37길 13  37.531780   \n",
       "3     ST-835            서울특별시 강서구 강서로 304  강서구 내발산동 724-42  37.552914   \n",
       "4     ST-834           서울특별시 강서구 공항대로 329    강서구 등촌동 675-7  37.558197   \n",
       "..       ...                          ...              ...        ...   \n",
       "219  ST-1066      서울특별시 서울 강서구 내발산동 741-8   마곡수명산파크2단지 교차로   0.000000   \n",
       "220  ST-1065          서울특별시 강서구 마곡동 797-5              NaN  37.558949   \n",
       "221  ST-1064        서울특별시 강서구 마곡동 728-168          마곡역7번출구  37.558311   \n",
       "222  ST-1063  서울특별시 강서구 공항대로 163 마곡역(5호선)              NaN  37.560207   \n",
       "223  ST-1062   서울특별시 강서구 공항대로 33 송정역(5호선)              NaN  37.561531   \n",
       "\n",
       "             경도  \n",
       "0    126.818275  \n",
       "1    126.846321  \n",
       "2    126.854485  \n",
       "3    126.836571  \n",
       "4    126.844261  \n",
       "..          ...  \n",
       "219    0.000000  \n",
       "220  126.837173  \n",
       "221  126.826523  \n",
       "222  126.824142  \n",
       "223  126.810699  \n",
       "\n",
       "[224 rows x 5 columns]"
      ]
     },
     "execution_count": 7,
     "metadata": {},
     "output_type": "execute_result"
    }
   ],
   "source": [
    "강서_마스터정보 = 강서_마스터정보.drop('index',axis=1)\n",
    "강서_마스터정보"
   ]
  },
  {
   "cell_type": "code",
   "execution_count": 8,
   "metadata": {},
   "outputs": [
    {
     "name": "stdout",
     "output_type": "stream",
     "text": [
      "     Unnamed: 0   대여소_ID 지구 분류(출근) 지구 분류(퇴근) 일치여부  강서_데이터_시작(출근)  \\\n",
      "0             0  ST-1062        주거        주거   일치         3817.0   \n",
      "1             1  ST-1063        업무        업무   일치         5061.0   \n",
      "2             2  ST-1064        업무        업무   일치         3900.0   \n",
      "3             3  ST-1065        주거        주거   일치         5849.0   \n",
      "4             4  ST-1067        주거        주거   일치         3604.0   \n",
      "..          ...      ...       ...       ...  ...            ...   \n",
      "190         190   ST-829        주거        업무  불일치         1344.0   \n",
      "191         191   ST-831        주거        주거   일치         2732.0   \n",
      "192         192   ST-834        업무        주거  불일치         3344.0   \n",
      "193         193   ST-835        주거        주거   일치         4274.0   \n",
      "194         194   ST-975        주거        주거   일치         2979.0   \n",
      "\n",
      "     강서_데이터_종료(출근)  차이(출근)  차이 절대값(출근)  총 이용량(시작 + 종료)(출근)  강서_데이터_시작(퇴근)  \\\n",
      "0           2303.0  1514.0      1514.0              6120.0           4052   \n",
      "1           8806.0 -3745.0      3745.0             13867.0           5762   \n",
      "2           8571.0 -4671.0      4671.0             12471.0           8962   \n",
      "3           5590.0   259.0       259.0             11439.0          14935   \n",
      "4           2990.0   614.0       614.0              6594.0           2700   \n",
      "..             ...     ...         ...                 ...            ...   \n",
      "190         1005.0   339.0       339.0              2349.0           1956   \n",
      "191         1538.0  1194.0      1194.0              4270.0           4079   \n",
      "192         4368.0 -1024.0      1024.0              7712.0           6339   \n",
      "193         2164.0  2110.0      2110.0              6438.0           5497   \n",
      "194         2504.0   475.0       475.0              5483.0           7587   \n",
      "\n",
      "     강서_데이터_종료(퇴근)  차이(퇴근)  차이절대값(퇴근)  총 이용량(시작 + 종료)(퇴근)  \n",
      "0             5420   -1368       1368                9472  \n",
      "1             3109    2653       2653                8871  \n",
      "2             5449    3513       3513               14411  \n",
      "3            16778   -1843       1843               31713  \n",
      "4             3810   -1110       1110                6510  \n",
      "..             ...     ...        ...                 ...  \n",
      "190           1923      33         33                3879  \n",
      "191           4576    -497        497                8655  \n",
      "192           6460    -121        121               12799  \n",
      "193           7926   -2429       2429               13423  \n",
      "194           8311    -724        724               15898  \n",
      "\n",
      "[195 rows x 15 columns]\n"
     ]
    }
   ],
   "source": [
    "출퇴근_통합정보 = pd.read_csv('./출퇴근시간_대여소_이용량_통합 - 출퇴근시간_대여소_이용량.csv',encoding='utf-8')\n",
    "print(출퇴근_통합정보)"
   ]
  },
  {
   "cell_type": "code",
   "execution_count": 9,
   "metadata": {},
   "outputs": [
    {
     "name": "stdout",
     "output_type": "stream",
     "text": [
      "<class 'pandas.core.frame.DataFrame'>\n",
      "RangeIndex: 195 entries, 0 to 194\n",
      "Data columns (total 15 columns):\n",
      " #   Column              Non-Null Count  Dtype  \n",
      "---  ------              --------------  -----  \n",
      " 0   Unnamed: 0          195 non-null    int64  \n",
      " 1   대여소_ID              195 non-null    object \n",
      " 2   지구 분류(출근)           194 non-null    object \n",
      " 3   지구 분류(퇴근)           194 non-null    object \n",
      " 4   일치여부                194 non-null    object \n",
      " 5   강서_데이터_시작(출근)       194 non-null    float64\n",
      " 6   강서_데이터_종료(출근)       194 non-null    float64\n",
      " 7   차이(출근)              194 non-null    float64\n",
      " 8   차이 절대값(출근)          194 non-null    float64\n",
      " 9   총 이용량(시작 + 종료)(출근)  194 non-null    float64\n",
      " 10  강서_데이터_시작(퇴근)       195 non-null    int64  \n",
      " 11  강서_데이터_종료(퇴근)       195 non-null    int64  \n",
      " 12  차이(퇴근)              195 non-null    int64  \n",
      " 13  차이절대값(퇴근)           195 non-null    int64  \n",
      " 14  총 이용량(시작 + 종료)(퇴근)  195 non-null    int64  \n",
      "dtypes: float64(5), int64(6), object(4)\n",
      "memory usage: 23.0+ KB\n"
     ]
    }
   ],
   "source": [
    "출퇴근_통합정보.info()"
   ]
  },
  {
   "cell_type": "code",
   "execution_count": 10,
   "metadata": {},
   "outputs": [],
   "source": [
    "출퇴근_통합정보 = 출퇴근_통합정보.drop('Unnamed: 0', axis=1)"
   ]
  },
  {
   "cell_type": "code",
   "execution_count": 11,
   "metadata": {},
   "outputs": [
    {
     "name": "stdout",
     "output_type": "stream",
     "text": [
      "<class 'pandas.core.frame.DataFrame'>\n",
      "RangeIndex: 195 entries, 0 to 194\n",
      "Data columns (total 14 columns):\n",
      " #   Column              Non-Null Count  Dtype  \n",
      "---  ------              --------------  -----  \n",
      " 0   대여소_ID              195 non-null    object \n",
      " 1   지구 분류(출근)           194 non-null    object \n",
      " 2   지구 분류(퇴근)           194 non-null    object \n",
      " 3   일치여부                194 non-null    object \n",
      " 4   강서_데이터_시작(출근)       194 non-null    float64\n",
      " 5   강서_데이터_종료(출근)       194 non-null    float64\n",
      " 6   차이(출근)              194 non-null    float64\n",
      " 7   차이 절대값(출근)          194 non-null    float64\n",
      " 8   총 이용량(시작 + 종료)(출근)  194 non-null    float64\n",
      " 9   강서_데이터_시작(퇴근)       195 non-null    int64  \n",
      " 10  강서_데이터_종료(퇴근)       195 non-null    int64  \n",
      " 11  차이(퇴근)              195 non-null    int64  \n",
      " 12  차이절대값(퇴근)           195 non-null    int64  \n",
      " 13  총 이용량(시작 + 종료)(퇴근)  195 non-null    int64  \n",
      "dtypes: float64(5), int64(5), object(4)\n",
      "memory usage: 21.5+ KB\n"
     ]
    }
   ],
   "source": [
    "출퇴근_통합정보.info()"
   ]
  },
  {
   "cell_type": "code",
   "execution_count": 12,
   "metadata": {},
   "outputs": [],
   "source": [
    "출퇴근_통합정보.rename(columns={'대여소_ID':'대여소_ID',\n",
    "                               '지구 분류(출근)':'지구분류(출)',\n",
    "                               '지구 분류(퇴근)':'지구분류(퇴)',\n",
    "                               '일치여부':'분류일치여부',\n",
    "                               '강서_데이터_시작(출근)':'시작(출)',\n",
    "                               '강서_데이터_종료(출근)':'종료(출)',\n",
    "                               '차이(출근)':'차이(출)',\n",
    "                               '차이 절대값(출근)':'차이절대값(출)',\n",
    "                               '총 이용량(시작 + 종료)(출근)':'총이용량(출)',\n",
    "                               '강서_데이터_시작(퇴근)':'시작(퇴)',\n",
    "                               '강서_데이터_종료(퇴근)':'종료(퇴)',\n",
    "                               '차이(퇴근)':'차이(퇴)',\n",
    "                               '차이절대값(퇴근)':'차이절대값(퇴)',\n",
    "                               '총 이용량(시작 + 종료)(퇴근)':'총이용량(퇴)'\n",
    "                               }, inplace=True)"
   ]
  },
  {
   "cell_type": "code",
   "execution_count": 13,
   "metadata": {},
   "outputs": [
    {
     "data": {
      "text/html": [
       "<div>\n",
       "<style scoped>\n",
       "    .dataframe tbody tr th:only-of-type {\n",
       "        vertical-align: middle;\n",
       "    }\n",
       "\n",
       "    .dataframe tbody tr th {\n",
       "        vertical-align: top;\n",
       "    }\n",
       "\n",
       "    .dataframe thead th {\n",
       "        text-align: right;\n",
       "    }\n",
       "</style>\n",
       "<table border=\"1\" class=\"dataframe\">\n",
       "  <thead>\n",
       "    <tr style=\"text-align: right;\">\n",
       "      <th></th>\n",
       "      <th>대여소_ID</th>\n",
       "      <th>지구분류(출)</th>\n",
       "      <th>지구분류(퇴)</th>\n",
       "      <th>분류일치여부</th>\n",
       "      <th>시작(출)</th>\n",
       "      <th>종료(출)</th>\n",
       "      <th>차이(출)</th>\n",
       "      <th>차이절대값(출)</th>\n",
       "      <th>총이용량(출)</th>\n",
       "      <th>시작(퇴)</th>\n",
       "      <th>종료(퇴)</th>\n",
       "      <th>차이(퇴)</th>\n",
       "      <th>차이절대값(퇴)</th>\n",
       "      <th>총이용량(퇴)</th>\n",
       "    </tr>\n",
       "  </thead>\n",
       "  <tbody>\n",
       "    <tr>\n",
       "      <th>0</th>\n",
       "      <td>ST-1062</td>\n",
       "      <td>주거</td>\n",
       "      <td>주거</td>\n",
       "      <td>일치</td>\n",
       "      <td>3817.0</td>\n",
       "      <td>2303.0</td>\n",
       "      <td>1514.0</td>\n",
       "      <td>1514.0</td>\n",
       "      <td>6120.0</td>\n",
       "      <td>4052</td>\n",
       "      <td>5420</td>\n",
       "      <td>-1368</td>\n",
       "      <td>1368</td>\n",
       "      <td>9472</td>\n",
       "    </tr>\n",
       "    <tr>\n",
       "      <th>1</th>\n",
       "      <td>ST-1063</td>\n",
       "      <td>업무</td>\n",
       "      <td>업무</td>\n",
       "      <td>일치</td>\n",
       "      <td>5061.0</td>\n",
       "      <td>8806.0</td>\n",
       "      <td>-3745.0</td>\n",
       "      <td>3745.0</td>\n",
       "      <td>13867.0</td>\n",
       "      <td>5762</td>\n",
       "      <td>3109</td>\n",
       "      <td>2653</td>\n",
       "      <td>2653</td>\n",
       "      <td>8871</td>\n",
       "    </tr>\n",
       "    <tr>\n",
       "      <th>2</th>\n",
       "      <td>ST-1064</td>\n",
       "      <td>업무</td>\n",
       "      <td>업무</td>\n",
       "      <td>일치</td>\n",
       "      <td>3900.0</td>\n",
       "      <td>8571.0</td>\n",
       "      <td>-4671.0</td>\n",
       "      <td>4671.0</td>\n",
       "      <td>12471.0</td>\n",
       "      <td>8962</td>\n",
       "      <td>5449</td>\n",
       "      <td>3513</td>\n",
       "      <td>3513</td>\n",
       "      <td>14411</td>\n",
       "    </tr>\n",
       "    <tr>\n",
       "      <th>3</th>\n",
       "      <td>ST-1065</td>\n",
       "      <td>주거</td>\n",
       "      <td>주거</td>\n",
       "      <td>일치</td>\n",
       "      <td>5849.0</td>\n",
       "      <td>5590.0</td>\n",
       "      <td>259.0</td>\n",
       "      <td>259.0</td>\n",
       "      <td>11439.0</td>\n",
       "      <td>14935</td>\n",
       "      <td>16778</td>\n",
       "      <td>-1843</td>\n",
       "      <td>1843</td>\n",
       "      <td>31713</td>\n",
       "    </tr>\n",
       "    <tr>\n",
       "      <th>4</th>\n",
       "      <td>ST-1067</td>\n",
       "      <td>주거</td>\n",
       "      <td>주거</td>\n",
       "      <td>일치</td>\n",
       "      <td>3604.0</td>\n",
       "      <td>2990.0</td>\n",
       "      <td>614.0</td>\n",
       "      <td>614.0</td>\n",
       "      <td>6594.0</td>\n",
       "      <td>2700</td>\n",
       "      <td>3810</td>\n",
       "      <td>-1110</td>\n",
       "      <td>1110</td>\n",
       "      <td>6510</td>\n",
       "    </tr>\n",
       "    <tr>\n",
       "      <th>...</th>\n",
       "      <td>...</td>\n",
       "      <td>...</td>\n",
       "      <td>...</td>\n",
       "      <td>...</td>\n",
       "      <td>...</td>\n",
       "      <td>...</td>\n",
       "      <td>...</td>\n",
       "      <td>...</td>\n",
       "      <td>...</td>\n",
       "      <td>...</td>\n",
       "      <td>...</td>\n",
       "      <td>...</td>\n",
       "      <td>...</td>\n",
       "      <td>...</td>\n",
       "    </tr>\n",
       "    <tr>\n",
       "      <th>190</th>\n",
       "      <td>ST-829</td>\n",
       "      <td>주거</td>\n",
       "      <td>업무</td>\n",
       "      <td>불일치</td>\n",
       "      <td>1344.0</td>\n",
       "      <td>1005.0</td>\n",
       "      <td>339.0</td>\n",
       "      <td>339.0</td>\n",
       "      <td>2349.0</td>\n",
       "      <td>1956</td>\n",
       "      <td>1923</td>\n",
       "      <td>33</td>\n",
       "      <td>33</td>\n",
       "      <td>3879</td>\n",
       "    </tr>\n",
       "    <tr>\n",
       "      <th>191</th>\n",
       "      <td>ST-831</td>\n",
       "      <td>주거</td>\n",
       "      <td>주거</td>\n",
       "      <td>일치</td>\n",
       "      <td>2732.0</td>\n",
       "      <td>1538.0</td>\n",
       "      <td>1194.0</td>\n",
       "      <td>1194.0</td>\n",
       "      <td>4270.0</td>\n",
       "      <td>4079</td>\n",
       "      <td>4576</td>\n",
       "      <td>-497</td>\n",
       "      <td>497</td>\n",
       "      <td>8655</td>\n",
       "    </tr>\n",
       "    <tr>\n",
       "      <th>192</th>\n",
       "      <td>ST-834</td>\n",
       "      <td>업무</td>\n",
       "      <td>주거</td>\n",
       "      <td>불일치</td>\n",
       "      <td>3344.0</td>\n",
       "      <td>4368.0</td>\n",
       "      <td>-1024.0</td>\n",
       "      <td>1024.0</td>\n",
       "      <td>7712.0</td>\n",
       "      <td>6339</td>\n",
       "      <td>6460</td>\n",
       "      <td>-121</td>\n",
       "      <td>121</td>\n",
       "      <td>12799</td>\n",
       "    </tr>\n",
       "    <tr>\n",
       "      <th>193</th>\n",
       "      <td>ST-835</td>\n",
       "      <td>주거</td>\n",
       "      <td>주거</td>\n",
       "      <td>일치</td>\n",
       "      <td>4274.0</td>\n",
       "      <td>2164.0</td>\n",
       "      <td>2110.0</td>\n",
       "      <td>2110.0</td>\n",
       "      <td>6438.0</td>\n",
       "      <td>5497</td>\n",
       "      <td>7926</td>\n",
       "      <td>-2429</td>\n",
       "      <td>2429</td>\n",
       "      <td>13423</td>\n",
       "    </tr>\n",
       "    <tr>\n",
       "      <th>194</th>\n",
       "      <td>ST-975</td>\n",
       "      <td>주거</td>\n",
       "      <td>주거</td>\n",
       "      <td>일치</td>\n",
       "      <td>2979.0</td>\n",
       "      <td>2504.0</td>\n",
       "      <td>475.0</td>\n",
       "      <td>475.0</td>\n",
       "      <td>5483.0</td>\n",
       "      <td>7587</td>\n",
       "      <td>8311</td>\n",
       "      <td>-724</td>\n",
       "      <td>724</td>\n",
       "      <td>15898</td>\n",
       "    </tr>\n",
       "  </tbody>\n",
       "</table>\n",
       "<p>195 rows × 14 columns</p>\n",
       "</div>"
      ],
      "text/plain": [
       "      대여소_ID 지구분류(출) 지구분류(퇴) 분류일치여부   시작(출)   종료(출)   차이(출)  차이절대값(출)  \\\n",
       "0    ST-1062      주거      주거     일치  3817.0  2303.0  1514.0    1514.0   \n",
       "1    ST-1063      업무      업무     일치  5061.0  8806.0 -3745.0    3745.0   \n",
       "2    ST-1064      업무      업무     일치  3900.0  8571.0 -4671.0    4671.0   \n",
       "3    ST-1065      주거      주거     일치  5849.0  5590.0   259.0     259.0   \n",
       "4    ST-1067      주거      주거     일치  3604.0  2990.0   614.0     614.0   \n",
       "..       ...     ...     ...    ...     ...     ...     ...       ...   \n",
       "190   ST-829      주거      업무    불일치  1344.0  1005.0   339.0     339.0   \n",
       "191   ST-831      주거      주거     일치  2732.0  1538.0  1194.0    1194.0   \n",
       "192   ST-834      업무      주거    불일치  3344.0  4368.0 -1024.0    1024.0   \n",
       "193   ST-835      주거      주거     일치  4274.0  2164.0  2110.0    2110.0   \n",
       "194   ST-975      주거      주거     일치  2979.0  2504.0   475.0     475.0   \n",
       "\n",
       "     총이용량(출)  시작(퇴)  종료(퇴)  차이(퇴)  차이절대값(퇴)  총이용량(퇴)  \n",
       "0     6120.0   4052   5420  -1368      1368     9472  \n",
       "1    13867.0   5762   3109   2653      2653     8871  \n",
       "2    12471.0   8962   5449   3513      3513    14411  \n",
       "3    11439.0  14935  16778  -1843      1843    31713  \n",
       "4     6594.0   2700   3810  -1110      1110     6510  \n",
       "..       ...    ...    ...    ...       ...      ...  \n",
       "190   2349.0   1956   1923     33        33     3879  \n",
       "191   4270.0   4079   4576   -497       497     8655  \n",
       "192   7712.0   6339   6460   -121       121    12799  \n",
       "193   6438.0   5497   7926  -2429      2429    13423  \n",
       "194   5483.0   7587   8311   -724       724    15898  \n",
       "\n",
       "[195 rows x 14 columns]"
      ]
     },
     "execution_count": 13,
     "metadata": {},
     "output_type": "execute_result"
    }
   ],
   "source": [
    "출퇴근_통합정보"
   ]
  },
  {
   "cell_type": "code",
   "execution_count": 14,
   "metadata": {},
   "outputs": [
    {
     "name": "stdout",
     "output_type": "stream",
     "text": [
      "<class 'pandas.core.frame.DataFrame'>\n",
      "RangeIndex: 195 entries, 0 to 194\n",
      "Data columns (total 14 columns):\n",
      " #   Column    Non-Null Count  Dtype  \n",
      "---  ------    --------------  -----  \n",
      " 0   대여소_ID    195 non-null    object \n",
      " 1   지구분류(출)   194 non-null    object \n",
      " 2   지구분류(퇴)   194 non-null    object \n",
      " 3   분류일치여부    194 non-null    object \n",
      " 4   시작(출)     194 non-null    float64\n",
      " 5   종료(출)     194 non-null    float64\n",
      " 6   차이(출)     194 non-null    float64\n",
      " 7   차이절대값(출)  194 non-null    float64\n",
      " 8   총이용량(출)   194 non-null    float64\n",
      " 9   시작(퇴)     195 non-null    int64  \n",
      " 10  종료(퇴)     195 non-null    int64  \n",
      " 11  차이(퇴)     195 non-null    int64  \n",
      " 12  차이절대값(퇴)  195 non-null    int64  \n",
      " 13  총이용량(퇴)   195 non-null    int64  \n",
      "dtypes: float64(5), int64(5), object(4)\n",
      "memory usage: 21.5+ KB\n"
     ]
    }
   ],
   "source": [
    "출퇴근_통합정보.info()"
   ]
  },
  {
   "cell_type": "code",
   "execution_count": 15,
   "metadata": {},
   "outputs": [
    {
     "data": {
      "text/plain": [
       "Index(['대여소_ID', '지구분류(출)', '지구분류(퇴)', '분류일치여부', '시작(출)', '종료(출)', '차이(출)',\n",
       "       '차이절대값(출)', '총이용량(출)', '시작(퇴)', '종료(퇴)', '차이(퇴)', '차이절대값(퇴)',\n",
       "       '총이용량(퇴)'],\n",
       "      dtype='object')"
      ]
     },
     "execution_count": 15,
     "metadata": {},
     "output_type": "execute_result"
    }
   ],
   "source": [
    "출퇴근_통합정보.columns"
   ]
  },
  {
   "cell_type": "code",
   "execution_count": 16,
   "metadata": {},
   "outputs": [],
   "source": [
    "출퇴근_통합정보 = 출퇴근_통합정보.fillna(0)"
   ]
  },
  {
   "cell_type": "code",
   "execution_count": 17,
   "metadata": {},
   "outputs": [
    {
     "name": "stdout",
     "output_type": "stream",
     "text": [
      "<class 'pandas.core.frame.DataFrame'>\n",
      "RangeIndex: 195 entries, 0 to 194\n",
      "Data columns (total 14 columns):\n",
      " #   Column    Non-Null Count  Dtype  \n",
      "---  ------    --------------  -----  \n",
      " 0   대여소_ID    195 non-null    object \n",
      " 1   지구분류(출)   195 non-null    object \n",
      " 2   지구분류(퇴)   195 non-null    object \n",
      " 3   분류일치여부    195 non-null    object \n",
      " 4   시작(출)     195 non-null    float64\n",
      " 5   종료(출)     195 non-null    float64\n",
      " 6   차이(출)     195 non-null    float64\n",
      " 7   차이절대값(출)  195 non-null    float64\n",
      " 8   총이용량(출)   195 non-null    float64\n",
      " 9   시작(퇴)     195 non-null    int64  \n",
      " 10  종료(퇴)     195 non-null    int64  \n",
      " 11  차이(퇴)     195 non-null    int64  \n",
      " 12  차이절대값(퇴)  195 non-null    int64  \n",
      " 13  총이용량(퇴)   195 non-null    int64  \n",
      "dtypes: float64(5), int64(5), object(4)\n",
      "memory usage: 21.5+ KB\n"
     ]
    }
   ],
   "source": [
    "출퇴근_통합정보.info()"
   ]
  },
  {
   "cell_type": "code",
   "execution_count": 18,
   "metadata": {},
   "outputs": [
    {
     "data": {
      "text/plain": [
       "Index(['대여소_ID', '지구분류(출)', '지구분류(퇴)', '분류일치여부', '시작(출)', '종료(출)', '차이(출)',\n",
       "       '차이절대값(출)', '총이용량(출)', '시작(퇴)', '종료(퇴)', '차이(퇴)', '차이절대값(퇴)',\n",
       "       '총이용량(퇴)'],\n",
       "      dtype='object')"
      ]
     },
     "execution_count": 18,
     "metadata": {},
     "output_type": "execute_result"
    }
   ],
   "source": [
    "출퇴근_통합정보.columns"
   ]
  },
  {
   "cell_type": "code",
   "execution_count": 19,
   "metadata": {},
   "outputs": [],
   "source": [
    "출퇴근_통합정보[['시작(출)', '종료(출)', '차이(출)', '차이절대값(출)', '총이용량(출)']] = 출퇴근_통합정보[['시작(출)', '종료(출)', '차이(출)', '차이절대값(출)', '총이용량(출)']].astype(int)"
   ]
  },
  {
   "cell_type": "code",
   "execution_count": 20,
   "metadata": {},
   "outputs": [
    {
     "name": "stdout",
     "output_type": "stream",
     "text": [
      "<class 'pandas.core.frame.DataFrame'>\n",
      "RangeIndex: 195 entries, 0 to 194\n",
      "Data columns (total 14 columns):\n",
      " #   Column    Non-Null Count  Dtype \n",
      "---  ------    --------------  ----- \n",
      " 0   대여소_ID    195 non-null    object\n",
      " 1   지구분류(출)   195 non-null    object\n",
      " 2   지구분류(퇴)   195 non-null    object\n",
      " 3   분류일치여부    195 non-null    object\n",
      " 4   시작(출)     195 non-null    int32 \n",
      " 5   종료(출)     195 non-null    int32 \n",
      " 6   차이(출)     195 non-null    int32 \n",
      " 7   차이절대값(출)  195 non-null    int32 \n",
      " 8   총이용량(출)   195 non-null    int32 \n",
      " 9   시작(퇴)     195 non-null    int64 \n",
      " 10  종료(퇴)     195 non-null    int64 \n",
      " 11  차이(퇴)     195 non-null    int64 \n",
      " 12  차이절대값(퇴)  195 non-null    int64 \n",
      " 13  총이용량(퇴)   195 non-null    int64 \n",
      "dtypes: int32(5), int64(5), object(4)\n",
      "memory usage: 17.6+ KB\n"
     ]
    }
   ],
   "source": [
    "출퇴근_통합정보.info()"
   ]
  },
  {
   "cell_type": "code",
   "execution_count": 21,
   "metadata": {},
   "outputs": [
    {
     "data": {
      "text/html": [
       "<div>\n",
       "<style scoped>\n",
       "    .dataframe tbody tr th:only-of-type {\n",
       "        vertical-align: middle;\n",
       "    }\n",
       "\n",
       "    .dataframe tbody tr th {\n",
       "        vertical-align: top;\n",
       "    }\n",
       "\n",
       "    .dataframe thead th {\n",
       "        text-align: right;\n",
       "    }\n",
       "</style>\n",
       "<table border=\"1\" class=\"dataframe\">\n",
       "  <thead>\n",
       "    <tr style=\"text-align: right;\">\n",
       "      <th></th>\n",
       "      <th>대여소_ID</th>\n",
       "      <th>지구분류(출)</th>\n",
       "      <th>지구분류(퇴)</th>\n",
       "      <th>분류일치여부</th>\n",
       "      <th>시작(출)</th>\n",
       "      <th>종료(출)</th>\n",
       "      <th>차이(출)</th>\n",
       "      <th>차이절대값(출)</th>\n",
       "      <th>총이용량(출)</th>\n",
       "      <th>시작(퇴)</th>\n",
       "      <th>종료(퇴)</th>\n",
       "      <th>차이(퇴)</th>\n",
       "      <th>차이절대값(퇴)</th>\n",
       "      <th>총이용량(퇴)</th>\n",
       "    </tr>\n",
       "  </thead>\n",
       "  <tbody>\n",
       "    <tr>\n",
       "      <th>0</th>\n",
       "      <td>ST-1062</td>\n",
       "      <td>주거</td>\n",
       "      <td>주거</td>\n",
       "      <td>일치</td>\n",
       "      <td>3817</td>\n",
       "      <td>2303</td>\n",
       "      <td>1514</td>\n",
       "      <td>1514</td>\n",
       "      <td>6120</td>\n",
       "      <td>4052</td>\n",
       "      <td>5420</td>\n",
       "      <td>-1368</td>\n",
       "      <td>1368</td>\n",
       "      <td>9472</td>\n",
       "    </tr>\n",
       "    <tr>\n",
       "      <th>1</th>\n",
       "      <td>ST-1063</td>\n",
       "      <td>업무</td>\n",
       "      <td>업무</td>\n",
       "      <td>일치</td>\n",
       "      <td>5061</td>\n",
       "      <td>8806</td>\n",
       "      <td>-3745</td>\n",
       "      <td>3745</td>\n",
       "      <td>13867</td>\n",
       "      <td>5762</td>\n",
       "      <td>3109</td>\n",
       "      <td>2653</td>\n",
       "      <td>2653</td>\n",
       "      <td>8871</td>\n",
       "    </tr>\n",
       "    <tr>\n",
       "      <th>2</th>\n",
       "      <td>ST-1064</td>\n",
       "      <td>업무</td>\n",
       "      <td>업무</td>\n",
       "      <td>일치</td>\n",
       "      <td>3900</td>\n",
       "      <td>8571</td>\n",
       "      <td>-4671</td>\n",
       "      <td>4671</td>\n",
       "      <td>12471</td>\n",
       "      <td>8962</td>\n",
       "      <td>5449</td>\n",
       "      <td>3513</td>\n",
       "      <td>3513</td>\n",
       "      <td>14411</td>\n",
       "    </tr>\n",
       "    <tr>\n",
       "      <th>3</th>\n",
       "      <td>ST-1065</td>\n",
       "      <td>주거</td>\n",
       "      <td>주거</td>\n",
       "      <td>일치</td>\n",
       "      <td>5849</td>\n",
       "      <td>5590</td>\n",
       "      <td>259</td>\n",
       "      <td>259</td>\n",
       "      <td>11439</td>\n",
       "      <td>14935</td>\n",
       "      <td>16778</td>\n",
       "      <td>-1843</td>\n",
       "      <td>1843</td>\n",
       "      <td>31713</td>\n",
       "    </tr>\n",
       "    <tr>\n",
       "      <th>4</th>\n",
       "      <td>ST-1067</td>\n",
       "      <td>주거</td>\n",
       "      <td>주거</td>\n",
       "      <td>일치</td>\n",
       "      <td>3604</td>\n",
       "      <td>2990</td>\n",
       "      <td>614</td>\n",
       "      <td>614</td>\n",
       "      <td>6594</td>\n",
       "      <td>2700</td>\n",
       "      <td>3810</td>\n",
       "      <td>-1110</td>\n",
       "      <td>1110</td>\n",
       "      <td>6510</td>\n",
       "    </tr>\n",
       "  </tbody>\n",
       "</table>\n",
       "</div>"
      ],
      "text/plain": [
       "    대여소_ID 지구분류(출) 지구분류(퇴) 분류일치여부  시작(출)  종료(출)  차이(출)  차이절대값(출)  총이용량(출)  \\\n",
       "0  ST-1062      주거      주거     일치   3817   2303   1514      1514     6120   \n",
       "1  ST-1063      업무      업무     일치   5061   8806  -3745      3745    13867   \n",
       "2  ST-1064      업무      업무     일치   3900   8571  -4671      4671    12471   \n",
       "3  ST-1065      주거      주거     일치   5849   5590    259       259    11439   \n",
       "4  ST-1067      주거      주거     일치   3604   2990    614       614     6594   \n",
       "\n",
       "   시작(퇴)  종료(퇴)  차이(퇴)  차이절대값(퇴)  총이용량(퇴)  \n",
       "0   4052   5420  -1368      1368     9472  \n",
       "1   5762   3109   2653      2653     8871  \n",
       "2   8962   5449   3513      3513    14411  \n",
       "3  14935  16778  -1843      1843    31713  \n",
       "4   2700   3810  -1110      1110     6510  "
      ]
     },
     "execution_count": 21,
     "metadata": {},
     "output_type": "execute_result"
    }
   ],
   "source": [
    "출퇴근_통합정보[:5]"
   ]
  },
  {
   "cell_type": "code",
   "execution_count": 22,
   "metadata": {},
   "outputs": [
    {
     "data": {
      "text/plain": [
       "982108"
      ]
     },
     "execution_count": 22,
     "metadata": {},
     "output_type": "execute_result"
    }
   ],
   "source": [
    "출퇴근_통합정보['총이용량(출)'].values.sum()"
   ]
  },
  {
   "cell_type": "code",
   "execution_count": 23,
   "metadata": {},
   "outputs": [
    {
     "data": {
      "image/png": "[encoded data removed]",
      "text/plain": [
       "<Figure size 2000x600 with 1 Axes>"
      ]
     },
     "metadata": {},
     "output_type": "display_data"
    }
   ],
   "source": [
    "fig, ax = plt.subplots(figsize = (20,6))\n",
    "\n",
    "ax.bar(출퇴근_통합정보['대여소_ID'], 출퇴근_통합정보['총이용량(출)'])\n",
    "plt.xticks(rotation=90,fontsize=8)\n",
    "\n",
    "plt.tight_layout()\n",
    "plt.show()"
   ]
  },
  {
   "cell_type": "code",
   "execution_count": 24,
   "metadata": {},
   "outputs": [
    {
     "name": "stdout",
     "output_type": "stream",
     "text": [
      "<class 'pandas.core.frame.DataFrame'>\n",
      "RangeIndex: 224 entries, 0 to 223\n",
      "Data columns (total 5 columns):\n",
      " #   Column  Non-Null Count  Dtype  \n",
      "---  ------  --------------  -----  \n",
      " 0   대여소_ID  224 non-null    object \n",
      " 1   주소1     224 non-null    object \n",
      " 2   주소2     80 non-null     object \n",
      " 3   위도      224 non-null    float64\n",
      " 4   경도      224 non-null    float64\n",
      "dtypes: float64(2), object(3)\n",
      "memory usage: 8.9+ KB\n"
     ]
    }
   ],
   "source": [
    "강서_마스터정보.info()"
   ]
  },
  {
   "cell_type": "code",
   "execution_count": 25,
   "metadata": {},
   "outputs": [
    {
     "name": "stdout",
     "output_type": "stream",
     "text": [
      "<class 'pandas.core.frame.DataFrame'>\n",
      "Index: 33 entries, 17 to 192\n",
      "Data columns (total 14 columns):\n",
      " #   Column    Non-Null Count  Dtype \n",
      "---  ------    --------------  ----- \n",
      " 0   대여소_ID    33 non-null     object\n",
      " 1   지구분류(출)   33 non-null     object\n",
      " 2   지구분류(퇴)   33 non-null     object\n",
      " 3   분류일치여부    33 non-null     object\n",
      " 4   시작(출)     33 non-null     int32 \n",
      " 5   종료(출)     33 non-null     int32 \n",
      " 6   차이(출)     33 non-null     int32 \n",
      " 7   차이절대값(출)  33 non-null     int32 \n",
      " 8   총이용량(출)   33 non-null     int32 \n",
      " 9   시작(퇴)     33 non-null     int64 \n",
      " 10  종료(퇴)     33 non-null     int64 \n",
      " 11  차이(퇴)     33 non-null     int64 \n",
      " 12  차이절대값(퇴)  33 non-null     int64 \n",
      " 13  총이용량(퇴)   33 non-null     int64 \n",
      "dtypes: int32(5), int64(5), object(4)\n",
      "memory usage: 3.2+ KB\n"
     ]
    }
   ],
   "source": [
    "불일치_대여소 = 출퇴근_통합정보[출퇴근_통합정보['분류일치여부'] == '불일치']\n",
    "불일치_대여소.info()"
   ]
  },
  {
   "cell_type": "code",
   "execution_count": 26,
   "metadata": {},
   "outputs": [
    {
     "data": {
      "text/plain": [
       "array(['ST-975', 'ST-837', 'ST-836', 'ST-835', 'ST-834', 'ST-833',\n",
       "       'ST-832', 'ST-831', 'ST-829', 'ST-828', 'ST-824', 'ST-538',\n",
       "       'ST-537', 'ST-536', 'ST-535', 'ST-534', 'ST-533', 'ST-532',\n",
       "       'ST-531', 'ST-530', 'ST-529', 'ST-528', 'ST-527', 'ST-526',\n",
       "       'ST-525', 'ST-524', 'ST-523', 'ST-522', 'ST-521', 'ST-520',\n",
       "       'ST-519', 'ST-518', 'ST-517', 'ST-516', 'ST-515', 'ST-514',\n",
       "       'ST-513', 'ST-512', 'ST-511', 'ST-510', 'ST-509', 'ST-508',\n",
       "       'ST-507', 'ST-3284', 'ST-3281', 'ST-3276', 'ST-3263', 'ST-3261',\n",
       "       'ST-3260', 'ST-3259', 'ST-3251', 'ST-3226', 'ST-3183', 'ST-3145',\n",
       "       'ST-3137', 'ST-3129', 'ST-3128', 'ST-3125', 'ST-3118', 'ST-3100',\n",
       "       'ST-3094', 'ST-3084', 'ST-3068', 'ST-3031', 'ST-2994', 'ST-2993',\n",
       "       'ST-2992', 'ST-2965', 'ST-2947', 'ST-2946', 'ST-2945', 'ST-2944',\n",
       "       'ST-2943', 'ST-2890', 'ST-2889', 'ST-2888', 'ST-2887', 'ST-2886',\n",
       "       'ST-2885', 'ST-2884', 'ST-2883', 'ST-2871', 'ST-2858', 'ST-2857',\n",
       "       'ST-2832', 'ST-2831', 'ST-2790', 'ST-2789', 'ST-2752', 'ST-2627',\n",
       "       'ST-2613', 'ST-2612', 'ST-2611', 'ST-2569', 'ST-2558', 'ST-2557',\n",
       "       'ST-2556', 'ST-2555', 'ST-2554', 'ST-2553', 'ST-2552', 'ST-2551',\n",
       "       'ST-2550', 'ST-2540', 'ST-2539', 'ST-2538', 'ST-2495', 'ST-2494',\n",
       "       'ST-2493', 'ST-2492', 'ST-2491', 'ST-2490', 'ST-2489', 'ST-2488',\n",
       "       'ST-2487', 'ST-2486', 'ST-2485', 'ST-2484', 'ST-2483', 'ST-2482',\n",
       "       'ST-2481', 'ST-2480', 'ST-2479', 'ST-2478', 'ST-2477', 'ST-2476',\n",
       "       'ST-2475', 'ST-2419', 'ST-2412', 'ST-2411', 'ST-2399', 'ST-2059',\n",
       "       'ST-2058', 'ST-2057', 'ST-2056', 'ST-2055', 'ST-2054', 'ST-2053',\n",
       "       'ST-2052', 'ST-2051', 'ST-2050', 'ST-2049', 'ST-2048', 'ST-2047',\n",
       "       'ST-2046', 'ST-2045', 'ST-2044', 'ST-2043', 'ST-2042', 'ST-2041',\n",
       "       'ST-2040', 'ST-2038', 'ST-2037', 'ST-2036', 'ST-2035', 'ST-2034',\n",
       "       'ST-2033', 'ST-2032', 'ST-2031', 'ST-2030', 'ST-2029', 'ST-2028',\n",
       "       'ST-2027', 'ST-2026', 'ST-2025', 'ST-2024', 'ST-2023', 'ST-2022',\n",
       "       'ST-2021', 'ST-2020', 'ST-2018', 'ST-1750', 'ST-1727', 'ST-1718',\n",
       "       'ST-1715', 'ST-1714', 'ST-1713', 'ST-1712', 'ST-1711', 'ST-1710',\n",
       "       'ST-1709', 'ST-1708', 'ST-1695', 'ST-1694', 'ST-1689', 'ST-1688',\n",
       "       'ST-1676', 'ST-1647', 'ST-1646', 'ST-1645', 'ST-1520', 'ST-1519',\n",
       "       'ST-1518', 'ST-1517', 'ST-1516', 'ST-1515', 'ST-1514', 'ST-1513',\n",
       "       'ST-1512', 'ST-1511', 'ST-1510', 'ST-1509', 'ST-1508', 'ST-1507',\n",
       "       'ST-1506', 'ST-1402', 'ST-1352', 'ST-1351', 'ST-1338', 'ST-1255',\n",
       "       'ST-1254', 'ST-1253', 'ST-1252', 'ST-1251', 'ST-1250', 'ST-1249',\n",
       "       'ST-1069', 'ST-1068', 'ST-1067', 'ST-1066', 'ST-1065', 'ST-1064',\n",
       "       'ST-1063', 'ST-1062'], dtype=object)"
      ]
     },
     "execution_count": 26,
     "metadata": {},
     "output_type": "execute_result"
    }
   ],
   "source": [
    "강서_마스터정보['대여소_ID'].values"
   ]
  },
  {
   "cell_type": "code",
   "execution_count": 27,
   "metadata": {},
   "outputs": [
    {
     "data": {
      "text/plain": [
       "17     ST-1507\n",
       "19     ST-1509\n",
       "22     ST-1512\n",
       "28     ST-1520\n",
       "32     ST-1676\n",
       "35     ST-1694\n",
       "45     ST-1718\n",
       "47     ST-2018\n",
       "48     ST-2020\n",
       "55     ST-2028\n",
       "65     ST-2041\n",
       "71     ST-2048\n",
       "77     ST-2057\n",
       "84     ST-2476\n",
       "91     ST-2483\n",
       "110    ST-2558\n",
       "115    ST-2752\n",
       "120    ST-2857\n",
       "129    ST-2889\n",
       "135    ST-2947\n",
       "144    ST-3100\n",
       "162     ST-508\n",
       "163     ST-509\n",
       "167     ST-513\n",
       "172     ST-519\n",
       "173     ST-520\n",
       "175     ST-523\n",
       "178     ST-526\n",
       "179     ST-528\n",
       "181     ST-531\n",
       "184     ST-534\n",
       "190     ST-829\n",
       "192     ST-834\n",
       "Name: 대여소_ID, dtype: object"
      ]
     },
     "execution_count": 27,
     "metadata": {},
     "output_type": "execute_result"
    }
   ],
   "source": [
    "불일치_대여소['대여소_ID']"
   ]
  },
  {
   "cell_type": "code",
   "execution_count": 28,
   "metadata": {},
   "outputs": [
    {
     "data": {
      "text/plain": [
       "0      False\n",
       "1      False\n",
       "2      False\n",
       "3      False\n",
       "4       True\n",
       "       ...  \n",
       "219    False\n",
       "220    False\n",
       "221    False\n",
       "222    False\n",
       "223    False\n",
       "Name: 대여소_ID, Length: 224, dtype: bool"
      ]
     },
     "execution_count": 28,
     "metadata": {},
     "output_type": "execute_result"
    }
   ],
   "source": [
    "강서_마스터정보['대여소_ID'].isin(불일치_대여소['대여소_ID'])"
   ]
  },
  {
   "cell_type": "code",
   "execution_count": 29,
   "metadata": {},
   "outputs": [
    {
     "name": "stdout",
     "output_type": "stream",
     "text": [
      "ST-1507\n",
      "ST-1509\n",
      "ST-1512\n",
      "ST-1520\n",
      "ST-1676\n",
      "ST-1694\n",
      "ST-1718\n",
      "ST-2018\n",
      "ST-2020\n",
      "ST-2028\n",
      "ST-2041\n",
      "ST-2048\n",
      "ST-2057\n",
      "ST-2476\n",
      "ST-2483\n",
      "ST-2558\n",
      "ST-2752\n",
      "ST-2857\n",
      "ST-2889\n",
      "ST-2947\n",
      "ST-3100\n",
      "ST-508\n",
      "ST-509\n",
      "ST-513\n",
      "ST-519\n",
      "ST-520\n",
      "ST-523\n",
      "ST-526\n",
      "ST-528\n",
      "ST-531\n",
      "ST-534\n",
      "ST-829\n",
      "ST-834\n"
     ]
    }
   ],
   "source": [
    "for i in list(불일치_대여소['대여소_ID']):\n",
    "    print(i)"
   ]
  },
  {
   "cell_type": "code",
   "execution_count": 30,
   "metadata": {},
   "outputs": [
    {
     "data": {
      "text/plain": [
       "RangeIndex(start=0, stop=224, step=1)"
      ]
     },
     "execution_count": 30,
     "metadata": {},
     "output_type": "execute_result"
    }
   ],
   "source": [
    "강서_마스터정보['대여소_ID'].index"
   ]
  },
  {
   "cell_type": "code",
   "execution_count": 31,
   "metadata": {},
   "outputs": [
    {
     "data": {
      "text/plain": [
       "17     ST-1507\n",
       "19     ST-1509\n",
       "22     ST-1512\n",
       "28     ST-1520\n",
       "32     ST-1676\n",
       "35     ST-1694\n",
       "45     ST-1718\n",
       "47     ST-2018\n",
       "48     ST-2020\n",
       "55     ST-2028\n",
       "65     ST-2041\n",
       "71     ST-2048\n",
       "77     ST-2057\n",
       "84     ST-2476\n",
       "91     ST-2483\n",
       "110    ST-2558\n",
       "115    ST-2752\n",
       "120    ST-2857\n",
       "129    ST-2889\n",
       "135    ST-2947\n",
       "144    ST-3100\n",
       "162     ST-508\n",
       "163     ST-509\n",
       "167     ST-513\n",
       "172     ST-519\n",
       "173     ST-520\n",
       "175     ST-523\n",
       "178     ST-526\n",
       "179     ST-528\n",
       "181     ST-531\n",
       "184     ST-534\n",
       "190     ST-829\n",
       "192     ST-834\n",
       "Name: 대여소_ID, dtype: object"
      ]
     },
     "execution_count": 31,
     "metadata": {},
     "output_type": "execute_result"
    }
   ],
   "source": [
    "불일치_대여소['대여소_ID']"
   ]
  },
  {
   "cell_type": "code",
   "execution_count": 32,
   "metadata": {},
   "outputs": [
    {
     "data": {
      "text/html": [
       "<div>\n",
       "<style scoped>\n",
       "    .dataframe tbody tr th:only-of-type {\n",
       "        vertical-align: middle;\n",
       "    }\n",
       "\n",
       "    .dataframe tbody tr th {\n",
       "        vertical-align: top;\n",
       "    }\n",
       "\n",
       "    .dataframe thead th {\n",
       "        text-align: right;\n",
       "    }\n",
       "</style>\n",
       "<table border=\"1\" class=\"dataframe\">\n",
       "  <thead>\n",
       "    <tr style=\"text-align: right;\">\n",
       "      <th></th>\n",
       "      <th>대여소_ID</th>\n",
       "      <th>지구분류(출)</th>\n",
       "      <th>지구분류(퇴)</th>\n",
       "      <th>분류일치여부</th>\n",
       "      <th>시작(출)</th>\n",
       "      <th>종료(출)</th>\n",
       "      <th>차이(출)</th>\n",
       "      <th>차이절대값(출)</th>\n",
       "      <th>총이용량(출)</th>\n",
       "      <th>시작(퇴)</th>\n",
       "      <th>종료(퇴)</th>\n",
       "      <th>차이(퇴)</th>\n",
       "      <th>차이절대값(퇴)</th>\n",
       "      <th>총이용량(퇴)</th>\n",
       "    </tr>\n",
       "  </thead>\n",
       "  <tbody>\n",
       "    <tr>\n",
       "      <th>0</th>\n",
       "      <td>ST-1062</td>\n",
       "      <td>주거</td>\n",
       "      <td>주거</td>\n",
       "      <td>일치</td>\n",
       "      <td>3817</td>\n",
       "      <td>2303</td>\n",
       "      <td>1514</td>\n",
       "      <td>1514</td>\n",
       "      <td>6120</td>\n",
       "      <td>4052</td>\n",
       "      <td>5420</td>\n",
       "      <td>-1368</td>\n",
       "      <td>1368</td>\n",
       "      <td>9472</td>\n",
       "    </tr>\n",
       "    <tr>\n",
       "      <th>1</th>\n",
       "      <td>ST-1063</td>\n",
       "      <td>업무</td>\n",
       "      <td>업무</td>\n",
       "      <td>일치</td>\n",
       "      <td>5061</td>\n",
       "      <td>8806</td>\n",
       "      <td>-3745</td>\n",
       "      <td>3745</td>\n",
       "      <td>13867</td>\n",
       "      <td>5762</td>\n",
       "      <td>3109</td>\n",
       "      <td>2653</td>\n",
       "      <td>2653</td>\n",
       "      <td>8871</td>\n",
       "    </tr>\n",
       "    <tr>\n",
       "      <th>2</th>\n",
       "      <td>ST-1064</td>\n",
       "      <td>업무</td>\n",
       "      <td>업무</td>\n",
       "      <td>일치</td>\n",
       "      <td>3900</td>\n",
       "      <td>8571</td>\n",
       "      <td>-4671</td>\n",
       "      <td>4671</td>\n",
       "      <td>12471</td>\n",
       "      <td>8962</td>\n",
       "      <td>5449</td>\n",
       "      <td>3513</td>\n",
       "      <td>3513</td>\n",
       "      <td>14411</td>\n",
       "    </tr>\n",
       "    <tr>\n",
       "      <th>3</th>\n",
       "      <td>ST-1065</td>\n",
       "      <td>주거</td>\n",
       "      <td>주거</td>\n",
       "      <td>일치</td>\n",
       "      <td>5849</td>\n",
       "      <td>5590</td>\n",
       "      <td>259</td>\n",
       "      <td>259</td>\n",
       "      <td>11439</td>\n",
       "      <td>14935</td>\n",
       "      <td>16778</td>\n",
       "      <td>-1843</td>\n",
       "      <td>1843</td>\n",
       "      <td>31713</td>\n",
       "    </tr>\n",
       "    <tr>\n",
       "      <th>4</th>\n",
       "      <td>ST-1067</td>\n",
       "      <td>주거</td>\n",
       "      <td>주거</td>\n",
       "      <td>일치</td>\n",
       "      <td>3604</td>\n",
       "      <td>2990</td>\n",
       "      <td>614</td>\n",
       "      <td>614</td>\n",
       "      <td>6594</td>\n",
       "      <td>2700</td>\n",
       "      <td>3810</td>\n",
       "      <td>-1110</td>\n",
       "      <td>1110</td>\n",
       "      <td>6510</td>\n",
       "    </tr>\n",
       "    <tr>\n",
       "      <th>...</th>\n",
       "      <td>...</td>\n",
       "      <td>...</td>\n",
       "      <td>...</td>\n",
       "      <td>...</td>\n",
       "      <td>...</td>\n",
       "      <td>...</td>\n",
       "      <td>...</td>\n",
       "      <td>...</td>\n",
       "      <td>...</td>\n",
       "      <td>...</td>\n",
       "      <td>...</td>\n",
       "      <td>...</td>\n",
       "      <td>...</td>\n",
       "      <td>...</td>\n",
       "    </tr>\n",
       "    <tr>\n",
       "      <th>190</th>\n",
       "      <td>ST-829</td>\n",
       "      <td>주거</td>\n",
       "      <td>업무</td>\n",
       "      <td>불일치</td>\n",
       "      <td>1344</td>\n",
       "      <td>1005</td>\n",
       "      <td>339</td>\n",
       "      <td>339</td>\n",
       "      <td>2349</td>\n",
       "      <td>1956</td>\n",
       "      <td>1923</td>\n",
       "      <td>33</td>\n",
       "      <td>33</td>\n",
       "      <td>3879</td>\n",
       "    </tr>\n",
       "    <tr>\n",
       "      <th>191</th>\n",
       "      <td>ST-831</td>\n",
       "      <td>주거</td>\n",
       "      <td>주거</td>\n",
       "      <td>일치</td>\n",
       "      <td>2732</td>\n",
       "      <td>1538</td>\n",
       "      <td>1194</td>\n",
       "      <td>1194</td>\n",
       "      <td>4270</td>\n",
       "      <td>4079</td>\n",
       "      <td>4576</td>\n",
       "      <td>-497</td>\n",
       "      <td>497</td>\n",
       "      <td>8655</td>\n",
       "    </tr>\n",
       "    <tr>\n",
       "      <th>192</th>\n",
       "      <td>ST-834</td>\n",
       "      <td>업무</td>\n",
       "      <td>주거</td>\n",
       "      <td>불일치</td>\n",
       "      <td>3344</td>\n",
       "      <td>4368</td>\n",
       "      <td>-1024</td>\n",
       "      <td>1024</td>\n",
       "      <td>7712</td>\n",
       "      <td>6339</td>\n",
       "      <td>6460</td>\n",
       "      <td>-121</td>\n",
       "      <td>121</td>\n",
       "      <td>12799</td>\n",
       "    </tr>\n",
       "    <tr>\n",
       "      <th>193</th>\n",
       "      <td>ST-835</td>\n",
       "      <td>주거</td>\n",
       "      <td>주거</td>\n",
       "      <td>일치</td>\n",
       "      <td>4274</td>\n",
       "      <td>2164</td>\n",
       "      <td>2110</td>\n",
       "      <td>2110</td>\n",
       "      <td>6438</td>\n",
       "      <td>5497</td>\n",
       "      <td>7926</td>\n",
       "      <td>-2429</td>\n",
       "      <td>2429</td>\n",
       "      <td>13423</td>\n",
       "    </tr>\n",
       "    <tr>\n",
       "      <th>194</th>\n",
       "      <td>ST-975</td>\n",
       "      <td>주거</td>\n",
       "      <td>주거</td>\n",
       "      <td>일치</td>\n",
       "      <td>2979</td>\n",
       "      <td>2504</td>\n",
       "      <td>475</td>\n",
       "      <td>475</td>\n",
       "      <td>5483</td>\n",
       "      <td>7587</td>\n",
       "      <td>8311</td>\n",
       "      <td>-724</td>\n",
       "      <td>724</td>\n",
       "      <td>15898</td>\n",
       "    </tr>\n",
       "  </tbody>\n",
       "</table>\n",
       "<p>195 rows × 14 columns</p>\n",
       "</div>"
      ],
      "text/plain": [
       "      대여소_ID 지구분류(출) 지구분류(퇴) 분류일치여부  시작(출)  종료(출)  차이(출)  차이절대값(출)  총이용량(출)  \\\n",
       "0    ST-1062      주거      주거     일치   3817   2303   1514      1514     6120   \n",
       "1    ST-1063      업무      업무     일치   5061   8806  -3745      3745    13867   \n",
       "2    ST-1064      업무      업무     일치   3900   8571  -4671      4671    12471   \n",
       "3    ST-1065      주거      주거     일치   5849   5590    259       259    11439   \n",
       "4    ST-1067      주거      주거     일치   3604   2990    614       614     6594   \n",
       "..       ...     ...     ...    ...    ...    ...    ...       ...      ...   \n",
       "190   ST-829      주거      업무    불일치   1344   1005    339       339     2349   \n",
       "191   ST-831      주거      주거     일치   2732   1538   1194      1194     4270   \n",
       "192   ST-834      업무      주거    불일치   3344   4368  -1024      1024     7712   \n",
       "193   ST-835      주거      주거     일치   4274   2164   2110      2110     6438   \n",
       "194   ST-975      주거      주거     일치   2979   2504    475       475     5483   \n",
       "\n",
       "     시작(퇴)  종료(퇴)  차이(퇴)  차이절대값(퇴)  총이용량(퇴)  \n",
       "0     4052   5420  -1368      1368     9472  \n",
       "1     5762   3109   2653      2653     8871  \n",
       "2     8962   5449   3513      3513    14411  \n",
       "3    14935  16778  -1843      1843    31713  \n",
       "4     2700   3810  -1110      1110     6510  \n",
       "..     ...    ...    ...       ...      ...  \n",
       "190   1956   1923     33        33     3879  \n",
       "191   4079   4576   -497       497     8655  \n",
       "192   6339   6460   -121       121    12799  \n",
       "193   5497   7926  -2429      2429    13423  \n",
       "194   7587   8311   -724       724    15898  \n",
       "\n",
       "[195 rows x 14 columns]"
      ]
     },
     "execution_count": 32,
     "metadata": {},
     "output_type": "execute_result"
    }
   ],
   "source": [
    "출퇴근_통합정보"
   ]
  },
  {
   "cell_type": "code",
   "execution_count": 33,
   "metadata": {},
   "outputs": [
    {
     "data": {
      "text/plain": [
       "Index(['대여소_ID', '지구분류(출)', '지구분류(퇴)', '분류일치여부', '시작(출)', '종료(출)', '차이(출)',\n",
       "       '차이절대값(출)', '총이용량(출)', '시작(퇴)', '종료(퇴)', '차이(퇴)', '차이절대값(퇴)',\n",
       "       '총이용량(퇴)'],\n",
       "      dtype='object')"
      ]
     },
     "execution_count": 33,
     "metadata": {},
     "output_type": "execute_result"
    }
   ],
   "source": [
    "출퇴근_통합정보.columns"
   ]
  },
  {
   "cell_type": "code",
   "execution_count": 34,
   "metadata": {},
   "outputs": [
    {
     "data": {
      "text/plain": [
       "195"
      ]
     },
     "execution_count": 34,
     "metadata": {},
     "output_type": "execute_result"
    }
   ],
   "source": [
    "len(출퇴근_통합정보['차이절대값(출)'] + 출퇴근_통합정보['차이절대값(퇴)'])"
   ]
  },
  {
   "cell_type": "code",
   "execution_count": 35,
   "metadata": {},
   "outputs": [],
   "source": [
    "출퇴근_통합정보['차이절대값합'] = 출퇴근_통합정보['차이절대값(출)'] + 출퇴근_통합정보['차이절대값(퇴)']"
   ]
  },
  {
   "cell_type": "code",
   "execution_count": 36,
   "metadata": {},
   "outputs": [],
   "source": [
    "출퇴근_통합정보['총이용량합'] = 출퇴근_통합정보['총이용량(출)'] + 출퇴근_통합정보['총이용량(퇴)']"
   ]
  },
  {
   "cell_type": "code",
   "execution_count": 37,
   "metadata": {},
   "outputs": [
    {
     "data": {
      "text/html": [
       "<div>\n",
       "<style scoped>\n",
       "    .dataframe tbody tr th:only-of-type {\n",
       "        vertical-align: middle;\n",
       "    }\n",
       "\n",
       "    .dataframe tbody tr th {\n",
       "        vertical-align: top;\n",
       "    }\n",
       "\n",
       "    .dataframe thead th {\n",
       "        text-align: right;\n",
       "    }\n",
       "</style>\n",
       "<table border=\"1\" class=\"dataframe\">\n",
       "  <thead>\n",
       "    <tr style=\"text-align: right;\">\n",
       "      <th></th>\n",
       "      <th>대여소_ID</th>\n",
       "      <th>지구분류(출)</th>\n",
       "      <th>지구분류(퇴)</th>\n",
       "      <th>분류일치여부</th>\n",
       "      <th>시작(출)</th>\n",
       "      <th>종료(출)</th>\n",
       "      <th>차이(출)</th>\n",
       "      <th>차이절대값(출)</th>\n",
       "      <th>총이용량(출)</th>\n",
       "      <th>시작(퇴)</th>\n",
       "      <th>종료(퇴)</th>\n",
       "      <th>차이(퇴)</th>\n",
       "      <th>차이절대값(퇴)</th>\n",
       "      <th>총이용량(퇴)</th>\n",
       "      <th>차이절대값합</th>\n",
       "      <th>총이용량합</th>\n",
       "    </tr>\n",
       "  </thead>\n",
       "  <tbody>\n",
       "    <tr>\n",
       "      <th>0</th>\n",
       "      <td>ST-1062</td>\n",
       "      <td>주거</td>\n",
       "      <td>주거</td>\n",
       "      <td>일치</td>\n",
       "      <td>3817</td>\n",
       "      <td>2303</td>\n",
       "      <td>1514</td>\n",
       "      <td>1514</td>\n",
       "      <td>6120</td>\n",
       "      <td>4052</td>\n",
       "      <td>5420</td>\n",
       "      <td>-1368</td>\n",
       "      <td>1368</td>\n",
       "      <td>9472</td>\n",
       "      <td>2882</td>\n",
       "      <td>15592</td>\n",
       "    </tr>\n",
       "    <tr>\n",
       "      <th>1</th>\n",
       "      <td>ST-1063</td>\n",
       "      <td>업무</td>\n",
       "      <td>업무</td>\n",
       "      <td>일치</td>\n",
       "      <td>5061</td>\n",
       "      <td>8806</td>\n",
       "      <td>-3745</td>\n",
       "      <td>3745</td>\n",
       "      <td>13867</td>\n",
       "      <td>5762</td>\n",
       "      <td>3109</td>\n",
       "      <td>2653</td>\n",
       "      <td>2653</td>\n",
       "      <td>8871</td>\n",
       "      <td>6398</td>\n",
       "      <td>22738</td>\n",
       "    </tr>\n",
       "    <tr>\n",
       "      <th>2</th>\n",
       "      <td>ST-1064</td>\n",
       "      <td>업무</td>\n",
       "      <td>업무</td>\n",
       "      <td>일치</td>\n",
       "      <td>3900</td>\n",
       "      <td>8571</td>\n",
       "      <td>-4671</td>\n",
       "      <td>4671</td>\n",
       "      <td>12471</td>\n",
       "      <td>8962</td>\n",
       "      <td>5449</td>\n",
       "      <td>3513</td>\n",
       "      <td>3513</td>\n",
       "      <td>14411</td>\n",
       "      <td>8184</td>\n",
       "      <td>26882</td>\n",
       "    </tr>\n",
       "    <tr>\n",
       "      <th>3</th>\n",
       "      <td>ST-1065</td>\n",
       "      <td>주거</td>\n",
       "      <td>주거</td>\n",
       "      <td>일치</td>\n",
       "      <td>5849</td>\n",
       "      <td>5590</td>\n",
       "      <td>259</td>\n",
       "      <td>259</td>\n",
       "      <td>11439</td>\n",
       "      <td>14935</td>\n",
       "      <td>16778</td>\n",
       "      <td>-1843</td>\n",
       "      <td>1843</td>\n",
       "      <td>31713</td>\n",
       "      <td>2102</td>\n",
       "      <td>43152</td>\n",
       "    </tr>\n",
       "    <tr>\n",
       "      <th>4</th>\n",
       "      <td>ST-1067</td>\n",
       "      <td>주거</td>\n",
       "      <td>주거</td>\n",
       "      <td>일치</td>\n",
       "      <td>3604</td>\n",
       "      <td>2990</td>\n",
       "      <td>614</td>\n",
       "      <td>614</td>\n",
       "      <td>6594</td>\n",
       "      <td>2700</td>\n",
       "      <td>3810</td>\n",
       "      <td>-1110</td>\n",
       "      <td>1110</td>\n",
       "      <td>6510</td>\n",
       "      <td>1724</td>\n",
       "      <td>13104</td>\n",
       "    </tr>\n",
       "    <tr>\n",
       "      <th>...</th>\n",
       "      <td>...</td>\n",
       "      <td>...</td>\n",
       "      <td>...</td>\n",
       "      <td>...</td>\n",
       "      <td>...</td>\n",
       "      <td>...</td>\n",
       "      <td>...</td>\n",
       "      <td>...</td>\n",
       "      <td>...</td>\n",
       "      <td>...</td>\n",
       "      <td>...</td>\n",
       "      <td>...</td>\n",
       "      <td>...</td>\n",
       "      <td>...</td>\n",
       "      <td>...</td>\n",
       "      <td>...</td>\n",
       "    </tr>\n",
       "    <tr>\n",
       "      <th>190</th>\n",
       "      <td>ST-829</td>\n",
       "      <td>주거</td>\n",
       "      <td>업무</td>\n",
       "      <td>불일치</td>\n",
       "      <td>1344</td>\n",
       "      <td>1005</td>\n",
       "      <td>339</td>\n",
       "      <td>339</td>\n",
       "      <td>2349</td>\n",
       "      <td>1956</td>\n",
       "      <td>1923</td>\n",
       "      <td>33</td>\n",
       "      <td>33</td>\n",
       "      <td>3879</td>\n",
       "      <td>372</td>\n",
       "      <td>6228</td>\n",
       "    </tr>\n",
       "    <tr>\n",
       "      <th>191</th>\n",
       "      <td>ST-831</td>\n",
       "      <td>주거</td>\n",
       "      <td>주거</td>\n",
       "      <td>일치</td>\n",
       "      <td>2732</td>\n",
       "      <td>1538</td>\n",
       "      <td>1194</td>\n",
       "      <td>1194</td>\n",
       "      <td>4270</td>\n",
       "      <td>4079</td>\n",
       "      <td>4576</td>\n",
       "      <td>-497</td>\n",
       "      <td>497</td>\n",
       "      <td>8655</td>\n",
       "      <td>1691</td>\n",
       "      <td>12925</td>\n",
       "    </tr>\n",
       "    <tr>\n",
       "      <th>192</th>\n",
       "      <td>ST-834</td>\n",
       "      <td>업무</td>\n",
       "      <td>주거</td>\n",
       "      <td>불일치</td>\n",
       "      <td>3344</td>\n",
       "      <td>4368</td>\n",
       "      <td>-1024</td>\n",
       "      <td>1024</td>\n",
       "      <td>7712</td>\n",
       "      <td>6339</td>\n",
       "      <td>6460</td>\n",
       "      <td>-121</td>\n",
       "      <td>121</td>\n",
       "      <td>12799</td>\n",
       "      <td>1145</td>\n",
       "      <td>20511</td>\n",
       "    </tr>\n",
       "    <tr>\n",
       "      <th>193</th>\n",
       "      <td>ST-835</td>\n",
       "      <td>주거</td>\n",
       "      <td>주거</td>\n",
       "      <td>일치</td>\n",
       "      <td>4274</td>\n",
       "      <td>2164</td>\n",
       "      <td>2110</td>\n",
       "      <td>2110</td>\n",
       "      <td>6438</td>\n",
       "      <td>5497</td>\n",
       "      <td>7926</td>\n",
       "      <td>-2429</td>\n",
       "      <td>2429</td>\n",
       "      <td>13423</td>\n",
       "      <td>4539</td>\n",
       "      <td>19861</td>\n",
       "    </tr>\n",
       "    <tr>\n",
       "      <th>194</th>\n",
       "      <td>ST-975</td>\n",
       "      <td>주거</td>\n",
       "      <td>주거</td>\n",
       "      <td>일치</td>\n",
       "      <td>2979</td>\n",
       "      <td>2504</td>\n",
       "      <td>475</td>\n",
       "      <td>475</td>\n",
       "      <td>5483</td>\n",
       "      <td>7587</td>\n",
       "      <td>8311</td>\n",
       "      <td>-724</td>\n",
       "      <td>724</td>\n",
       "      <td>15898</td>\n",
       "      <td>1199</td>\n",
       "      <td>21381</td>\n",
       "    </tr>\n",
       "  </tbody>\n",
       "</table>\n",
       "<p>195 rows × 16 columns</p>\n",
       "</div>"
      ],
      "text/plain": [
       "      대여소_ID 지구분류(출) 지구분류(퇴) 분류일치여부  시작(출)  종료(출)  차이(출)  차이절대값(출)  총이용량(출)  \\\n",
       "0    ST-1062      주거      주거     일치   3817   2303   1514      1514     6120   \n",
       "1    ST-1063      업무      업무     일치   5061   8806  -3745      3745    13867   \n",
       "2    ST-1064      업무      업무     일치   3900   8571  -4671      4671    12471   \n",
       "3    ST-1065      주거      주거     일치   5849   5590    259       259    11439   \n",
       "4    ST-1067      주거      주거     일치   3604   2990    614       614     6594   \n",
       "..       ...     ...     ...    ...    ...    ...    ...       ...      ...   \n",
       "190   ST-829      주거      업무    불일치   1344   1005    339       339     2349   \n",
       "191   ST-831      주거      주거     일치   2732   1538   1194      1194     4270   \n",
       "192   ST-834      업무      주거    불일치   3344   4368  -1024      1024     7712   \n",
       "193   ST-835      주거      주거     일치   4274   2164   2110      2110     6438   \n",
       "194   ST-975      주거      주거     일치   2979   2504    475       475     5483   \n",
       "\n",
       "     시작(퇴)  종료(퇴)  차이(퇴)  차이절대값(퇴)  총이용량(퇴)  차이절대값합  총이용량합  \n",
       "0     4052   5420  -1368      1368     9472    2882  15592  \n",
       "1     5762   3109   2653      2653     8871    6398  22738  \n",
       "2     8962   5449   3513      3513    14411    8184  26882  \n",
       "3    14935  16778  -1843      1843    31713    2102  43152  \n",
       "4     2700   3810  -1110      1110     6510    1724  13104  \n",
       "..     ...    ...    ...       ...      ...     ...    ...  \n",
       "190   1956   1923     33        33     3879     372   6228  \n",
       "191   4079   4576   -497       497     8655    1691  12925  \n",
       "192   6339   6460   -121       121    12799    1145  20511  \n",
       "193   5497   7926  -2429      2429    13423    4539  19861  \n",
       "194   7587   8311   -724       724    15898    1199  21381  \n",
       "\n",
       "[195 rows x 16 columns]"
      ]
     },
     "execution_count": 37,
     "metadata": {},
     "output_type": "execute_result"
    }
   ],
   "source": [
    "출퇴근_통합정보"
   ]
  },
  {
   "cell_type": "code",
   "execution_count": 38,
   "metadata": {},
   "outputs": [],
   "source": [
    "출근주거 = 출퇴근_통합정보[출퇴근_통합정보['지구분류(출)'] == '주거']\n",
    "출근업무 = 출퇴근_통합정보[출퇴근_통합정보['지구분류(출)'] == '업무']"
   ]
  },
  {
   "cell_type": "code",
   "execution_count": 39,
   "metadata": {},
   "outputs": [
    {
     "data": {
      "text/plain": [
       "0      2882\n",
       "3      2102\n",
       "4      1724\n",
       "5      4196\n",
       "8      1058\n",
       "       ... \n",
       "189    2253\n",
       "190     372\n",
       "191    1691\n",
       "193    4539\n",
       "194    1199\n",
       "Name: 차이절대값합, Length: 122, dtype: int64"
      ]
     },
     "execution_count": 39,
     "metadata": {},
     "output_type": "execute_result"
    }
   ],
   "source": [
    "출근주거['차이절대값합']"
   ]
  },
  {
   "cell_type": "code",
   "execution_count": 40,
   "metadata": {},
   "outputs": [
    {
     "data": {
      "image/png": "[encoded data removed]",
      "text/plain": [
       "<Figure size 1000x600 with 1 Axes>"
      ]
     },
     "metadata": {},
     "output_type": "display_data"
    }
   ],
   "source": [
    "fig, ax = plt.subplots(figsize=(10,6))\n",
    "\n",
    "ax.scatter(출근주거['차이절대값합'], 출근주거['총이용량합'], label = '주거', marker='.', s=20)\n",
    "ax.scatter(출근업무['차이절대값합'], 출근업무['총이용량합'], label = '업무', marker='x', s=20)\n",
    "\n",
    "for i, txt in enumerate(출퇴근_통합정보['대여소_ID']):\n",
    "    plt.annotate(txt, (출퇴근_통합정보['차이절대값합'][i], 출퇴근_통합정보['총이용량합'][i]), fontsize=5)\n",
    "\n",
    "plt.title('강서 대여소 산점도')\n",
    "plt.xlabel('차이절대값합')\n",
    "plt.ylabel('총이용량')\n",
    "\n",
    "plt.legend(loc='best')\n",
    "\n",
    "plt.show()"
   ]
  },
  {
   "cell_type": "code",
   "execution_count": 41,
   "metadata": {},
   "outputs": [],
   "source": [
    "# import seaborn as sns\n",
    "# import plotly.express as px\n",
    "# import plotly.graph_objects as go\n",
    "# import pandas as pd\n",
    "# import matplotlib.font_manager as fm"
   ]
  },
  {
   "cell_type": "code",
   "execution_count": 42,
   "metadata": {},
   "outputs": [],
   "source": [
    "# sns.set_style('whitegrid')\n",
    "# sns.scatterplot(x=출퇴근_통합정보['차이절대값합'], y=출퇴근_통합정보['총이용량합'])\n",
    "# plt.title('강서 대여소 산점도')\n",
    "# plt.xlabel('차이절대값합')\n",
    "# plt.ylabel('총이용량')\n",
    "\n",
    "# plt.show()"
   ]
  },
  {
   "cell_type": "code",
   "execution_count": 43,
   "metadata": {},
   "outputs": [
    {
     "data": {
      "text/plain": [
       "162"
      ]
     },
     "execution_count": 43,
     "metadata": {},
     "output_type": "execute_result"
    }
   ],
   "source": [
    "len(출퇴근_통합정보[출퇴근_통합정보['총이용량합'] <= 18000])"
   ]
  },
  {
   "cell_type": "code",
   "execution_count": 44,
   "metadata": {},
   "outputs": [
    {
     "data": {
      "text/plain": [
       "Index(['대여소_ID', '지구분류(출)', '지구분류(퇴)', '분류일치여부', '시작(출)', '종료(출)', '차이(출)',\n",
       "       '차이절대값(출)', '총이용량(출)', '시작(퇴)', '종료(퇴)', '차이(퇴)', '차이절대값(퇴)', '총이용량(퇴)',\n",
       "       '차이절대값합', '총이용량합'],\n",
       "      dtype='object')"
      ]
     },
     "execution_count": 44,
     "metadata": {},
     "output_type": "execute_result"
    }
   ],
   "source": [
    "출퇴근_통합정보.columns"
   ]
  },
  {
   "cell_type": "code",
   "execution_count": 45,
   "metadata": {},
   "outputs": [
    {
     "data": {
      "text/html": [
       "<div>\n",
       "<style scoped>\n",
       "    .dataframe tbody tr th:only-of-type {\n",
       "        vertical-align: middle;\n",
       "    }\n",
       "\n",
       "    .dataframe tbody tr th {\n",
       "        vertical-align: top;\n",
       "    }\n",
       "\n",
       "    .dataframe thead th {\n",
       "        text-align: right;\n",
       "    }\n",
       "</style>\n",
       "<table border=\"1\" class=\"dataframe\">\n",
       "  <thead>\n",
       "    <tr style=\"text-align: right;\">\n",
       "      <th></th>\n",
       "      <th>대여소_ID</th>\n",
       "      <th>지구분류(출)</th>\n",
       "      <th>지구분류(퇴)</th>\n",
       "      <th>분류일치여부</th>\n",
       "      <th>시작(출)</th>\n",
       "      <th>종료(출)</th>\n",
       "      <th>차이(출)</th>\n",
       "      <th>차이절대값(출)</th>\n",
       "      <th>총이용량(출)</th>\n",
       "      <th>시작(퇴)</th>\n",
       "      <th>종료(퇴)</th>\n",
       "      <th>차이(퇴)</th>\n",
       "      <th>차이절대값(퇴)</th>\n",
       "      <th>총이용량(퇴)</th>\n",
       "      <th>차이절대값합</th>\n",
       "      <th>총이용량합</th>\n",
       "    </tr>\n",
       "  </thead>\n",
       "  <tbody>\n",
       "    <tr>\n",
       "      <th>57</th>\n",
       "      <td>ST-2031</td>\n",
       "      <td>업무</td>\n",
       "      <td>업무</td>\n",
       "      <td>일치</td>\n",
       "      <td>19071</td>\n",
       "      <td>22501</td>\n",
       "      <td>-3430</td>\n",
       "      <td>3430</td>\n",
       "      <td>41572</td>\n",
       "      <td>27487</td>\n",
       "      <td>22712</td>\n",
       "      <td>4775</td>\n",
       "      <td>4775</td>\n",
       "      <td>50199</td>\n",
       "      <td>8205</td>\n",
       "      <td>91771</td>\n",
       "    </tr>\n",
       "    <tr>\n",
       "      <th>45</th>\n",
       "      <td>ST-1718</td>\n",
       "      <td>주거</td>\n",
       "      <td>업무</td>\n",
       "      <td>불일치</td>\n",
       "      <td>23247</td>\n",
       "      <td>22826</td>\n",
       "      <td>421</td>\n",
       "      <td>421</td>\n",
       "      <td>46073</td>\n",
       "      <td>15779</td>\n",
       "      <td>13166</td>\n",
       "      <td>2613</td>\n",
       "      <td>2613</td>\n",
       "      <td>28945</td>\n",
       "      <td>3034</td>\n",
       "      <td>75018</td>\n",
       "    </tr>\n",
       "    <tr>\n",
       "      <th>68</th>\n",
       "      <td>ST-2045</td>\n",
       "      <td>주거</td>\n",
       "      <td>주거</td>\n",
       "      <td>일치</td>\n",
       "      <td>11505</td>\n",
       "      <td>9782</td>\n",
       "      <td>1723</td>\n",
       "      <td>1723</td>\n",
       "      <td>21287</td>\n",
       "      <td>18223</td>\n",
       "      <td>22287</td>\n",
       "      <td>-4064</td>\n",
       "      <td>4064</td>\n",
       "      <td>40510</td>\n",
       "      <td>5787</td>\n",
       "      <td>61797</td>\n",
       "    </tr>\n",
       "    <tr>\n",
       "      <th>3</th>\n",
       "      <td>ST-1065</td>\n",
       "      <td>주거</td>\n",
       "      <td>주거</td>\n",
       "      <td>일치</td>\n",
       "      <td>5849</td>\n",
       "      <td>5590</td>\n",
       "      <td>259</td>\n",
       "      <td>259</td>\n",
       "      <td>11439</td>\n",
       "      <td>14935</td>\n",
       "      <td>16778</td>\n",
       "      <td>-1843</td>\n",
       "      <td>1843</td>\n",
       "      <td>31713</td>\n",
       "      <td>2102</td>\n",
       "      <td>43152</td>\n",
       "    </tr>\n",
       "    <tr>\n",
       "      <th>59</th>\n",
       "      <td>ST-2033</td>\n",
       "      <td>업무</td>\n",
       "      <td>업무</td>\n",
       "      <td>일치</td>\n",
       "      <td>999</td>\n",
       "      <td>18038</td>\n",
       "      <td>-17039</td>\n",
       "      <td>17039</td>\n",
       "      <td>19037</td>\n",
       "      <td>14530</td>\n",
       "      <td>3603</td>\n",
       "      <td>10927</td>\n",
       "      <td>10927</td>\n",
       "      <td>18133</td>\n",
       "      <td>27966</td>\n",
       "      <td>37170</td>\n",
       "    </tr>\n",
       "    <tr>\n",
       "      <th>122</th>\n",
       "      <td>ST-2871</td>\n",
       "      <td>업무</td>\n",
       "      <td>업무</td>\n",
       "      <td>일치</td>\n",
       "      <td>5649</td>\n",
       "      <td>10317</td>\n",
       "      <td>-4668</td>\n",
       "      <td>4668</td>\n",
       "      <td>15966</td>\n",
       "      <td>10778</td>\n",
       "      <td>6150</td>\n",
       "      <td>4628</td>\n",
       "      <td>4628</td>\n",
       "      <td>16928</td>\n",
       "      <td>9296</td>\n",
       "      <td>32894</td>\n",
       "    </tr>\n",
       "    <tr>\n",
       "      <th>8</th>\n",
       "      <td>ST-1251</td>\n",
       "      <td>주거</td>\n",
       "      <td>주거</td>\n",
       "      <td>일치</td>\n",
       "      <td>6256</td>\n",
       "      <td>5439</td>\n",
       "      <td>817</td>\n",
       "      <td>817</td>\n",
       "      <td>11695</td>\n",
       "      <td>9621</td>\n",
       "      <td>9862</td>\n",
       "      <td>-241</td>\n",
       "      <td>241</td>\n",
       "      <td>19483</td>\n",
       "      <td>1058</td>\n",
       "      <td>31178</td>\n",
       "    </tr>\n",
       "    <tr>\n",
       "      <th>63</th>\n",
       "      <td>ST-2037</td>\n",
       "      <td>주거</td>\n",
       "      <td>주거</td>\n",
       "      <td>일치</td>\n",
       "      <td>7982</td>\n",
       "      <td>6663</td>\n",
       "      <td>1319</td>\n",
       "      <td>1319</td>\n",
       "      <td>14645</td>\n",
       "      <td>7693</td>\n",
       "      <td>8807</td>\n",
       "      <td>-1114</td>\n",
       "      <td>1114</td>\n",
       "      <td>16500</td>\n",
       "      <td>2433</td>\n",
       "      <td>31145</td>\n",
       "    </tr>\n",
       "    <tr>\n",
       "      <th>61</th>\n",
       "      <td>ST-2035</td>\n",
       "      <td>업무</td>\n",
       "      <td>업무</td>\n",
       "      <td>일치</td>\n",
       "      <td>1356</td>\n",
       "      <td>13251</td>\n",
       "      <td>-11895</td>\n",
       "      <td>11895</td>\n",
       "      <td>14607</td>\n",
       "      <td>10864</td>\n",
       "      <td>3613</td>\n",
       "      <td>7251</td>\n",
       "      <td>7251</td>\n",
       "      <td>14477</td>\n",
       "      <td>19146</td>\n",
       "      <td>29084</td>\n",
       "    </tr>\n",
       "    <tr>\n",
       "      <th>109</th>\n",
       "      <td>ST-2557</td>\n",
       "      <td>주거</td>\n",
       "      <td>주거</td>\n",
       "      <td>일치</td>\n",
       "      <td>8627</td>\n",
       "      <td>4041</td>\n",
       "      <td>4586</td>\n",
       "      <td>4586</td>\n",
       "      <td>12668</td>\n",
       "      <td>6549</td>\n",
       "      <td>9782</td>\n",
       "      <td>-3233</td>\n",
       "      <td>3233</td>\n",
       "      <td>16331</td>\n",
       "      <td>7819</td>\n",
       "      <td>28999</td>\n",
       "    </tr>\n",
       "  </tbody>\n",
       "</table>\n",
       "</div>"
      ],
      "text/plain": [
       "      대여소_ID 지구분류(출) 지구분류(퇴) 분류일치여부  시작(출)  종료(출)  차이(출)  차이절대값(출)  총이용량(출)  \\\n",
       "57   ST-2031      업무      업무     일치  19071  22501  -3430      3430    41572   \n",
       "45   ST-1718      주거      업무    불일치  23247  22826    421       421    46073   \n",
       "68   ST-2045      주거      주거     일치  11505   9782   1723      1723    21287   \n",
       "3    ST-1065      주거      주거     일치   5849   5590    259       259    11439   \n",
       "59   ST-2033      업무      업무     일치    999  18038 -17039     17039    19037   \n",
       "122  ST-2871      업무      업무     일치   5649  10317  -4668      4668    15966   \n",
       "8    ST-1251      주거      주거     일치   6256   5439    817       817    11695   \n",
       "63   ST-2037      주거      주거     일치   7982   6663   1319      1319    14645   \n",
       "61   ST-2035      업무      업무     일치   1356  13251 -11895     11895    14607   \n",
       "109  ST-2557      주거      주거     일치   8627   4041   4586      4586    12668   \n",
       "\n",
       "     시작(퇴)  종료(퇴)  차이(퇴)  차이절대값(퇴)  총이용량(퇴)  차이절대값합  총이용량합  \n",
       "57   27487  22712   4775      4775    50199    8205  91771  \n",
       "45   15779  13166   2613      2613    28945    3034  75018  \n",
       "68   18223  22287  -4064      4064    40510    5787  61797  \n",
       "3    14935  16778  -1843      1843    31713    2102  43152  \n",
       "59   14530   3603  10927     10927    18133   27966  37170  \n",
       "122  10778   6150   4628      4628    16928    9296  32894  \n",
       "8     9621   9862   -241       241    19483    1058  31178  \n",
       "63    7693   8807  -1114      1114    16500    2433  31145  \n",
       "61   10864   3613   7251      7251    14477   19146  29084  \n",
       "109   6549   9782  -3233      3233    16331    7819  28999  "
      ]
     },
     "execution_count": 45,
     "metadata": {},
     "output_type": "execute_result"
    }
   ],
   "source": [
    "출퇴근_통합정보.sort_values(by='총이용량합',ascending=False)\n",
    "출퇴근_통합정보.sort_values(by='총이용량합',ascending=False)[:10]"
   ]
  },
  {
   "cell_type": "code",
   "execution_count": 46,
   "metadata": {},
   "outputs": [
    {
     "data": {
      "image/png": "[encoded data removed]",
      "text/plain": [
       "<Figure size 1000x600 with 1 Axes>"
      ]
     },
     "metadata": {},
     "output_type": "display_data"
    }
   ],
   "source": [
    "fig, ax = plt.subplots(figsize=(10,6))\n",
    "\n",
    "ax.bar(출퇴근_통합정보['대여소_ID'], 출퇴근_통합정보.sort_values(by='총이용량합')['총이용량합'])\n",
    "\n",
    "plt.xticks(rotation=90)\n",
    "plt.show()"
   ]
  },
  {
   "cell_type": "code",
   "execution_count": 47,
   "metadata": {},
   "outputs": [
    {
     "data": {
      "text/html": [
       "<div>\n",
       "<style scoped>\n",
       "    .dataframe tbody tr th:only-of-type {\n",
       "        vertical-align: middle;\n",
       "    }\n",
       "\n",
       "    .dataframe tbody tr th {\n",
       "        vertical-align: top;\n",
       "    }\n",
       "\n",
       "    .dataframe thead th {\n",
       "        text-align: right;\n",
       "    }\n",
       "</style>\n",
       "<table border=\"1\" class=\"dataframe\">\n",
       "  <thead>\n",
       "    <tr style=\"text-align: right;\">\n",
       "      <th></th>\n",
       "      <th>대여소_ID</th>\n",
       "      <th>지구분류(출)</th>\n",
       "      <th>지구분류(퇴)</th>\n",
       "      <th>분류일치여부</th>\n",
       "      <th>시작(출)</th>\n",
       "      <th>종료(출)</th>\n",
       "      <th>차이(출)</th>\n",
       "      <th>차이절대값(출)</th>\n",
       "      <th>총이용량(출)</th>\n",
       "      <th>시작(퇴)</th>\n",
       "      <th>종료(퇴)</th>\n",
       "      <th>차이(퇴)</th>\n",
       "      <th>차이절대값(퇴)</th>\n",
       "      <th>총이용량(퇴)</th>\n",
       "      <th>차이절대값합</th>\n",
       "      <th>총이용량합</th>\n",
       "    </tr>\n",
       "  </thead>\n",
       "  <tbody>\n",
       "    <tr>\n",
       "      <th>59</th>\n",
       "      <td>ST-2033</td>\n",
       "      <td>업무</td>\n",
       "      <td>업무</td>\n",
       "      <td>일치</td>\n",
       "      <td>999</td>\n",
       "      <td>18038</td>\n",
       "      <td>-17039</td>\n",
       "      <td>17039</td>\n",
       "      <td>19037</td>\n",
       "      <td>14530</td>\n",
       "      <td>3603</td>\n",
       "      <td>10927</td>\n",
       "      <td>10927</td>\n",
       "      <td>18133</td>\n",
       "      <td>27966</td>\n",
       "      <td>37170</td>\n",
       "    </tr>\n",
       "    <tr>\n",
       "      <th>61</th>\n",
       "      <td>ST-2035</td>\n",
       "      <td>업무</td>\n",
       "      <td>업무</td>\n",
       "      <td>일치</td>\n",
       "      <td>1356</td>\n",
       "      <td>13251</td>\n",
       "      <td>-11895</td>\n",
       "      <td>11895</td>\n",
       "      <td>14607</td>\n",
       "      <td>10864</td>\n",
       "      <td>3613</td>\n",
       "      <td>7251</td>\n",
       "      <td>7251</td>\n",
       "      <td>14477</td>\n",
       "      <td>19146</td>\n",
       "      <td>29084</td>\n",
       "    </tr>\n",
       "    <tr>\n",
       "      <th>41</th>\n",
       "      <td>ST-1712</td>\n",
       "      <td>업무</td>\n",
       "      <td>업무</td>\n",
       "      <td>일치</td>\n",
       "      <td>711</td>\n",
       "      <td>11127</td>\n",
       "      <td>-10416</td>\n",
       "      <td>10416</td>\n",
       "      <td>11838</td>\n",
       "      <td>7715</td>\n",
       "      <td>787</td>\n",
       "      <td>6928</td>\n",
       "      <td>6928</td>\n",
       "      <td>8502</td>\n",
       "      <td>17344</td>\n",
       "      <td>20340</td>\n",
       "    </tr>\n",
       "    <tr>\n",
       "      <th>147</th>\n",
       "      <td>ST-3128</td>\n",
       "      <td>업무</td>\n",
       "      <td>업무</td>\n",
       "      <td>일치</td>\n",
       "      <td>587</td>\n",
       "      <td>9877</td>\n",
       "      <td>-9290</td>\n",
       "      <td>9290</td>\n",
       "      <td>10464</td>\n",
       "      <td>6822</td>\n",
       "      <td>728</td>\n",
       "      <td>6094</td>\n",
       "      <td>6094</td>\n",
       "      <td>7550</td>\n",
       "      <td>15384</td>\n",
       "      <td>18014</td>\n",
       "    </tr>\n",
       "    <tr>\n",
       "      <th>153</th>\n",
       "      <td>ST-3251</td>\n",
       "      <td>업무</td>\n",
       "      <td>업무</td>\n",
       "      <td>일치</td>\n",
       "      <td>726</td>\n",
       "      <td>10118</td>\n",
       "      <td>-9392</td>\n",
       "      <td>9392</td>\n",
       "      <td>10844</td>\n",
       "      <td>6301</td>\n",
       "      <td>409</td>\n",
       "      <td>5892</td>\n",
       "      <td>5892</td>\n",
       "      <td>6710</td>\n",
       "      <td>15284</td>\n",
       "      <td>17554</td>\n",
       "    </tr>\n",
       "    <tr>\n",
       "      <th>67</th>\n",
       "      <td>ST-2044</td>\n",
       "      <td>업무</td>\n",
       "      <td>업무</td>\n",
       "      <td>일치</td>\n",
       "      <td>1991</td>\n",
       "      <td>11176</td>\n",
       "      <td>-9185</td>\n",
       "      <td>9185</td>\n",
       "      <td>13167</td>\n",
       "      <td>7089</td>\n",
       "      <td>1464</td>\n",
       "      <td>5625</td>\n",
       "      <td>5625</td>\n",
       "      <td>8553</td>\n",
       "      <td>14810</td>\n",
       "      <td>21720</td>\n",
       "    </tr>\n",
       "    <tr>\n",
       "      <th>73</th>\n",
       "      <td>ST-2050</td>\n",
       "      <td>주거</td>\n",
       "      <td>주거</td>\n",
       "      <td>일치</td>\n",
       "      <td>8055</td>\n",
       "      <td>814</td>\n",
       "      <td>7241</td>\n",
       "      <td>7241</td>\n",
       "      <td>8869</td>\n",
       "      <td>2776</td>\n",
       "      <td>8086</td>\n",
       "      <td>-5310</td>\n",
       "      <td>5310</td>\n",
       "      <td>10862</td>\n",
       "      <td>12551</td>\n",
       "      <td>19731</td>\n",
       "    </tr>\n",
       "    <tr>\n",
       "      <th>33</th>\n",
       "      <td>ST-1688</td>\n",
       "      <td>업무</td>\n",
       "      <td>업무</td>\n",
       "      <td>일치</td>\n",
       "      <td>909</td>\n",
       "      <td>7066</td>\n",
       "      <td>-6157</td>\n",
       "      <td>6157</td>\n",
       "      <td>7975</td>\n",
       "      <td>7936</td>\n",
       "      <td>3423</td>\n",
       "      <td>4513</td>\n",
       "      <td>4513</td>\n",
       "      <td>11359</td>\n",
       "      <td>10670</td>\n",
       "      <td>19334</td>\n",
       "    </tr>\n",
       "    <tr>\n",
       "      <th>29</th>\n",
       "      <td>ST-1645</td>\n",
       "      <td>주거</td>\n",
       "      <td>주거</td>\n",
       "      <td>일치</td>\n",
       "      <td>7232</td>\n",
       "      <td>922</td>\n",
       "      <td>6310</td>\n",
       "      <td>6310</td>\n",
       "      <td>8154</td>\n",
       "      <td>3392</td>\n",
       "      <td>7366</td>\n",
       "      <td>-3974</td>\n",
       "      <td>3974</td>\n",
       "      <td>10758</td>\n",
       "      <td>10284</td>\n",
       "      <td>18912</td>\n",
       "    </tr>\n",
       "    <tr>\n",
       "      <th>122</th>\n",
       "      <td>ST-2871</td>\n",
       "      <td>업무</td>\n",
       "      <td>업무</td>\n",
       "      <td>일치</td>\n",
       "      <td>5649</td>\n",
       "      <td>10317</td>\n",
       "      <td>-4668</td>\n",
       "      <td>4668</td>\n",
       "      <td>15966</td>\n",
       "      <td>10778</td>\n",
       "      <td>6150</td>\n",
       "      <td>4628</td>\n",
       "      <td>4628</td>\n",
       "      <td>16928</td>\n",
       "      <td>9296</td>\n",
       "      <td>32894</td>\n",
       "    </tr>\n",
       "  </tbody>\n",
       "</table>\n",
       "</div>"
      ],
      "text/plain": [
       "      대여소_ID 지구분류(출) 지구분류(퇴) 분류일치여부  시작(출)  종료(출)  차이(출)  차이절대값(출)  총이용량(출)  \\\n",
       "59   ST-2033      업무      업무     일치    999  18038 -17039     17039    19037   \n",
       "61   ST-2035      업무      업무     일치   1356  13251 -11895     11895    14607   \n",
       "41   ST-1712      업무      업무     일치    711  11127 -10416     10416    11838   \n",
       "147  ST-3128      업무      업무     일치    587   9877  -9290      9290    10464   \n",
       "153  ST-3251      업무      업무     일치    726  10118  -9392      9392    10844   \n",
       "67   ST-2044      업무      업무     일치   1991  11176  -9185      9185    13167   \n",
       "73   ST-2050      주거      주거     일치   8055    814   7241      7241     8869   \n",
       "33   ST-1688      업무      업무     일치    909   7066  -6157      6157     7975   \n",
       "29   ST-1645      주거      주거     일치   7232    922   6310      6310     8154   \n",
       "122  ST-2871      업무      업무     일치   5649  10317  -4668      4668    15966   \n",
       "\n",
       "     시작(퇴)  종료(퇴)  차이(퇴)  차이절대값(퇴)  총이용량(퇴)  차이절대값합  총이용량합  \n",
       "59   14530   3603  10927     10927    18133   27966  37170  \n",
       "61   10864   3613   7251      7251    14477   19146  29084  \n",
       "41    7715    787   6928      6928     8502   17344  20340  \n",
       "147   6822    728   6094      6094     7550   15384  18014  \n",
       "153   6301    409   5892      5892     6710   15284  17554  \n",
       "67    7089   1464   5625      5625     8553   14810  21720  \n",
       "73    2776   8086  -5310      5310    10862   12551  19731  \n",
       "33    7936   3423   4513      4513    11359   10670  19334  \n",
       "29    3392   7366  -3974      3974    10758   10284  18912  \n",
       "122  10778   6150   4628      4628    16928    9296  32894  "
      ]
     },
     "execution_count": 47,
     "metadata": {},
     "output_type": "execute_result"
    }
   ],
   "source": [
    "출퇴근_통합정보.sort_values(by='차이절대값합',ascending=False)\n",
    "\n",
    "출퇴근_통합정보.sort_values(by='차이절대값합',ascending=False)[:10]"
   ]
  },
  {
   "cell_type": "code",
   "execution_count": 48,
   "metadata": {},
   "outputs": [
    {
     "data": {
      "text/plain": [
       "<BarContainer object of 195 artists>"
      ]
     },
     "execution_count": 48,
     "metadata": {},
     "output_type": "execute_result"
    },
    {
     "data": {
      "image/png": "[encoded data removed]",
      "text/plain": [
       "<Figure size 1000x600 with 1 Axes>"
      ]
     },
     "metadata": {},
     "output_type": "display_data"
    }
   ],
   "source": [
    "fig, ax = plt.subplots(figsize=(10,6))\n",
    "\n",
    "ax.bar(출퇴근_통합정보['대여소_ID'], 출퇴근_통합정보.sort_values(by='차이절대값합')['차이절대값합'])"
   ]
  },
  {
   "cell_type": "code",
   "execution_count": 49,
   "metadata": {},
   "outputs": [
    {
     "data": {
      "text/plain": [
       "[<matplotlib.lines.Line2D at 0x218dce86ad0>]"
      ]
     },
     "execution_count": 49,
     "metadata": {},
     "output_type": "execute_result"
    },
    {
     "data": {
      "image/png": "[encoded data removed]",
      "text/plain": [
       "<Figure size 1000x600 with 1 Axes>"
      ]
     },
     "metadata": {},
     "output_type": "display_data"
    }
   ],
   "source": [
    "fig, ax = plt.subplots(figsize=(10,6))\n",
    "\n",
    "ax.plot(출퇴근_통합정보['대여소_ID'], 출퇴근_통합정보.sort_values(by='차이절대값합')['차이절대값합'])"
   ]
  },
  {
   "cell_type": "code",
   "execution_count": 50,
   "metadata": {},
   "outputs": [
    {
     "data": {
      "text/html": [
       "<div>\n",
       "<style scoped>\n",
       "    .dataframe tbody tr th:only-of-type {\n",
       "        vertical-align: middle;\n",
       "    }\n",
       "\n",
       "    .dataframe tbody tr th {\n",
       "        vertical-align: top;\n",
       "    }\n",
       "\n",
       "    .dataframe thead th {\n",
       "        text-align: right;\n",
       "    }\n",
       "</style>\n",
       "<table border=\"1\" class=\"dataframe\">\n",
       "  <thead>\n",
       "    <tr style=\"text-align: right;\">\n",
       "      <th></th>\n",
       "      <th>대여소_ID</th>\n",
       "      <th>지구분류(출)</th>\n",
       "      <th>지구분류(퇴)</th>\n",
       "      <th>분류일치여부</th>\n",
       "      <th>시작(출)</th>\n",
       "      <th>종료(출)</th>\n",
       "      <th>차이(출)</th>\n",
       "      <th>차이절대값(출)</th>\n",
       "      <th>총이용량(출)</th>\n",
       "      <th>시작(퇴)</th>\n",
       "      <th>종료(퇴)</th>\n",
       "      <th>차이(퇴)</th>\n",
       "      <th>차이절대값(퇴)</th>\n",
       "      <th>총이용량(퇴)</th>\n",
       "      <th>차이절대값합</th>\n",
       "      <th>총이용량합</th>\n",
       "    </tr>\n",
       "  </thead>\n",
       "  <tbody>\n",
       "    <tr>\n",
       "      <th>0</th>\n",
       "      <td>ST-1062</td>\n",
       "      <td>주거</td>\n",
       "      <td>주거</td>\n",
       "      <td>일치</td>\n",
       "      <td>3817</td>\n",
       "      <td>2303</td>\n",
       "      <td>1514</td>\n",
       "      <td>1514</td>\n",
       "      <td>6120</td>\n",
       "      <td>4052</td>\n",
       "      <td>5420</td>\n",
       "      <td>-1368</td>\n",
       "      <td>1368</td>\n",
       "      <td>9472</td>\n",
       "      <td>2882</td>\n",
       "      <td>15592</td>\n",
       "    </tr>\n",
       "    <tr>\n",
       "      <th>1</th>\n",
       "      <td>ST-1063</td>\n",
       "      <td>업무</td>\n",
       "      <td>업무</td>\n",
       "      <td>일치</td>\n",
       "      <td>5061</td>\n",
       "      <td>8806</td>\n",
       "      <td>-3745</td>\n",
       "      <td>3745</td>\n",
       "      <td>13867</td>\n",
       "      <td>5762</td>\n",
       "      <td>3109</td>\n",
       "      <td>2653</td>\n",
       "      <td>2653</td>\n",
       "      <td>8871</td>\n",
       "      <td>6398</td>\n",
       "      <td>22738</td>\n",
       "    </tr>\n",
       "    <tr>\n",
       "      <th>2</th>\n",
       "      <td>ST-1064</td>\n",
       "      <td>업무</td>\n",
       "      <td>업무</td>\n",
       "      <td>일치</td>\n",
       "      <td>3900</td>\n",
       "      <td>8571</td>\n",
       "      <td>-4671</td>\n",
       "      <td>4671</td>\n",
       "      <td>12471</td>\n",
       "      <td>8962</td>\n",
       "      <td>5449</td>\n",
       "      <td>3513</td>\n",
       "      <td>3513</td>\n",
       "      <td>14411</td>\n",
       "      <td>8184</td>\n",
       "      <td>26882</td>\n",
       "    </tr>\n",
       "    <tr>\n",
       "      <th>3</th>\n",
       "      <td>ST-1065</td>\n",
       "      <td>주거</td>\n",
       "      <td>주거</td>\n",
       "      <td>일치</td>\n",
       "      <td>5849</td>\n",
       "      <td>5590</td>\n",
       "      <td>259</td>\n",
       "      <td>259</td>\n",
       "      <td>11439</td>\n",
       "      <td>14935</td>\n",
       "      <td>16778</td>\n",
       "      <td>-1843</td>\n",
       "      <td>1843</td>\n",
       "      <td>31713</td>\n",
       "      <td>2102</td>\n",
       "      <td>43152</td>\n",
       "    </tr>\n",
       "    <tr>\n",
       "      <th>4</th>\n",
       "      <td>ST-1067</td>\n",
       "      <td>주거</td>\n",
       "      <td>주거</td>\n",
       "      <td>일치</td>\n",
       "      <td>3604</td>\n",
       "      <td>2990</td>\n",
       "      <td>614</td>\n",
       "      <td>614</td>\n",
       "      <td>6594</td>\n",
       "      <td>2700</td>\n",
       "      <td>3810</td>\n",
       "      <td>-1110</td>\n",
       "      <td>1110</td>\n",
       "      <td>6510</td>\n",
       "      <td>1724</td>\n",
       "      <td>13104</td>\n",
       "    </tr>\n",
       "    <tr>\n",
       "      <th>...</th>\n",
       "      <td>...</td>\n",
       "      <td>...</td>\n",
       "      <td>...</td>\n",
       "      <td>...</td>\n",
       "      <td>...</td>\n",
       "      <td>...</td>\n",
       "      <td>...</td>\n",
       "      <td>...</td>\n",
       "      <td>...</td>\n",
       "      <td>...</td>\n",
       "      <td>...</td>\n",
       "      <td>...</td>\n",
       "      <td>...</td>\n",
       "      <td>...</td>\n",
       "      <td>...</td>\n",
       "      <td>...</td>\n",
       "    </tr>\n",
       "    <tr>\n",
       "      <th>190</th>\n",
       "      <td>ST-829</td>\n",
       "      <td>주거</td>\n",
       "      <td>업무</td>\n",
       "      <td>불일치</td>\n",
       "      <td>1344</td>\n",
       "      <td>1005</td>\n",
       "      <td>339</td>\n",
       "      <td>339</td>\n",
       "      <td>2349</td>\n",
       "      <td>1956</td>\n",
       "      <td>1923</td>\n",
       "      <td>33</td>\n",
       "      <td>33</td>\n",
       "      <td>3879</td>\n",
       "      <td>372</td>\n",
       "      <td>6228</td>\n",
       "    </tr>\n",
       "    <tr>\n",
       "      <th>191</th>\n",
       "      <td>ST-831</td>\n",
       "      <td>주거</td>\n",
       "      <td>주거</td>\n",
       "      <td>일치</td>\n",
       "      <td>2732</td>\n",
       "      <td>1538</td>\n",
       "      <td>1194</td>\n",
       "      <td>1194</td>\n",
       "      <td>4270</td>\n",
       "      <td>4079</td>\n",
       "      <td>4576</td>\n",
       "      <td>-497</td>\n",
       "      <td>497</td>\n",
       "      <td>8655</td>\n",
       "      <td>1691</td>\n",
       "      <td>12925</td>\n",
       "    </tr>\n",
       "    <tr>\n",
       "      <th>192</th>\n",
       "      <td>ST-834</td>\n",
       "      <td>업무</td>\n",
       "      <td>주거</td>\n",
       "      <td>불일치</td>\n",
       "      <td>3344</td>\n",
       "      <td>4368</td>\n",
       "      <td>-1024</td>\n",
       "      <td>1024</td>\n",
       "      <td>7712</td>\n",
       "      <td>6339</td>\n",
       "      <td>6460</td>\n",
       "      <td>-121</td>\n",
       "      <td>121</td>\n",
       "      <td>12799</td>\n",
       "      <td>1145</td>\n",
       "      <td>20511</td>\n",
       "    </tr>\n",
       "    <tr>\n",
       "      <th>193</th>\n",
       "      <td>ST-835</td>\n",
       "      <td>주거</td>\n",
       "      <td>주거</td>\n",
       "      <td>일치</td>\n",
       "      <td>4274</td>\n",
       "      <td>2164</td>\n",
       "      <td>2110</td>\n",
       "      <td>2110</td>\n",
       "      <td>6438</td>\n",
       "      <td>5497</td>\n",
       "      <td>7926</td>\n",
       "      <td>-2429</td>\n",
       "      <td>2429</td>\n",
       "      <td>13423</td>\n",
       "      <td>4539</td>\n",
       "      <td>19861</td>\n",
       "    </tr>\n",
       "    <tr>\n",
       "      <th>194</th>\n",
       "      <td>ST-975</td>\n",
       "      <td>주거</td>\n",
       "      <td>주거</td>\n",
       "      <td>일치</td>\n",
       "      <td>2979</td>\n",
       "      <td>2504</td>\n",
       "      <td>475</td>\n",
       "      <td>475</td>\n",
       "      <td>5483</td>\n",
       "      <td>7587</td>\n",
       "      <td>8311</td>\n",
       "      <td>-724</td>\n",
       "      <td>724</td>\n",
       "      <td>15898</td>\n",
       "      <td>1199</td>\n",
       "      <td>21381</td>\n",
       "    </tr>\n",
       "  </tbody>\n",
       "</table>\n",
       "<p>195 rows × 16 columns</p>\n",
       "</div>"
      ],
      "text/plain": [
       "      대여소_ID 지구분류(출) 지구분류(퇴) 분류일치여부  시작(출)  종료(출)  차이(출)  차이절대값(출)  총이용량(출)  \\\n",
       "0    ST-1062      주거      주거     일치   3817   2303   1514      1514     6120   \n",
       "1    ST-1063      업무      업무     일치   5061   8806  -3745      3745    13867   \n",
       "2    ST-1064      업무      업무     일치   3900   8571  -4671      4671    12471   \n",
       "3    ST-1065      주거      주거     일치   5849   5590    259       259    11439   \n",
       "4    ST-1067      주거      주거     일치   3604   2990    614       614     6594   \n",
       "..       ...     ...     ...    ...    ...    ...    ...       ...      ...   \n",
       "190   ST-829      주거      업무    불일치   1344   1005    339       339     2349   \n",
       "191   ST-831      주거      주거     일치   2732   1538   1194      1194     4270   \n",
       "192   ST-834      업무      주거    불일치   3344   4368  -1024      1024     7712   \n",
       "193   ST-835      주거      주거     일치   4274   2164   2110      2110     6438   \n",
       "194   ST-975      주거      주거     일치   2979   2504    475       475     5483   \n",
       "\n",
       "     시작(퇴)  종료(퇴)  차이(퇴)  차이절대값(퇴)  총이용량(퇴)  차이절대값합  총이용량합  \n",
       "0     4052   5420  -1368      1368     9472    2882  15592  \n",
       "1     5762   3109   2653      2653     8871    6398  22738  \n",
       "2     8962   5449   3513      3513    14411    8184  26882  \n",
       "3    14935  16778  -1843      1843    31713    2102  43152  \n",
       "4     2700   3810  -1110      1110     6510    1724  13104  \n",
       "..     ...    ...    ...       ...      ...     ...    ...  \n",
       "190   1956   1923     33        33     3879     372   6228  \n",
       "191   4079   4576   -497       497     8655    1691  12925  \n",
       "192   6339   6460   -121       121    12799    1145  20511  \n",
       "193   5497   7926  -2429      2429    13423    4539  19861  \n",
       "194   7587   8311   -724       724    15898    1199  21381  \n",
       "\n",
       "[195 rows x 16 columns]"
      ]
     },
     "execution_count": 50,
     "metadata": {},
     "output_type": "execute_result"
    }
   ],
   "source": [
    "출퇴근_통합정보"
   ]
  },
  {
   "cell_type": "code",
   "execution_count": 51,
   "metadata": {},
   "outputs": [
    {
     "data": {
      "text/html": [
       "<div>\n",
       "<style scoped>\n",
       "    .dataframe tbody tr th:only-of-type {\n",
       "        vertical-align: middle;\n",
       "    }\n",
       "\n",
       "    .dataframe tbody tr th {\n",
       "        vertical-align: top;\n",
       "    }\n",
       "\n",
       "    .dataframe thead th {\n",
       "        text-align: right;\n",
       "    }\n",
       "</style>\n",
       "<table border=\"1\" class=\"dataframe\">\n",
       "  <thead>\n",
       "    <tr style=\"text-align: right;\">\n",
       "      <th></th>\n",
       "      <th>대여소_ID</th>\n",
       "      <th>지구분류(출)</th>\n",
       "      <th>지구분류(퇴)</th>\n",
       "      <th>분류일치여부</th>\n",
       "      <th>시작(출)</th>\n",
       "      <th>종료(출)</th>\n",
       "      <th>차이(출)</th>\n",
       "      <th>차이절대값(출)</th>\n",
       "      <th>총이용량(출)</th>\n",
       "      <th>시작(퇴)</th>\n",
       "      <th>종료(퇴)</th>\n",
       "      <th>차이(퇴)</th>\n",
       "      <th>차이절대값(퇴)</th>\n",
       "      <th>총이용량(퇴)</th>\n",
       "      <th>차이절대값합</th>\n",
       "      <th>총이용량합</th>\n",
       "      <th>숫자_대여소_ID</th>\n",
       "    </tr>\n",
       "  </thead>\n",
       "  <tbody>\n",
       "    <tr>\n",
       "      <th>0</th>\n",
       "      <td>ST-1062</td>\n",
       "      <td>주거</td>\n",
       "      <td>주거</td>\n",
       "      <td>일치</td>\n",
       "      <td>3817</td>\n",
       "      <td>2303</td>\n",
       "      <td>1514</td>\n",
       "      <td>1514</td>\n",
       "      <td>6120</td>\n",
       "      <td>4052</td>\n",
       "      <td>5420</td>\n",
       "      <td>-1368</td>\n",
       "      <td>1368</td>\n",
       "      <td>9472</td>\n",
       "      <td>2882</td>\n",
       "      <td>15592</td>\n",
       "      <td>1062</td>\n",
       "    </tr>\n",
       "    <tr>\n",
       "      <th>1</th>\n",
       "      <td>ST-1063</td>\n",
       "      <td>업무</td>\n",
       "      <td>업무</td>\n",
       "      <td>일치</td>\n",
       "      <td>5061</td>\n",
       "      <td>8806</td>\n",
       "      <td>-3745</td>\n",
       "      <td>3745</td>\n",
       "      <td>13867</td>\n",
       "      <td>5762</td>\n",
       "      <td>3109</td>\n",
       "      <td>2653</td>\n",
       "      <td>2653</td>\n",
       "      <td>8871</td>\n",
       "      <td>6398</td>\n",
       "      <td>22738</td>\n",
       "      <td>1063</td>\n",
       "    </tr>\n",
       "    <tr>\n",
       "      <th>2</th>\n",
       "      <td>ST-1064</td>\n",
       "      <td>업무</td>\n",
       "      <td>업무</td>\n",
       "      <td>일치</td>\n",
       "      <td>3900</td>\n",
       "      <td>8571</td>\n",
       "      <td>-4671</td>\n",
       "      <td>4671</td>\n",
       "      <td>12471</td>\n",
       "      <td>8962</td>\n",
       "      <td>5449</td>\n",
       "      <td>3513</td>\n",
       "      <td>3513</td>\n",
       "      <td>14411</td>\n",
       "      <td>8184</td>\n",
       "      <td>26882</td>\n",
       "      <td>1064</td>\n",
       "    </tr>\n",
       "    <tr>\n",
       "      <th>3</th>\n",
       "      <td>ST-1065</td>\n",
       "      <td>주거</td>\n",
       "      <td>주거</td>\n",
       "      <td>일치</td>\n",
       "      <td>5849</td>\n",
       "      <td>5590</td>\n",
       "      <td>259</td>\n",
       "      <td>259</td>\n",
       "      <td>11439</td>\n",
       "      <td>14935</td>\n",
       "      <td>16778</td>\n",
       "      <td>-1843</td>\n",
       "      <td>1843</td>\n",
       "      <td>31713</td>\n",
       "      <td>2102</td>\n",
       "      <td>43152</td>\n",
       "      <td>1065</td>\n",
       "    </tr>\n",
       "    <tr>\n",
       "      <th>4</th>\n",
       "      <td>ST-1067</td>\n",
       "      <td>주거</td>\n",
       "      <td>주거</td>\n",
       "      <td>일치</td>\n",
       "      <td>3604</td>\n",
       "      <td>2990</td>\n",
       "      <td>614</td>\n",
       "      <td>614</td>\n",
       "      <td>6594</td>\n",
       "      <td>2700</td>\n",
       "      <td>3810</td>\n",
       "      <td>-1110</td>\n",
       "      <td>1110</td>\n",
       "      <td>6510</td>\n",
       "      <td>1724</td>\n",
       "      <td>13104</td>\n",
       "      <td>1067</td>\n",
       "    </tr>\n",
       "    <tr>\n",
       "      <th>...</th>\n",
       "      <td>...</td>\n",
       "      <td>...</td>\n",
       "      <td>...</td>\n",
       "      <td>...</td>\n",
       "      <td>...</td>\n",
       "      <td>...</td>\n",
       "      <td>...</td>\n",
       "      <td>...</td>\n",
       "      <td>...</td>\n",
       "      <td>...</td>\n",
       "      <td>...</td>\n",
       "      <td>...</td>\n",
       "      <td>...</td>\n",
       "      <td>...</td>\n",
       "      <td>...</td>\n",
       "      <td>...</td>\n",
       "      <td>...</td>\n",
       "    </tr>\n",
       "    <tr>\n",
       "      <th>190</th>\n",
       "      <td>ST-829</td>\n",
       "      <td>주거</td>\n",
       "      <td>업무</td>\n",
       "      <td>불일치</td>\n",
       "      <td>1344</td>\n",
       "      <td>1005</td>\n",
       "      <td>339</td>\n",
       "      <td>339</td>\n",
       "      <td>2349</td>\n",
       "      <td>1956</td>\n",
       "      <td>1923</td>\n",
       "      <td>33</td>\n",
       "      <td>33</td>\n",
       "      <td>3879</td>\n",
       "      <td>372</td>\n",
       "      <td>6228</td>\n",
       "      <td>829</td>\n",
       "    </tr>\n",
       "    <tr>\n",
       "      <th>191</th>\n",
       "      <td>ST-831</td>\n",
       "      <td>주거</td>\n",
       "      <td>주거</td>\n",
       "      <td>일치</td>\n",
       "      <td>2732</td>\n",
       "      <td>1538</td>\n",
       "      <td>1194</td>\n",
       "      <td>1194</td>\n",
       "      <td>4270</td>\n",
       "      <td>4079</td>\n",
       "      <td>4576</td>\n",
       "      <td>-497</td>\n",
       "      <td>497</td>\n",
       "      <td>8655</td>\n",
       "      <td>1691</td>\n",
       "      <td>12925</td>\n",
       "      <td>831</td>\n",
       "    </tr>\n",
       "    <tr>\n",
       "      <th>192</th>\n",
       "      <td>ST-834</td>\n",
       "      <td>업무</td>\n",
       "      <td>주거</td>\n",
       "      <td>불일치</td>\n",
       "      <td>3344</td>\n",
       "      <td>4368</td>\n",
       "      <td>-1024</td>\n",
       "      <td>1024</td>\n",
       "      <td>7712</td>\n",
       "      <td>6339</td>\n",
       "      <td>6460</td>\n",
       "      <td>-121</td>\n",
       "      <td>121</td>\n",
       "      <td>12799</td>\n",
       "      <td>1145</td>\n",
       "      <td>20511</td>\n",
       "      <td>834</td>\n",
       "    </tr>\n",
       "    <tr>\n",
       "      <th>193</th>\n",
       "      <td>ST-835</td>\n",
       "      <td>주거</td>\n",
       "      <td>주거</td>\n",
       "      <td>일치</td>\n",
       "      <td>4274</td>\n",
       "      <td>2164</td>\n",
       "      <td>2110</td>\n",
       "      <td>2110</td>\n",
       "      <td>6438</td>\n",
       "      <td>5497</td>\n",
       "      <td>7926</td>\n",
       "      <td>-2429</td>\n",
       "      <td>2429</td>\n",
       "      <td>13423</td>\n",
       "      <td>4539</td>\n",
       "      <td>19861</td>\n",
       "      <td>835</td>\n",
       "    </tr>\n",
       "    <tr>\n",
       "      <th>194</th>\n",
       "      <td>ST-975</td>\n",
       "      <td>주거</td>\n",
       "      <td>주거</td>\n",
       "      <td>일치</td>\n",
       "      <td>2979</td>\n",
       "      <td>2504</td>\n",
       "      <td>475</td>\n",
       "      <td>475</td>\n",
       "      <td>5483</td>\n",
       "      <td>7587</td>\n",
       "      <td>8311</td>\n",
       "      <td>-724</td>\n",
       "      <td>724</td>\n",
       "      <td>15898</td>\n",
       "      <td>1199</td>\n",
       "      <td>21381</td>\n",
       "      <td>975</td>\n",
       "    </tr>\n",
       "  </tbody>\n",
       "</table>\n",
       "<p>195 rows × 17 columns</p>\n",
       "</div>"
      ],
      "text/plain": [
       "      대여소_ID 지구분류(출) 지구분류(퇴) 분류일치여부  시작(출)  종료(출)  차이(출)  차이절대값(출)  총이용량(출)  \\\n",
       "0    ST-1062      주거      주거     일치   3817   2303   1514      1514     6120   \n",
       "1    ST-1063      업무      업무     일치   5061   8806  -3745      3745    13867   \n",
       "2    ST-1064      업무      업무     일치   3900   8571  -4671      4671    12471   \n",
       "3    ST-1065      주거      주거     일치   5849   5590    259       259    11439   \n",
       "4    ST-1067      주거      주거     일치   3604   2990    614       614     6594   \n",
       "..       ...     ...     ...    ...    ...    ...    ...       ...      ...   \n",
       "190   ST-829      주거      업무    불일치   1344   1005    339       339     2349   \n",
       "191   ST-831      주거      주거     일치   2732   1538   1194      1194     4270   \n",
       "192   ST-834      업무      주거    불일치   3344   4368  -1024      1024     7712   \n",
       "193   ST-835      주거      주거     일치   4274   2164   2110      2110     6438   \n",
       "194   ST-975      주거      주거     일치   2979   2504    475       475     5483   \n",
       "\n",
       "     시작(퇴)  종료(퇴)  차이(퇴)  차이절대값(퇴)  총이용량(퇴)  차이절대값합  총이용량합  숫자_대여소_ID  \n",
       "0     4052   5420  -1368      1368     9472    2882  15592       1062  \n",
       "1     5762   3109   2653      2653     8871    6398  22738       1063  \n",
       "2     8962   5449   3513      3513    14411    8184  26882       1064  \n",
       "3    14935  16778  -1843      1843    31713    2102  43152       1065  \n",
       "4     2700   3810  -1110      1110     6510    1724  13104       1067  \n",
       "..     ...    ...    ...       ...      ...     ...    ...        ...  \n",
       "190   1956   1923     33        33     3879     372   6228        829  \n",
       "191   4079   4576   -497       497     8655    1691  12925        831  \n",
       "192   6339   6460   -121       121    12799    1145  20511        834  \n",
       "193   5497   7926  -2429      2429    13423    4539  19861        835  \n",
       "194   7587   8311   -724       724    15898    1199  21381        975  \n",
       "\n",
       "[195 rows x 17 columns]"
      ]
     },
     "execution_count": 51,
     "metadata": {},
     "output_type": "execute_result"
    }
   ],
   "source": [
    "import pandas as pd\n",
    "import re\n",
    "\n",
    "# 숫자를 추출하여 새로운 컬럼에 할당하는 함수 정의\n",
    "def extract_number(text):\n",
    "    numbers = re.findall(r'\\d+', text)  # 정규표현식을 사용하여 숫자 추출\n",
    "    if numbers:\n",
    "        return int(numbers[0])  # 추출된 숫자 중 첫 번째 숫자를 반환\n",
    "    else:\n",
    "        return None  # 숫자가 없는 경우 None 반환\n",
    "\n",
    "# 대여소_ID 컬럼에서 숫자만 추출하여 새로운 컬럼에 할당\n",
    "출퇴근_통합정보['숫자_대여소_ID'] = 출퇴근_통합정보['대여소_ID'].apply(extract_number)\n",
    "\n",
    "출퇴근_통합정보"
   ]
  },
  {
   "cell_type": "code",
   "execution_count": 52,
   "metadata": {},
   "outputs": [],
   "source": [
    "출퇴근_통합정보['temp_num'] = 출퇴근_통합정보.index.values+1"
   ]
  },
  {
   "cell_type": "code",
   "execution_count": 53,
   "metadata": {},
   "outputs": [
    {
     "name": "stdout",
     "output_type": "stream",
     "text": [
      "<class 'pandas.core.frame.DataFrame'>\n",
      "RangeIndex: 195 entries, 0 to 194\n",
      "Data columns (total 18 columns):\n",
      " #   Column     Non-Null Count  Dtype \n",
      "---  ------     --------------  ----- \n",
      " 0   대여소_ID     195 non-null    object\n",
      " 1   지구분류(출)    195 non-null    object\n",
      " 2   지구분류(퇴)    195 non-null    object\n",
      " 3   분류일치여부     195 non-null    object\n",
      " 4   시작(출)      195 non-null    int32 \n",
      " 5   종료(출)      195 non-null    int32 \n",
      " 6   차이(출)      195 non-null    int32 \n",
      " 7   차이절대값(출)   195 non-null    int32 \n",
      " 8   총이용량(출)    195 non-null    int32 \n",
      " 9   시작(퇴)      195 non-null    int64 \n",
      " 10  종료(퇴)      195 non-null    int64 \n",
      " 11  차이(퇴)      195 non-null    int64 \n",
      " 12  차이절대값(퇴)   195 non-null    int64 \n",
      " 13  총이용량(퇴)    195 non-null    int64 \n",
      " 14  차이절대값합     195 non-null    int64 \n",
      " 15  총이용량합      195 non-null    int64 \n",
      " 16  숫자_대여소_ID  195 non-null    int64 \n",
      " 17  temp_num   195 non-null    int64 \n",
      "dtypes: int32(5), int64(9), object(4)\n",
      "memory usage: 23.7+ KB\n"
     ]
    }
   ],
   "source": [
    "출퇴근_통합정보.info()"
   ]
  },
  {
   "cell_type": "code",
   "execution_count": 54,
   "metadata": {},
   "outputs": [
    {
     "data": {
      "text/plain": [
       "[<matplotlib.lines.Line2D at 0x218dd8a8250>]"
      ]
     },
     "execution_count": 54,
     "metadata": {},
     "output_type": "execute_result"
    },
    {
     "data": {
      "image/png": "[encoded data removed]",
      "text/plain": [
       "<Figure size 1000x600 with 1 Axes>"
      ]
     },
     "metadata": {},
     "output_type": "display_data"
    }
   ],
   "source": [
    "fig, ax = plt.subplots(figsize=(10,6))\n",
    "\n",
    "ax.plot(출퇴근_통합정보['temp_num'], 출퇴근_통합정보.sort_values(by='차이절대값합')['차이절대값합'])"
   ]
  },
  {
   "cell_type": "code",
   "execution_count": 55,
   "metadata": {},
   "outputs": [
    {
     "name": "stdout",
     "output_type": "stream",
     "text": [
      "미분 결과: cos(x)\n"
     ]
    },
    {
     "data": {
      "image/png": "[encoded data removed]",
      "text/plain": [
       "<Figure size 640x480 with 1 Axes>"
      ]
     },
     "metadata": {},
     "output_type": "display_data"
    }
   ],
   "source": [
    "import sympy as sp\n",
    "import numpy as np\n",
    "import matplotlib.pyplot as plt\n",
    "\n",
    "x = 출퇴근_통합정보['temp_num']\n",
    "y = 출퇴근_통합정보.sort_values(by='차이절대값합')['차이절대값합']\n",
    "\n",
    "sym_x = sp.symbols('x')\n",
    "sym_y = sp.sin(sym_x)\n",
    "\n",
    "dy_dx = sp.diff(sym_y, sym_x)\n",
    "\n",
    "# 결과 출력\n",
    "print(\"미분 결과:\", dy_dx)\n",
    "\n",
    "# 그래프 그리기\n",
    "plt.plot(x, y, label='Original')\n",
    "plt.plot(x, [dy_dx.subs(sym_x, val) for val in x], label='Derivative')\n",
    "plt.legend()\n",
    "plt.show()"
   ]
  },
  {
   "cell_type": "code",
   "execution_count": 56,
   "metadata": {},
   "outputs": [
    {
     "data": {
      "text/plain": [
       "[<matplotlib.lines.Line2D at 0x218dcf039d0>]"
      ]
     },
     "execution_count": 56,
     "metadata": {},
     "output_type": "execute_result"
    },
    {
     "data": {
      "image/png": "[encoded data removed]",
      "text/plain": [
       "<Figure size 640x480 with 1 Axes>"
      ]
     },
     "metadata": {},
     "output_type": "display_data"
    }
   ],
   "source": [
    "plt.plot(x, [dy_dx.subs(sym_x, val) for val in x], label='Derivative')"
   ]
  },
  {
   "cell_type": "code",
   "execution_count": 57,
   "metadata": {},
   "outputs": [
    {
     "name": "stdout",
     "output_type": "stream",
     "text": [
      "변화율 결과: [2.900e+01 5.000e+00 2.400e+01 3.100e+01 5.000e+00 4.900e+01 1.000e+01\n",
      " 2.100e+01 1.000e+00 2.000e+00 7.000e+00 1.900e+01 2.500e+01 3.000e+00\n",
      " 1.400e+01 3.000e+00 1.900e+01 9.000e+00 2.000e+00 1.000e+01 5.400e+01\n",
      " 6.000e+00 1.800e+01 5.400e+01 3.500e+01 6.000e+00 1.800e+01 2.700e+01\n",
      " 1.200e+01 2.900e+01 7.000e+00 1.000e+00 1.700e+01 6.000e+00 1.000e+01\n",
      " 0.000e+00 2.000e+00 8.000e+00 1.500e+01 6.000e+00 3.000e+00 3.000e+00\n",
      " 6.600e+01 1.100e+01 2.900e+01 4.000e+00 1.600e+01 1.000e+00 6.000e+00\n",
      " 8.000e+00 6.000e+00 2.100e+01 1.300e+01 9.000e+00 7.000e+00 3.200e+01\n",
      " 1.200e+01 3.000e+00 1.500e+01 9.000e+00 1.300e+01 1.400e+01 5.700e+01\n",
      " 7.500e+01 1.400e+01 2.700e+01 3.300e+01 1.300e+01 1.000e+01 2.700e+01\n",
      " 1.100e+01 6.000e+00 3.300e+01 2.000e+01 2.500e+01 1.400e+01 7.000e+00\n",
      " 3.200e+01 4.100e+01 2.100e+01 1.800e+01 2.400e+01 4.800e+01 1.340e+02\n",
      " 8.000e+00 1.000e+01 1.000e+00 1.300e+01 1.200e+01 9.000e+00 2.200e+01\n",
      " 1.500e+01 4.000e+00 7.000e+00 7.000e+00 4.000e+00 1.800e+01 2.400e+01\n",
      " 1.090e+02 5.000e+00 1.980e+02 3.000e+00 7.000e+00 8.000e+00 2.000e+00\n",
      " 6.300e+01 8.000e+00 2.800e+01 5.000e+01 2.000e+00 1.200e+01 7.000e+00\n",
      " 3.400e+01 1.180e+02 9.000e+00 1.050e+02 3.000e+00 8.100e+01 4.700e+01\n",
      " 4.400e+01 3.800e+01 4.300e+01 8.800e+01 1.700e+01 3.300e+01 8.400e+01\n",
      " 1.300e+01 5.000e+00 8.000e+00 1.050e+02 1.170e+02 7.800e+01 2.400e+01\n",
      " 5.700e+01 1.400e+01 1.040e+02 8.700e+01 5.400e+01 3.000e+01 1.000e+00\n",
      " 5.000e+00 5.000e+00 8.000e+00 1.900e+02 1.300e+02 7.400e+01 3.300e+01\n",
      " 1.300e+01 2.500e+01 1.270e+02 3.400e+01 1.000e+00 7.500e+01 1.060e+02\n",
      " 3.000e+01 2.600e+01 1.150e+02 2.060e+02 1.090e+02 2.000e+01 4.000e+00\n",
      " 5.800e+01 1.130e+02 3.050e+02 3.600e+01 1.500e+01 3.900e+01 4.100e+01\n",
      " 1.310e+02 3.240e+02 2.130e+02 7.400e+01 1.600e+01 1.380e+02 1.020e+02\n",
      " 1.120e+03 4.500e+01 3.650e+02 4.000e+00 1.700e+01 1.450e+02 2.250e+02\n",
      " 1.210e+02 9.800e+01 5.020e+02 9.880e+02 3.860e+02 1.881e+03 2.259e+03\n",
      " 4.740e+02 1.000e+02 1.960e+03 1.802e+03 8.820e+03]\n"
     ]
    },
    {
     "data": {
      "image/png": "[encoded data removed]",
      "text/plain": [
       "<Figure size 640x480 with 1 Axes>"
      ]
     },
     "metadata": {},
     "output_type": "display_data"
    },
    {
     "data": {
      "image/png": "[encoded data removed]",
      "text/plain": [
       "<Figure size 640x480 with 1 Axes>"
      ]
     },
     "metadata": {},
     "output_type": "display_data"
    }
   ],
   "source": [
    "import numpy as np\n",
    "import matplotlib.pyplot as plt\n",
    "\n",
    "# 라인 그래프 데이터 생성\n",
    "x = 출퇴근_통합정보['temp_num']\n",
    "y = 출퇴근_통합정보.sort_values(by='차이절대값합')['차이절대값합']\n",
    "\n",
    "# 변화율 계산\n",
    "dx = x[1] - x[0]\n",
    "dy = np.diff(y) / dx\n",
    "\n",
    "# 결과 출력\n",
    "print(\"변화율 결과:\", dy)\n",
    "\n",
    "# 그래프 그리기\n",
    "plt.plot(x[:-1], dy, label='Derivative')\n",
    "plt.legend()\n",
    "plt.show()\n",
    "\n",
    "# 급격한 변화를 찾기 위해 변화율의 변화율이 특정 임계값 이상인 지점을 찾습니다.\n",
    "threshold = 0.5  # 임계값 설정\n",
    "sharp_changes = np.where(np.abs(dy) > threshold)[0]\n",
    "\n",
    "# 찾은 지점을 그래프에 표시합니다.\n",
    "plt.plot(x[:-1], dy, label='Second Derivative')\n",
    "plt.scatter(x[sharp_changes], dy[sharp_changes], color='red', label='Sharp Changes')\n",
    "plt.legend()\n",
    "plt.show()"
   ]
  },
  {
   "cell_type": "code",
   "execution_count": 58,
   "metadata": {},
   "outputs": [
    {
     "data": {
      "text/plain": [
       "160        6\n",
       "159       35\n",
       "92        40\n",
       "172       64\n",
       "161       95\n",
       "       ...  \n",
       "153    15284\n",
       "147    15384\n",
       "41     17344\n",
       "61     19146\n",
       "59     27966\n",
       "Name: 차이절대값합, Length: 195, dtype: int64"
      ]
     },
     "execution_count": 58,
     "metadata": {},
     "output_type": "execute_result"
    }
   ],
   "source": [
    "출퇴근_통합정보.sort_values(by='차이절대값합')['차이절대값합']"
   ]
  },
  {
   "cell_type": "code",
   "execution_count": 59,
   "metadata": {},
   "outputs": [
    {
     "name": "stderr",
     "output_type": "stream",
     "text": [
      "c:\\ProgramData\\anaconda3\\Lib\\site-packages\\seaborn\\_oldcore.py:1119: FutureWarning: use_inf_as_na option is deprecated and will be removed in a future version. Convert inf values to NaN before operating instead.\n",
      "  with pd.option_context('mode.use_inf_as_na', True):\n",
      "c:\\ProgramData\\anaconda3\\Lib\\site-packages\\seaborn\\_oldcore.py:1119: FutureWarning: use_inf_as_na option is deprecated and will be removed in a future version. Convert inf values to NaN before operating instead.\n",
      "  with pd.option_context('mode.use_inf_as_na', True):\n"
     ]
    },
    {
     "data": {
      "image/png": "[encoded data removed]",
      "text/plain": [
       "<Figure size 640x480 with 1 Axes>"
      ]
     },
     "metadata": {},
     "output_type": "display_data"
    }
   ],
   "source": [
    "import seaborn as sns\n",
    "import matplotlib.pyplot as plt\n",
    "\n",
    "x=출퇴근_통합정보['temp_num']\n",
    "y=출퇴근_통합정보.sort_values(by='차이절대값합')['차이절대값합']\n",
    "\n",
    "y.index = 출퇴근_통합정보['temp_num'].values\n",
    "\n",
    "# 라인 플롯 그리기\n",
    "sns.lineplot(x=x, y=y)\n",
    "plt.show()"
   ]
  },
  {
   "cell_type": "code",
   "execution_count": 64,
   "metadata": {},
   "outputs": [
    {
     "data": {
      "application/vnd.plotly.v1+json": {
       "config": {
        "plotlyServerURL": "https://plot.ly"
       },
       "data": [
        {
         "line": {
          "color": "#336666"
         },
         "name": "대여소별 쏠림 정도값",
         "type": "scatter",
         "x": [
          1,
          2,
          3,
          4,
          5,
          6,
          7,
          8,
          9,
          10,
          11,
          12,
          13,
          14,
          15,
          16,
          17,
          18,
          19,
          20,
          21,
          22,
          23,
          24,
          25,
          26,
          27,
          28,
          29,
          30,
          31,
          32,
          33,
          34,
          35,
          36,
          37,
          38,
          39,
          40,
          41,
          42,
          43,
          44,
          45,
          46,
          47,
          48,
          49,
          50,
          51,
          52,
          53,
          54,
          55,
          56,
          57,
          58,
          59,
          60,
          61,
          62,
          63,
          64,
          65,
          66,
          67,
          68,
          69,
          70,
          71,
          72,
          73,
          74,
          75,
          76,
          77,
          78,
          79,
          80,
          81,
          82,
          83,
          84,
          85,
          86,
          87,
          88,
          89,
          90,
          91,
          92,
          93,
          94,
          95,
          96,
          97,
          98,
          99,
          100,
          101,
          102,
          103,
          104,
          105,
          106,
          107,
          108,
          109,
          110,
          111,
          112,
          113,
          114,
          115,
          116,
          117,
          118,
          119,
          120,
          121,
          122,
          123,
          124,
          125,
          126,
          127,
          128,
          129,
          130,
          131,
          132,
          133,
          134,
          135,
          136,
          137,
          138,
          139,
          140,
          141,
          142,
          143,
          144,
          145,
          146,
          147,
          148,
          149,
          150,
          151,
          152,
          153,
          154,
          155,
          156,
          157,
          158,
          159,
          160,
          161,
          162,
          163,
          164,
          165,
          166,
          167,
          168,
          169,
          170,
          171,
          172,
          173,
          174,
          175,
          176,
          177,
          178,
          179,
          180,
          181,
          182,
          183,
          184,
          185,
          186,
          187,
          188,
          189,
          190,
          191,
          192,
          193,
          194,
          195
         ],
         "y": [
          6,
          35,
          40,
          64,
          95,
          100,
          149,
          159,
          180,
          181,
          183,
          190,
          209,
          234,
          237,
          251,
          254,
          273,
          282,
          284,
          294,
          348,
          354,
          372,
          426,
          461,
          467,
          485,
          512,
          524,
          553,
          560,
          561,
          578,
          584,
          594,
          594,
          596,
          604,
          619,
          625,
          628,
          631,
          697,
          708,
          737,
          741,
          757,
          758,
          764,
          772,
          778,
          799,
          812,
          821,
          828,
          860,
          872,
          875,
          890,
          899,
          912,
          926,
          983,
          1058,
          1072,
          1099,
          1132,
          1145,
          1155,
          1182,
          1193,
          1199,
          1232,
          1252,
          1277,
          1291,
          1298,
          1330,
          1371,
          1392,
          1410,
          1434,
          1482,
          1616,
          1624,
          1634,
          1635,
          1648,
          1660,
          1669,
          1691,
          1706,
          1710,
          1717,
          1724,
          1728,
          1746,
          1770,
          1879,
          1884,
          2082,
          2085,
          2092,
          2100,
          2102,
          2165,
          2173,
          2201,
          2251,
          2253,
          2265,
          2272,
          2306,
          2424,
          2433,
          2538,
          2541,
          2622,
          2669,
          2713,
          2751,
          2794,
          2882,
          2899,
          2932,
          3016,
          3029,
          3034,
          3042,
          3147,
          3264,
          3342,
          3366,
          3423,
          3437,
          3541,
          3628,
          3682,
          3712,
          3713,
          3718,
          3723,
          3731,
          3921,
          4051,
          4125,
          4158,
          4171,
          4196,
          4323,
          4357,
          4358,
          4433,
          4539,
          4569,
          4595,
          4710,
          4916,
          5025,
          5045,
          5049,
          5107,
          5220,
          5525,
          5561,
          5576,
          5615,
          5656,
          5787,
          6111,
          6324,
          6398,
          6414,
          6552,
          6654,
          7774,
          7819,
          8184,
          8188,
          8205,
          8350,
          8575,
          8696,
          8794,
          9296,
          10284,
          10670,
          12551,
          14810,
          15284,
          15384,
          17344,
          19146,
          27966
         ]
        },
        {
         "line": {
          "color": "#33cc99"
         },
         "mode": "lines",
         "name": "데이터별 미분값",
         "type": "scatter",
         "x": [
          1,
          2,
          3,
          4,
          5,
          6,
          7,
          8,
          9,
          10,
          11,
          12,
          13,
          14,
          15,
          16,
          17,
          18,
          19,
          20,
          21,
          22,
          23,
          24,
          25,
          26,
          27,
          28,
          29,
          30,
          31,
          32,
          33,
          34,
          35,
          36,
          37,
          38,
          39,
          40,
          41,
          42,
          43,
          44,
          45,
          46,
          47,
          48,
          49,
          50,
          51,
          52,
          53,
          54,
          55,
          56,
          57,
          58,
          59,
          60,
          61,
          62,
          63,
          64,
          65,
          66,
          67,
          68,
          69,
          70,
          71,
          72,
          73,
          74,
          75,
          76,
          77,
          78,
          79,
          80,
          81,
          82,
          83,
          84,
          85,
          86,
          87,
          88,
          89,
          90,
          91,
          92,
          93,
          94,
          95,
          96,
          97,
          98,
          99,
          100,
          101,
          102,
          103,
          104,
          105,
          106,
          107,
          108,
          109,
          110,
          111,
          112,
          113,
          114,
          115,
          116,
          117,
          118,
          119,
          120,
          121,
          122,
          123,
          124,
          125,
          126,
          127,
          128,
          129,
          130,
          131,
          132,
          133,
          134,
          135,
          136,
          137,
          138,
          139,
          140,
          141,
          142,
          143,
          144,
          145,
          146,
          147,
          148,
          149,
          150,
          151,
          152,
          153,
          154,
          155,
          156,
          157,
          158,
          159,
          160,
          161,
          162,
          163,
          164,
          165,
          166,
          167,
          168,
          169,
          170,
          171,
          172,
          173,
          174,
          175,
          176,
          177,
          178,
          179,
          180,
          181,
          182,
          183,
          184,
          185,
          186,
          187,
          188,
          189,
          190,
          191,
          192,
          193,
          194
         ],
         "y": [
          29,
          5,
          24,
          31,
          5,
          49,
          10,
          21,
          1,
          2,
          7,
          19,
          25,
          3,
          14,
          3,
          19,
          9,
          2,
          10,
          54,
          6,
          18,
          54,
          35,
          6,
          18,
          27,
          12,
          29,
          7,
          1,
          17,
          6,
          10,
          0,
          2,
          8,
          15,
          6,
          3,
          3,
          66,
          11,
          29,
          4,
          16,
          1,
          6,
          8,
          6,
          21,
          13,
          9,
          7,
          32,
          12,
          3,
          15,
          9,
          13,
          14,
          57,
          75,
          14,
          27,
          33,
          13,
          10,
          27,
          11,
          6,
          33,
          20,
          25,
          14,
          7,
          32,
          41,
          21,
          18,
          24,
          48,
          134,
          8,
          10,
          1,
          13,
          12,
          9,
          22,
          15,
          4,
          7,
          7,
          4,
          18,
          24,
          109,
          5,
          198,
          3,
          7,
          8,
          2,
          63,
          8,
          28,
          50,
          2,
          12,
          7,
          34,
          118,
          9,
          105,
          3,
          81,
          47,
          44,
          38,
          43,
          88,
          17,
          33,
          84,
          13,
          5,
          8,
          105,
          117,
          78,
          24,
          57,
          14,
          104,
          87,
          54,
          30,
          1,
          5,
          5,
          8,
          190,
          130,
          74,
          33,
          13,
          25,
          127,
          34,
          1,
          75,
          106,
          30,
          26,
          115,
          206,
          109,
          20,
          4,
          58,
          113,
          305,
          36,
          15,
          39,
          41,
          131,
          324,
          213,
          74,
          16,
          138,
          102,
          1120,
          45,
          365,
          4,
          17,
          145,
          225,
          121,
          98,
          502,
          988,
          386,
          1881,
          2259,
          474,
          100,
          1960,
          1802,
          8820
         ]
        }
       ],
       "layout": {
        "height": 600,
        "template": {
         "data": {
          "bar": [
           {
            "error_x": {
             "color": "#2a3f5f"
            },
            "error_y": {
             "color": "#2a3f5f"
            },
            "marker": {
             "line": {
              "color": "#E5ECF6",
              "width": 0.5
             },
             "pattern": {
              "fillmode": "overlay",
              "size": 10,
              "solidity": 0.2
             }
            },
            "type": "bar"
           }
          ],
          "barpolar": [
           {
            "marker": {
             "line": {
              "color": "#E5ECF6",
              "width": 0.5
             },
             "pattern": {
              "fillmode": "overlay",
              "size": 10,
              "solidity": 0.2
             }
            },
            "type": "barpolar"
           }
          ],
          "carpet": [
           {
            "aaxis": {
             "endlinecolor": "#2a3f5f",
             "gridcolor": "white",
             "linecolor": "white",
             "minorgridcolor": "white",
             "startlinecolor": "#2a3f5f"
            },
            "baxis": {
             "endlinecolor": "#2a3f5f",
             "gridcolor": "white",
             "linecolor": "white",
             "minorgridcolor": "white",
             "startlinecolor": "#2a3f5f"
            },
            "type": "carpet"
           }
          ],
          "choropleth": [
           {
            "colorbar": {
             "outlinewidth": 0,
             "ticks": ""
            },
            "type": "choropleth"
           }
          ],
          "contour": [
           {
            "colorbar": {
             "outlinewidth": 0,
             "ticks": ""
            },
            "colorscale": [
             [
              0,
              "#0d0887"
             ],
             [
              0.1111111111111111,
              "#46039f"
             ],
             [
              0.2222222222222222,
              "#7201a8"
             ],
             [
              0.3333333333333333,
              "#9c179e"
             ],
             [
              0.4444444444444444,
              "#bd3786"
             ],
             [
              0.5555555555555556,
              "#d8576b"
             ],
             [
              0.6666666666666666,
              "#ed7953"
             ],
             [
              0.7777777777777778,
              "#fb9f3a"
             ],
             [
              0.8888888888888888,
              "#fdca26"
             ],
             [
              1,
              "#f0f921"
             ]
            ],
            "type": "contour"
           }
          ],
          "contourcarpet": [
           {
            "colorbar": {
             "outlinewidth": 0,
             "ticks": ""
            },
            "type": "contourcarpet"
           }
          ],
          "heatmap": [
           {
            "colorbar": {
             "outlinewidth": 0,
             "ticks": ""
            },
            "colorscale": [
             [
              0,
              "#0d0887"
             ],
             [
              0.1111111111111111,
              "#46039f"
             ],
             [
              0.2222222222222222,
              "#7201a8"
             ],
             [
              0.3333333333333333,
              "#9c179e"
             ],
             [
              0.4444444444444444,
              "#bd3786"
             ],
             [
              0.5555555555555556,
              "#d8576b"
             ],
             [
              0.6666666666666666,
              "#ed7953"
             ],
             [
              0.7777777777777778,
              "#fb9f3a"
             ],
             [
              0.8888888888888888,
              "#fdca26"
             ],
             [
              1,
              "#f0f921"
             ]
            ],
            "type": "heatmap"
           }
          ],
          "heatmapgl": [
           {
            "colorbar": {
             "outlinewidth": 0,
             "ticks": ""
            },
            "colorscale": [
             [
              0,
              "#0d0887"
             ],
             [
              0.1111111111111111,
              "#46039f"
             ],
             [
              0.2222222222222222,
              "#7201a8"
             ],
             [
              0.3333333333333333,
              "#9c179e"
             ],
             [
              0.4444444444444444,
              "#bd3786"
             ],
             [
              0.5555555555555556,
              "#d8576b"
             ],
             [
              0.6666666666666666,
              "#ed7953"
             ],
             [
              0.7777777777777778,
              "#fb9f3a"
             ],
             [
              0.8888888888888888,
              "#fdca26"
             ],
             [
              1,
              "#f0f921"
             ]
            ],
            "type": "heatmapgl"
           }
          ],
          "histogram": [
           {
            "marker": {
             "pattern": {
              "fillmode": "overlay",
              "size": 10,
              "solidity": 0.2
             }
            },
            "type": "histogram"
           }
          ],
          "histogram2d": [
           {
            "colorbar": {
             "outlinewidth": 0,
             "ticks": ""
            },
            "colorscale": [
             [
              0,
              "#0d0887"
             ],
             [
              0.1111111111111111,
              "#46039f"
             ],
             [
              0.2222222222222222,
              "#7201a8"
             ],
             [
              0.3333333333333333,
              "#9c179e"
             ],
             [
              0.4444444444444444,
              "#bd3786"
             ],
             [
              0.5555555555555556,
              "#d8576b"
             ],
             [
              0.6666666666666666,
              "#ed7953"
             ],
             [
              0.7777777777777778,
              "#fb9f3a"
             ],
             [
              0.8888888888888888,
              "#fdca26"
             ],
             [
              1,
              "#f0f921"
             ]
            ],
            "type": "histogram2d"
           }
          ],
          "histogram2dcontour": [
           {
            "colorbar": {
             "outlinewidth": 0,
             "ticks": ""
            },
            "colorscale": [
             [
              0,
              "#0d0887"
             ],
             [
              0.1111111111111111,
              "#46039f"
             ],
             [
              0.2222222222222222,
              "#7201a8"
             ],
             [
              0.3333333333333333,
              "#9c179e"
             ],
             [
              0.4444444444444444,
              "#bd3786"
             ],
             [
              0.5555555555555556,
              "#d8576b"
             ],
             [
              0.6666666666666666,
              "#ed7953"
             ],
             [
              0.7777777777777778,
              "#fb9f3a"
             ],
             [
              0.8888888888888888,
              "#fdca26"
             ],
             [
              1,
              "#f0f921"
             ]
            ],
            "type": "histogram2dcontour"
           }
          ],
          "mesh3d": [
           {
            "colorbar": {
             "outlinewidth": 0,
             "ticks": ""
            },
            "type": "mesh3d"
           }
          ],
          "parcoords": [
           {
            "line": {
             "colorbar": {
              "outlinewidth": 0,
              "ticks": ""
             }
            },
            "type": "parcoords"
           }
          ],
          "pie": [
           {
            "automargin": true,
            "type": "pie"
           }
          ],
          "scatter": [
           {
            "fillpattern": {
             "fillmode": "overlay",
             "size": 10,
             "solidity": 0.2
            },
            "type": "scatter"
           }
          ],
          "scatter3d": [
           {
            "line": {
             "colorbar": {
              "outlinewidth": 0,
              "ticks": ""
             }
            },
            "marker": {
             "colorbar": {
              "outlinewidth": 0,
              "ticks": ""
             }
            },
            "type": "scatter3d"
           }
          ],
          "scattercarpet": [
           {
            "marker": {
             "colorbar": {
              "outlinewidth": 0,
              "ticks": ""
             }
            },
            "type": "scattercarpet"
           }
          ],
          "scattergeo": [
           {
            "marker": {
             "colorbar": {
              "outlinewidth": 0,
              "ticks": ""
             }
            },
            "type": "scattergeo"
           }
          ],
          "scattergl": [
           {
            "marker": {
             "colorbar": {
              "outlinewidth": 0,
              "ticks": ""
             }
            },
            "type": "scattergl"
           }
          ],
          "scattermapbox": [
           {
            "marker": {
             "colorbar": {
              "outlinewidth": 0,
              "ticks": ""
             }
            },
            "type": "scattermapbox"
           }
          ],
          "scatterpolar": [
           {
            "marker": {
             "colorbar": {
              "outlinewidth": 0,
              "ticks": ""
             }
            },
            "type": "scatterpolar"
           }
          ],
          "scatterpolargl": [
           {
            "marker": {
             "colorbar": {
              "outlinewidth": 0,
              "ticks": ""
             }
            },
            "type": "scatterpolargl"
           }
          ],
          "scatterternary": [
           {
            "marker": {
             "colorbar": {
              "outlinewidth": 0,
              "ticks": ""
             }
            },
            "type": "scatterternary"
           }
          ],
          "surface": [
           {
            "colorbar": {
             "outlinewidth": 0,
             "ticks": ""
            },
            "colorscale": [
             [
              0,
              "#0d0887"
             ],
             [
              0.1111111111111111,
              "#46039f"
             ],
             [
              0.2222222222222222,
              "#7201a8"
             ],
             [
              0.3333333333333333,
              "#9c179e"
             ],
             [
              0.4444444444444444,
              "#bd3786"
             ],
             [
              0.5555555555555556,
              "#d8576b"
             ],
             [
              0.6666666666666666,
              "#ed7953"
             ],
             [
              0.7777777777777778,
              "#fb9f3a"
             ],
             [
              0.8888888888888888,
              "#fdca26"
             ],
             [
              1,
              "#f0f921"
             ]
            ],
            "type": "surface"
           }
          ],
          "table": [
           {
            "cells": {
             "fill": {
              "color": "#EBF0F8"
             },
             "line": {
              "color": "white"
             }
            },
            "header": {
             "fill": {
              "color": "#C8D4E3"
             },
             "line": {
              "color": "white"
             }
            },
            "type": "table"
           }
          ]
         },
         "layout": {
          "annotationdefaults": {
           "arrowcolor": "#2a3f5f",
           "arrowhead": 0,
           "arrowwidth": 1
          },
          "autotypenumbers": "strict",
          "coloraxis": {
           "colorbar": {
            "outlinewidth": 0,
            "ticks": ""
           }
          },
          "colorscale": {
           "diverging": [
            [
             0,
             "#8e0152"
            ],
            [
             0.1,
             "#c51b7d"
            ],
            [
             0.2,
             "#de77ae"
            ],
            [
             0.3,
             "#f1b6da"
            ],
            [
             0.4,
             "#fde0ef"
            ],
            [
             0.5,
             "#f7f7f7"
            ],
            [
             0.6,
             "#e6f5d0"
            ],
            [
             0.7,
             "#b8e186"
            ],
            [
             0.8,
             "#7fbc41"
            ],
            [
             0.9,
             "#4d9221"
            ],
            [
             1,
             "#276419"
            ]
           ],
           "sequential": [
            [
             0,
             "#0d0887"
            ],
            [
             0.1111111111111111,
             "#46039f"
            ],
            [
             0.2222222222222222,
             "#7201a8"
            ],
            [
             0.3333333333333333,
             "#9c179e"
            ],
            [
             0.4444444444444444,
             "#bd3786"
            ],
            [
             0.5555555555555556,
             "#d8576b"
            ],
            [
             0.6666666666666666,
             "#ed7953"
            ],
            [
             0.7777777777777778,
             "#fb9f3a"
            ],
            [
             0.8888888888888888,
             "#fdca26"
            ],
            [
             1,
             "#f0f921"
            ]
           ],
           "sequentialminus": [
            [
             0,
             "#0d0887"
            ],
            [
             0.1111111111111111,
             "#46039f"
            ],
            [
             0.2222222222222222,
             "#7201a8"
            ],
            [
             0.3333333333333333,
             "#9c179e"
            ],
            [
             0.4444444444444444,
             "#bd3786"
            ],
            [
             0.5555555555555556,
             "#d8576b"
            ],
            [
             0.6666666666666666,
             "#ed7953"
            ],
            [
             0.7777777777777778,
             "#fb9f3a"
            ],
            [
             0.8888888888888888,
             "#fdca26"
            ],
            [
             1,
             "#f0f921"
            ]
           ]
          },
          "colorway": [
           "#636efa",
           "#EF553B",
           "#00cc96",
           "#ab63fa",
           "#FFA15A",
           "#19d3f3",
           "#FF6692",
           "#B6E880",
           "#FF97FF",
           "#FECB52"
          ],
          "font": {
           "color": "#2a3f5f"
          },
          "geo": {
           "bgcolor": "white",
           "lakecolor": "white",
           "landcolor": "#E5ECF6",
           "showlakes": true,
           "showland": true,
           "subunitcolor": "white"
          },
          "hoverlabel": {
           "align": "left"
          },
          "hovermode": "closest",
          "mapbox": {
           "style": "light"
          },
          "paper_bgcolor": "white",
          "plot_bgcolor": "#E5ECF6",
          "polar": {
           "angularaxis": {
            "gridcolor": "white",
            "linecolor": "white",
            "ticks": ""
           },
           "bgcolor": "#E5ECF6",
           "radialaxis": {
            "gridcolor": "white",
            "linecolor": "white",
            "ticks": ""
           }
          },
          "scene": {
           "xaxis": {
            "backgroundcolor": "#E5ECF6",
            "gridcolor": "white",
            "gridwidth": 2,
            "linecolor": "white",
            "showbackground": true,
            "ticks": "",
            "zerolinecolor": "white"
           },
           "yaxis": {
            "backgroundcolor": "#E5ECF6",
            "gridcolor": "white",
            "gridwidth": 2,
            "linecolor": "white",
            "showbackground": true,
            "ticks": "",
            "zerolinecolor": "white"
           },
           "zaxis": {
            "backgroundcolor": "#E5ECF6",
            "gridcolor": "white",
            "gridwidth": 2,
            "linecolor": "white",
            "showbackground": true,
            "ticks": "",
            "zerolinecolor": "white"
           }
          },
          "shapedefaults": {
           "line": {
            "color": "#2a3f5f"
           }
          },
          "ternary": {
           "aaxis": {
            "gridcolor": "white",
            "linecolor": "white",
            "ticks": ""
           },
           "baxis": {
            "gridcolor": "white",
            "linecolor": "white",
            "ticks": ""
           },
           "bgcolor": "#E5ECF6",
           "caxis": {
            "gridcolor": "white",
            "linecolor": "white",
            "ticks": ""
           }
          },
          "title": {
           "x": 0.05
          },
          "xaxis": {
           "automargin": true,
           "gridcolor": "white",
           "linecolor": "white",
           "ticks": "",
           "title": {
            "standoff": 15
           },
           "zerolinecolor": "white",
           "zerolinewidth": 2
          },
          "yaxis": {
           "automargin": true,
           "gridcolor": "white",
           "linecolor": "white",
           "ticks": "",
           "title": {
            "standoff": 15
           },
           "zerolinecolor": "white",
           "zerolinewidth": 2
          }
         }
        },
        "title": {
         "text": "강서구 대여소 별 쏠림 정도 정렬 & 각 지점 미분"
        },
        "width": 800,
        "xaxis": {
         "title": {
          "text": "대여소 임시번호"
         }
        },
        "yaxis": {
         "title": {
          "text": "쏠림 정도"
         }
        }
       }
      }
     },
     "metadata": {},
     "output_type": "display_data"
    }
   ],
   "source": [
    "import plotly.graph_objects as go\n",
    "\n",
    "# 데이터 생성\n",
    "x = 출퇴근_통합정보['temp_num']\n",
    "y = 출퇴근_통합정보.sort_values(by='차이절대값합')['차이절대값합']\n",
    "\n",
    "# 미분 진행\n",
    "dx = x[1] - x[0]\n",
    "dy = np.diff(y) / dx\n",
    "\n",
    "line_color = '#336666'\n",
    "line_color2 = '#33cc99'\n",
    "\n",
    "# 그래프 그리기\n",
    "fig = go.Figure(data=go.Scatter(x=x, y=y, name='대여소별 쏠림 정도값', line=dict(color=line_color)))\n",
    "\n",
    "fig.add_trace(go.Scatter(x=x[:-1], y=dy, mode='lines', name='데이터별 미분값', line=dict(color=line_color2)))\n",
    "\n",
    "fig.update_layout(title='강서구 대여소 별 쏠림 정도 정렬 & 각 지점 미분')\n",
    "fig.update_layout(xaxis_title='대여소 임시번호', yaxis_title='쏠림 정도')\n",
    "fig.update_layout(width=800, height=600)\n",
    "\n",
    "fig.show()"
   ]
  },
  {
   "cell_type": "code",
   "execution_count": null,
   "metadata": {},
   "outputs": [
    {
     "data": {
      "text/plain": [
       "<BarContainer object of 195 artists>"
      ]
     },
     "execution_count": 61,
     "metadata": {},
     "output_type": "execute_result"
    },
    {
     "data": {
      "image/png": "[encoded data removed]",
      "text/plain": [
       "<Figure size 1000x600 with 1 Axes>"
      ]
     },
     "metadata": {},
     "output_type": "display_data"
    }
   ],
   "source": [
    "fig, ax = plt.subplots(figsize=(10,6))\n",
    "\n",
    "ax.bar(출퇴근_통합정보['대여소_ID'], 출퇴근_통합정보.sort_values(by='총이용량합')['차이절대값합'])"
   ]
  },
  {
   "cell_type": "code",
   "execution_count": null,
   "metadata": {},
   "outputs": [
    {
     "data": {
      "text/plain": [
       "122"
      ]
     },
     "execution_count": 62,
     "metadata": {},
     "output_type": "execute_result"
    }
   ],
   "source": [
    "len(출퇴근_통합정보[출퇴근_통합정보['지구분류(출)']=='주거']['대여소_ID'].values)"
   ]
  },
  {
   "cell_type": "code",
   "execution_count": null,
   "metadata": {},
   "outputs": [
    {
     "data": {
      "text/plain": [
       "72"
      ]
     },
     "execution_count": 63,
     "metadata": {},
     "output_type": "execute_result"
    }
   ],
   "source": [
    "len(출퇴근_통합정보[출퇴근_통합정보['지구분류(출)']=='업무']['대여소_ID'].values)"
   ]
  },
  {
   "cell_type": "code",
   "execution_count": null,
   "metadata": {},
   "outputs": [
    {
     "data": {
      "text/plain": [
       "113"
      ]
     },
     "execution_count": 64,
     "metadata": {},
     "output_type": "execute_result"
    }
   ],
   "source": [
    "len(출퇴근_통합정보[출퇴근_통합정보['지구분류(퇴)']=='주거']['대여소_ID'].values)"
   ]
  },
  {
   "cell_type": "code",
   "execution_count": null,
   "metadata": {},
   "outputs": [
    {
     "data": {
      "text/plain": [
       "81"
      ]
     },
     "execution_count": 65,
     "metadata": {},
     "output_type": "execute_result"
    }
   ],
   "source": [
    "len(출퇴근_통합정보[출퇴근_통합정보['지구분류(퇴)']=='업무']['대여소_ID'].values)"
   ]
  },
  {
   "cell_type": "code",
   "execution_count": null,
   "metadata": {},
   "outputs": [
    {
     "data": {
      "text/plain": [
       "{'whiskers': [<matplotlib.lines.Line2D at 0x1e019a3f3d0>,\n",
       "  <matplotlib.lines.Line2D at 0x1e019a3c490>],\n",
       " 'caps': [<matplotlib.lines.Line2D at 0x1e019a560d0>,\n",
       "  <matplotlib.lines.Line2D at 0x1e019a9ca10>],\n",
       " 'boxes': [<matplotlib.lines.Line2D at 0x1e01997d290>],\n",
       " 'medians': [<matplotlib.lines.Line2D at 0x1e019a9d210>],\n",
       " 'fliers': [<matplotlib.lines.Line2D at 0x1e019a9da90>],\n",
       " 'means': []}"
      ]
     },
     "execution_count": 66,
     "metadata": {},
     "output_type": "execute_result"
    },
    {
     "data": {
      "image/png": "[encoded data removed]",
      "text/plain": [
       "<Figure size 1000x600 with 1 Axes>"
      ]
     },
     "metadata": {},
     "output_type": "display_data"
    }
   ],
   "source": [
    "fig, ax = plt.subplots(figsize=(10,6))\n",
    "\n",
    "ax.boxplot(출퇴근_통합정보['총이용량합'])"
   ]
  },
  {
   "cell_type": "markdown",
   "metadata": {},
   "source": [
    "대여소 별 총이용량합 박스플롯"
   ]
  },
  {
   "cell_type": "code",
   "execution_count": null,
   "metadata": {},
   "outputs": [
    {
     "data": {
      "application/vnd.plotly.v1+json": {
       "config": {
        "plotlyServerURL": "https://plot.ly"
       },
       "data": [
        {
         "alignmentgroup": "True",
         "boxpoints": "all",
         "hovertemplate": "총이용량합=%{y}<extra></extra>",
         "legendgroup": "",
         "marker": {
          "color": "#636efa"
         },
         "name": "",
         "notched": false,
         "offsetgroup": "",
         "orientation": "v",
         "showlegend": false,
         "type": "box",
         "x0": " ",
         "xaxis": "x",
         "y": [
          15592,
          22738,
          26882,
          43152,
          13104,
          18384,
          24979,
          3955,
          31178,
          1476,
          16527,
          17222,
          6204,
          24290,
          20264,
          9382,
          14091,
          2792,
          3640,
          9810,
          16612,
          8022,
          7283,
          12544,
          4964,
          14793,
          2168,
          19602,
          2051,
          18912,
          9274,
          6393,
          5387,
          19334,
          18228,
          6498,
          1294,
          2850,
          17378,
          12549,
          5097,
          20340,
          2675,
          11742,
          8877,
          75018,
          10682,
          3523,
          17864,
          6025,
          10495,
          17865,
          4876,
          5072,
          5998,
          2166,
          12268,
          91771,
          5305,
          37170,
          11679,
          29084,
          18576,
          31145,
          19806,
          11970,
          4869,
          21720,
          61797,
          13080,
          13228,
          9830,
          9878,
          19731,
          11504,
          4300,
          20328,
          14439,
          10015,
          15817,
          1693,
          17966,
          10757,
          9890,
          2878,
          8145,
          2331,
          6219,
          3447,
          9831,
          15706,
          6157,
          2236,
          8034,
          17600,
          815,
          8647,
          7381,
          11775,
          1812,
          3105,
          14868,
          1357,
          11628,
          3565,
          5738,
          4466,
          8456,
          2728,
          28999,
          3934,
          11648,
          9123,
          7964,
          3543,
          3224,
          9000,
          2132,
          7896,
          9760,
          10591,
          10493,
          32894,
          8298,
          9709,
          3430,
          9355,
          2587,
          12619,
          13740,
          5867,
          14740,
          7352,
          14870,
          3682,
          2496,
          15388,
          5436,
          16689,
          6616,
          7796,
          8910,
          16804,
          27718,
          8253,
          4781,
          5126,
          18014,
          11549,
          6069,
          9644,
          652,
          11455,
          17554,
          3531,
          5349,
          3328,
          996,
          609,
          197,
          14,
          1557,
          13557,
          1616,
          8287,
          4556,
          11083,
          22615,
          12385,
          17801,
          7329,
          7693,
          5384,
          7103,
          22014,
          6940,
          4773,
          10537,
          2547,
          11632,
          9932,
          1923,
          1000,
          2569,
          2452,
          2160,
          871,
          6061,
          16440,
          8121,
          6228,
          12925,
          20511,
          19861,
          21381
         ],
         "y0": " ",
         "yaxis": "y"
        }
       ],
       "layout": {
        "boxmode": "group",
        "legend": {
         "tracegroupgap": 0
        },
        "margin": {
         "t": 60
        },
        "template": {
         "data": {
          "bar": [
           {
            "error_x": {
             "color": "#2a3f5f"
            },
            "error_y": {
             "color": "#2a3f5f"
            },
            "marker": {
             "line": {
              "color": "#E5ECF6",
              "width": 0.5
             },
             "pattern": {
              "fillmode": "overlay",
              "size": 10,
              "solidity": 0.2
             }
            },
            "type": "bar"
           }
          ],
          "barpolar": [
           {
            "marker": {
             "line": {
              "color": "#E5ECF6",
              "width": 0.5
             },
             "pattern": {
              "fillmode": "overlay",
              "size": 10,
              "solidity": 0.2
             }
            },
            "type": "barpolar"
           }
          ],
          "carpet": [
           {
            "aaxis": {
             "endlinecolor": "#2a3f5f",
             "gridcolor": "white",
             "linecolor": "white",
             "minorgridcolor": "white",
             "startlinecolor": "#2a3f5f"
            },
            "baxis": {
             "endlinecolor": "#2a3f5f",
             "gridcolor": "white",
             "linecolor": "white",
             "minorgridcolor": "white",
             "startlinecolor": "#2a3f5f"
            },
            "type": "carpet"
           }
          ],
          "choropleth": [
           {
            "colorbar": {
             "outlinewidth": 0,
             "ticks": ""
            },
            "type": "choropleth"
           }
          ],
          "contour": [
           {
            "colorbar": {
             "outlinewidth": 0,
             "ticks": ""
            },
            "colorscale": [
             [
              0,
              "#0d0887"
             ],
             [
              0.1111111111111111,
              "#46039f"
             ],
             [
              0.2222222222222222,
              "#7201a8"
             ],
             [
              0.3333333333333333,
              "#9c179e"
             ],
             [
              0.4444444444444444,
              "#bd3786"
             ],
             [
              0.5555555555555556,
              "#d8576b"
             ],
             [
              0.6666666666666666,
              "#ed7953"
             ],
             [
              0.7777777777777778,
              "#fb9f3a"
             ],
             [
              0.8888888888888888,
              "#fdca26"
             ],
             [
              1,
              "#f0f921"
             ]
            ],
            "type": "contour"
           }
          ],
          "contourcarpet": [
           {
            "colorbar": {
             "outlinewidth": 0,
             "ticks": ""
            },
            "type": "contourcarpet"
           }
          ],
          "heatmap": [
           {
            "colorbar": {
             "outlinewidth": 0,
             "ticks": ""
            },
            "colorscale": [
             [
              0,
              "#0d0887"
             ],
             [
              0.1111111111111111,
              "#46039f"
             ],
             [
              0.2222222222222222,
              "#7201a8"
             ],
             [
              0.3333333333333333,
              "#9c179e"
             ],
             [
              0.4444444444444444,
              "#bd3786"
             ],
             [
              0.5555555555555556,
              "#d8576b"
             ],
             [
              0.6666666666666666,
              "#ed7953"
             ],
             [
              0.7777777777777778,
              "#fb9f3a"
             ],
             [
              0.8888888888888888,
              "#fdca26"
             ],
             [
              1,
              "#f0f921"
             ]
            ],
            "type": "heatmap"
           }
          ],
          "heatmapgl": [
           {
            "colorbar": {
             "outlinewidth": 0,
             "ticks": ""
            },
            "colorscale": [
             [
              0,
              "#0d0887"
             ],
             [
              0.1111111111111111,
              "#46039f"
             ],
             [
              0.2222222222222222,
              "#7201a8"
             ],
             [
              0.3333333333333333,
              "#9c179e"
             ],
             [
              0.4444444444444444,
              "#bd3786"
             ],
             [
              0.5555555555555556,
              "#d8576b"
             ],
             [
              0.6666666666666666,
              "#ed7953"
             ],
             [
              0.7777777777777778,
              "#fb9f3a"
             ],
             [
              0.8888888888888888,
              "#fdca26"
             ],
             [
              1,
              "#f0f921"
             ]
            ],
            "type": "heatmapgl"
           }
          ],
          "histogram": [
           {
            "marker": {
             "pattern": {
              "fillmode": "overlay",
              "size": 10,
              "solidity": 0.2
             }
            },
            "type": "histogram"
           }
          ],
          "histogram2d": [
           {
            "colorbar": {
             "outlinewidth": 0,
             "ticks": ""
            },
            "colorscale": [
             [
              0,
              "#0d0887"
             ],
             [
              0.1111111111111111,
              "#46039f"
             ],
             [
              0.2222222222222222,
              "#7201a8"
             ],
             [
              0.3333333333333333,
              "#9c179e"
             ],
             [
              0.4444444444444444,
              "#bd3786"
             ],
             [
              0.5555555555555556,
              "#d8576b"
             ],
             [
              0.6666666666666666,
              "#ed7953"
             ],
             [
              0.7777777777777778,
              "#fb9f3a"
             ],
             [
              0.8888888888888888,
              "#fdca26"
             ],
             [
              1,
              "#f0f921"
             ]
            ],
            "type": "histogram2d"
           }
          ],
          "histogram2dcontour": [
           {
            "colorbar": {
             "outlinewidth": 0,
             "ticks": ""
            },
            "colorscale": [
             [
              0,
              "#0d0887"
             ],
             [
              0.1111111111111111,
              "#46039f"
             ],
             [
              0.2222222222222222,
              "#7201a8"
             ],
             [
              0.3333333333333333,
              "#9c179e"
             ],
             [
              0.4444444444444444,
              "#bd3786"
             ],
             [
              0.5555555555555556,
              "#d8576b"
             ],
             [
              0.6666666666666666,
              "#ed7953"
             ],
             [
              0.7777777777777778,
              "#fb9f3a"
             ],
             [
              0.8888888888888888,
              "#fdca26"
             ],
             [
              1,
              "#f0f921"
             ]
            ],
            "type": "histogram2dcontour"
           }
          ],
          "mesh3d": [
           {
            "colorbar": {
             "outlinewidth": 0,
             "ticks": ""
            },
            "type": "mesh3d"
           }
          ],
          "parcoords": [
           {
            "line": {
             "colorbar": {
              "outlinewidth": 0,
              "ticks": ""
             }
            },
            "type": "parcoords"
           }
          ],
          "pie": [
           {
            "automargin": true,
            "type": "pie"
           }
          ],
          "scatter": [
           {
            "fillpattern": {
             "fillmode": "overlay",
             "size": 10,
             "solidity": 0.2
            },
            "type": "scatter"
           }
          ],
          "scatter3d": [
           {
            "line": {
             "colorbar": {
              "outlinewidth": 0,
              "ticks": ""
             }
            },
            "marker": {
             "colorbar": {
              "outlinewidth": 0,
              "ticks": ""
             }
            },
            "type": "scatter3d"
           }
          ],
          "scattercarpet": [
           {
            "marker": {
             "colorbar": {
              "outlinewidth": 0,
              "ticks": ""
             }
            },
            "type": "scattercarpet"
           }
          ],
          "scattergeo": [
           {
            "marker": {
             "colorbar": {
              "outlinewidth": 0,
              "ticks": ""
             }
            },
            "type": "scattergeo"
           }
          ],
          "scattergl": [
           {
            "marker": {
             "colorbar": {
              "outlinewidth": 0,
              "ticks": ""
             }
            },
            "type": "scattergl"
           }
          ],
          "scattermapbox": [
           {
            "marker": {
             "colorbar": {
              "outlinewidth": 0,
              "ticks": ""
             }
            },
            "type": "scattermapbox"
           }
          ],
          "scatterpolar": [
           {
            "marker": {
             "colorbar": {
              "outlinewidth": 0,
              "ticks": ""
             }
            },
            "type": "scatterpolar"
           }
          ],
          "scatterpolargl": [
           {
            "marker": {
             "colorbar": {
              "outlinewidth": 0,
              "ticks": ""
             }
            },
            "type": "scatterpolargl"
           }
          ],
          "scatterternary": [
           {
            "marker": {
             "colorbar": {
              "outlinewidth": 0,
              "ticks": ""
             }
            },
            "type": "scatterternary"
           }
          ],
          "surface": [
           {
            "colorbar": {
             "outlinewidth": 0,
             "ticks": ""
            },
            "colorscale": [
             [
              0,
              "#0d0887"
             ],
             [
              0.1111111111111111,
              "#46039f"
             ],
             [
              0.2222222222222222,
              "#7201a8"
             ],
             [
              0.3333333333333333,
              "#9c179e"
             ],
             [
              0.4444444444444444,
              "#bd3786"
             ],
             [
              0.5555555555555556,
              "#d8576b"
             ],
             [
              0.6666666666666666,
              "#ed7953"
             ],
             [
              0.7777777777777778,
              "#fb9f3a"
             ],
             [
              0.8888888888888888,
              "#fdca26"
             ],
             [
              1,
              "#f0f921"
             ]
            ],
            "type": "surface"
           }
          ],
          "table": [
           {
            "cells": {
             "fill": {
              "color": "#EBF0F8"
             },
             "line": {
              "color": "white"
             }
            },
            "header": {
             "fill": {
              "color": "#C8D4E3"
             },
             "line": {
              "color": "white"
             }
            },
            "type": "table"
           }
          ]
         },
         "layout": {
          "annotationdefaults": {
           "arrowcolor": "#2a3f5f",
           "arrowhead": 0,
           "arrowwidth": 1
          },
          "autotypenumbers": "strict",
          "coloraxis": {
           "colorbar": {
            "outlinewidth": 0,
            "ticks": ""
           }
          },
          "colorscale": {
           "diverging": [
            [
             0,
             "#8e0152"
            ],
            [
             0.1,
             "#c51b7d"
            ],
            [
             0.2,
             "#de77ae"
            ],
            [
             0.3,
             "#f1b6da"
            ],
            [
             0.4,
             "#fde0ef"
            ],
            [
             0.5,
             "#f7f7f7"
            ],
            [
             0.6,
             "#e6f5d0"
            ],
            [
             0.7,
             "#b8e186"
            ],
            [
             0.8,
             "#7fbc41"
            ],
            [
             0.9,
             "#4d9221"
            ],
            [
             1,
             "#276419"
            ]
           ],
           "sequential": [
            [
             0,
             "#0d0887"
            ],
            [
             0.1111111111111111,
             "#46039f"
            ],
            [
             0.2222222222222222,
             "#7201a8"
            ],
            [
             0.3333333333333333,
             "#9c179e"
            ],
            [
             0.4444444444444444,
             "#bd3786"
            ],
            [
             0.5555555555555556,
             "#d8576b"
            ],
            [
             0.6666666666666666,
             "#ed7953"
            ],
            [
             0.7777777777777778,
             "#fb9f3a"
            ],
            [
             0.8888888888888888,
             "#fdca26"
            ],
            [
             1,
             "#f0f921"
            ]
           ],
           "sequentialminus": [
            [
             0,
             "#0d0887"
            ],
            [
             0.1111111111111111,
             "#46039f"
            ],
            [
             0.2222222222222222,
             "#7201a8"
            ],
            [
             0.3333333333333333,
             "#9c179e"
            ],
            [
             0.4444444444444444,
             "#bd3786"
            ],
            [
             0.5555555555555556,
             "#d8576b"
            ],
            [
             0.6666666666666666,
             "#ed7953"
            ],
            [
             0.7777777777777778,
             "#fb9f3a"
            ],
            [
             0.8888888888888888,
             "#fdca26"
            ],
            [
             1,
             "#f0f921"
            ]
           ]
          },
          "colorway": [
           "#636efa",
           "#EF553B",
           "#00cc96",
           "#ab63fa",
           "#FFA15A",
           "#19d3f3",
           "#FF6692",
           "#B6E880",
           "#FF97FF",
           "#FECB52"
          ],
          "font": {
           "color": "#2a3f5f"
          },
          "geo": {
           "bgcolor": "white",
           "lakecolor": "white",
           "landcolor": "#E5ECF6",
           "showlakes": true,
           "showland": true,
           "subunitcolor": "white"
          },
          "hoverlabel": {
           "align": "left"
          },
          "hovermode": "closest",
          "mapbox": {
           "style": "light"
          },
          "paper_bgcolor": "white",
          "plot_bgcolor": "#E5ECF6",
          "polar": {
           "angularaxis": {
            "gridcolor": "white",
            "linecolor": "white",
            "ticks": ""
           },
           "bgcolor": "#E5ECF6",
           "radialaxis": {
            "gridcolor": "white",
            "linecolor": "white",
            "ticks": ""
           }
          },
          "scene": {
           "xaxis": {
            "backgroundcolor": "#E5ECF6",
            "gridcolor": "white",
            "gridwidth": 2,
            "linecolor": "white",
            "showbackground": true,
            "ticks": "",
            "zerolinecolor": "white"
           },
           "yaxis": {
            "backgroundcolor": "#E5ECF6",
            "gridcolor": "white",
            "gridwidth": 2,
            "linecolor": "white",
            "showbackground": true,
            "ticks": "",
            "zerolinecolor": "white"
           },
           "zaxis": {
            "backgroundcolor": "#E5ECF6",
            "gridcolor": "white",
            "gridwidth": 2,
            "linecolor": "white",
            "showbackground": true,
            "ticks": "",
            "zerolinecolor": "white"
           }
          },
          "shapedefaults": {
           "line": {
            "color": "#2a3f5f"
           }
          },
          "ternary": {
           "aaxis": {
            "gridcolor": "white",
            "linecolor": "white",
            "ticks": ""
           },
           "baxis": {
            "gridcolor": "white",
            "linecolor": "white",
            "ticks": ""
           },
           "bgcolor": "#E5ECF6",
           "caxis": {
            "gridcolor": "white",
            "linecolor": "white",
            "ticks": ""
           }
          },
          "title": {
           "x": 0.05
          },
          "xaxis": {
           "automargin": true,
           "gridcolor": "white",
           "linecolor": "white",
           "ticks": "",
           "title": {
            "standoff": 15
           },
           "zerolinecolor": "white",
           "zerolinewidth": 2
          },
          "yaxis": {
           "automargin": true,
           "gridcolor": "white",
           "linecolor": "white",
           "ticks": "",
           "title": {
            "standoff": 15
           },
           "zerolinecolor": "white",
           "zerolinewidth": 2
          }
         }
        },
        "xaxis": {
         "anchor": "y",
         "domain": [
          0,
          1
         ]
        },
        "yaxis": {
         "anchor": "x",
         "domain": [
          0,
          1
         ],
         "title": {
          "text": "총이용량합"
         }
        }
       }
      }
     },
     "metadata": {},
     "output_type": "display_data"
    }
   ],
   "source": [
    "import plotly.express as px\n",
    "\n",
    "fig = px.box(data_frame= 출퇴근_통합정보, y=\"총이용량합\", points='all')\n",
    "\n",
    "fig.show()"
   ]
  },
  {
   "cell_type": "markdown",
   "metadata": {},
   "source": [
    "대여소 별 차이절대값합 박스플롯"
   ]
  },
  {
   "cell_type": "code",
   "execution_count": null,
   "metadata": {},
   "outputs": [
    {
     "data": {
      "application/vnd.plotly.v1+json": {
       "config": {
        "plotlyServerURL": "https://plot.ly"
       },
       "data": [
        {
         "alignmentgroup": "True",
         "boxpoints": "all",
         "hovertemplate": "차이절대값합=%{y}<extra></extra>",
         "legendgroup": "",
         "marker": {
          "color": "#636efa"
         },
         "name": "",
         "notched": false,
         "offsetgroup": "",
         "orientation": "v",
         "showlegend": false,
         "type": "box",
         "x0": " ",
         "xaxis": "x",
         "y": [
          2882,
          6398,
          8184,
          2102,
          1724,
          4196,
          4357,
          2085,
          1058,
          578,
          8575,
          2424,
          2306,
          5656,
          8350,
          3264,
          2713,
          560,
          828,
          254,
          3682,
          596,
          1277,
          2092,
          764,
          467,
          1648,
          2622,
          553,
          10284,
          1182,
          1717,
          159,
          10670,
          426,
          890,
          512,
          1434,
          860,
          6111,
          4051,
          17344,
          1155,
          1298,
          3921,
          3034,
          1232,
          561,
          1710,
          1879,
          4323,
          5045,
          1410,
          912,
          2794,
          1252,
          6414,
          8205,
          4171,
          27966,
          5025,
          19146,
          2082,
          2433,
          3042,
          926,
          1371,
          14810,
          5787,
          6552,
          1616,
          3342,
          5220,
          12551,
          1884,
          812,
          8188,
          2541,
          4569,
          2265,
          875,
          4158,
          5525,
          5576,
          604,
          4125,
          757,
          741,
          1635,
          4433,
          3712,
          209,
          40,
          1746,
          3366,
          237,
          3147,
          3541,
          5615,
          190,
          1099,
          2272,
          697,
          2932,
          631,
          1660,
          1770,
          2538,
          628,
          7819,
          758,
          6654,
          2173,
          1132,
          2165,
          708,
          4710,
          1392,
          4358,
          3628,
          181,
          2251,
          9296,
          2100,
          3723,
          1072,
          3713,
          799,
          1669,
          348,
          2201,
          234,
          872,
          7774,
          1624,
          354,
          8696,
          772,
          485,
          524,
          6324,
          584,
          1728,
          8794,
          625,
          3423,
          594,
          15384,
          5049,
          5107,
          4916,
          294,
          461,
          15284,
          2899,
          4595,
          1706,
          778,
          149,
          35,
          6,
          95,
          899,
          100,
          3731,
          1330,
          2669,
          737,
          5561,
          2751,
          1291,
          3029,
          64,
          821,
          1482,
          1634,
          983,
          183,
          251,
          594,
          3016,
          619,
          284,
          1193,
          180,
          282,
          273,
          3437,
          3718,
          2253,
          372,
          1691,
          1145,
          4539,
          1199
         ],
         "y0": " ",
         "yaxis": "y"
        }
       ],
       "layout": {
        "boxmode": "group",
        "legend": {
         "tracegroupgap": 0
        },
        "margin": {
         "t": 60
        },
        "template": {
         "data": {
          "bar": [
           {
            "error_x": {
             "color": "#2a3f5f"
            },
            "error_y": {
             "color": "#2a3f5f"
            },
            "marker": {
             "line": {
              "color": "#E5ECF6",
              "width": 0.5
             },
             "pattern": {
              "fillmode": "overlay",
              "size": 10,
              "solidity": 0.2
             }
            },
            "type": "bar"
           }
          ],
          "barpolar": [
           {
            "marker": {
             "line": {
              "color": "#E5ECF6",
              "width": 0.5
             },
             "pattern": {
              "fillmode": "overlay",
              "size": 10,
              "solidity": 0.2
             }
            },
            "type": "barpolar"
           }
          ],
          "carpet": [
           {
            "aaxis": {
             "endlinecolor": "#2a3f5f",
             "gridcolor": "white",
             "linecolor": "white",
             "minorgridcolor": "white",
             "startlinecolor": "#2a3f5f"
            },
            "baxis": {
             "endlinecolor": "#2a3f5f",
             "gridcolor": "white",
             "linecolor": "white",
             "minorgridcolor": "white",
             "startlinecolor": "#2a3f5f"
            },
            "type": "carpet"
           }
          ],
          "choropleth": [
           {
            "colorbar": {
             "outlinewidth": 0,
             "ticks": ""
            },
            "type": "choropleth"
           }
          ],
          "contour": [
           {
            "colorbar": {
             "outlinewidth": 0,
             "ticks": ""
            },
            "colorscale": [
             [
              0,
              "#0d0887"
             ],
             [
              0.1111111111111111,
              "#46039f"
             ],
             [
              0.2222222222222222,
              "#7201a8"
             ],
             [
              0.3333333333333333,
              "#9c179e"
             ],
             [
              0.4444444444444444,
              "#bd3786"
             ],
             [
              0.5555555555555556,
              "#d8576b"
             ],
             [
              0.6666666666666666,
              "#ed7953"
             ],
             [
              0.7777777777777778,
              "#fb9f3a"
             ],
             [
              0.8888888888888888,
              "#fdca26"
             ],
             [
              1,
              "#f0f921"
             ]
            ],
            "type": "contour"
           }
          ],
          "contourcarpet": [
           {
            "colorbar": {
             "outlinewidth": 0,
             "ticks": ""
            },
            "type": "contourcarpet"
           }
          ],
          "heatmap": [
           {
            "colorbar": {
             "outlinewidth": 0,
             "ticks": ""
            },
            "colorscale": [
             [
              0,
              "#0d0887"
             ],
             [
              0.1111111111111111,
              "#46039f"
             ],
             [
              0.2222222222222222,
              "#7201a8"
             ],
             [
              0.3333333333333333,
              "#9c179e"
             ],
             [
              0.4444444444444444,
              "#bd3786"
             ],
             [
              0.5555555555555556,
              "#d8576b"
             ],
             [
              0.6666666666666666,
              "#ed7953"
             ],
             [
              0.7777777777777778,
              "#fb9f3a"
             ],
             [
              0.8888888888888888,
              "#fdca26"
             ],
             [
              1,
              "#f0f921"
             ]
            ],
            "type": "heatmap"
           }
          ],
          "heatmapgl": [
           {
            "colorbar": {
             "outlinewidth": 0,
             "ticks": ""
            },
            "colorscale": [
             [
              0,
              "#0d0887"
             ],
             [
              0.1111111111111111,
              "#46039f"
             ],
             [
              0.2222222222222222,
              "#7201a8"
             ],
             [
              0.3333333333333333,
              "#9c179e"
             ],
             [
              0.4444444444444444,
              "#bd3786"
             ],
             [
              0.5555555555555556,
              "#d8576b"
             ],
             [
              0.6666666666666666,
              "#ed7953"
             ],
             [
              0.7777777777777778,
              "#fb9f3a"
             ],
             [
              0.8888888888888888,
              "#fdca26"
             ],
             [
              1,
              "#f0f921"
             ]
            ],
            "type": "heatmapgl"
           }
          ],
          "histogram": [
           {
            "marker": {
             "pattern": {
              "fillmode": "overlay",
              "size": 10,
              "solidity": 0.2
             }
            },
            "type": "histogram"
           }
          ],
          "histogram2d": [
           {
            "colorbar": {
             "outlinewidth": 0,
             "ticks": ""
            },
            "colorscale": [
             [
              0,
              "#0d0887"
             ],
             [
              0.1111111111111111,
              "#46039f"
             ],
             [
              0.2222222222222222,
              "#7201a8"
             ],
             [
              0.3333333333333333,
              "#9c179e"
             ],
             [
              0.4444444444444444,
              "#bd3786"
             ],
             [
              0.5555555555555556,
              "#d8576b"
             ],
             [
              0.6666666666666666,
              "#ed7953"
             ],
             [
              0.7777777777777778,
              "#fb9f3a"
             ],
             [
              0.8888888888888888,
              "#fdca26"
             ],
             [
              1,
              "#f0f921"
             ]
            ],
            "type": "histogram2d"
           }
          ],
          "histogram2dcontour": [
           {
            "colorbar": {
             "outlinewidth": 0,
             "ticks": ""
            },
            "colorscale": [
             [
              0,
              "#0d0887"
             ],
             [
              0.1111111111111111,
              "#46039f"
             ],
             [
              0.2222222222222222,
              "#7201a8"
             ],
             [
              0.3333333333333333,
              "#9c179e"
             ],
             [
              0.4444444444444444,
              "#bd3786"
             ],
             [
              0.5555555555555556,
              "#d8576b"
             ],
             [
              0.6666666666666666,
              "#ed7953"
             ],
             [
              0.7777777777777778,
              "#fb9f3a"
             ],
             [
              0.8888888888888888,
              "#fdca26"
             ],
             [
              1,
              "#f0f921"
             ]
            ],
            "type": "histogram2dcontour"
           }
          ],
          "mesh3d": [
           {
            "colorbar": {
             "outlinewidth": 0,
             "ticks": ""
            },
            "type": "mesh3d"
           }
          ],
          "parcoords": [
           {
            "line": {
             "colorbar": {
              "outlinewidth": 0,
              "ticks": ""
             }
            },
            "type": "parcoords"
           }
          ],
          "pie": [
           {
            "automargin": true,
            "type": "pie"
           }
          ],
          "scatter": [
           {
            "fillpattern": {
             "fillmode": "overlay",
             "size": 10,
             "solidity": 0.2
            },
            "type": "scatter"
           }
          ],
          "scatter3d": [
           {
            "line": {
             "colorbar": {
              "outlinewidth": 0,
              "ticks": ""
             }
            },
            "marker": {
             "colorbar": {
              "outlinewidth": 0,
              "ticks": ""
             }
            },
            "type": "scatter3d"
           }
          ],
          "scattercarpet": [
           {
            "marker": {
             "colorbar": {
              "outlinewidth": 0,
              "ticks": ""
             }
            },
            "type": "scattercarpet"
           }
          ],
          "scattergeo": [
           {
            "marker": {
             "colorbar": {
              "outlinewidth": 0,
              "ticks": ""
             }
            },
            "type": "scattergeo"
           }
          ],
          "scattergl": [
           {
            "marker": {
             "colorbar": {
              "outlinewidth": 0,
              "ticks": ""
             }
            },
            "type": "scattergl"
           }
          ],
          "scattermapbox": [
           {
            "marker": {
             "colorbar": {
              "outlinewidth": 0,
              "ticks": ""
             }
            },
            "type": "scattermapbox"
           }
          ],
          "scatterpolar": [
           {
            "marker": {
             "colorbar": {
              "outlinewidth": 0,
              "ticks": ""
             }
            },
            "type": "scatterpolar"
           }
          ],
          "scatterpolargl": [
           {
            "marker": {
             "colorbar": {
              "outlinewidth": 0,
              "ticks": ""
             }
            },
            "type": "scatterpolargl"
           }
          ],
          "scatterternary": [
           {
            "marker": {
             "colorbar": {
              "outlinewidth": 0,
              "ticks": ""
             }
            },
            "type": "scatterternary"
           }
          ],
          "surface": [
           {
            "colorbar": {
             "outlinewidth": 0,
             "ticks": ""
            },
            "colorscale": [
             [
              0,
              "#0d0887"
             ],
             [
              0.1111111111111111,
              "#46039f"
             ],
             [
              0.2222222222222222,
              "#7201a8"
             ],
             [
              0.3333333333333333,
              "#9c179e"
             ],
             [
              0.4444444444444444,
              "#bd3786"
             ],
             [
              0.5555555555555556,
              "#d8576b"
             ],
             [
              0.6666666666666666,
              "#ed7953"
             ],
             [
              0.7777777777777778,
              "#fb9f3a"
             ],
             [
              0.8888888888888888,
              "#fdca26"
             ],
             [
              1,
              "#f0f921"
             ]
            ],
            "type": "surface"
           }
          ],
          "table": [
           {
            "cells": {
             "fill": {
              "color": "#EBF0F8"
             },
             "line": {
              "color": "white"
             }
            },
            "header": {
             "fill": {
              "color": "#C8D4E3"
             },
             "line": {
              "color": "white"
             }
            },
            "type": "table"
           }
          ]
         },
         "layout": {
          "annotationdefaults": {
           "arrowcolor": "#2a3f5f",
           "arrowhead": 0,
           "arrowwidth": 1
          },
          "autotypenumbers": "strict",
          "coloraxis": {
           "colorbar": {
            "outlinewidth": 0,
            "ticks": ""
           }
          },
          "colorscale": {
           "diverging": [
            [
             0,
             "#8e0152"
            ],
            [
             0.1,
             "#c51b7d"
            ],
            [
             0.2,
             "#de77ae"
            ],
            [
             0.3,
             "#f1b6da"
            ],
            [
             0.4,
             "#fde0ef"
            ],
            [
             0.5,
             "#f7f7f7"
            ],
            [
             0.6,
             "#e6f5d0"
            ],
            [
             0.7,
             "#b8e186"
            ],
            [
             0.8,
             "#7fbc41"
            ],
            [
             0.9,
             "#4d9221"
            ],
            [
             1,
             "#276419"
            ]
           ],
           "sequential": [
            [
             0,
             "#0d0887"
            ],
            [
             0.1111111111111111,
             "#46039f"
            ],
            [
             0.2222222222222222,
             "#7201a8"
            ],
            [
             0.3333333333333333,
             "#9c179e"
            ],
            [
             0.4444444444444444,
             "#bd3786"
            ],
            [
             0.5555555555555556,
             "#d8576b"
            ],
            [
             0.6666666666666666,
             "#ed7953"
            ],
            [
             0.7777777777777778,
             "#fb9f3a"
            ],
            [
             0.8888888888888888,
             "#fdca26"
            ],
            [
             1,
             "#f0f921"
            ]
           ],
           "sequentialminus": [
            [
             0,
             "#0d0887"
            ],
            [
             0.1111111111111111,
             "#46039f"
            ],
            [
             0.2222222222222222,
             "#7201a8"
            ],
            [
             0.3333333333333333,
             "#9c179e"
            ],
            [
             0.4444444444444444,
             "#bd3786"
            ],
            [
             0.5555555555555556,
             "#d8576b"
            ],
            [
             0.6666666666666666,
             "#ed7953"
            ],
            [
             0.7777777777777778,
             "#fb9f3a"
            ],
            [
             0.8888888888888888,
             "#fdca26"
            ],
            [
             1,
             "#f0f921"
            ]
           ]
          },
          "colorway": [
           "#636efa",
           "#EF553B",
           "#00cc96",
           "#ab63fa",
           "#FFA15A",
           "#19d3f3",
           "#FF6692",
           "#B6E880",
           "#FF97FF",
           "#FECB52"
          ],
          "font": {
           "color": "#2a3f5f"
          },
          "geo": {
           "bgcolor": "white",
           "lakecolor": "white",
           "landcolor": "#E5ECF6",
           "showlakes": true,
           "showland": true,
           "subunitcolor": "white"
          },
          "hoverlabel": {
           "align": "left"
          },
          "hovermode": "closest",
          "mapbox": {
           "style": "light"
          },
          "paper_bgcolor": "white",
          "plot_bgcolor": "#E5ECF6",
          "polar": {
           "angularaxis": {
            "gridcolor": "white",
            "linecolor": "white",
            "ticks": ""
           },
           "bgcolor": "#E5ECF6",
           "radialaxis": {
            "gridcolor": "white",
            "linecolor": "white",
            "ticks": ""
           }
          },
          "scene": {
           "xaxis": {
            "backgroundcolor": "#E5ECF6",
            "gridcolor": "white",
            "gridwidth": 2,
            "linecolor": "white",
            "showbackground": true,
            "ticks": "",
            "zerolinecolor": "white"
           },
           "yaxis": {
            "backgroundcolor": "#E5ECF6",
            "gridcolor": "white",
            "gridwidth": 2,
            "linecolor": "white",
            "showbackground": true,
            "ticks": "",
            "zerolinecolor": "white"
           },
           "zaxis": {
            "backgroundcolor": "#E5ECF6",
            "gridcolor": "white",
            "gridwidth": 2,
            "linecolor": "white",
            "showbackground": true,
            "ticks": "",
            "zerolinecolor": "white"
           }
          },
          "shapedefaults": {
           "line": {
            "color": "#2a3f5f"
           }
          },
          "ternary": {
           "aaxis": {
            "gridcolor": "white",
            "linecolor": "white",
            "ticks": ""
           },
           "baxis": {
            "gridcolor": "white",
            "linecolor": "white",
            "ticks": ""
           },
           "bgcolor": "#E5ECF6",
           "caxis": {
            "gridcolor": "white",
            "linecolor": "white",
            "ticks": ""
           }
          },
          "title": {
           "x": 0.05
          },
          "xaxis": {
           "automargin": true,
           "gridcolor": "white",
           "linecolor": "white",
           "ticks": "",
           "title": {
            "standoff": 15
           },
           "zerolinecolor": "white",
           "zerolinewidth": 2
          },
          "yaxis": {
           "automargin": true,
           "gridcolor": "white",
           "linecolor": "white",
           "ticks": "",
           "title": {
            "standoff": 15
           },
           "zerolinecolor": "white",
           "zerolinewidth": 2
          }
         }
        },
        "xaxis": {
         "anchor": "y",
         "domain": [
          0,
          1
         ]
        },
        "yaxis": {
         "anchor": "x",
         "domain": [
          0,
          1
         ],
         "title": {
          "text": "차이절대값합"
         }
        }
       }
      }
     },
     "metadata": {},
     "output_type": "display_data"
    }
   ],
   "source": [
    "fig = px.box(data_frame= 출퇴근_통합정보, y=\"차이절대값합\", points='all')\n",
    "\n",
    "fig.show()"
   ]
  },
  {
   "cell_type": "code",
   "execution_count": null,
   "metadata": {},
   "outputs": [],
   "source": []
  }
 ],
 "metadata": {
  "kernelspec": {
   "display_name": "base",
   "language": "python",
   "name": "python3"
  },
  "language_info": {
   "codemirror_mode": {
    "name": "ipython",
    "version": 3
   },
   "file_extension": ".py",
   "mimetype": "text/x-python",
   "name": "python",
   "nbconvert_exporter": "python",
   "pygments_lexer": "ipython3",
   "version": "3.11.7"
  }
 },
 "nbformat": 4,
 "nbformat_minor": 2
}
