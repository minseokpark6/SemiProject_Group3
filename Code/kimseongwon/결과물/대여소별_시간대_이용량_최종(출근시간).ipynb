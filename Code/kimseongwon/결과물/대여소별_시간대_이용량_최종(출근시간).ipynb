{
 "cells": [
  {
   "cell_type": "code",
   "execution_count": 1,
   "metadata": {},
   "outputs": [
    {
     "name": "stdout",
     "output_type": "stream",
     "text": [
      "      대여소_ID\n",
      "0     ST-975\n",
      "1     ST-837\n",
      "2     ST-836\n",
      "3     ST-835\n",
      "4     ST-834\n",
      "..       ...\n",
      "219  ST-1066\n",
      "220  ST-1065\n",
      "221  ST-1064\n",
      "222  ST-1063\n",
      "223  ST-1062\n",
      "\n",
      "[224 rows x 1 columns]\n"
     ]
    }
   ],
   "source": [
    "import pandas as pd\n",
    "import numpy as np\n",
    "import matplotlib.pyplot as plt\n",
    "import matplotlib as mpl\n",
    "import matplotlib.font_manager as fm\n",
    "font_path = 'C:\\\\Windows\\\\Fonts\\\\gulim.ttc'\n",
    "font = fm.FontProperties(fname=font_path).get_name()\n",
    "mpl.rc('font', family=font)\n",
    "\n",
    "강서_대여소_ID = pd.read_csv('../../../Data/따릉이/강서_따릉이_대여소_ID.csv',encoding='utf-8')\n",
    "print(강서_대여소_ID)"
   ]
  },
  {
   "cell_type": "code",
   "execution_count": 2,
   "metadata": {},
   "outputs": [
    {
     "name": "stdout",
     "output_type": "stream",
     "text": [
      "              기준_날짜  기준_시간대 시작_대여소_ID 종료_대여소_ID  전체_건수  전체_이용_분  전체_이용_거리  요일  \\\n",
      "0        2023-05-08     200   ST-2037   ST-2037      1        1        30   0   \n",
      "1        2023-05-08    1155    ST-824    ST-824      1        1        80   0   \n",
      "2        2023-05-08    1230    ST-829    ST-829      1        1       111   0   \n",
      "3        2023-05-08    1340   ST-2611   ST-2611      1        1        10   0   \n",
      "4        2023-05-08    1635   ST-2031   ST-2031      1        1       170   0   \n",
      "...             ...     ...       ...       ...    ...      ...       ...  ..   \n",
      "1739278  2023-12-06    2350   ST-2036   ST-1718      1        3       523   2   \n",
      "1739279  2023-12-06    2350   ST-2831   ST-1645      1        5       639   2   \n",
      "1739280  2023-12-06    2350   ST-1715   ST-2045      1        2       400   2   \n",
      "1739281  2023-12-06    2355   ST-1062   ST-2789      1        3       540   2   \n",
      "1739282  2023-12-06    2355   ST-1402   ST-2965      1        3       423   2   \n",
      "\n",
      "         주말  휴일  \n",
      "0         0   0  \n",
      "1         0   0  \n",
      "2         0   0  \n",
      "3         0   0  \n",
      "4         0   0  \n",
      "...      ..  ..  \n",
      "1739278   0   0  \n",
      "1739279   0   0  \n",
      "1739280   0   0  \n",
      "1739281   0   0  \n",
      "1739282   0   0  \n",
      "\n",
      "[1739283 rows x 10 columns]\n"
     ]
    }
   ],
   "source": [
    "강서_데이터 = pd.read_csv('../../../Data/따릉이/강서_따릉이_데이터_01.csv',encoding='utf-8')\n",
    "print(강서_데이터)"
   ]
  },
  {
   "cell_type": "code",
   "execution_count": 3,
   "metadata": {},
   "outputs": [],
   "source": [
    "강서_데이터_출근 = 강서_데이터[(강서_데이터['기준_시간대'] >= 600) & (강서_데이터['기준_시간대'] <= 1000)]\n",
    "강서_데이터_퇴근 = 강서_데이터[(강서_데이터['기준_시간대'] >= 1700) & (강서_데이터['기준_시간대'] <= 2100)]"
   ]
  },
  {
   "cell_type": "code",
   "execution_count": 4,
   "metadata": {},
   "outputs": [
    {
     "name": "stdout",
     "output_type": "stream",
     "text": [
      "              기준_날짜  기준_시간대 시작_대여소_ID 종료_대여소_ID  전체_건수  전체_이용_분  전체_이용_거리  요일  \\\n",
      "609      2023-05-08     600   ST-1253   ST-1676      1       10      1248   0   \n",
      "610      2023-05-08     600   ST-1253   ST-1718      1        3       762   0   \n",
      "611      2023-05-08     600   ST-1253   ST-2031      1        3       830   0   \n",
      "612      2023-05-08     600   ST-1254   ST-2858      1        4      1104   0   \n",
      "613      2023-05-08     600   ST-1351   ST-2550      1        8      2010   0   \n",
      "...             ...     ...       ...       ...    ...      ...       ...  ..   \n",
      "1733236  2023-12-06    1000   ST-2557   ST-1249      1        5       870   2   \n",
      "1733237  2023-12-06    1000   ST-2056   ST-2049      1        1       270   2   \n",
      "1733238  2023-12-06    1000   ST-2045   ST-2042      1        4       746   2   \n",
      "1733239  2023-12-06    1000   ST-1251   ST-2044      1        8      1118   2   \n",
      "1733240  2023-12-06    1000   ST-2027   ST-2993      1       17      2814   2   \n",
      "\n",
      "         주말  휴일  \n",
      "609       0   0  \n",
      "610       0   0  \n",
      "611       0   0  \n",
      "612       0   0  \n",
      "613       0   0  \n",
      "...      ..  ..  \n",
      "1733236   0   0  \n",
      "1733237   0   0  \n",
      "1733238   0   0  \n",
      "1733239   0   0  \n",
      "1733240   0   0  \n",
      "\n",
      "[451128 rows x 10 columns]\n",
      "----------------------------------------------------------------------------------------------------\n",
      "              기준_날짜  기준_시간대 시작_대여소_ID 종료_대여소_ID  전체_건수  전체_이용_분  전체_이용_거리  요일  \\\n",
      "8        2023-05-08    1735    ST-834    ST-834      1        1        20   0   \n",
      "9        2023-05-08    1745   ST-1509   ST-1509      2        1        30   0   \n",
      "10       2023-05-08    1800   ST-2045   ST-2045      1        1        20   0   \n",
      "11       2023-05-08    1815    ST-533    ST-533      1        1        70   0   \n",
      "9021     2023-05-08    1700   ST-1062   ST-2486      1        2       250   0   \n",
      "...             ...     ...       ...       ...    ...      ...       ...  ..   \n",
      "1738160  2023-12-06    2100   ST-3084   ST-1067      1        6       968   2   \n",
      "1738161  2023-12-06    2100    ST-511   ST-1645      1        7      1130   2   \n",
      "1738162  2023-12-06    2100   ST-2486   ST-2034      1       16      2492   2   \n",
      "1738163  2023-12-06    2100   ST-2045   ST-2037      1        7      1035   2   \n",
      "1738164  2023-12-06    2100   ST-1251    ST-513      1       11      2090   2   \n",
      "\n",
      "         주말  휴일  \n",
      "8         0   0  \n",
      "9         0   0  \n",
      "10        0   0  \n",
      "11        0   0  \n",
      "9021      0   0  \n",
      "...      ..  ..  \n",
      "1738160   0   0  \n",
      "1738161   0   0  \n",
      "1738162   0   0  \n",
      "1738163   0   0  \n",
      "1738164   0   0  \n",
      "\n",
      "[575920 rows x 10 columns]\n"
     ]
    }
   ],
   "source": [
    "print(강서_데이터_출근)\n",
    "print('-' * 100)\n",
    "print(강서_데이터_퇴근)"
   ]
  },
  {
   "cell_type": "code",
   "execution_count": null,
   "metadata": {},
   "outputs": [],
   "source": []
  },
  {
   "cell_type": "code",
   "execution_count": null,
   "metadata": {},
   "outputs": [],
   "source": []
  },
  {
   "cell_type": "code",
   "execution_count": 5,
   "metadata": {},
   "outputs": [
    {
     "name": "stdout",
     "output_type": "stream",
     "text": [
      "시작_대여소_ID\n",
      "ST-1062    3743\n",
      "ST-1063    5029\n",
      "ST-1064    3764\n",
      "ST-1065    5860\n",
      "ST-1067    3394\n",
      "           ... \n",
      "ST-829     1332\n",
      "ST-831     2756\n",
      "ST-834     3297\n",
      "ST-835     4264\n",
      "ST-975     2954\n",
      "Name: 전체_건수, Length: 194, dtype: int64\n"
     ]
    }
   ],
   "source": [
    "# condition = 강서_데이터_출근['시작_대여소_ID'] == 'ST-2033'\n",
    "\n",
    "a = 강서_데이터_출근.groupby('시작_대여소_ID')['전체_건수'].sum()\n",
    "\n",
    "print(a)\n"
   ]
  },
  {
   "cell_type": "code",
   "execution_count": 6,
   "metadata": {},
   "outputs": [
    {
     "name": "stdout",
     "output_type": "stream",
     "text": [
      "종료_대여소_ID\n",
      "ST-1062    2281\n",
      "ST-1063    8839\n",
      "ST-1064    8489\n",
      "ST-1065    5507\n",
      "ST-1067    2906\n",
      "           ... \n",
      "ST-829      943\n",
      "ST-831     1529\n",
      "ST-834     4316\n",
      "ST-835     2058\n",
      "ST-975     2508\n",
      "Name: 전체_건수, Length: 195, dtype: int64\n"
     ]
    }
   ],
   "source": [
    "# condition2 = 강서_데이터_출근['종료_대여소_ID'] == 'ST-2033'\n",
    "\n",
    "b = 강서_데이터_출근.groupby('종료_대여소_ID')['전체_건수'].sum()\n",
    "\n",
    "print(b)"
   ]
  },
  {
   "cell_type": "code",
   "execution_count": 7,
   "metadata": {},
   "outputs": [
    {
     "data": {
      "text/plain": [
       "Index(['ST-1062', 'ST-1063', 'ST-1064', 'ST-1065', 'ST-1067', 'ST-1069',\n",
       "       'ST-1249', 'ST-1250', 'ST-1251', 'ST-1252',\n",
       "       ...\n",
       "       'ST-535', 'ST-536', 'ST-538', 'ST-824', 'ST-828', 'ST-829', 'ST-831',\n",
       "       'ST-834', 'ST-835', 'ST-975'],\n",
       "      dtype='object', name='시작_대여소_ID', length=194)"
      ]
     },
     "execution_count": 7,
     "metadata": {},
     "output_type": "execute_result"
    }
   ],
   "source": [
    "a.index"
   ]
  },
  {
   "cell_type": "code",
   "execution_count": 8,
   "metadata": {},
   "outputs": [
    {
     "data": {
      "text/plain": [
       "Index(['ST-1062', 'ST-1063', 'ST-1064', 'ST-1065', 'ST-1067', 'ST-1069',\n",
       "       'ST-1249', 'ST-1250', 'ST-1251', 'ST-1252',\n",
       "       ...\n",
       "       'ST-535', 'ST-536', 'ST-538', 'ST-824', 'ST-828', 'ST-829', 'ST-831',\n",
       "       'ST-834', 'ST-835', 'ST-975'],\n",
       "      dtype='object', name='종료_대여소_ID', length=195)"
      ]
     },
     "execution_count": 8,
     "metadata": {},
     "output_type": "execute_result"
    }
   ],
   "source": [
    "b.index"
   ]
  },
  {
   "cell_type": "code",
   "execution_count": 9,
   "metadata": {},
   "outputs": [
    {
     "name": "stdout",
     "output_type": "stream",
     "text": [
      "[ True  True  True  True  True  True  True  True  True  True  True  True\n",
      "  True  True  True  True  True  True  True  True  True  True  True  True\n",
      "  True  True  True  True  True  True  True  True  True  True  True  True\n",
      "  True  True  True  True  True  True  True  True  True  True  True  True\n",
      "  True  True  True  True  True  True  True  True  True  True  True  True\n",
      "  True  True  True  True  True  True  True  True  True  True  True  True\n",
      "  True  True  True  True  True  True  True  True  True  True  True  True\n",
      "  True  True  True  True  True  True  True  True  True  True  True  True\n",
      "  True  True  True  True  True  True  True  True  True  True  True  True\n",
      "  True  True  True  True  True  True  True  True  True  True  True  True\n",
      "  True  True  True  True  True  True  True  True  True  True  True  True\n",
      "  True  True  True  True  True  True  True  True  True  True  True  True\n",
      "  True  True  True  True  True  True  True  True  True  True  True  True\n",
      "  True  True  True  True False  True  True  True  True  True  True  True\n",
      "  True  True  True  True  True  True  True  True  True  True  True  True\n",
      "  True  True  True  True  True  True  True  True  True  True  True  True\n",
      "  True  True  True]\n"
     ]
    }
   ],
   "source": [
    "condition = b.index.isin(a.index)\n",
    "print(condition)"
   ]
  },
  {
   "cell_type": "code",
   "execution_count": 10,
   "metadata": {},
   "outputs": [
    {
     "data": {
      "text/plain": [
       "'ST-3281'"
      ]
     },
     "execution_count": 10,
     "metadata": {},
     "output_type": "execute_result"
    }
   ],
   "source": [
    "a.index[-35]"
   ]
  },
  {
   "cell_type": "code",
   "execution_count": 11,
   "metadata": {},
   "outputs": [
    {
     "data": {
      "text/plain": [
       "'ST-3284'"
      ]
     },
     "execution_count": 11,
     "metadata": {},
     "output_type": "execute_result"
    }
   ],
   "source": [
    "b.index[-35]"
   ]
  },
  {
   "cell_type": "code",
   "execution_count": 12,
   "metadata": {},
   "outputs": [],
   "source": [
    "b = b.drop('ST-3284')"
   ]
  },
  {
   "cell_type": "code",
   "execution_count": 13,
   "metadata": {},
   "outputs": [
    {
     "data": {
      "text/plain": [
       "종료_대여소_ID\n",
       "ST-1062    2281\n",
       "ST-1063    8839\n",
       "ST-1064    8489\n",
       "ST-1065    5507\n",
       "ST-1067    2906\n",
       "           ... \n",
       "ST-829      943\n",
       "ST-831     1529\n",
       "ST-834     4316\n",
       "ST-835     2058\n",
       "ST-975     2508\n",
       "Name: 전체_건수, Length: 194, dtype: int64"
      ]
     },
     "execution_count": 13,
     "metadata": {},
     "output_type": "execute_result"
    }
   ],
   "source": [
    "b"
   ]
  },
  {
   "cell_type": "code",
   "execution_count": 14,
   "metadata": {},
   "outputs": [
    {
     "data": {
      "text/html": [
       "<div>\n",
       "<style scoped>\n",
       "    .dataframe tbody tr th:only-of-type {\n",
       "        vertical-align: middle;\n",
       "    }\n",
       "\n",
       "    .dataframe tbody tr th {\n",
       "        vertical-align: top;\n",
       "    }\n",
       "\n",
       "    .dataframe thead th {\n",
       "        text-align: right;\n",
       "    }\n",
       "</style>\n",
       "<table border=\"1\" class=\"dataframe\">\n",
       "  <thead>\n",
       "    <tr style=\"text-align: right;\">\n",
       "      <th></th>\n",
       "      <th>대여소_ID</th>\n",
       "      <th>강서_데이터_시작</th>\n",
       "      <th>강서_데이터_종료</th>\n",
       "    </tr>\n",
       "  </thead>\n",
       "  <tbody>\n",
       "    <tr>\n",
       "      <th>0</th>\n",
       "      <td>ST-1062</td>\n",
       "      <td>3743</td>\n",
       "      <td>2281</td>\n",
       "    </tr>\n",
       "    <tr>\n",
       "      <th>1</th>\n",
       "      <td>ST-1063</td>\n",
       "      <td>5029</td>\n",
       "      <td>8839</td>\n",
       "    </tr>\n",
       "    <tr>\n",
       "      <th>2</th>\n",
       "      <td>ST-1064</td>\n",
       "      <td>3764</td>\n",
       "      <td>8489</td>\n",
       "    </tr>\n",
       "    <tr>\n",
       "      <th>3</th>\n",
       "      <td>ST-1065</td>\n",
       "      <td>5860</td>\n",
       "      <td>5507</td>\n",
       "    </tr>\n",
       "    <tr>\n",
       "      <th>4</th>\n",
       "      <td>ST-1067</td>\n",
       "      <td>3394</td>\n",
       "      <td>2906</td>\n",
       "    </tr>\n",
       "    <tr>\n",
       "      <th>...</th>\n",
       "      <td>...</td>\n",
       "      <td>...</td>\n",
       "      <td>...</td>\n",
       "    </tr>\n",
       "    <tr>\n",
       "      <th>189</th>\n",
       "      <td>ST-829</td>\n",
       "      <td>1332</td>\n",
       "      <td>943</td>\n",
       "    </tr>\n",
       "    <tr>\n",
       "      <th>190</th>\n",
       "      <td>ST-831</td>\n",
       "      <td>2756</td>\n",
       "      <td>1529</td>\n",
       "    </tr>\n",
       "    <tr>\n",
       "      <th>191</th>\n",
       "      <td>ST-834</td>\n",
       "      <td>3297</td>\n",
       "      <td>4316</td>\n",
       "    </tr>\n",
       "    <tr>\n",
       "      <th>192</th>\n",
       "      <td>ST-835</td>\n",
       "      <td>4264</td>\n",
       "      <td>2058</td>\n",
       "    </tr>\n",
       "    <tr>\n",
       "      <th>193</th>\n",
       "      <td>ST-975</td>\n",
       "      <td>2954</td>\n",
       "      <td>2508</td>\n",
       "    </tr>\n",
       "  </tbody>\n",
       "</table>\n",
       "<p>194 rows × 3 columns</p>\n",
       "</div>"
      ],
      "text/plain": [
       "      대여소_ID  강서_데이터_시작  강서_데이터_종료\n",
       "0    ST-1062       3743       2281\n",
       "1    ST-1063       5029       8839\n",
       "2    ST-1064       3764       8489\n",
       "3    ST-1065       5860       5507\n",
       "4    ST-1067       3394       2906\n",
       "..       ...        ...        ...\n",
       "189   ST-829       1332        943\n",
       "190   ST-831       2756       1529\n",
       "191   ST-834       3297       4316\n",
       "192   ST-835       4264       2058\n",
       "193   ST-975       2954       2508\n",
       "\n",
       "[194 rows x 3 columns]"
      ]
     },
     "execution_count": 14,
     "metadata": {},
     "output_type": "execute_result"
    }
   ],
   "source": [
    "출근시간_대여소_이용량 = {'대여소_ID': b.index, '강서_데이터_시작' : a.values, '강서_데이터_종료' : b.values}\n",
    "\n",
    "출근시간_대여소_이용량 = pd.DataFrame(출근시간_대여소_이용량)\n",
    "출근시간_대여소_이용량"
   ]
  },
  {
   "cell_type": "code",
   "execution_count": 15,
   "metadata": {},
   "outputs": [],
   "source": [
    "출근시간_대여소_이용량.to_csv('출근시간_대여소_이용량2.csv')"
   ]
  },
  {
   "cell_type": "code",
   "execution_count": 16,
   "metadata": {},
   "outputs": [
    {
     "data": {
      "image/png": "[encoded data removed]",
      "text/plain": [
       "<Figure size 2000x600 with 1 Axes>"
      ]
     },
     "metadata": {},
     "output_type": "display_data"
    }
   ],
   "source": [
    "# 겹쳐그리기\n",
    "fig, ax = plt.subplots(figsize = (20,6))\n",
    "\n",
    "ax.bar(a.index, a.values, label = '시작', color = 'blue', alpha = 0.4)\n",
    "ax.bar(b.index, b.values, label = '종료', color = 'red', alpha = 0.4)\n",
    "plt.title('출근시간 쏠림현상')\n",
    "plt.xlabel('대여소ID')\n",
    "plt.ylabel('대여 건수')\n",
    "plt.xticks(rotation=90)\n",
    "plt.legend(loc='best')\n",
    "\n",
    "# plt.xlim(0, len(a))\n",
    "\n",
    "plt.show()"
   ]
  }
 ],
 "metadata": {
  "kernelspec": {
   "display_name": "base",
   "language": "python",
   "name": "python3"
  },
  "language_info": {
   "codemirror_mode": {
    "name": "ipython",
    "version": 3
   },
   "file_extension": ".py",
   "mimetype": "text/x-python",
   "name": "python",
   "nbconvert_exporter": "python",
   "pygments_lexer": "ipython3",
   "version": "3.11.7"
  }
 },
 "nbformat": 4,
 "nbformat_minor": 2
}
