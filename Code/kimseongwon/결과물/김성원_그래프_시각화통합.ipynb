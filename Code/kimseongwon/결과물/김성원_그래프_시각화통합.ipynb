{
 "cells": [
  {
   "cell_type": "code",
   "execution_count": 4,
   "metadata": {},
   "outputs": [
    {
     "data": {
      "text/html": [
       "<div>\n",
       "<style scoped>\n",
       "    .dataframe tbody tr th:only-of-type {\n",
       "        vertical-align: middle;\n",
       "    }\n",
       "\n",
       "    .dataframe tbody tr th {\n",
       "        vertical-align: top;\n",
       "    }\n",
       "\n",
       "    .dataframe thead th {\n",
       "        text-align: right;\n",
       "    }\n",
       "</style>\n",
       "<table border=\"1\" class=\"dataframe\">\n",
       "  <thead>\n",
       "    <tr style=\"text-align: right;\">\n",
       "      <th></th>\n",
       "      <th>대여소_ID</th>\n",
       "      <th>지구분류(출)</th>\n",
       "      <th>지구분류(퇴)</th>\n",
       "      <th>분류일치여부</th>\n",
       "      <th>시작(출)</th>\n",
       "      <th>종료(출)</th>\n",
       "      <th>차이(출)</th>\n",
       "      <th>차이절대값(출)</th>\n",
       "      <th>총이용량(출)</th>\n",
       "      <th>시작(퇴)</th>\n",
       "      <th>종료(퇴)</th>\n",
       "      <th>차이(퇴)</th>\n",
       "      <th>차이절대값(퇴)</th>\n",
       "      <th>총이용량(퇴)</th>\n",
       "      <th>차이절대값합</th>\n",
       "      <th>총이용량합</th>\n",
       "    </tr>\n",
       "  </thead>\n",
       "  <tbody>\n",
       "    <tr>\n",
       "      <th>0</th>\n",
       "      <td>ST-1062</td>\n",
       "      <td>주거</td>\n",
       "      <td>주거</td>\n",
       "      <td>일치</td>\n",
       "      <td>3817.0</td>\n",
       "      <td>2303.0</td>\n",
       "      <td>1514.0</td>\n",
       "      <td>1514.0</td>\n",
       "      <td>6120.0</td>\n",
       "      <td>4052</td>\n",
       "      <td>5420</td>\n",
       "      <td>-1368</td>\n",
       "      <td>1368</td>\n",
       "      <td>9472</td>\n",
       "      <td>2882.0</td>\n",
       "      <td>15592.0</td>\n",
       "    </tr>\n",
       "    <tr>\n",
       "      <th>1</th>\n",
       "      <td>ST-1063</td>\n",
       "      <td>업무</td>\n",
       "      <td>업무</td>\n",
       "      <td>일치</td>\n",
       "      <td>5061.0</td>\n",
       "      <td>8806.0</td>\n",
       "      <td>-3745.0</td>\n",
       "      <td>3745.0</td>\n",
       "      <td>13867.0</td>\n",
       "      <td>5762</td>\n",
       "      <td>3109</td>\n",
       "      <td>2653</td>\n",
       "      <td>2653</td>\n",
       "      <td>8871</td>\n",
       "      <td>6398.0</td>\n",
       "      <td>22738.0</td>\n",
       "    </tr>\n",
       "    <tr>\n",
       "      <th>2</th>\n",
       "      <td>ST-1064</td>\n",
       "      <td>업무</td>\n",
       "      <td>업무</td>\n",
       "      <td>일치</td>\n",
       "      <td>3900.0</td>\n",
       "      <td>8571.0</td>\n",
       "      <td>-4671.0</td>\n",
       "      <td>4671.0</td>\n",
       "      <td>12471.0</td>\n",
       "      <td>8962</td>\n",
       "      <td>5449</td>\n",
       "      <td>3513</td>\n",
       "      <td>3513</td>\n",
       "      <td>14411</td>\n",
       "      <td>8184.0</td>\n",
       "      <td>26882.0</td>\n",
       "    </tr>\n",
       "    <tr>\n",
       "      <th>3</th>\n",
       "      <td>ST-1065</td>\n",
       "      <td>주거</td>\n",
       "      <td>주거</td>\n",
       "      <td>일치</td>\n",
       "      <td>5849.0</td>\n",
       "      <td>5590.0</td>\n",
       "      <td>259.0</td>\n",
       "      <td>259.0</td>\n",
       "      <td>11439.0</td>\n",
       "      <td>14935</td>\n",
       "      <td>16778</td>\n",
       "      <td>-1843</td>\n",
       "      <td>1843</td>\n",
       "      <td>31713</td>\n",
       "      <td>2102.0</td>\n",
       "      <td>43152.0</td>\n",
       "    </tr>\n",
       "    <tr>\n",
       "      <th>4</th>\n",
       "      <td>ST-1067</td>\n",
       "      <td>주거</td>\n",
       "      <td>주거</td>\n",
       "      <td>일치</td>\n",
       "      <td>3604.0</td>\n",
       "      <td>2990.0</td>\n",
       "      <td>614.0</td>\n",
       "      <td>614.0</td>\n",
       "      <td>6594.0</td>\n",
       "      <td>2700</td>\n",
       "      <td>3810</td>\n",
       "      <td>-1110</td>\n",
       "      <td>1110</td>\n",
       "      <td>6510</td>\n",
       "      <td>1724.0</td>\n",
       "      <td>13104.0</td>\n",
       "    </tr>\n",
       "    <tr>\n",
       "      <th>...</th>\n",
       "      <td>...</td>\n",
       "      <td>...</td>\n",
       "      <td>...</td>\n",
       "      <td>...</td>\n",
       "      <td>...</td>\n",
       "      <td>...</td>\n",
       "      <td>...</td>\n",
       "      <td>...</td>\n",
       "      <td>...</td>\n",
       "      <td>...</td>\n",
       "      <td>...</td>\n",
       "      <td>...</td>\n",
       "      <td>...</td>\n",
       "      <td>...</td>\n",
       "      <td>...</td>\n",
       "      <td>...</td>\n",
       "    </tr>\n",
       "    <tr>\n",
       "      <th>190</th>\n",
       "      <td>ST-829</td>\n",
       "      <td>주거</td>\n",
       "      <td>업무</td>\n",
       "      <td>불일치</td>\n",
       "      <td>1344.0</td>\n",
       "      <td>1005.0</td>\n",
       "      <td>339.0</td>\n",
       "      <td>339.0</td>\n",
       "      <td>2349.0</td>\n",
       "      <td>1956</td>\n",
       "      <td>1923</td>\n",
       "      <td>33</td>\n",
       "      <td>33</td>\n",
       "      <td>3879</td>\n",
       "      <td>372.0</td>\n",
       "      <td>6228.0</td>\n",
       "    </tr>\n",
       "    <tr>\n",
       "      <th>191</th>\n",
       "      <td>ST-831</td>\n",
       "      <td>주거</td>\n",
       "      <td>주거</td>\n",
       "      <td>일치</td>\n",
       "      <td>2732.0</td>\n",
       "      <td>1538.0</td>\n",
       "      <td>1194.0</td>\n",
       "      <td>1194.0</td>\n",
       "      <td>4270.0</td>\n",
       "      <td>4079</td>\n",
       "      <td>4576</td>\n",
       "      <td>-497</td>\n",
       "      <td>497</td>\n",
       "      <td>8655</td>\n",
       "      <td>1691.0</td>\n",
       "      <td>12925.0</td>\n",
       "    </tr>\n",
       "    <tr>\n",
       "      <th>192</th>\n",
       "      <td>ST-834</td>\n",
       "      <td>업무</td>\n",
       "      <td>주거</td>\n",
       "      <td>불일치</td>\n",
       "      <td>3344.0</td>\n",
       "      <td>4368.0</td>\n",
       "      <td>-1024.0</td>\n",
       "      <td>1024.0</td>\n",
       "      <td>7712.0</td>\n",
       "      <td>6339</td>\n",
       "      <td>6460</td>\n",
       "      <td>-121</td>\n",
       "      <td>121</td>\n",
       "      <td>12799</td>\n",
       "      <td>1145.0</td>\n",
       "      <td>20511.0</td>\n",
       "    </tr>\n",
       "    <tr>\n",
       "      <th>193</th>\n",
       "      <td>ST-835</td>\n",
       "      <td>주거</td>\n",
       "      <td>주거</td>\n",
       "      <td>일치</td>\n",
       "      <td>4274.0</td>\n",
       "      <td>2164.0</td>\n",
       "      <td>2110.0</td>\n",
       "      <td>2110.0</td>\n",
       "      <td>6438.0</td>\n",
       "      <td>5497</td>\n",
       "      <td>7926</td>\n",
       "      <td>-2429</td>\n",
       "      <td>2429</td>\n",
       "      <td>13423</td>\n",
       "      <td>4539.0</td>\n",
       "      <td>19861.0</td>\n",
       "    </tr>\n",
       "    <tr>\n",
       "      <th>194</th>\n",
       "      <td>ST-975</td>\n",
       "      <td>주거</td>\n",
       "      <td>주거</td>\n",
       "      <td>일치</td>\n",
       "      <td>2979.0</td>\n",
       "      <td>2504.0</td>\n",
       "      <td>475.0</td>\n",
       "      <td>475.0</td>\n",
       "      <td>5483.0</td>\n",
       "      <td>7587</td>\n",
       "      <td>8311</td>\n",
       "      <td>-724</td>\n",
       "      <td>724</td>\n",
       "      <td>15898</td>\n",
       "      <td>1199.0</td>\n",
       "      <td>21381.0</td>\n",
       "    </tr>\n",
       "  </tbody>\n",
       "</table>\n",
       "<p>195 rows × 16 columns</p>\n",
       "</div>"
      ],
      "text/plain": [
       "      대여소_ID 지구분류(출) 지구분류(퇴) 분류일치여부   시작(출)   종료(출)   차이(출)  차이절대값(출)  \\\n",
       "0    ST-1062      주거      주거     일치  3817.0  2303.0  1514.0    1514.0   \n",
       "1    ST-1063      업무      업무     일치  5061.0  8806.0 -3745.0    3745.0   \n",
       "2    ST-1064      업무      업무     일치  3900.0  8571.0 -4671.0    4671.0   \n",
       "3    ST-1065      주거      주거     일치  5849.0  5590.0   259.0     259.0   \n",
       "4    ST-1067      주거      주거     일치  3604.0  2990.0   614.0     614.0   \n",
       "..       ...     ...     ...    ...     ...     ...     ...       ...   \n",
       "190   ST-829      주거      업무    불일치  1344.0  1005.0   339.0     339.0   \n",
       "191   ST-831      주거      주거     일치  2732.0  1538.0  1194.0    1194.0   \n",
       "192   ST-834      업무      주거    불일치  3344.0  4368.0 -1024.0    1024.0   \n",
       "193   ST-835      주거      주거     일치  4274.0  2164.0  2110.0    2110.0   \n",
       "194   ST-975      주거      주거     일치  2979.0  2504.0   475.0     475.0   \n",
       "\n",
       "     총이용량(출)  시작(퇴)  종료(퇴)  차이(퇴)  차이절대값(퇴)  총이용량(퇴)  차이절대값합    총이용량합  \n",
       "0     6120.0   4052   5420  -1368      1368     9472  2882.0  15592.0  \n",
       "1    13867.0   5762   3109   2653      2653     8871  6398.0  22738.0  \n",
       "2    12471.0   8962   5449   3513      3513    14411  8184.0  26882.0  \n",
       "3    11439.0  14935  16778  -1843      1843    31713  2102.0  43152.0  \n",
       "4     6594.0   2700   3810  -1110      1110     6510  1724.0  13104.0  \n",
       "..       ...    ...    ...    ...       ...      ...     ...      ...  \n",
       "190   2349.0   1956   1923     33        33     3879   372.0   6228.0  \n",
       "191   4270.0   4079   4576   -497       497     8655  1691.0  12925.0  \n",
       "192   7712.0   6339   6460   -121       121    12799  1145.0  20511.0  \n",
       "193   6438.0   5497   7926  -2429      2429    13423  4539.0  19861.0  \n",
       "194   5483.0   7587   8311   -724       724    15898  1199.0  21381.0  \n",
       "\n",
       "[195 rows x 16 columns]"
      ]
     },
     "execution_count": 4,
     "metadata": {},
     "output_type": "execute_result"
    }
   ],
   "source": [
    "import pandas as pd\n",
    "import numpy as np\n",
    "import matplotlib.pyplot as plt\n",
    "import matplotlib as mpl\n",
    "import matplotlib.font_manager as fm\n",
    "font_path = 'C:\\\\Windows\\\\Fonts\\\\gulim.ttc'\n",
    "font = fm.FontProperties(fname=font_path).get_name()\n",
    "mpl.rc('font', family=font)\n",
    "\n",
    "강서_대여소_ID = pd.read_csv('../../Data/따릉이/강서_따릉이_대여소_ID.csv',encoding='utf-8')\n",
    "\n",
    "따릉이대여소_마스터정보 = pd.read_csv('../../Data/따릉이/서울시 따릉이대여소 마스터 정보.csv',encoding='cp949')\n",
    "\n",
    "강서_마스터정보 = 따릉이대여소_마스터정보[따릉이대여소_마스터정보['대여소_ID'].isin(강서_대여소_ID['대여소_ID'])]\n",
    "\n",
    "강서_마스터정보 = 강서_마스터정보.reset_index()\n",
    "\n",
    "강서_마스터정보 = 강서_마스터정보.drop('index',axis=1)\n",
    "\n",
    "출퇴근_통합정보 = pd.read_csv('./출퇴근시간_대여소_이용량_통합 - 출퇴근시간_대여소_이용량.csv',encoding='utf-8')\n",
    "\n",
    "출퇴근_통합정보 = 출퇴근_통합정보.drop('Unnamed: 0', axis=1)\n",
    "\n",
    "출퇴근_통합정보.rename(columns={'대여소_ID':'대여소_ID',\n",
    "                               '지구 분류(출근)':'지구분류(출)',\n",
    "                               '지구 분류(퇴근)':'지구분류(퇴)',\n",
    "                               '일치여부':'분류일치여부',\n",
    "                               '강서_데이터_시작(출근)':'시작(출)',\n",
    "                               '강서_데이터_종료(출근)':'종료(출)',\n",
    "                               '차이(출근)':'차이(출)',\n",
    "                               '차이 절대값(출근)':'차이절대값(출)',\n",
    "                               '총 이용량(시작 + 종료)(출근)':'총이용량(출)',\n",
    "                               '강서_데이터_시작(퇴근)':'시작(퇴)',\n",
    "                               '강서_데이터_종료(퇴근)':'종료(퇴)',\n",
    "                               '차이(퇴근)':'차이(퇴)',\n",
    "                               '차이절대값(퇴근)':'차이절대값(퇴)',\n",
    "                               '총 이용량(시작 + 종료)(퇴근)':'총이용량(퇴)'\n",
    "                               }, inplace=True)\n",
    "\n",
    "출퇴근_통합정보 = 출퇴근_통합정보.fillna(0)\n",
    "\n",
    "출퇴근_통합정보['차이절대값합'] = 출퇴근_통합정보['차이절대값(출)'] + 출퇴근_통합정보['차이절대값(퇴)']\n",
    "\n",
    "출퇴근_통합정보['총이용량합'] = 출퇴근_통합정보['총이용량(출)'] + 출퇴근_통합정보['총이용량(퇴)']\n",
    "\n",
    "출퇴근_통합정보"
   ]
  },
  {
   "cell_type": "code",
   "execution_count": 5,
   "metadata": {},
   "outputs": [
    {
     "data": {
      "text/html": [
       "<div>\n",
       "<style scoped>\n",
       "    .dataframe tbody tr th:only-of-type {\n",
       "        vertical-align: middle;\n",
       "    }\n",
       "\n",
       "    .dataframe tbody tr th {\n",
       "        vertical-align: top;\n",
       "    }\n",
       "\n",
       "    .dataframe thead th {\n",
       "        text-align: right;\n",
       "    }\n",
       "</style>\n",
       "<table border=\"1\" class=\"dataframe\">\n",
       "  <thead>\n",
       "    <tr style=\"text-align: right;\">\n",
       "      <th></th>\n",
       "      <th>대여소_ID</th>\n",
       "      <th>지구분류(출)</th>\n",
       "      <th>지구분류(퇴)</th>\n",
       "      <th>분류일치여부</th>\n",
       "      <th>시작(출)</th>\n",
       "      <th>종료(출)</th>\n",
       "      <th>차이(출)</th>\n",
       "      <th>차이절대값(출)</th>\n",
       "      <th>총이용량(출)</th>\n",
       "      <th>시작(퇴)</th>\n",
       "      <th>종료(퇴)</th>\n",
       "      <th>차이(퇴)</th>\n",
       "      <th>차이절대값(퇴)</th>\n",
       "      <th>총이용량(퇴)</th>\n",
       "      <th>차이절대값합</th>\n",
       "      <th>총이용량합</th>\n",
       "      <th>temp_num</th>\n",
       "    </tr>\n",
       "  </thead>\n",
       "  <tbody>\n",
       "    <tr>\n",
       "      <th>0</th>\n",
       "      <td>ST-1062</td>\n",
       "      <td>주거</td>\n",
       "      <td>주거</td>\n",
       "      <td>일치</td>\n",
       "      <td>3817.0</td>\n",
       "      <td>2303.0</td>\n",
       "      <td>1514.0</td>\n",
       "      <td>1514.0</td>\n",
       "      <td>6120.0</td>\n",
       "      <td>4052</td>\n",
       "      <td>5420</td>\n",
       "      <td>-1368</td>\n",
       "      <td>1368</td>\n",
       "      <td>9472</td>\n",
       "      <td>2882.0</td>\n",
       "      <td>15592.0</td>\n",
       "      <td>1</td>\n",
       "    </tr>\n",
       "    <tr>\n",
       "      <th>1</th>\n",
       "      <td>ST-1063</td>\n",
       "      <td>업무</td>\n",
       "      <td>업무</td>\n",
       "      <td>일치</td>\n",
       "      <td>5061.0</td>\n",
       "      <td>8806.0</td>\n",
       "      <td>-3745.0</td>\n",
       "      <td>3745.0</td>\n",
       "      <td>13867.0</td>\n",
       "      <td>5762</td>\n",
       "      <td>3109</td>\n",
       "      <td>2653</td>\n",
       "      <td>2653</td>\n",
       "      <td>8871</td>\n",
       "      <td>6398.0</td>\n",
       "      <td>22738.0</td>\n",
       "      <td>2</td>\n",
       "    </tr>\n",
       "    <tr>\n",
       "      <th>2</th>\n",
       "      <td>ST-1064</td>\n",
       "      <td>업무</td>\n",
       "      <td>업무</td>\n",
       "      <td>일치</td>\n",
       "      <td>3900.0</td>\n",
       "      <td>8571.0</td>\n",
       "      <td>-4671.0</td>\n",
       "      <td>4671.0</td>\n",
       "      <td>12471.0</td>\n",
       "      <td>8962</td>\n",
       "      <td>5449</td>\n",
       "      <td>3513</td>\n",
       "      <td>3513</td>\n",
       "      <td>14411</td>\n",
       "      <td>8184.0</td>\n",
       "      <td>26882.0</td>\n",
       "      <td>3</td>\n",
       "    </tr>\n",
       "    <tr>\n",
       "      <th>3</th>\n",
       "      <td>ST-1065</td>\n",
       "      <td>주거</td>\n",
       "      <td>주거</td>\n",
       "      <td>일치</td>\n",
       "      <td>5849.0</td>\n",
       "      <td>5590.0</td>\n",
       "      <td>259.0</td>\n",
       "      <td>259.0</td>\n",
       "      <td>11439.0</td>\n",
       "      <td>14935</td>\n",
       "      <td>16778</td>\n",
       "      <td>-1843</td>\n",
       "      <td>1843</td>\n",
       "      <td>31713</td>\n",
       "      <td>2102.0</td>\n",
       "      <td>43152.0</td>\n",
       "      <td>4</td>\n",
       "    </tr>\n",
       "    <tr>\n",
       "      <th>4</th>\n",
       "      <td>ST-1067</td>\n",
       "      <td>주거</td>\n",
       "      <td>주거</td>\n",
       "      <td>일치</td>\n",
       "      <td>3604.0</td>\n",
       "      <td>2990.0</td>\n",
       "      <td>614.0</td>\n",
       "      <td>614.0</td>\n",
       "      <td>6594.0</td>\n",
       "      <td>2700</td>\n",
       "      <td>3810</td>\n",
       "      <td>-1110</td>\n",
       "      <td>1110</td>\n",
       "      <td>6510</td>\n",
       "      <td>1724.0</td>\n",
       "      <td>13104.0</td>\n",
       "      <td>5</td>\n",
       "    </tr>\n",
       "    <tr>\n",
       "      <th>...</th>\n",
       "      <td>...</td>\n",
       "      <td>...</td>\n",
       "      <td>...</td>\n",
       "      <td>...</td>\n",
       "      <td>...</td>\n",
       "      <td>...</td>\n",
       "      <td>...</td>\n",
       "      <td>...</td>\n",
       "      <td>...</td>\n",
       "      <td>...</td>\n",
       "      <td>...</td>\n",
       "      <td>...</td>\n",
       "      <td>...</td>\n",
       "      <td>...</td>\n",
       "      <td>...</td>\n",
       "      <td>...</td>\n",
       "      <td>...</td>\n",
       "    </tr>\n",
       "    <tr>\n",
       "      <th>190</th>\n",
       "      <td>ST-829</td>\n",
       "      <td>주거</td>\n",
       "      <td>업무</td>\n",
       "      <td>불일치</td>\n",
       "      <td>1344.0</td>\n",
       "      <td>1005.0</td>\n",
       "      <td>339.0</td>\n",
       "      <td>339.0</td>\n",
       "      <td>2349.0</td>\n",
       "      <td>1956</td>\n",
       "      <td>1923</td>\n",
       "      <td>33</td>\n",
       "      <td>33</td>\n",
       "      <td>3879</td>\n",
       "      <td>372.0</td>\n",
       "      <td>6228.0</td>\n",
       "      <td>191</td>\n",
       "    </tr>\n",
       "    <tr>\n",
       "      <th>191</th>\n",
       "      <td>ST-831</td>\n",
       "      <td>주거</td>\n",
       "      <td>주거</td>\n",
       "      <td>일치</td>\n",
       "      <td>2732.0</td>\n",
       "      <td>1538.0</td>\n",
       "      <td>1194.0</td>\n",
       "      <td>1194.0</td>\n",
       "      <td>4270.0</td>\n",
       "      <td>4079</td>\n",
       "      <td>4576</td>\n",
       "      <td>-497</td>\n",
       "      <td>497</td>\n",
       "      <td>8655</td>\n",
       "      <td>1691.0</td>\n",
       "      <td>12925.0</td>\n",
       "      <td>192</td>\n",
       "    </tr>\n",
       "    <tr>\n",
       "      <th>192</th>\n",
       "      <td>ST-834</td>\n",
       "      <td>업무</td>\n",
       "      <td>주거</td>\n",
       "      <td>불일치</td>\n",
       "      <td>3344.0</td>\n",
       "      <td>4368.0</td>\n",
       "      <td>-1024.0</td>\n",
       "      <td>1024.0</td>\n",
       "      <td>7712.0</td>\n",
       "      <td>6339</td>\n",
       "      <td>6460</td>\n",
       "      <td>-121</td>\n",
       "      <td>121</td>\n",
       "      <td>12799</td>\n",
       "      <td>1145.0</td>\n",
       "      <td>20511.0</td>\n",
       "      <td>193</td>\n",
       "    </tr>\n",
       "    <tr>\n",
       "      <th>193</th>\n",
       "      <td>ST-835</td>\n",
       "      <td>주거</td>\n",
       "      <td>주거</td>\n",
       "      <td>일치</td>\n",
       "      <td>4274.0</td>\n",
       "      <td>2164.0</td>\n",
       "      <td>2110.0</td>\n",
       "      <td>2110.0</td>\n",
       "      <td>6438.0</td>\n",
       "      <td>5497</td>\n",
       "      <td>7926</td>\n",
       "      <td>-2429</td>\n",
       "      <td>2429</td>\n",
       "      <td>13423</td>\n",
       "      <td>4539.0</td>\n",
       "      <td>19861.0</td>\n",
       "      <td>194</td>\n",
       "    </tr>\n",
       "    <tr>\n",
       "      <th>194</th>\n",
       "      <td>ST-975</td>\n",
       "      <td>주거</td>\n",
       "      <td>주거</td>\n",
       "      <td>일치</td>\n",
       "      <td>2979.0</td>\n",
       "      <td>2504.0</td>\n",
       "      <td>475.0</td>\n",
       "      <td>475.0</td>\n",
       "      <td>5483.0</td>\n",
       "      <td>7587</td>\n",
       "      <td>8311</td>\n",
       "      <td>-724</td>\n",
       "      <td>724</td>\n",
       "      <td>15898</td>\n",
       "      <td>1199.0</td>\n",
       "      <td>21381.0</td>\n",
       "      <td>195</td>\n",
       "    </tr>\n",
       "  </tbody>\n",
       "</table>\n",
       "<p>195 rows × 17 columns</p>\n",
       "</div>"
      ],
      "text/plain": [
       "      대여소_ID 지구분류(출) 지구분류(퇴) 분류일치여부   시작(출)   종료(출)   차이(출)  차이절대값(출)  \\\n",
       "0    ST-1062      주거      주거     일치  3817.0  2303.0  1514.0    1514.0   \n",
       "1    ST-1063      업무      업무     일치  5061.0  8806.0 -3745.0    3745.0   \n",
       "2    ST-1064      업무      업무     일치  3900.0  8571.0 -4671.0    4671.0   \n",
       "3    ST-1065      주거      주거     일치  5849.0  5590.0   259.0     259.0   \n",
       "4    ST-1067      주거      주거     일치  3604.0  2990.0   614.0     614.0   \n",
       "..       ...     ...     ...    ...     ...     ...     ...       ...   \n",
       "190   ST-829      주거      업무    불일치  1344.0  1005.0   339.0     339.0   \n",
       "191   ST-831      주거      주거     일치  2732.0  1538.0  1194.0    1194.0   \n",
       "192   ST-834      업무      주거    불일치  3344.0  4368.0 -1024.0    1024.0   \n",
       "193   ST-835      주거      주거     일치  4274.0  2164.0  2110.0    2110.0   \n",
       "194   ST-975      주거      주거     일치  2979.0  2504.0   475.0     475.0   \n",
       "\n",
       "     총이용량(출)  시작(퇴)  종료(퇴)  차이(퇴)  차이절대값(퇴)  총이용량(퇴)  차이절대값합    총이용량합  \\\n",
       "0     6120.0   4052   5420  -1368      1368     9472  2882.0  15592.0   \n",
       "1    13867.0   5762   3109   2653      2653     8871  6398.0  22738.0   \n",
       "2    12471.0   8962   5449   3513      3513    14411  8184.0  26882.0   \n",
       "3    11439.0  14935  16778  -1843      1843    31713  2102.0  43152.0   \n",
       "4     6594.0   2700   3810  -1110      1110     6510  1724.0  13104.0   \n",
       "..       ...    ...    ...    ...       ...      ...     ...      ...   \n",
       "190   2349.0   1956   1923     33        33     3879   372.0   6228.0   \n",
       "191   4270.0   4079   4576   -497       497     8655  1691.0  12925.0   \n",
       "192   7712.0   6339   6460   -121       121    12799  1145.0  20511.0   \n",
       "193   6438.0   5497   7926  -2429      2429    13423  4539.0  19861.0   \n",
       "194   5483.0   7587   8311   -724       724    15898  1199.0  21381.0   \n",
       "\n",
       "     temp_num  \n",
       "0           1  \n",
       "1           2  \n",
       "2           3  \n",
       "3           4  \n",
       "4           5  \n",
       "..        ...  \n",
       "190       191  \n",
       "191       192  \n",
       "192       193  \n",
       "193       194  \n",
       "194       195  \n",
       "\n",
       "[195 rows x 17 columns]"
      ]
     },
     "execution_count": 5,
     "metadata": {},
     "output_type": "execute_result"
    }
   ],
   "source": [
    "출퇴근_통합정보['temp_num'] = 출퇴근_통합정보.index.values+1\n",
    "\n",
    "출퇴근_통합정보"
   ]
  },
  {
   "cell_type": "markdown",
   "metadata": {},
   "source": [
    "대여소별 쏠림 정도 정렬 후 그래프 시각화 & 미분을 통한 급증 지점 시각화"
   ]
  },
  {
   "cell_type": "code",
   "execution_count": 6,
   "metadata": {},
   "outputs": [
    {
     "data": {
      "text/plain": [
       "[<matplotlib.lines.Line2D at 0x1c420942950>]"
      ]
     },
     "execution_count": 6,
     "metadata": {},
     "output_type": "execute_result"
    },
    {
     "data": {
      "image/png": "[encoded data removed]",
      "text/plain": [
       "<Figure size 1000x600 with 1 Axes>"
      ]
     },
     "metadata": {},
     "output_type": "display_data"
    }
   ],
   "source": [
    "fig, ax = plt.subplots(figsize=(10,6))\n",
    "\n",
    "ax.plot(출퇴근_통합정보['temp_num'], 출퇴근_통합정보.sort_values(by='차이절대값합')['차이절대값합'])"
   ]
  },
  {
   "cell_type": "code",
   "execution_count": 7,
   "metadata": {},
   "outputs": [
    {
     "data": {
      "application/vnd.plotly.v1+json": {
       "config": {
        "plotlyServerURL": "https://plot.ly"
       },
       "data": [
        {
         "line": {
          "color": "#336666"
         },
         "name": "대여소별 쏠림 정도값",
         "type": "scatter",
         "x": [
          1,
          2,
          3,
          4,
          5,
          6,
          7,
          8,
          9,
          10,
          11,
          12,
          13,
          14,
          15,
          16,
          17,
          18,
          19,
          20,
          21,
          22,
          23,
          24,
          25,
          26,
          27,
          28,
          29,
          30,
          31,
          32,
          33,
          34,
          35,
          36,
          37,
          38,
          39,
          40,
          41,
          42,
          43,
          44,
          45,
          46,
          47,
          48,
          49,
          50,
          51,
          52,
          53,
          54,
          55,
          56,
          57,
          58,
          59,
          60,
          61,
          62,
          63,
          64,
          65,
          66,
          67,
          68,
          69,
          70,
          71,
          72,
          73,
          74,
          75,
          76,
          77,
          78,
          79,
          80,
          81,
          82,
          83,
          84,
          85,
          86,
          87,
          88,
          89,
          90,
          91,
          92,
          93,
          94,
          95,
          96,
          97,
          98,
          99,
          100,
          101,
          102,
          103,
          104,
          105,
          106,
          107,
          108,
          109,
          110,
          111,
          112,
          113,
          114,
          115,
          116,
          117,
          118,
          119,
          120,
          121,
          122,
          123,
          124,
          125,
          126,
          127,
          128,
          129,
          130,
          131,
          132,
          133,
          134,
          135,
          136,
          137,
          138,
          139,
          140,
          141,
          142,
          143,
          144,
          145,
          146,
          147,
          148,
          149,
          150,
          151,
          152,
          153,
          154,
          155,
          156,
          157,
          158,
          159,
          160,
          161,
          162,
          163,
          164,
          165,
          166,
          167,
          168,
          169,
          170,
          171,
          172,
          173,
          174,
          175,
          176,
          177,
          178,
          179,
          180,
          181,
          182,
          183,
          184,
          185,
          186,
          187,
          188,
          189,
          190,
          191,
          192,
          193,
          194,
          195
         ],
         "y": [
          6,
          35,
          40,
          64,
          95,
          100,
          149,
          159,
          180,
          181,
          183,
          190,
          209,
          234,
          237,
          251,
          254,
          273,
          282,
          284,
          294,
          348,
          354,
          372,
          426,
          461,
          467,
          485,
          512,
          524,
          553,
          560,
          561,
          578,
          584,
          594,
          594,
          596,
          604,
          619,
          625,
          628,
          631,
          697,
          708,
          737,
          741,
          757,
          758,
          764,
          772,
          778,
          799,
          812,
          821,
          828,
          860,
          872,
          875,
          890,
          899,
          912,
          926,
          983,
          1058,
          1072,
          1099,
          1132,
          1145,
          1155,
          1182,
          1193,
          1199,
          1232,
          1252,
          1277,
          1291,
          1298,
          1330,
          1371,
          1392,
          1410,
          1434,
          1482,
          1616,
          1624,
          1634,
          1635,
          1648,
          1660,
          1669,
          1691,
          1706,
          1710,
          1717,
          1724,
          1728,
          1746,
          1770,
          1879,
          1884,
          2082,
          2085,
          2092,
          2100,
          2102,
          2165,
          2173,
          2201,
          2251,
          2253,
          2265,
          2272,
          2306,
          2424,
          2433,
          2538,
          2541,
          2622,
          2669,
          2713,
          2751,
          2794,
          2882,
          2899,
          2932,
          3016,
          3029,
          3034,
          3042,
          3147,
          3264,
          3342,
          3366,
          3423,
          3437,
          3541,
          3628,
          3682,
          3712,
          3713,
          3718,
          3723,
          3731,
          3921,
          4051,
          4125,
          4158,
          4171,
          4196,
          4323,
          4357,
          4358,
          4433,
          4539,
          4569,
          4595,
          4710,
          4916,
          5025,
          5045,
          5049,
          5107,
          5220,
          5525,
          5561,
          5576,
          5615,
          5656,
          5787,
          6111,
          6324,
          6398,
          6414,
          6552,
          6654,
          7774,
          7819,
          8184,
          8188,
          8205,
          8350,
          8575,
          8696,
          8794,
          9296,
          10284,
          10670,
          12551,
          14810,
          15284,
          15384,
          17344,
          19146,
          27966
         ]
        },
        {
         "line": {
          "color": "#33cc99"
         },
         "mode": "lines",
         "name": "데이터별 미분값",
         "type": "scatter",
         "x": [
          1,
          2,
          3,
          4,
          5,
          6,
          7,
          8,
          9,
          10,
          11,
          12,
          13,
          14,
          15,
          16,
          17,
          18,
          19,
          20,
          21,
          22,
          23,
          24,
          25,
          26,
          27,
          28,
          29,
          30,
          31,
          32,
          33,
          34,
          35,
          36,
          37,
          38,
          39,
          40,
          41,
          42,
          43,
          44,
          45,
          46,
          47,
          48,
          49,
          50,
          51,
          52,
          53,
          54,
          55,
          56,
          57,
          58,
          59,
          60,
          61,
          62,
          63,
          64,
          65,
          66,
          67,
          68,
          69,
          70,
          71,
          72,
          73,
          74,
          75,
          76,
          77,
          78,
          79,
          80,
          81,
          82,
          83,
          84,
          85,
          86,
          87,
          88,
          89,
          90,
          91,
          92,
          93,
          94,
          95,
          96,
          97,
          98,
          99,
          100,
          101,
          102,
          103,
          104,
          105,
          106,
          107,
          108,
          109,
          110,
          111,
          112,
          113,
          114,
          115,
          116,
          117,
          118,
          119,
          120,
          121,
          122,
          123,
          124,
          125,
          126,
          127,
          128,
          129,
          130,
          131,
          132,
          133,
          134,
          135,
          136,
          137,
          138,
          139,
          140,
          141,
          142,
          143,
          144,
          145,
          146,
          147,
          148,
          149,
          150,
          151,
          152,
          153,
          154,
          155,
          156,
          157,
          158,
          159,
          160,
          161,
          162,
          163,
          164,
          165,
          166,
          167,
          168,
          169,
          170,
          171,
          172,
          173,
          174,
          175,
          176,
          177,
          178,
          179,
          180,
          181,
          182,
          183,
          184,
          185,
          186,
          187,
          188,
          189,
          190,
          191,
          192,
          193,
          194
         ],
         "y": [
          29,
          5,
          24,
          31,
          5,
          49,
          10,
          21,
          1,
          2,
          7,
          19,
          25,
          3,
          14,
          3,
          19,
          9,
          2,
          10,
          54,
          6,
          18,
          54,
          35,
          6,
          18,
          27,
          12,
          29,
          7,
          1,
          17,
          6,
          10,
          0,
          2,
          8,
          15,
          6,
          3,
          3,
          66,
          11,
          29,
          4,
          16,
          1,
          6,
          8,
          6,
          21,
          13,
          9,
          7,
          32,
          12,
          3,
          15,
          9,
          13,
          14,
          57,
          75,
          14,
          27,
          33,
          13,
          10,
          27,
          11,
          6,
          33,
          20,
          25,
          14,
          7,
          32,
          41,
          21,
          18,
          24,
          48,
          134,
          8,
          10,
          1,
          13,
          12,
          9,
          22,
          15,
          4,
          7,
          7,
          4,
          18,
          24,
          109,
          5,
          198,
          3,
          7,
          8,
          2,
          63,
          8,
          28,
          50,
          2,
          12,
          7,
          34,
          118,
          9,
          105,
          3,
          81,
          47,
          44,
          38,
          43,
          88,
          17,
          33,
          84,
          13,
          5,
          8,
          105,
          117,
          78,
          24,
          57,
          14,
          104,
          87,
          54,
          30,
          1,
          5,
          5,
          8,
          190,
          130,
          74,
          33,
          13,
          25,
          127,
          34,
          1,
          75,
          106,
          30,
          26,
          115,
          206,
          109,
          20,
          4,
          58,
          113,
          305,
          36,
          15,
          39,
          41,
          131,
          324,
          213,
          74,
          16,
          138,
          102,
          1120,
          45,
          365,
          4,
          17,
          145,
          225,
          121,
          98,
          502,
          988,
          386,
          1881,
          2259,
          474,
          100,
          1960,
          1802,
          8820
         ]
        }
       ],
       "layout": {
        "height": 600,
        "template": {
         "data": {
          "bar": [
           {
            "error_x": {
             "color": "#2a3f5f"
            },
            "error_y": {
             "color": "#2a3f5f"
            },
            "marker": {
             "line": {
              "color": "#E5ECF6",
              "width": 0.5
             },
             "pattern": {
              "fillmode": "overlay",
              "size": 10,
              "solidity": 0.2
             }
            },
            "type": "bar"
           }
          ],
          "barpolar": [
           {
            "marker": {
             "line": {
              "color": "#E5ECF6",
              "width": 0.5
             },
             "pattern": {
              "fillmode": "overlay",
              "size": 10,
              "solidity": 0.2
             }
            },
            "type": "barpolar"
           }
          ],
          "carpet": [
           {
            "aaxis": {
             "endlinecolor": "#2a3f5f",
             "gridcolor": "white",
             "linecolor": "white",
             "minorgridcolor": "white",
             "startlinecolor": "#2a3f5f"
            },
            "baxis": {
             "endlinecolor": "#2a3f5f",
             "gridcolor": "white",
             "linecolor": "white",
             "minorgridcolor": "white",
             "startlinecolor": "#2a3f5f"
            },
            "type": "carpet"
           }
          ],
          "choropleth": [
           {
            "colorbar": {
             "outlinewidth": 0,
             "ticks": ""
            },
            "type": "choropleth"
           }
          ],
          "contour": [
           {
            "colorbar": {
             "outlinewidth": 0,
             "ticks": ""
            },
            "colorscale": [
             [
              0,
              "#0d0887"
             ],
             [
              0.1111111111111111,
              "#46039f"
             ],
             [
              0.2222222222222222,
              "#7201a8"
             ],
             [
              0.3333333333333333,
              "#9c179e"
             ],
             [
              0.4444444444444444,
              "#bd3786"
             ],
             [
              0.5555555555555556,
              "#d8576b"
             ],
             [
              0.6666666666666666,
              "#ed7953"
             ],
             [
              0.7777777777777778,
              "#fb9f3a"
             ],
             [
              0.8888888888888888,
              "#fdca26"
             ],
             [
              1,
              "#f0f921"
             ]
            ],
            "type": "contour"
           }
          ],
          "contourcarpet": [
           {
            "colorbar": {
             "outlinewidth": 0,
             "ticks": ""
            },
            "type": "contourcarpet"
           }
          ],
          "heatmap": [
           {
            "colorbar": {
             "outlinewidth": 0,
             "ticks": ""
            },
            "colorscale": [
             [
              0,
              "#0d0887"
             ],
             [
              0.1111111111111111,
              "#46039f"
             ],
             [
              0.2222222222222222,
              "#7201a8"
             ],
             [
              0.3333333333333333,
              "#9c179e"
             ],
             [
              0.4444444444444444,
              "#bd3786"
             ],
             [
              0.5555555555555556,
              "#d8576b"
             ],
             [
              0.6666666666666666,
              "#ed7953"
             ],
             [
              0.7777777777777778,
              "#fb9f3a"
             ],
             [
              0.8888888888888888,
              "#fdca26"
             ],
             [
              1,
              "#f0f921"
             ]
            ],
            "type": "heatmap"
           }
          ],
          "heatmapgl": [
           {
            "colorbar": {
             "outlinewidth": 0,
             "ticks": ""
            },
            "colorscale": [
             [
              0,
              "#0d0887"
             ],
             [
              0.1111111111111111,
              "#46039f"
             ],
             [
              0.2222222222222222,
              "#7201a8"
             ],
             [
              0.3333333333333333,
              "#9c179e"
             ],
             [
              0.4444444444444444,
              "#bd3786"
             ],
             [
              0.5555555555555556,
              "#d8576b"
             ],
             [
              0.6666666666666666,
              "#ed7953"
             ],
             [
              0.7777777777777778,
              "#fb9f3a"
             ],
             [
              0.8888888888888888,
              "#fdca26"
             ],
             [
              1,
              "#f0f921"
             ]
            ],
            "type": "heatmapgl"
           }
          ],
          "histogram": [
           {
            "marker": {
             "pattern": {
              "fillmode": "overlay",
              "size": 10,
              "solidity": 0.2
             }
            },
            "type": "histogram"
           }
          ],
          "histogram2d": [
           {
            "colorbar": {
             "outlinewidth": 0,
             "ticks": ""
            },
            "colorscale": [
             [
              0,
              "#0d0887"
             ],
             [
              0.1111111111111111,
              "#46039f"
             ],
             [
              0.2222222222222222,
              "#7201a8"
             ],
             [
              0.3333333333333333,
              "#9c179e"
             ],
             [
              0.4444444444444444,
              "#bd3786"
             ],
             [
              0.5555555555555556,
              "#d8576b"
             ],
             [
              0.6666666666666666,
              "#ed7953"
             ],
             [
              0.7777777777777778,
              "#fb9f3a"
             ],
             [
              0.8888888888888888,
              "#fdca26"
             ],
             [
              1,
              "#f0f921"
             ]
            ],
            "type": "histogram2d"
           }
          ],
          "histogram2dcontour": [
           {
            "colorbar": {
             "outlinewidth": 0,
             "ticks": ""
            },
            "colorscale": [
             [
              0,
              "#0d0887"
             ],
             [
              0.1111111111111111,
              "#46039f"
             ],
             [
              0.2222222222222222,
              "#7201a8"
             ],
             [
              0.3333333333333333,
              "#9c179e"
             ],
             [
              0.4444444444444444,
              "#bd3786"
             ],
             [
              0.5555555555555556,
              "#d8576b"
             ],
             [
              0.6666666666666666,
              "#ed7953"
             ],
             [
              0.7777777777777778,
              "#fb9f3a"
             ],
             [
              0.8888888888888888,
              "#fdca26"
             ],
             [
              1,
              "#f0f921"
             ]
            ],
            "type": "histogram2dcontour"
           }
          ],
          "mesh3d": [
           {
            "colorbar": {
             "outlinewidth": 0,
             "ticks": ""
            },
            "type": "mesh3d"
           }
          ],
          "parcoords": [
           {
            "line": {
             "colorbar": {
              "outlinewidth": 0,
              "ticks": ""
             }
            },
            "type": "parcoords"
           }
          ],
          "pie": [
           {
            "automargin": true,
            "type": "pie"
           }
          ],
          "scatter": [
           {
            "fillpattern": {
             "fillmode": "overlay",
             "size": 10,
             "solidity": 0.2
            },
            "type": "scatter"
           }
          ],
          "scatter3d": [
           {
            "line": {
             "colorbar": {
              "outlinewidth": 0,
              "ticks": ""
             }
            },
            "marker": {
             "colorbar": {
              "outlinewidth": 0,
              "ticks": ""
             }
            },
            "type": "scatter3d"
           }
          ],
          "scattercarpet": [
           {
            "marker": {
             "colorbar": {
              "outlinewidth": 0,
              "ticks": ""
             }
            },
            "type": "scattercarpet"
           }
          ],
          "scattergeo": [
           {
            "marker": {
             "colorbar": {
              "outlinewidth": 0,
              "ticks": ""
             }
            },
            "type": "scattergeo"
           }
          ],
          "scattergl": [
           {
            "marker": {
             "colorbar": {
              "outlinewidth": 0,
              "ticks": ""
             }
            },
            "type": "scattergl"
           }
          ],
          "scattermapbox": [
           {
            "marker": {
             "colorbar": {
              "outlinewidth": 0,
              "ticks": ""
             }
            },
            "type": "scattermapbox"
           }
          ],
          "scatterpolar": [
           {
            "marker": {
             "colorbar": {
              "outlinewidth": 0,
              "ticks": ""
             }
            },
            "type": "scatterpolar"
           }
          ],
          "scatterpolargl": [
           {
            "marker": {
             "colorbar": {
              "outlinewidth": 0,
              "ticks": ""
             }
            },
            "type": "scatterpolargl"
           }
          ],
          "scatterternary": [
           {
            "marker": {
             "colorbar": {
              "outlinewidth": 0,
              "ticks": ""
             }
            },
            "type": "scatterternary"
           }
          ],
          "surface": [
           {
            "colorbar": {
             "outlinewidth": 0,
             "ticks": ""
            },
            "colorscale": [
             [
              0,
              "#0d0887"
             ],
             [
              0.1111111111111111,
              "#46039f"
             ],
             [
              0.2222222222222222,
              "#7201a8"
             ],
             [
              0.3333333333333333,
              "#9c179e"
             ],
             [
              0.4444444444444444,
              "#bd3786"
             ],
             [
              0.5555555555555556,
              "#d8576b"
             ],
             [
              0.6666666666666666,
              "#ed7953"
             ],
             [
              0.7777777777777778,
              "#fb9f3a"
             ],
             [
              0.8888888888888888,
              "#fdca26"
             ],
             [
              1,
              "#f0f921"
             ]
            ],
            "type": "surface"
           }
          ],
          "table": [
           {
            "cells": {
             "fill": {
              "color": "#EBF0F8"
             },
             "line": {
              "color": "white"
             }
            },
            "header": {
             "fill": {
              "color": "#C8D4E3"
             },
             "line": {
              "color": "white"
             }
            },
            "type": "table"
           }
          ]
         },
         "layout": {
          "annotationdefaults": {
           "arrowcolor": "#2a3f5f",
           "arrowhead": 0,
           "arrowwidth": 1
          },
          "autotypenumbers": "strict",
          "coloraxis": {
           "colorbar": {
            "outlinewidth": 0,
            "ticks": ""
           }
          },
          "colorscale": {
           "diverging": [
            [
             0,
             "#8e0152"
            ],
            [
             0.1,
             "#c51b7d"
            ],
            [
             0.2,
             "#de77ae"
            ],
            [
             0.3,
             "#f1b6da"
            ],
            [
             0.4,
             "#fde0ef"
            ],
            [
             0.5,
             "#f7f7f7"
            ],
            [
             0.6,
             "#e6f5d0"
            ],
            [
             0.7,
             "#b8e186"
            ],
            [
             0.8,
             "#7fbc41"
            ],
            [
             0.9,
             "#4d9221"
            ],
            [
             1,
             "#276419"
            ]
           ],
           "sequential": [
            [
             0,
             "#0d0887"
            ],
            [
             0.1111111111111111,
             "#46039f"
            ],
            [
             0.2222222222222222,
             "#7201a8"
            ],
            [
             0.3333333333333333,
             "#9c179e"
            ],
            [
             0.4444444444444444,
             "#bd3786"
            ],
            [
             0.5555555555555556,
             "#d8576b"
            ],
            [
             0.6666666666666666,
             "#ed7953"
            ],
            [
             0.7777777777777778,
             "#fb9f3a"
            ],
            [
             0.8888888888888888,
             "#fdca26"
            ],
            [
             1,
             "#f0f921"
            ]
           ],
           "sequentialminus": [
            [
             0,
             "#0d0887"
            ],
            [
             0.1111111111111111,
             "#46039f"
            ],
            [
             0.2222222222222222,
             "#7201a8"
            ],
            [
             0.3333333333333333,
             "#9c179e"
            ],
            [
             0.4444444444444444,
             "#bd3786"
            ],
            [
             0.5555555555555556,
             "#d8576b"
            ],
            [
             0.6666666666666666,
             "#ed7953"
            ],
            [
             0.7777777777777778,
             "#fb9f3a"
            ],
            [
             0.8888888888888888,
             "#fdca26"
            ],
            [
             1,
             "#f0f921"
            ]
           ]
          },
          "colorway": [
           "#636efa",
           "#EF553B",
           "#00cc96",
           "#ab63fa",
           "#FFA15A",
           "#19d3f3",
           "#FF6692",
           "#B6E880",
           "#FF97FF",
           "#FECB52"
          ],
          "font": {
           "color": "#2a3f5f"
          },
          "geo": {
           "bgcolor": "white",
           "lakecolor": "white",
           "landcolor": "#E5ECF6",
           "showlakes": true,
           "showland": true,
           "subunitcolor": "white"
          },
          "hoverlabel": {
           "align": "left"
          },
          "hovermode": "closest",
          "mapbox": {
           "style": "light"
          },
          "paper_bgcolor": "white",
          "plot_bgcolor": "#E5ECF6",
          "polar": {
           "angularaxis": {
            "gridcolor": "white",
            "linecolor": "white",
            "ticks": ""
           },
           "bgcolor": "#E5ECF6",
           "radialaxis": {
            "gridcolor": "white",
            "linecolor": "white",
            "ticks": ""
           }
          },
          "scene": {
           "xaxis": {
            "backgroundcolor": "#E5ECF6",
            "gridcolor": "white",
            "gridwidth": 2,
            "linecolor": "white",
            "showbackground": true,
            "ticks": "",
            "zerolinecolor": "white"
           },
           "yaxis": {
            "backgroundcolor": "#E5ECF6",
            "gridcolor": "white",
            "gridwidth": 2,
            "linecolor": "white",
            "showbackground": true,
            "ticks": "",
            "zerolinecolor": "white"
           },
           "zaxis": {
            "backgroundcolor": "#E5ECF6",
            "gridcolor": "white",
            "gridwidth": 2,
            "linecolor": "white",
            "showbackground": true,
            "ticks": "",
            "zerolinecolor": "white"
           }
          },
          "shapedefaults": {
           "line": {
            "color": "#2a3f5f"
           }
          },
          "ternary": {
           "aaxis": {
            "gridcolor": "white",
            "linecolor": "white",
            "ticks": ""
           },
           "baxis": {
            "gridcolor": "white",
            "linecolor": "white",
            "ticks": ""
           },
           "bgcolor": "#E5ECF6",
           "caxis": {
            "gridcolor": "white",
            "linecolor": "white",
            "ticks": ""
           }
          },
          "title": {
           "x": 0.05
          },
          "xaxis": {
           "automargin": true,
           "gridcolor": "white",
           "linecolor": "white",
           "ticks": "",
           "title": {
            "standoff": 15
           },
           "zerolinecolor": "white",
           "zerolinewidth": 2
          },
          "yaxis": {
           "automargin": true,
           "gridcolor": "white",
           "linecolor": "white",
           "ticks": "",
           "title": {
            "standoff": 15
           },
           "zerolinecolor": "white",
           "zerolinewidth": 2
          }
         }
        },
        "title": {
         "text": "강서구 대여소 별 쏠림 정도 정렬 & 각 지점 미분"
        },
        "width": 800,
        "xaxis": {
         "title": {
          "text": "대여소 임시번호"
         }
        },
        "yaxis": {
         "title": {
          "text": "쏠림 정도"
         }
        }
       }
      }
     },
     "metadata": {},
     "output_type": "display_data"
    }
   ],
   "source": [
    "import plotly.graph_objects as go\n",
    "\n",
    "# 데이터 생성\n",
    "x = 출퇴근_통합정보['temp_num']\n",
    "y = 출퇴근_통합정보.sort_values(by='차이절대값합')['차이절대값합']\n",
    "\n",
    "# 미분 진행\n",
    "dx = x[1] - x[0]\n",
    "dy = np.diff(y) / dx\n",
    "\n",
    "line_color = '#336666'\n",
    "line_color2 = '#33cc99'\n",
    "\n",
    "# 그래프 그리기\n",
    "fig = go.Figure(data=go.Scatter(x=x, y=y, name='대여소별 쏠림 정도값', line=dict(color=line_color)))\n",
    "\n",
    "fig.add_trace(go.Scatter(x=x[:-1], y=dy, mode='lines', name='데이터별 미분값', line=dict(color=line_color2)))\n",
    "\n",
    "fig.update_layout(title='강서구 대여소 별 쏠림 정도 정렬 & 각 지점 미분')\n",
    "fig.update_layout(xaxis_title='대여소 임시번호', yaxis_title='쏠림 정도')\n",
    "fig.update_layout(width=800, height=600)\n",
    "\n",
    "fig.show()"
   ]
  },
  {
   "cell_type": "markdown",
   "metadata": {},
   "source": [
    "상위 20개 대여소 쏠림정도 비교 그래프 시각화"
   ]
  },
  {
   "cell_type": "code",
   "execution_count": 9,
   "metadata": {},
   "outputs": [],
   "source": [
    "상위20대여소 = pd.read_csv('../../Data/따릉이/쏠림정도_top20_대여소.csv',encoding='utf-8')\n",
    "강서_따릉이_데이터 = pd.read_csv('../../Data/따릉이/강서_따릉이_데이터_01.csv',encoding='utf-8')"
   ]
  },
  {
   "cell_type": "code",
   "execution_count": 14,
   "metadata": {},
   "outputs": [],
   "source": [
    "출근 = 강서_따릉이_데이터[(강서_따릉이_데이터['기준_시간대'] >= 600) & (강서_따릉이_데이터['기준_시간대'] <= 1000)]\n",
    "퇴근 = 강서_따릉이_데이터[(강서_따릉이_데이터['기준_시간대'] >= 1700) & (강서_따릉이_데이터['기준_시간대'] <= 2100)]"
   ]
  },
  {
   "cell_type": "code",
   "execution_count": 15,
   "metadata": {},
   "outputs": [
    {
     "data": {
      "application/vnd.plotly.v1+json": {
       "config": {
        "plotlyServerURL": "https://plot.ly"
       },
       "data": [
        {
         "marker": {
          "color": "#336666"
         },
         "name": "대여-반납량(출근)",
         "type": "bar",
         "x": [
          "ST-1064",
          "ST-1688",
          "ST-1712",
          "ST-2031",
          "ST-2033",
          "ST-2035",
          "ST-2044",
          "ST-2569",
          "ST-2871",
          "ST-2945",
          "ST-3094",
          "ST-3128",
          "ST-3251",
          "ST-1253",
          "ST-1352",
          "ST-1645",
          "ST-2050",
          "ST-2056",
          "ST-2557",
          "ST-2965"
         ],
         "y": [
          4725,
          6136,
          10510,
          3662,
          16794,
          11767,
          9133,
          4083,
          4827,
          4897,
          6351,
          8996,
          9591,
          5595,
          4845,
          6290,
          7787,
          4934,
          4749,
          5377
         ]
        },
        {
         "marker": {
          "color": "#33cc99"
         },
         "name": "대여-반납량(퇴근)",
         "type": "bar",
         "x": [
          "ST-1064",
          "ST-1688",
          "ST-1712",
          "ST-2031",
          "ST-2033",
          "ST-2035",
          "ST-2044",
          "ST-2569",
          "ST-2871",
          "ST-2945",
          "ST-3094",
          "ST-3128",
          "ST-3251",
          "ST-1253",
          "ST-1352",
          "ST-1645",
          "ST-2050",
          "ST-2056",
          "ST-2557",
          "ST-2965"
         ],
         "y": [
          3443,
          4602,
          6794,
          4981,
          10597,
          7199,
          5561,
          2565,
          4437,
          2836,
          2535,
          5816,
          5990,
          3205,
          3428,
          3802,
          5221,
          3197,
          3066,
          3330
         ]
        }
       ],
       "layout": {
        "height": 600,
        "template": {
         "data": {
          "bar": [
           {
            "error_x": {
             "color": "#2a3f5f"
            },
            "error_y": {
             "color": "#2a3f5f"
            },
            "marker": {
             "line": {
              "color": "#E5ECF6",
              "width": 0.5
             },
             "pattern": {
              "fillmode": "overlay",
              "size": 10,
              "solidity": 0.2
             }
            },
            "type": "bar"
           }
          ],
          "barpolar": [
           {
            "marker": {
             "line": {
              "color": "#E5ECF6",
              "width": 0.5
             },
             "pattern": {
              "fillmode": "overlay",
              "size": 10,
              "solidity": 0.2
             }
            },
            "type": "barpolar"
           }
          ],
          "carpet": [
           {
            "aaxis": {
             "endlinecolor": "#2a3f5f",
             "gridcolor": "white",
             "linecolor": "white",
             "minorgridcolor": "white",
             "startlinecolor": "#2a3f5f"
            },
            "baxis": {
             "endlinecolor": "#2a3f5f",
             "gridcolor": "white",
             "linecolor": "white",
             "minorgridcolor": "white",
             "startlinecolor": "#2a3f5f"
            },
            "type": "carpet"
           }
          ],
          "choropleth": [
           {
            "colorbar": {
             "outlinewidth": 0,
             "ticks": ""
            },
            "type": "choropleth"
           }
          ],
          "contour": [
           {
            "colorbar": {
             "outlinewidth": 0,
             "ticks": ""
            },
            "colorscale": [
             [
              0,
              "#0d0887"
             ],
             [
              0.1111111111111111,
              "#46039f"
             ],
             [
              0.2222222222222222,
              "#7201a8"
             ],
             [
              0.3333333333333333,
              "#9c179e"
             ],
             [
              0.4444444444444444,
              "#bd3786"
             ],
             [
              0.5555555555555556,
              "#d8576b"
             ],
             [
              0.6666666666666666,
              "#ed7953"
             ],
             [
              0.7777777777777778,
              "#fb9f3a"
             ],
             [
              0.8888888888888888,
              "#fdca26"
             ],
             [
              1,
              "#f0f921"
             ]
            ],
            "type": "contour"
           }
          ],
          "contourcarpet": [
           {
            "colorbar": {
             "outlinewidth": 0,
             "ticks": ""
            },
            "type": "contourcarpet"
           }
          ],
          "heatmap": [
           {
            "colorbar": {
             "outlinewidth": 0,
             "ticks": ""
            },
            "colorscale": [
             [
              0,
              "#0d0887"
             ],
             [
              0.1111111111111111,
              "#46039f"
             ],
             [
              0.2222222222222222,
              "#7201a8"
             ],
             [
              0.3333333333333333,
              "#9c179e"
             ],
             [
              0.4444444444444444,
              "#bd3786"
             ],
             [
              0.5555555555555556,
              "#d8576b"
             ],
             [
              0.6666666666666666,
              "#ed7953"
             ],
             [
              0.7777777777777778,
              "#fb9f3a"
             ],
             [
              0.8888888888888888,
              "#fdca26"
             ],
             [
              1,
              "#f0f921"
             ]
            ],
            "type": "heatmap"
           }
          ],
          "heatmapgl": [
           {
            "colorbar": {
             "outlinewidth": 0,
             "ticks": ""
            },
            "colorscale": [
             [
              0,
              "#0d0887"
             ],
             [
              0.1111111111111111,
              "#46039f"
             ],
             [
              0.2222222222222222,
              "#7201a8"
             ],
             [
              0.3333333333333333,
              "#9c179e"
             ],
             [
              0.4444444444444444,
              "#bd3786"
             ],
             [
              0.5555555555555556,
              "#d8576b"
             ],
             [
              0.6666666666666666,
              "#ed7953"
             ],
             [
              0.7777777777777778,
              "#fb9f3a"
             ],
             [
              0.8888888888888888,
              "#fdca26"
             ],
             [
              1,
              "#f0f921"
             ]
            ],
            "type": "heatmapgl"
           }
          ],
          "histogram": [
           {
            "marker": {
             "pattern": {
              "fillmode": "overlay",
              "size": 10,
              "solidity": 0.2
             }
            },
            "type": "histogram"
           }
          ],
          "histogram2d": [
           {
            "colorbar": {
             "outlinewidth": 0,
             "ticks": ""
            },
            "colorscale": [
             [
              0,
              "#0d0887"
             ],
             [
              0.1111111111111111,
              "#46039f"
             ],
             [
              0.2222222222222222,
              "#7201a8"
             ],
             [
              0.3333333333333333,
              "#9c179e"
             ],
             [
              0.4444444444444444,
              "#bd3786"
             ],
             [
              0.5555555555555556,
              "#d8576b"
             ],
             [
              0.6666666666666666,
              "#ed7953"
             ],
             [
              0.7777777777777778,
              "#fb9f3a"
             ],
             [
              0.8888888888888888,
              "#fdca26"
             ],
             [
              1,
              "#f0f921"
             ]
            ],
            "type": "histogram2d"
           }
          ],
          "histogram2dcontour": [
           {
            "colorbar": {
             "outlinewidth": 0,
             "ticks": ""
            },
            "colorscale": [
             [
              0,
              "#0d0887"
             ],
             [
              0.1111111111111111,
              "#46039f"
             ],
             [
              0.2222222222222222,
              "#7201a8"
             ],
             [
              0.3333333333333333,
              "#9c179e"
             ],
             [
              0.4444444444444444,
              "#bd3786"
             ],
             [
              0.5555555555555556,
              "#d8576b"
             ],
             [
              0.6666666666666666,
              "#ed7953"
             ],
             [
              0.7777777777777778,
              "#fb9f3a"
             ],
             [
              0.8888888888888888,
              "#fdca26"
             ],
             [
              1,
              "#f0f921"
             ]
            ],
            "type": "histogram2dcontour"
           }
          ],
          "mesh3d": [
           {
            "colorbar": {
             "outlinewidth": 0,
             "ticks": ""
            },
            "type": "mesh3d"
           }
          ],
          "parcoords": [
           {
            "line": {
             "colorbar": {
              "outlinewidth": 0,
              "ticks": ""
             }
            },
            "type": "parcoords"
           }
          ],
          "pie": [
           {
            "automargin": true,
            "type": "pie"
           }
          ],
          "scatter": [
           {
            "fillpattern": {
             "fillmode": "overlay",
             "size": 10,
             "solidity": 0.2
            },
            "type": "scatter"
           }
          ],
          "scatter3d": [
           {
            "line": {
             "colorbar": {
              "outlinewidth": 0,
              "ticks": ""
             }
            },
            "marker": {
             "colorbar": {
              "outlinewidth": 0,
              "ticks": ""
             }
            },
            "type": "scatter3d"
           }
          ],
          "scattercarpet": [
           {
            "marker": {
             "colorbar": {
              "outlinewidth": 0,
              "ticks": ""
             }
            },
            "type": "scattercarpet"
           }
          ],
          "scattergeo": [
           {
            "marker": {
             "colorbar": {
              "outlinewidth": 0,
              "ticks": ""
             }
            },
            "type": "scattergeo"
           }
          ],
          "scattergl": [
           {
            "marker": {
             "colorbar": {
              "outlinewidth": 0,
              "ticks": ""
             }
            },
            "type": "scattergl"
           }
          ],
          "scattermapbox": [
           {
            "marker": {
             "colorbar": {
              "outlinewidth": 0,
              "ticks": ""
             }
            },
            "type": "scattermapbox"
           }
          ],
          "scatterpolar": [
           {
            "marker": {
             "colorbar": {
              "outlinewidth": 0,
              "ticks": ""
             }
            },
            "type": "scatterpolar"
           }
          ],
          "scatterpolargl": [
           {
            "marker": {
             "colorbar": {
              "outlinewidth": 0,
              "ticks": ""
             }
            },
            "type": "scatterpolargl"
           }
          ],
          "scatterternary": [
           {
            "marker": {
             "colorbar": {
              "outlinewidth": 0,
              "ticks": ""
             }
            },
            "type": "scatterternary"
           }
          ],
          "surface": [
           {
            "colorbar": {
             "outlinewidth": 0,
             "ticks": ""
            },
            "colorscale": [
             [
              0,
              "#0d0887"
             ],
             [
              0.1111111111111111,
              "#46039f"
             ],
             [
              0.2222222222222222,
              "#7201a8"
             ],
             [
              0.3333333333333333,
              "#9c179e"
             ],
             [
              0.4444444444444444,
              "#bd3786"
             ],
             [
              0.5555555555555556,
              "#d8576b"
             ],
             [
              0.6666666666666666,
              "#ed7953"
             ],
             [
              0.7777777777777778,
              "#fb9f3a"
             ],
             [
              0.8888888888888888,
              "#fdca26"
             ],
             [
              1,
              "#f0f921"
             ]
            ],
            "type": "surface"
           }
          ],
          "table": [
           {
            "cells": {
             "fill": {
              "color": "#EBF0F8"
             },
             "line": {
              "color": "white"
             }
            },
            "header": {
             "fill": {
              "color": "#C8D4E3"
             },
             "line": {
              "color": "white"
             }
            },
            "type": "table"
           }
          ]
         },
         "layout": {
          "annotationdefaults": {
           "arrowcolor": "#2a3f5f",
           "arrowhead": 0,
           "arrowwidth": 1
          },
          "autotypenumbers": "strict",
          "coloraxis": {
           "colorbar": {
            "outlinewidth": 0,
            "ticks": ""
           }
          },
          "colorscale": {
           "diverging": [
            [
             0,
             "#8e0152"
            ],
            [
             0.1,
             "#c51b7d"
            ],
            [
             0.2,
             "#de77ae"
            ],
            [
             0.3,
             "#f1b6da"
            ],
            [
             0.4,
             "#fde0ef"
            ],
            [
             0.5,
             "#f7f7f7"
            ],
            [
             0.6,
             "#e6f5d0"
            ],
            [
             0.7,
             "#b8e186"
            ],
            [
             0.8,
             "#7fbc41"
            ],
            [
             0.9,
             "#4d9221"
            ],
            [
             1,
             "#276419"
            ]
           ],
           "sequential": [
            [
             0,
             "#0d0887"
            ],
            [
             0.1111111111111111,
             "#46039f"
            ],
            [
             0.2222222222222222,
             "#7201a8"
            ],
            [
             0.3333333333333333,
             "#9c179e"
            ],
            [
             0.4444444444444444,
             "#bd3786"
            ],
            [
             0.5555555555555556,
             "#d8576b"
            ],
            [
             0.6666666666666666,
             "#ed7953"
            ],
            [
             0.7777777777777778,
             "#fb9f3a"
            ],
            [
             0.8888888888888888,
             "#fdca26"
            ],
            [
             1,
             "#f0f921"
            ]
           ],
           "sequentialminus": [
            [
             0,
             "#0d0887"
            ],
            [
             0.1111111111111111,
             "#46039f"
            ],
            [
             0.2222222222222222,
             "#7201a8"
            ],
            [
             0.3333333333333333,
             "#9c179e"
            ],
            [
             0.4444444444444444,
             "#bd3786"
            ],
            [
             0.5555555555555556,
             "#d8576b"
            ],
            [
             0.6666666666666666,
             "#ed7953"
            ],
            [
             0.7777777777777778,
             "#fb9f3a"
            ],
            [
             0.8888888888888888,
             "#fdca26"
            ],
            [
             1,
             "#f0f921"
            ]
           ]
          },
          "colorway": [
           "#636efa",
           "#EF553B",
           "#00cc96",
           "#ab63fa",
           "#FFA15A",
           "#19d3f3",
           "#FF6692",
           "#B6E880",
           "#FF97FF",
           "#FECB52"
          ],
          "font": {
           "color": "#2a3f5f"
          },
          "geo": {
           "bgcolor": "white",
           "lakecolor": "white",
           "landcolor": "#E5ECF6",
           "showlakes": true,
           "showland": true,
           "subunitcolor": "white"
          },
          "hoverlabel": {
           "align": "left"
          },
          "hovermode": "closest",
          "mapbox": {
           "style": "light"
          },
          "paper_bgcolor": "white",
          "plot_bgcolor": "#E5ECF6",
          "polar": {
           "angularaxis": {
            "gridcolor": "white",
            "linecolor": "white",
            "ticks": ""
           },
           "bgcolor": "#E5ECF6",
           "radialaxis": {
            "gridcolor": "white",
            "linecolor": "white",
            "ticks": ""
           }
          },
          "scene": {
           "xaxis": {
            "backgroundcolor": "#E5ECF6",
            "gridcolor": "white",
            "gridwidth": 2,
            "linecolor": "white",
            "showbackground": true,
            "ticks": "",
            "zerolinecolor": "white"
           },
           "yaxis": {
            "backgroundcolor": "#E5ECF6",
            "gridcolor": "white",
            "gridwidth": 2,
            "linecolor": "white",
            "showbackground": true,
            "ticks": "",
            "zerolinecolor": "white"
           },
           "zaxis": {
            "backgroundcolor": "#E5ECF6",
            "gridcolor": "white",
            "gridwidth": 2,
            "linecolor": "white",
            "showbackground": true,
            "ticks": "",
            "zerolinecolor": "white"
           }
          },
          "shapedefaults": {
           "line": {
            "color": "#2a3f5f"
           }
          },
          "ternary": {
           "aaxis": {
            "gridcolor": "white",
            "linecolor": "white",
            "ticks": ""
           },
           "baxis": {
            "gridcolor": "white",
            "linecolor": "white",
            "ticks": ""
           },
           "bgcolor": "#E5ECF6",
           "caxis": {
            "gridcolor": "white",
            "linecolor": "white",
            "ticks": ""
           }
          },
          "title": {
           "x": 0.05
          },
          "xaxis": {
           "automargin": true,
           "gridcolor": "white",
           "linecolor": "white",
           "ticks": "",
           "title": {
            "standoff": 15
           },
           "zerolinecolor": "white",
           "zerolinewidth": 2
          },
          "yaxis": {
           "automargin": true,
           "gridcolor": "white",
           "linecolor": "white",
           "ticks": "",
           "title": {
            "standoff": 15
           },
           "zerolinecolor": "white",
           "zerolinewidth": 2
          }
         }
        },
        "title": {
         "text": "상위 20개 대여소 비교"
        },
        "width": 800,
        "xaxis": {
         "title": {
          "text": "대여소 ID"
         }
        },
        "yaxis": {
         "title": {
          "text": "대여-반납량의 절대값"
         }
        }
       }
      }
     },
     "metadata": {},
     "output_type": "display_data"
    }
   ],
   "source": [
    "import plotly.graph_objects as go\n",
    "\n",
    "x = 상위20대여소['대여소_ID']\n",
    "y1 = 상위20대여소['대여-반납량_출근'].abs()\n",
    "y2 = 상위20대여소['대여-반납량_퇴근'].abs()\n",
    "\n",
    "bar_color = '#336666'\n",
    "bar_color2 = '#33cc99'\n",
    "\n",
    "fig = go.Figure()\n",
    "\n",
    "fig.add_trace(go.Bar(x=x, y=y1, name='대여-반납량(출근)', marker=dict(color=bar_color)))\n",
    "fig.add_trace(go.Bar(x=x, y=y2, name='대여-반납량(퇴근)', marker=dict(color=bar_color2)))\n",
    "\n",
    "fig.update_layout(title='상위 20개 대여소 비교', xaxis_title='대여소 ID', yaxis_title='대여-반납량의 절대값')\n",
    "\n",
    "fig.update_layout(width=800, height=600)\n",
    "fig.show()"
   ]
  },
  {
   "cell_type": "code",
   "execution_count": 16,
   "metadata": {},
   "outputs": [
    {
     "data": {
      "application/vnd.plotly.v1+json": {
       "config": {
        "plotlyServerURL": "https://plot.ly"
       },
       "data": [
        {
         "marker": {
          "color": "#336666"
         },
         "name": "쏠림정도 수치화",
         "type": "bar",
         "x": [
          "ST-1064",
          "ST-1688",
          "ST-1712",
          "ST-2031",
          "ST-2033",
          "ST-2035",
          "ST-2044",
          "ST-2569",
          "ST-2871",
          "ST-2945",
          "ST-3094",
          "ST-3128",
          "ST-3251",
          "ST-1253",
          "ST-1352",
          "ST-1645",
          "ST-2050",
          "ST-2056",
          "ST-2557",
          "ST-2965"
         ],
         "y": [
          8168,
          10738,
          17304,
          8643,
          27391,
          18966,
          14694,
          6648,
          9264,
          7733,
          8886,
          14812,
          15581,
          8800,
          8273,
          10092,
          13008,
          8131,
          7815,
          8707
         ]
        }
       ],
       "layout": {
        "height": 600,
        "template": {
         "data": {
          "bar": [
           {
            "error_x": {
             "color": "#2a3f5f"
            },
            "error_y": {
             "color": "#2a3f5f"
            },
            "marker": {
             "line": {
              "color": "#E5ECF6",
              "width": 0.5
             },
             "pattern": {
              "fillmode": "overlay",
              "size": 10,
              "solidity": 0.2
             }
            },
            "type": "bar"
           }
          ],
          "barpolar": [
           {
            "marker": {
             "line": {
              "color": "#E5ECF6",
              "width": 0.5
             },
             "pattern": {
              "fillmode": "overlay",
              "size": 10,
              "solidity": 0.2
             }
            },
            "type": "barpolar"
           }
          ],
          "carpet": [
           {
            "aaxis": {
             "endlinecolor": "#2a3f5f",
             "gridcolor": "white",
             "linecolor": "white",
             "minorgridcolor": "white",
             "startlinecolor": "#2a3f5f"
            },
            "baxis": {
             "endlinecolor": "#2a3f5f",
             "gridcolor": "white",
             "linecolor": "white",
             "minorgridcolor": "white",
             "startlinecolor": "#2a3f5f"
            },
            "type": "carpet"
           }
          ],
          "choropleth": [
           {
            "colorbar": {
             "outlinewidth": 0,
             "ticks": ""
            },
            "type": "choropleth"
           }
          ],
          "contour": [
           {
            "colorbar": {
             "outlinewidth": 0,
             "ticks": ""
            },
            "colorscale": [
             [
              0,
              "#0d0887"
             ],
             [
              0.1111111111111111,
              "#46039f"
             ],
             [
              0.2222222222222222,
              "#7201a8"
             ],
             [
              0.3333333333333333,
              "#9c179e"
             ],
             [
              0.4444444444444444,
              "#bd3786"
             ],
             [
              0.5555555555555556,
              "#d8576b"
             ],
             [
              0.6666666666666666,
              "#ed7953"
             ],
             [
              0.7777777777777778,
              "#fb9f3a"
             ],
             [
              0.8888888888888888,
              "#fdca26"
             ],
             [
              1,
              "#f0f921"
             ]
            ],
            "type": "contour"
           }
          ],
          "contourcarpet": [
           {
            "colorbar": {
             "outlinewidth": 0,
             "ticks": ""
            },
            "type": "contourcarpet"
           }
          ],
          "heatmap": [
           {
            "colorbar": {
             "outlinewidth": 0,
             "ticks": ""
            },
            "colorscale": [
             [
              0,
              "#0d0887"
             ],
             [
              0.1111111111111111,
              "#46039f"
             ],
             [
              0.2222222222222222,
              "#7201a8"
             ],
             [
              0.3333333333333333,
              "#9c179e"
             ],
             [
              0.4444444444444444,
              "#bd3786"
             ],
             [
              0.5555555555555556,
              "#d8576b"
             ],
             [
              0.6666666666666666,
              "#ed7953"
             ],
             [
              0.7777777777777778,
              "#fb9f3a"
             ],
             [
              0.8888888888888888,
              "#fdca26"
             ],
             [
              1,
              "#f0f921"
             ]
            ],
            "type": "heatmap"
           }
          ],
          "heatmapgl": [
           {
            "colorbar": {
             "outlinewidth": 0,
             "ticks": ""
            },
            "colorscale": [
             [
              0,
              "#0d0887"
             ],
             [
              0.1111111111111111,
              "#46039f"
             ],
             [
              0.2222222222222222,
              "#7201a8"
             ],
             [
              0.3333333333333333,
              "#9c179e"
             ],
             [
              0.4444444444444444,
              "#bd3786"
             ],
             [
              0.5555555555555556,
              "#d8576b"
             ],
             [
              0.6666666666666666,
              "#ed7953"
             ],
             [
              0.7777777777777778,
              "#fb9f3a"
             ],
             [
              0.8888888888888888,
              "#fdca26"
             ],
             [
              1,
              "#f0f921"
             ]
            ],
            "type": "heatmapgl"
           }
          ],
          "histogram": [
           {
            "marker": {
             "pattern": {
              "fillmode": "overlay",
              "size": 10,
              "solidity": 0.2
             }
            },
            "type": "histogram"
           }
          ],
          "histogram2d": [
           {
            "colorbar": {
             "outlinewidth": 0,
             "ticks": ""
            },
            "colorscale": [
             [
              0,
              "#0d0887"
             ],
             [
              0.1111111111111111,
              "#46039f"
             ],
             [
              0.2222222222222222,
              "#7201a8"
             ],
             [
              0.3333333333333333,
              "#9c179e"
             ],
             [
              0.4444444444444444,
              "#bd3786"
             ],
             [
              0.5555555555555556,
              "#d8576b"
             ],
             [
              0.6666666666666666,
              "#ed7953"
             ],
             [
              0.7777777777777778,
              "#fb9f3a"
             ],
             [
              0.8888888888888888,
              "#fdca26"
             ],
             [
              1,
              "#f0f921"
             ]
            ],
            "type": "histogram2d"
           }
          ],
          "histogram2dcontour": [
           {
            "colorbar": {
             "outlinewidth": 0,
             "ticks": ""
            },
            "colorscale": [
             [
              0,
              "#0d0887"
             ],
             [
              0.1111111111111111,
              "#46039f"
             ],
             [
              0.2222222222222222,
              "#7201a8"
             ],
             [
              0.3333333333333333,
              "#9c179e"
             ],
             [
              0.4444444444444444,
              "#bd3786"
             ],
             [
              0.5555555555555556,
              "#d8576b"
             ],
             [
              0.6666666666666666,
              "#ed7953"
             ],
             [
              0.7777777777777778,
              "#fb9f3a"
             ],
             [
              0.8888888888888888,
              "#fdca26"
             ],
             [
              1,
              "#f0f921"
             ]
            ],
            "type": "histogram2dcontour"
           }
          ],
          "mesh3d": [
           {
            "colorbar": {
             "outlinewidth": 0,
             "ticks": ""
            },
            "type": "mesh3d"
           }
          ],
          "parcoords": [
           {
            "line": {
             "colorbar": {
              "outlinewidth": 0,
              "ticks": ""
             }
            },
            "type": "parcoords"
           }
          ],
          "pie": [
           {
            "automargin": true,
            "type": "pie"
           }
          ],
          "scatter": [
           {
            "fillpattern": {
             "fillmode": "overlay",
             "size": 10,
             "solidity": 0.2
            },
            "type": "scatter"
           }
          ],
          "scatter3d": [
           {
            "line": {
             "colorbar": {
              "outlinewidth": 0,
              "ticks": ""
             }
            },
            "marker": {
             "colorbar": {
              "outlinewidth": 0,
              "ticks": ""
             }
            },
            "type": "scatter3d"
           }
          ],
          "scattercarpet": [
           {
            "marker": {
             "colorbar": {
              "outlinewidth": 0,
              "ticks": ""
             }
            },
            "type": "scattercarpet"
           }
          ],
          "scattergeo": [
           {
            "marker": {
             "colorbar": {
              "outlinewidth": 0,
              "ticks": ""
             }
            },
            "type": "scattergeo"
           }
          ],
          "scattergl": [
           {
            "marker": {
             "colorbar": {
              "outlinewidth": 0,
              "ticks": ""
             }
            },
            "type": "scattergl"
           }
          ],
          "scattermapbox": [
           {
            "marker": {
             "colorbar": {
              "outlinewidth": 0,
              "ticks": ""
             }
            },
            "type": "scattermapbox"
           }
          ],
          "scatterpolar": [
           {
            "marker": {
             "colorbar": {
              "outlinewidth": 0,
              "ticks": ""
             }
            },
            "type": "scatterpolar"
           }
          ],
          "scatterpolargl": [
           {
            "marker": {
             "colorbar": {
              "outlinewidth": 0,
              "ticks": ""
             }
            },
            "type": "scatterpolargl"
           }
          ],
          "scatterternary": [
           {
            "marker": {
             "colorbar": {
              "outlinewidth": 0,
              "ticks": ""
             }
            },
            "type": "scatterternary"
           }
          ],
          "surface": [
           {
            "colorbar": {
             "outlinewidth": 0,
             "ticks": ""
            },
            "colorscale": [
             [
              0,
              "#0d0887"
             ],
             [
              0.1111111111111111,
              "#46039f"
             ],
             [
              0.2222222222222222,
              "#7201a8"
             ],
             [
              0.3333333333333333,
              "#9c179e"
             ],
             [
              0.4444444444444444,
              "#bd3786"
             ],
             [
              0.5555555555555556,
              "#d8576b"
             ],
             [
              0.6666666666666666,
              "#ed7953"
             ],
             [
              0.7777777777777778,
              "#fb9f3a"
             ],
             [
              0.8888888888888888,
              "#fdca26"
             ],
             [
              1,
              "#f0f921"
             ]
            ],
            "type": "surface"
           }
          ],
          "table": [
           {
            "cells": {
             "fill": {
              "color": "#EBF0F8"
             },
             "line": {
              "color": "white"
             }
            },
            "header": {
             "fill": {
              "color": "#C8D4E3"
             },
             "line": {
              "color": "white"
             }
            },
            "type": "table"
           }
          ]
         },
         "layout": {
          "annotationdefaults": {
           "arrowcolor": "#2a3f5f",
           "arrowhead": 0,
           "arrowwidth": 1
          },
          "autotypenumbers": "strict",
          "coloraxis": {
           "colorbar": {
            "outlinewidth": 0,
            "ticks": ""
           }
          },
          "colorscale": {
           "diverging": [
            [
             0,
             "#8e0152"
            ],
            [
             0.1,
             "#c51b7d"
            ],
            [
             0.2,
             "#de77ae"
            ],
            [
             0.3,
             "#f1b6da"
            ],
            [
             0.4,
             "#fde0ef"
            ],
            [
             0.5,
             "#f7f7f7"
            ],
            [
             0.6,
             "#e6f5d0"
            ],
            [
             0.7,
             "#b8e186"
            ],
            [
             0.8,
             "#7fbc41"
            ],
            [
             0.9,
             "#4d9221"
            ],
            [
             1,
             "#276419"
            ]
           ],
           "sequential": [
            [
             0,
             "#0d0887"
            ],
            [
             0.1111111111111111,
             "#46039f"
            ],
            [
             0.2222222222222222,
             "#7201a8"
            ],
            [
             0.3333333333333333,
             "#9c179e"
            ],
            [
             0.4444444444444444,
             "#bd3786"
            ],
            [
             0.5555555555555556,
             "#d8576b"
            ],
            [
             0.6666666666666666,
             "#ed7953"
            ],
            [
             0.7777777777777778,
             "#fb9f3a"
            ],
            [
             0.8888888888888888,
             "#fdca26"
            ],
            [
             1,
             "#f0f921"
            ]
           ],
           "sequentialminus": [
            [
             0,
             "#0d0887"
            ],
            [
             0.1111111111111111,
             "#46039f"
            ],
            [
             0.2222222222222222,
             "#7201a8"
            ],
            [
             0.3333333333333333,
             "#9c179e"
            ],
            [
             0.4444444444444444,
             "#bd3786"
            ],
            [
             0.5555555555555556,
             "#d8576b"
            ],
            [
             0.6666666666666666,
             "#ed7953"
            ],
            [
             0.7777777777777778,
             "#fb9f3a"
            ],
            [
             0.8888888888888888,
             "#fdca26"
            ],
            [
             1,
             "#f0f921"
            ]
           ]
          },
          "colorway": [
           "#636efa",
           "#EF553B",
           "#00cc96",
           "#ab63fa",
           "#FFA15A",
           "#19d3f3",
           "#FF6692",
           "#B6E880",
           "#FF97FF",
           "#FECB52"
          ],
          "font": {
           "color": "#2a3f5f"
          },
          "geo": {
           "bgcolor": "white",
           "lakecolor": "white",
           "landcolor": "#E5ECF6",
           "showlakes": true,
           "showland": true,
           "subunitcolor": "white"
          },
          "hoverlabel": {
           "align": "left"
          },
          "hovermode": "closest",
          "mapbox": {
           "style": "light"
          },
          "paper_bgcolor": "white",
          "plot_bgcolor": "#E5ECF6",
          "polar": {
           "angularaxis": {
            "gridcolor": "white",
            "linecolor": "white",
            "ticks": ""
           },
           "bgcolor": "#E5ECF6",
           "radialaxis": {
            "gridcolor": "white",
            "linecolor": "white",
            "ticks": ""
           }
          },
          "scene": {
           "xaxis": {
            "backgroundcolor": "#E5ECF6",
            "gridcolor": "white",
            "gridwidth": 2,
            "linecolor": "white",
            "showbackground": true,
            "ticks": "",
            "zerolinecolor": "white"
           },
           "yaxis": {
            "backgroundcolor": "#E5ECF6",
            "gridcolor": "white",
            "gridwidth": 2,
            "linecolor": "white",
            "showbackground": true,
            "ticks": "",
            "zerolinecolor": "white"
           },
           "zaxis": {
            "backgroundcolor": "#E5ECF6",
            "gridcolor": "white",
            "gridwidth": 2,
            "linecolor": "white",
            "showbackground": true,
            "ticks": "",
            "zerolinecolor": "white"
           }
          },
          "shapedefaults": {
           "line": {
            "color": "#2a3f5f"
           }
          },
          "ternary": {
           "aaxis": {
            "gridcolor": "white",
            "linecolor": "white",
            "ticks": ""
           },
           "baxis": {
            "gridcolor": "white",
            "linecolor": "white",
            "ticks": ""
           },
           "bgcolor": "#E5ECF6",
           "caxis": {
            "gridcolor": "white",
            "linecolor": "white",
            "ticks": ""
           }
          },
          "title": {
           "x": 0.05
          },
          "xaxis": {
           "automargin": true,
           "gridcolor": "white",
           "linecolor": "white",
           "ticks": "",
           "title": {
            "standoff": 15
           },
           "zerolinecolor": "white",
           "zerolinewidth": 2
          },
          "yaxis": {
           "automargin": true,
           "gridcolor": "white",
           "linecolor": "white",
           "ticks": "",
           "title": {
            "standoff": 15
           },
           "zerolinecolor": "white",
           "zerolinewidth": 2
          }
         }
        },
        "title": {
         "text": "상위 20개 대여소 비교"
        },
        "width": 800,
        "xaxis": {
         "title": {
          "text": "대여소 ID"
         }
        },
        "yaxis": {
         "title": {
          "text": "쏠림정도 수치화"
         }
        }
       }
      }
     },
     "metadata": {},
     "output_type": "display_data"
    }
   ],
   "source": [
    "import plotly.graph_objects as go\n",
    "\n",
    "x = 상위20대여소['대여소_ID']\n",
    "y1 = 상위20대여소['차이절대값합']\n",
    "\n",
    "bar_color = '#336666'\n",
    "\n",
    "fig = go.Figure()\n",
    "\n",
    "fig.add_trace(go.Bar(x=x, y=y1, name='쏠림정도 수치화',marker=dict(color=bar_color)))\n",
    "\n",
    "fig.update_layout(title='상위 20개 대여소 비교', xaxis_title='대여소 ID', yaxis_title='쏠림정도 수치화')\n",
    "\n",
    "fig.update_layout(width=800, height=600)\n",
    "fig.show()"
   ]
  },
  {
   "cell_type": "code",
   "execution_count": null,
   "metadata": {},
   "outputs": [],
   "source": []
  }
 ],
 "metadata": {
  "kernelspec": {
   "display_name": "base",
   "language": "python",
   "name": "python3"
  },
  "language_info": {
   "codemirror_mode": {
    "name": "ipython",
    "version": 3
   },
   "file_extension": ".py",
   "mimetype": "text/x-python",
   "name": "python",
   "nbconvert_exporter": "python",
   "pygments_lexer": "ipython3",
   "version": "3.11.7"
  }
 },
 "nbformat": 4,
 "nbformat_minor": 2
}
