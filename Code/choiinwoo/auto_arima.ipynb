{
 "cells": [
  {
   "cell_type": "code",
   "execution_count": 1,
   "metadata": {},
   "outputs": [],
   "source": [
    "import pandas as pd\n",
    "import numpy as np\n",
    "import matplotlib.pyplot as plt\n",
    "import matplotlib as mpl\n",
    "import matplotlib.font_manager as fm\n",
    "import seaborn as sns\n",
    "import statsmodels.api as sm\n",
    "\n",
    "font_path = 'C:\\\\Windows\\\\Fonts\\\\gulim.ttc'\n",
    "font = fm.FontProperties(fname=font_path).get_name()\n",
    "mpl.rc('font', family=font)"
   ]
  },
  {
   "cell_type": "code",
   "execution_count": 33,
   "metadata": {},
   "outputs": [
    {
     "name": "stdout",
     "output_type": "stream",
     "text": [
      "3385613\n"
     ]
    }
   ],
   "source": [
    "강서_대여소_ID = pd.read_csv('../../Data/따릉이/강서_따릉이_대여소_ID.csv',encoding='utf-8')\n",
    "\n",
    "강서_데이터1 = pd.read_csv('../../Data/따릉이/강서_따릉이_데이터_01.csv',encoding='utf-8')\n",
    "강서_데이터2 = pd.read_csv('../../Data/따릉이/강서_따릉이_데이터_02.csv',encoding='utf-8')\n",
    "\n",
    "강서_데이터 = pd.concat([강서_데이터1, 강서_데이터2], ignore_index=True)\n",
    "print(len(강서_데이터))\n",
    "\n",
    "top_20_ID = pd.read_csv('../../Data/따릉이/쏠림정도_top20_대여소.csv',encoding='utf-8')"
   ]
  },
  {
   "cell_type": "code",
   "execution_count": 36,
   "metadata": {},
   "outputs": [],
   "source": [
    "# 주거와 상업으로 데이터 분할\n",
    "주거_df = top_20_ID[top_20_ID['최종용도'] == '주거']\n",
    "상업_df = top_20_ID[top_20_ID['최종용도'] == '상업']"
   ]
  },
  {
   "cell_type": "code",
   "execution_count": 37,
   "metadata": {},
   "outputs": [],
   "source": [
    "# 주거 데이터에서 대여소_ID 추출\n",
    "주거_IDs = 주거_df['대여소_ID'].unique()\n",
    "\n",
    "# 상업 데이터에서 대여소_ID 추출\n",
    "상업_IDs = 상업_df['대여소_ID'].unique()\n",
    "\n",
    "# 강서 데이터에서 대여소_ID가 주거 데이터에 있는 것만 추출\n",
    "주거_강서_df = 강서_데이터[강서_데이터['시작_대여소_ID'].isin(주거_IDs)]\n",
    "\n",
    "# 강서 데이터에서 대여소_ID가 상업 데이터에 있는 것만 추출\n",
    "상업_강서_df = 강서_데이터[강서_데이터['시작_대여소_ID'].isin(상업_IDs)]"
   ]
  },
  {
   "cell_type": "code",
   "execution_count": 38,
   "metadata": {},
   "outputs": [
    {
     "data": {
      "text/plain": [
       "array(['ST-1253', 'ST-1352', 'ST-1645', 'ST-2050', 'ST-2056', 'ST-2557',\n",
       "       'ST-2965'], dtype=object)"
      ]
     },
     "execution_count": 38,
     "metadata": {},
     "output_type": "execute_result"
    }
   ],
   "source": [
    "주거_IDs"
   ]
  },
  {
   "cell_type": "code",
   "execution_count": 39,
   "metadata": {},
   "outputs": [],
   "source": [
    "주거_강서_df = 주거_강서_df.sort_values(by='기준_날짜')\n",
    "상업_강서_df = 상업_강서_df.sort_values(by='기준_날짜')\n"
   ]
  },
  {
   "cell_type": "code",
   "execution_count": 54,
   "metadata": {},
   "outputs": [],
   "source": [
    "def divide_time_range(time):\n",
    "    if time < 600:\n",
    "        return '00:00~06:00'\n",
    "    elif time < 1000:\n",
    "        return '06:00~10:00' # 출근시간\n",
    "    elif time < 1700:\n",
    "        return '10:00~17:00'\n",
    "    elif time < 2100:\n",
    "        return '17:00~21:00' # 퇴근시간\n",
    "    else:\n",
    "        return '21:00~24:00'\n",
    "    \n",
    "주거_강서_df['시간대_구간'] = 주거_강서_df['기준_시간대'].apply(divide_time_range)\n",
    "\n",
    "\n",
    "상업_강서_df['시간대_구간'] = 상업_강서_df['기준_시간대'].apply(divide_time_range)\n"
   ]
  },
  {
   "cell_type": "code",
   "execution_count": 47,
   "metadata": {},
   "outputs": [
    {
     "data": {
      "text/html": [
       "<div>\n",
       "<style scoped>\n",
       "    .dataframe tbody tr th:only-of-type {\n",
       "        vertical-align: middle;\n",
       "    }\n",
       "\n",
       "    .dataframe tbody tr th {\n",
       "        vertical-align: top;\n",
       "    }\n",
       "\n",
       "    .dataframe thead th {\n",
       "        text-align: right;\n",
       "    }\n",
       "</style>\n",
       "<table border=\"1\" class=\"dataframe\">\n",
       "  <thead>\n",
       "    <tr style=\"text-align: right;\">\n",
       "      <th></th>\n",
       "      <th>기준_날짜</th>\n",
       "      <th>기준_시간대</th>\n",
       "      <th>시작_대여소_ID</th>\n",
       "      <th>종료_대여소_ID</th>\n",
       "      <th>전체_건수</th>\n",
       "      <th>전체_이용_분</th>\n",
       "      <th>전체_이용_거리</th>\n",
       "      <th>요일</th>\n",
       "      <th>주말</th>\n",
       "      <th>휴일</th>\n",
       "      <th>시간대_구간</th>\n",
       "    </tr>\n",
       "  </thead>\n",
       "  <tbody>\n",
       "    <tr>\n",
       "      <th>1612630</th>\n",
       "      <td>2023-04-03</td>\n",
       "      <td>2055</td>\n",
       "      <td>ST-1352</td>\n",
       "      <td>ST-2047</td>\n",
       "      <td>2</td>\n",
       "      <td>17</td>\n",
       "      <td>2843</td>\n",
       "      <td>0</td>\n",
       "      <td>0</td>\n",
       "      <td>0</td>\n",
       "      <td>17:00~21:00</td>\n",
       "    </tr>\n",
       "    <tr>\n",
       "      <th>1608882</th>\n",
       "      <td>2023-04-03</td>\n",
       "      <td>1910</td>\n",
       "      <td>ST-2557</td>\n",
       "      <td>ST-2557</td>\n",
       "      <td>1</td>\n",
       "      <td>26</td>\n",
       "      <td>3485</td>\n",
       "      <td>0</td>\n",
       "      <td>0</td>\n",
       "      <td>0</td>\n",
       "      <td>17:00~21:00</td>\n",
       "    </tr>\n",
       "    <tr>\n",
       "      <th>1608911</th>\n",
       "      <td>2023-04-03</td>\n",
       "      <td>1915</td>\n",
       "      <td>ST-1352</td>\n",
       "      <td>ST-524</td>\n",
       "      <td>1</td>\n",
       "      <td>12</td>\n",
       "      <td>1989</td>\n",
       "      <td>0</td>\n",
       "      <td>0</td>\n",
       "      <td>0</td>\n",
       "      <td>17:00~21:00</td>\n",
       "    </tr>\n",
       "    <tr>\n",
       "      <th>1608917</th>\n",
       "      <td>2023-04-03</td>\n",
       "      <td>1915</td>\n",
       "      <td>ST-1645</td>\n",
       "      <td>ST-2489</td>\n",
       "      <td>1</td>\n",
       "      <td>16</td>\n",
       "      <td>3300</td>\n",
       "      <td>0</td>\n",
       "      <td>0</td>\n",
       "      <td>0</td>\n",
       "      <td>17:00~21:00</td>\n",
       "    </tr>\n",
       "    <tr>\n",
       "      <th>1609001</th>\n",
       "      <td>2023-04-03</td>\n",
       "      <td>1920</td>\n",
       "      <td>ST-1253</td>\n",
       "      <td>ST-1065</td>\n",
       "      <td>1</td>\n",
       "      <td>10</td>\n",
       "      <td>1630</td>\n",
       "      <td>0</td>\n",
       "      <td>0</td>\n",
       "      <td>0</td>\n",
       "      <td>17:00~21:00</td>\n",
       "    </tr>\n",
       "    <tr>\n",
       "      <th>...</th>\n",
       "      <td>...</td>\n",
       "      <td>...</td>\n",
       "      <td>...</td>\n",
       "      <td>...</td>\n",
       "      <td>...</td>\n",
       "      <td>...</td>\n",
       "      <td>...</td>\n",
       "      <td>...</td>\n",
       "      <td>...</td>\n",
       "      <td>...</td>\n",
       "      <td>...</td>\n",
       "    </tr>\n",
       "    <tr>\n",
       "      <th>3294677</th>\n",
       "      <td>2024-03-29</td>\n",
       "      <td>1905</td>\n",
       "      <td>ST-2056</td>\n",
       "      <td>ST-2884</td>\n",
       "      <td>1</td>\n",
       "      <td>6</td>\n",
       "      <td>671</td>\n",
       "      <td>4</td>\n",
       "      <td>0</td>\n",
       "      <td>0</td>\n",
       "      <td>17:00~21:00</td>\n",
       "    </tr>\n",
       "    <tr>\n",
       "      <th>3294686</th>\n",
       "      <td>2024-03-29</td>\n",
       "      <td>1905</td>\n",
       "      <td>ST-2557</td>\n",
       "      <td>ST-1714</td>\n",
       "      <td>2</td>\n",
       "      <td>23</td>\n",
       "      <td>3309</td>\n",
       "      <td>4</td>\n",
       "      <td>0</td>\n",
       "      <td>0</td>\n",
       "      <td>17:00~21:00</td>\n",
       "    </tr>\n",
       "    <tr>\n",
       "      <th>3294687</th>\n",
       "      <td>2024-03-29</td>\n",
       "      <td>1905</td>\n",
       "      <td>ST-2557</td>\n",
       "      <td>ST-530</td>\n",
       "      <td>1</td>\n",
       "      <td>10</td>\n",
       "      <td>1686</td>\n",
       "      <td>4</td>\n",
       "      <td>0</td>\n",
       "      <td>0</td>\n",
       "      <td>17:00~21:00</td>\n",
       "    </tr>\n",
       "    <tr>\n",
       "      <th>3294763</th>\n",
       "      <td>2024-03-29</td>\n",
       "      <td>1910</td>\n",
       "      <td>ST-2056</td>\n",
       "      <td>ST-1694</td>\n",
       "      <td>1</td>\n",
       "      <td>7</td>\n",
       "      <td>1144</td>\n",
       "      <td>4</td>\n",
       "      <td>0</td>\n",
       "      <td>0</td>\n",
       "      <td>17:00~21:00</td>\n",
       "    </tr>\n",
       "    <tr>\n",
       "      <th>3292911</th>\n",
       "      <td>2024-03-29</td>\n",
       "      <td>1735</td>\n",
       "      <td>ST-2965</td>\n",
       "      <td>ST-2857</td>\n",
       "      <td>1</td>\n",
       "      <td>9</td>\n",
       "      <td>1322</td>\n",
       "      <td>4</td>\n",
       "      <td>0</td>\n",
       "      <td>0</td>\n",
       "      <td>17:00~21:00</td>\n",
       "    </tr>\n",
       "  </tbody>\n",
       "</table>\n",
       "<p>48501 rows × 11 columns</p>\n",
       "</div>"
      ],
      "text/plain": [
       "              기준_날짜  기준_시간대 시작_대여소_ID 종료_대여소_ID  전체_건수  전체_이용_분  전체_이용_거리  요일  \\\n",
       "1612630  2023-04-03    2055   ST-1352   ST-2047      2       17      2843   0   \n",
       "1608882  2023-04-03    1910   ST-2557   ST-2557      1       26      3485   0   \n",
       "1608911  2023-04-03    1915   ST-1352    ST-524      1       12      1989   0   \n",
       "1608917  2023-04-03    1915   ST-1645   ST-2489      1       16      3300   0   \n",
       "1609001  2023-04-03    1920   ST-1253   ST-1065      1       10      1630   0   \n",
       "...             ...     ...       ...       ...    ...      ...       ...  ..   \n",
       "3294677  2024-03-29    1905   ST-2056   ST-2884      1        6       671   4   \n",
       "3294686  2024-03-29    1905   ST-2557   ST-1714      2       23      3309   4   \n",
       "3294687  2024-03-29    1905   ST-2557    ST-530      1       10      1686   4   \n",
       "3294763  2024-03-29    1910   ST-2056   ST-1694      1        7      1144   4   \n",
       "3292911  2024-03-29    1735   ST-2965   ST-2857      1        9      1322   4   \n",
       "\n",
       "         주말  휴일       시간대_구간  \n",
       "1612630   0   0  17:00~21:00  \n",
       "1608882   0   0  17:00~21:00  \n",
       "1608911   0   0  17:00~21:00  \n",
       "1608917   0   0  17:00~21:00  \n",
       "1609001   0   0  17:00~21:00  \n",
       "...      ..  ..          ...  \n",
       "3294677   0   0  17:00~21:00  \n",
       "3294686   0   0  17:00~21:00  \n",
       "3294687   0   0  17:00~21:00  \n",
       "3294763   0   0  17:00~21:00  \n",
       "3292911   0   0  17:00~21:00  \n",
       "\n",
       "[48501 rows x 11 columns]"
      ]
     },
     "execution_count": 47,
     "metadata": {},
     "output_type": "execute_result"
    }
   ],
   "source": [
    "주거_강서_df[주거_강서_df['시간대_구간']== '17:00~21:00' ]"
   ]
  },
  {
   "cell_type": "code",
   "execution_count": 50,
   "metadata": {},
   "outputs": [],
   "source": [
    "주거_강서_df1 = 주거_강서_df[주거_강서_df['시간대_구간'] == '06:00~10:00']\n",
    "주거_강서_df2 = 주거_강서_df[주거_강서_df['시간대_구간'] == '17:00~21:00']\n",
    "# 전체 파일에서 1차 전처리 (집계_기준 2개 -> 1개로 줄임, 사용량 =0)\n",
    "주거_강서_df1 = 주거_강서_df1[(주거_강서_df1['전체_이용_분'] != 0) & (주거_강서_df1['전체_이용_거리'] != 0)]\n",
    "주거_강서_df2 = 주거_강서_df2[(주거_강서_df2['전체_이용_분'] != 0) & (주거_강서_df2['전체_이용_거리'] != 0)]"
   ]
  },
  {
   "cell_type": "code",
   "execution_count": 51,
   "metadata": {},
   "outputs": [
    {
     "data": {
      "text/html": [
       "<div>\n",
       "<style scoped>\n",
       "    .dataframe tbody tr th:only-of-type {\n",
       "        vertical-align: middle;\n",
       "    }\n",
       "\n",
       "    .dataframe tbody tr th {\n",
       "        vertical-align: top;\n",
       "    }\n",
       "\n",
       "    .dataframe thead th {\n",
       "        text-align: right;\n",
       "    }\n",
       "</style>\n",
       "<table border=\"1\" class=\"dataframe\">\n",
       "  <thead>\n",
       "    <tr style=\"text-align: right;\">\n",
       "      <th></th>\n",
       "      <th>기준_날짜</th>\n",
       "      <th>기준_시간대</th>\n",
       "      <th>시작_대여소_ID</th>\n",
       "      <th>종료_대여소_ID</th>\n",
       "      <th>전체_건수</th>\n",
       "      <th>전체_이용_분</th>\n",
       "      <th>전체_이용_거리</th>\n",
       "      <th>요일</th>\n",
       "      <th>주말</th>\n",
       "      <th>휴일</th>\n",
       "      <th>시간대_구간</th>\n",
       "    </tr>\n",
       "  </thead>\n",
       "  <tbody>\n",
       "    <tr>\n",
       "      <th>1612630</th>\n",
       "      <td>2023-04-03</td>\n",
       "      <td>2055</td>\n",
       "      <td>ST-1352</td>\n",
       "      <td>ST-2047</td>\n",
       "      <td>2</td>\n",
       "      <td>17</td>\n",
       "      <td>2843</td>\n",
       "      <td>0</td>\n",
       "      <td>0</td>\n",
       "      <td>0</td>\n",
       "      <td>17:00~21:00</td>\n",
       "    </tr>\n",
       "    <tr>\n",
       "      <th>1608882</th>\n",
       "      <td>2023-04-03</td>\n",
       "      <td>1910</td>\n",
       "      <td>ST-2557</td>\n",
       "      <td>ST-2557</td>\n",
       "      <td>1</td>\n",
       "      <td>26</td>\n",
       "      <td>3485</td>\n",
       "      <td>0</td>\n",
       "      <td>0</td>\n",
       "      <td>0</td>\n",
       "      <td>17:00~21:00</td>\n",
       "    </tr>\n",
       "    <tr>\n",
       "      <th>1608911</th>\n",
       "      <td>2023-04-03</td>\n",
       "      <td>1915</td>\n",
       "      <td>ST-1352</td>\n",
       "      <td>ST-524</td>\n",
       "      <td>1</td>\n",
       "      <td>12</td>\n",
       "      <td>1989</td>\n",
       "      <td>0</td>\n",
       "      <td>0</td>\n",
       "      <td>0</td>\n",
       "      <td>17:00~21:00</td>\n",
       "    </tr>\n",
       "    <tr>\n",
       "      <th>1608917</th>\n",
       "      <td>2023-04-03</td>\n",
       "      <td>1915</td>\n",
       "      <td>ST-1645</td>\n",
       "      <td>ST-2489</td>\n",
       "      <td>1</td>\n",
       "      <td>16</td>\n",
       "      <td>3300</td>\n",
       "      <td>0</td>\n",
       "      <td>0</td>\n",
       "      <td>0</td>\n",
       "      <td>17:00~21:00</td>\n",
       "    </tr>\n",
       "    <tr>\n",
       "      <th>1609001</th>\n",
       "      <td>2023-04-03</td>\n",
       "      <td>1920</td>\n",
       "      <td>ST-1253</td>\n",
       "      <td>ST-1065</td>\n",
       "      <td>1</td>\n",
       "      <td>10</td>\n",
       "      <td>1630</td>\n",
       "      <td>0</td>\n",
       "      <td>0</td>\n",
       "      <td>0</td>\n",
       "      <td>17:00~21:00</td>\n",
       "    </tr>\n",
       "    <tr>\n",
       "      <th>...</th>\n",
       "      <td>...</td>\n",
       "      <td>...</td>\n",
       "      <td>...</td>\n",
       "      <td>...</td>\n",
       "      <td>...</td>\n",
       "      <td>...</td>\n",
       "      <td>...</td>\n",
       "      <td>...</td>\n",
       "      <td>...</td>\n",
       "      <td>...</td>\n",
       "      <td>...</td>\n",
       "    </tr>\n",
       "    <tr>\n",
       "      <th>3294677</th>\n",
       "      <td>2024-03-29</td>\n",
       "      <td>1905</td>\n",
       "      <td>ST-2056</td>\n",
       "      <td>ST-2884</td>\n",
       "      <td>1</td>\n",
       "      <td>6</td>\n",
       "      <td>671</td>\n",
       "      <td>4</td>\n",
       "      <td>0</td>\n",
       "      <td>0</td>\n",
       "      <td>17:00~21:00</td>\n",
       "    </tr>\n",
       "    <tr>\n",
       "      <th>3294686</th>\n",
       "      <td>2024-03-29</td>\n",
       "      <td>1905</td>\n",
       "      <td>ST-2557</td>\n",
       "      <td>ST-1714</td>\n",
       "      <td>2</td>\n",
       "      <td>23</td>\n",
       "      <td>3309</td>\n",
       "      <td>4</td>\n",
       "      <td>0</td>\n",
       "      <td>0</td>\n",
       "      <td>17:00~21:00</td>\n",
       "    </tr>\n",
       "    <tr>\n",
       "      <th>3294687</th>\n",
       "      <td>2024-03-29</td>\n",
       "      <td>1905</td>\n",
       "      <td>ST-2557</td>\n",
       "      <td>ST-530</td>\n",
       "      <td>1</td>\n",
       "      <td>10</td>\n",
       "      <td>1686</td>\n",
       "      <td>4</td>\n",
       "      <td>0</td>\n",
       "      <td>0</td>\n",
       "      <td>17:00~21:00</td>\n",
       "    </tr>\n",
       "    <tr>\n",
       "      <th>3294763</th>\n",
       "      <td>2024-03-29</td>\n",
       "      <td>1910</td>\n",
       "      <td>ST-2056</td>\n",
       "      <td>ST-1694</td>\n",
       "      <td>1</td>\n",
       "      <td>7</td>\n",
       "      <td>1144</td>\n",
       "      <td>4</td>\n",
       "      <td>0</td>\n",
       "      <td>0</td>\n",
       "      <td>17:00~21:00</td>\n",
       "    </tr>\n",
       "    <tr>\n",
       "      <th>3292911</th>\n",
       "      <td>2024-03-29</td>\n",
       "      <td>1735</td>\n",
       "      <td>ST-2965</td>\n",
       "      <td>ST-2857</td>\n",
       "      <td>1</td>\n",
       "      <td>9</td>\n",
       "      <td>1322</td>\n",
       "      <td>4</td>\n",
       "      <td>0</td>\n",
       "      <td>0</td>\n",
       "      <td>17:00~21:00</td>\n",
       "    </tr>\n",
       "  </tbody>\n",
       "</table>\n",
       "<p>48501 rows × 11 columns</p>\n",
       "</div>"
      ],
      "text/plain": [
       "              기준_날짜  기준_시간대 시작_대여소_ID 종료_대여소_ID  전체_건수  전체_이용_분  전체_이용_거리  요일  \\\n",
       "1612630  2023-04-03    2055   ST-1352   ST-2047      2       17      2843   0   \n",
       "1608882  2023-04-03    1910   ST-2557   ST-2557      1       26      3485   0   \n",
       "1608911  2023-04-03    1915   ST-1352    ST-524      1       12      1989   0   \n",
       "1608917  2023-04-03    1915   ST-1645   ST-2489      1       16      3300   0   \n",
       "1609001  2023-04-03    1920   ST-1253   ST-1065      1       10      1630   0   \n",
       "...             ...     ...       ...       ...    ...      ...       ...  ..   \n",
       "3294677  2024-03-29    1905   ST-2056   ST-2884      1        6       671   4   \n",
       "3294686  2024-03-29    1905   ST-2557   ST-1714      2       23      3309   4   \n",
       "3294687  2024-03-29    1905   ST-2557    ST-530      1       10      1686   4   \n",
       "3294763  2024-03-29    1910   ST-2056   ST-1694      1        7      1144   4   \n",
       "3292911  2024-03-29    1735   ST-2965   ST-2857      1        9      1322   4   \n",
       "\n",
       "         주말  휴일       시간대_구간  \n",
       "1612630   0   0  17:00~21:00  \n",
       "1608882   0   0  17:00~21:00  \n",
       "1608911   0   0  17:00~21:00  \n",
       "1608917   0   0  17:00~21:00  \n",
       "1609001   0   0  17:00~21:00  \n",
       "...      ..  ..          ...  \n",
       "3294677   0   0  17:00~21:00  \n",
       "3294686   0   0  17:00~21:00  \n",
       "3294687   0   0  17:00~21:00  \n",
       "3294763   0   0  17:00~21:00  \n",
       "3292911   0   0  17:00~21:00  \n",
       "\n",
       "[48501 rows x 11 columns]"
      ]
     },
     "execution_count": 51,
     "metadata": {},
     "output_type": "execute_result"
    }
   ],
   "source": [
    "주거_강서_df2"
   ]
  },
  {
   "cell_type": "code",
   "execution_count": 15,
   "metadata": {},
   "outputs": [
    {
     "name": "stdout",
     "output_type": "stream",
     "text": [
      "           기준_날짜 시작_대여소_ID  전체_건수\n",
      "0     2023-04-03   ST-1253     27\n",
      "1     2023-04-03   ST-1352     56\n",
      "2     2023-04-03   ST-1645     70\n",
      "3     2023-04-03   ST-2056     61\n",
      "4     2023-04-03   ST-2557     49\n",
      "...          ...       ...    ...\n",
      "1637  2024-03-29   ST-1645     62\n",
      "1638  2024-03-29   ST-2050     75\n",
      "1639  2024-03-29   ST-2056     46\n",
      "1640  2024-03-29   ST-2557     57\n",
      "1641  2024-03-29   ST-2965     58\n",
      "\n",
      "[1642 rows x 3 columns]\n"
     ]
    }
   ],
   "source": [
    "grouped_data = 주거_강서_df1.groupby(['기준_날짜', '시작_대여소_ID'])['전체_건수'].sum().reset_index()\n",
    "print(grouped_data)"
   ]
  },
  {
   "cell_type": "code",
   "execution_count": 16,
   "metadata": {},
   "outputs": [
    {
     "data": {
      "text/plain": [
       "7"
      ]
     },
     "execution_count": 16,
     "metadata": {},
     "output_type": "execute_result"
    }
   ],
   "source": [
    "len(주거_IDs)"
   ]
  },
  {
   "cell_type": "code",
   "execution_count": 32,
   "metadata": {},
   "outputs": [
    {
     "name": "stdout",
     "output_type": "stream",
     "text": [
      "                               SARIMAX Results                                \n",
      "==============================================================================\n",
      "Dep. Variable:                  전체_건수   No. Observations:                  362\n",
      "Model:                 ARIMA(1, 1, 0)   Log Likelihood               -1754.964\n",
      "Date:                Wed, 08 May 2024   AIC                           3513.929\n",
      "Time:                        00:02:13   BIC                           3521.707\n",
      "Sample:                    04-03-2023   HQIC                          3517.021\n",
      "                         - 03-29-2024                                         \n",
      "Covariance Type:                  opg                                         \n",
      "==============================================================================\n",
      "                 coef    std err          z      P>|z|      [0.025      0.975]\n",
      "------------------------------------------------------------------------------\n",
      "ar.L1         -0.0956      0.076     -1.255      0.210      -0.245       0.054\n",
      "sigma2       978.8890     73.276     13.359      0.000     835.270    1122.508\n",
      "===================================================================================\n",
      "Ljung-Box (L1) (Q):                   0.17   Jarque-Bera (JB):                19.52\n",
      "Prob(Q):                              0.68   Prob(JB):                         0.00\n",
      "Heteroskedasticity (H):               0.48   Skew:                            -0.56\n",
      "Prob(H) (two-sided):                  0.00   Kurtosis:                         3.22\n",
      "===================================================================================\n",
      "\n",
      "Warnings:\n",
      "[1] Covariance matrix calculated using the outer product of gradients (complex-step).\n",
      "대여소 ST-1253의 다음 시간대 예측값: 51.99319321157202\n",
      "                               SARIMAX Results                                \n",
      "==============================================================================\n",
      "Dep. Variable:                  전체_건수   No. Observations:                  362\n",
      "Model:                 ARIMA(1, 1, 0)   Log Likelihood               -1768.689\n",
      "Date:                Wed, 08 May 2024   AIC                           3541.377\n",
      "Time:                        00:02:13   BIC                           3549.155\n",
      "Sample:                    04-03-2023   HQIC                          3544.469\n",
      "                         - 03-29-2024                                         \n",
      "Covariance Type:                  opg                                         \n",
      "==============================================================================\n",
      "                 coef    std err          z      P>|z|      [0.025      0.975]\n",
      "------------------------------------------------------------------------------\n",
      "ar.L1         -0.1154      0.080     -1.440      0.150      -0.272       0.042\n",
      "sigma2      1056.5286     74.855     14.114      0.000     909.815    1203.242\n",
      "===================================================================================\n",
      "Ljung-Box (L1) (Q):                   0.37   Jarque-Bera (JB):                 4.58\n",
      "Prob(Q):                              0.54   Prob(JB):                         0.10\n",
      "Heteroskedasticity (H):               0.41   Skew:                            -0.19\n",
      "Prob(H) (two-sided):                  0.00   Kurtosis:                         3.40\n",
      "===================================================================================\n",
      "\n",
      "Warnings:\n",
      "[1] Covariance matrix calculated using the outer product of gradients (complex-step).\n",
      "대여소 ST-1352의 다음 시간대 예측값: 37.38497416712348\n",
      "                               SARIMAX Results                                \n",
      "==============================================================================\n",
      "Dep. Variable:                  전체_건수   No. Observations:                  362\n",
      "Model:                 ARIMA(1, 1, 0)   Log Likelihood               -1805.410\n",
      "Date:                Wed, 08 May 2024   AIC                           3614.819\n",
      "Time:                        00:02:13   BIC                           3622.597\n",
      "Sample:                    04-03-2023   HQIC                          3617.911\n",
      "                         - 03-29-2024                                         \n",
      "Covariance Type:                  opg                                         \n",
      "==============================================================================\n",
      "                 coef    std err          z      P>|z|      [0.025      0.975]\n",
      "------------------------------------------------------------------------------\n",
      "ar.L1         -0.1152      0.087     -1.326      0.185      -0.285       0.055\n",
      "sigma2      1296.0986     93.666     13.838      0.000    1112.518    1479.680\n",
      "===================================================================================\n",
      "Ljung-Box (L1) (Q):                   0.46   Jarque-Bera (JB):                 1.69\n",
      "Prob(Q):                              0.50   Prob(JB):                         0.43\n",
      "Heteroskedasticity (H):               0.40   Skew:                            -0.12\n",
      "Prob(H) (two-sided):                  0.00   Kurtosis:                         3.23\n",
      "===================================================================================\n",
      "\n",
      "Warnings:\n",
      "[1] Covariance matrix calculated using the outer product of gradients (complex-step).\n",
      "대여소 ST-1645의 다음 시간대 예측값: 58.313741558475144\n",
      "                               SARIMAX Results                                \n",
      "==============================================================================\n",
      "Dep. Variable:                  전체_건수   No. Observations:                  332\n",
      "Model:                 ARIMA(1, 1, 0)   Log Likelihood               -1726.719\n",
      "Date:                Wed, 08 May 2024   AIC                           3457.437\n",
      "Time:                        00:02:13   BIC                           3465.042\n",
      "Sample:                    05-03-2023   HQIC                          3460.470\n",
      "                         - 03-29-2024                                         \n",
      "Covariance Type:                  opg                                         \n",
      "==============================================================================\n",
      "                 coef    std err          z      P>|z|      [0.025      0.975]\n",
      "------------------------------------------------------------------------------\n",
      "ar.L1         -0.0397      0.084     -0.472      0.637      -0.204       0.125\n",
      "sigma2      1994.3926    148.839     13.400      0.000    1702.673    2286.112\n",
      "===================================================================================\n",
      "Ljung-Box (L1) (Q):                   0.04   Jarque-Bera (JB):                19.56\n",
      "Prob(Q):                              0.85   Prob(JB):                         0.00\n",
      "Heteroskedasticity (H):               0.55   Skew:                            -0.57\n",
      "Prob(H) (two-sided):                  0.00   Kurtosis:                         3.36\n",
      "===================================================================================\n",
      "\n",
      "Warnings:\n",
      "[1] Covariance matrix calculated using the outer product of gradients (complex-step).\n",
      "대여소 ST-2050의 다음 시간대 예측값: 73.29504351876041\n",
      "                               SARIMAX Results                                \n",
      "==============================================================================\n",
      "Dep. Variable:                  전체_건수   No. Observations:                  362\n",
      "Model:                 ARIMA(1, 1, 0)   Log Likelihood               -1804.133\n",
      "Date:                Wed, 08 May 2024   AIC                           3612.267\n",
      "Time:                        00:02:13   BIC                           3620.045\n",
      "Sample:                    04-03-2023   HQIC                          3615.359\n",
      "                         - 03-29-2024                                         \n",
      "Covariance Type:                  opg                                         \n",
      "==============================================================================\n",
      "                 coef    std err          z      P>|z|      [0.025      0.975]\n",
      "------------------------------------------------------------------------------\n",
      "ar.L1         -0.1490      0.070     -2.122      0.034      -0.287      -0.011\n",
      "sigma2      1286.8044     95.642     13.454      0.000    1099.350    1474.259\n",
      "===================================================================================\n",
      "Ljung-Box (L1) (Q):                   0.87   Jarque-Bera (JB):                 0.41\n",
      "Prob(Q):                              0.35   Prob(JB):                         0.82\n",
      "Heteroskedasticity (H):               0.43   Skew:                            -0.07\n",
      "Prob(H) (two-sided):                  0.00   Kurtosis:                         3.10\n",
      "===================================================================================\n",
      "\n",
      "Warnings:\n",
      "[1] Covariance matrix calculated using the outer product of gradients (complex-step).\n",
      "대여소 ST-2056의 다음 시간대 예측값: 40.93429918535808\n",
      "                               SARIMAX Results                                \n",
      "==============================================================================\n",
      "Dep. Variable:                  전체_건수   No. Observations:                  362\n",
      "Model:                 ARIMA(1, 1, 0)   Log Likelihood               -1888.329\n",
      "Date:                Wed, 08 May 2024   AIC                           3780.659\n",
      "Time:                        00:02:13   BIC                           3788.436\n",
      "Sample:                    04-03-2023   HQIC                          3783.751\n",
      "                         - 03-29-2024                                         \n",
      "Covariance Type:                  opg                                         \n",
      "==============================================================================\n",
      "                 coef    std err          z      P>|z|      [0.025      0.975]\n",
      "------------------------------------------------------------------------------\n",
      "ar.L1         -0.1099      0.067     -1.645      0.100      -0.241       0.021\n",
      "sigma2      2049.7368    142.773     14.357      0.000    1769.907    2329.567\n",
      "===================================================================================\n",
      "Ljung-Box (L1) (Q):                   0.41   Jarque-Bera (JB):                 4.62\n",
      "Prob(Q):                              0.52   Prob(JB):                         0.10\n",
      "Heteroskedasticity (H):               0.37   Skew:                            -0.16\n",
      "Prob(H) (two-sided):                  0.00   Kurtosis:                         3.46\n",
      "===================================================================================\n",
      "\n",
      "Warnings:\n",
      "[1] Covariance matrix calculated using the outer product of gradients (complex-step).\n",
      "대여소 ST-2557의 다음 시간대 예측값: 53.153948419412025\n",
      "                               SARIMAX Results                                \n",
      "==============================================================================\n",
      "Dep. Variable:                  전체_건수   No. Observations:                  332\n",
      "Model:                 ARIMA(1, 1, 0)   Log Likelihood               -1644.289\n",
      "Date:                Wed, 08 May 2024   AIC                           3292.578\n",
      "Time:                        00:02:13   BIC                           3300.182\n",
      "Sample:                    05-03-2023   HQIC                          3295.610\n",
      "                         - 03-29-2024                                         \n",
      "Covariance Type:                  opg                                         \n",
      "==============================================================================\n",
      "                 coef    std err          z      P>|z|      [0.025      0.975]\n",
      "------------------------------------------------------------------------------\n",
      "ar.L1         -0.0925      0.080     -1.162      0.245      -0.249       0.064\n",
      "sigma2      1212.0743     94.449     12.833      0.000    1026.958    1397.191\n",
      "===================================================================================\n",
      "Ljung-Box (L1) (Q):                   0.22   Jarque-Bera (JB):                 3.35\n",
      "Prob(Q):                              0.64   Prob(JB):                         0.19\n",
      "Heteroskedasticity (H):               0.49   Skew:                            -0.22\n",
      "Prob(H) (two-sided):                  0.00   Kurtosis:                         3.20\n",
      "===================================================================================\n",
      "\n",
      "Warnings:\n",
      "[1] Covariance matrix calculated using the outer product of gradients (complex-step).\n",
      "대여소 ST-2965의 다음 시간대 예측값: 55.03913024362471\n"
     ]
    },
    {
     "name": "stderr",
     "output_type": "stream",
     "text": [
      "C:\\Users\\ciw96\\AppData\\Local\\Temp\\ipykernel_61180\\1473983466.py:45: SettingWithCopyWarning:\n",
      "\n",
      "\n",
      "A value is trying to be set on a copy of a slice from a DataFrame.\n",
      "Try using .loc[row_indexer,col_indexer] = value instead\n",
      "\n",
      "See the caveats in the documentation: https://pandas.pydata.org/pandas-docs/stable/user_guide/indexing.html#returning-a-view-versus-a-copy\n",
      "\n",
      "C:\\Users\\ciw96\\AppData\\Local\\Temp\\ipykernel_61180\\1473983466.py:20: FutureWarning:\n",
      "\n",
      "Series.__getitem__ treating keys as positions is deprecated. In a future version, integer keys will always be treated as labels (consistent with DataFrame behavior). To access a value by position, use `ser.iloc[pos]`\n",
      "\n",
      "C:\\Users\\ciw96\\AppData\\Local\\Temp\\ipykernel_61180\\1473983466.py:45: SettingWithCopyWarning:\n",
      "\n",
      "\n",
      "A value is trying to be set on a copy of a slice from a DataFrame.\n",
      "Try using .loc[row_indexer,col_indexer] = value instead\n",
      "\n",
      "See the caveats in the documentation: https://pandas.pydata.org/pandas-docs/stable/user_guide/indexing.html#returning-a-view-versus-a-copy\n",
      "\n",
      "C:\\Users\\ciw96\\AppData\\Local\\Temp\\ipykernel_61180\\1473983466.py:20: FutureWarning:\n",
      "\n",
      "Series.__getitem__ treating keys as positions is deprecated. In a future version, integer keys will always be treated as labels (consistent with DataFrame behavior). To access a value by position, use `ser.iloc[pos]`\n",
      "\n",
      "C:\\Users\\ciw96\\AppData\\Local\\Temp\\ipykernel_61180\\1473983466.py:45: SettingWithCopyWarning:\n",
      "\n",
      "\n",
      "A value is trying to be set on a copy of a slice from a DataFrame.\n",
      "Try using .loc[row_indexer,col_indexer] = value instead\n",
      "\n",
      "See the caveats in the documentation: https://pandas.pydata.org/pandas-docs/stable/user_guide/indexing.html#returning-a-view-versus-a-copy\n",
      "\n",
      "C:\\Users\\ciw96\\AppData\\Local\\Temp\\ipykernel_61180\\1473983466.py:20: FutureWarning:\n",
      "\n",
      "Series.__getitem__ treating keys as positions is deprecated. In a future version, integer keys will always be treated as labels (consistent with DataFrame behavior). To access a value by position, use `ser.iloc[pos]`\n",
      "\n",
      "C:\\Users\\ciw96\\AppData\\Local\\Temp\\ipykernel_61180\\1473983466.py:45: SettingWithCopyWarning:\n",
      "\n",
      "\n",
      "A value is trying to be set on a copy of a slice from a DataFrame.\n",
      "Try using .loc[row_indexer,col_indexer] = value instead\n",
      "\n",
      "See the caveats in the documentation: https://pandas.pydata.org/pandas-docs/stable/user_guide/indexing.html#returning-a-view-versus-a-copy\n",
      "\n",
      "C:\\Users\\ciw96\\AppData\\Local\\Temp\\ipykernel_61180\\1473983466.py:20: FutureWarning:\n",
      "\n",
      "Series.__getitem__ treating keys as positions is deprecated. In a future version, integer keys will always be treated as labels (consistent with DataFrame behavior). To access a value by position, use `ser.iloc[pos]`\n",
      "\n",
      "C:\\Users\\ciw96\\AppData\\Local\\Temp\\ipykernel_61180\\1473983466.py:45: SettingWithCopyWarning:\n",
      "\n",
      "\n",
      "A value is trying to be set on a copy of a slice from a DataFrame.\n",
      "Try using .loc[row_indexer,col_indexer] = value instead\n",
      "\n",
      "See the caveats in the documentation: https://pandas.pydata.org/pandas-docs/stable/user_guide/indexing.html#returning-a-view-versus-a-copy\n",
      "\n",
      "C:\\Users\\ciw96\\AppData\\Local\\Temp\\ipykernel_61180\\1473983466.py:20: FutureWarning:\n",
      "\n",
      "Series.__getitem__ treating keys as positions is deprecated. In a future version, integer keys will always be treated as labels (consistent with DataFrame behavior). To access a value by position, use `ser.iloc[pos]`\n",
      "\n",
      "C:\\Users\\ciw96\\AppData\\Local\\Temp\\ipykernel_61180\\1473983466.py:45: SettingWithCopyWarning:\n",
      "\n",
      "\n",
      "A value is trying to be set on a copy of a slice from a DataFrame.\n",
      "Try using .loc[row_indexer,col_indexer] = value instead\n",
      "\n",
      "See the caveats in the documentation: https://pandas.pydata.org/pandas-docs/stable/user_guide/indexing.html#returning-a-view-versus-a-copy\n",
      "\n",
      "C:\\Users\\ciw96\\AppData\\Local\\Temp\\ipykernel_61180\\1473983466.py:20: FutureWarning:\n",
      "\n",
      "Series.__getitem__ treating keys as positions is deprecated. In a future version, integer keys will always be treated as labels (consistent with DataFrame behavior). To access a value by position, use `ser.iloc[pos]`\n",
      "\n",
      "C:\\Users\\ciw96\\AppData\\Local\\Temp\\ipykernel_61180\\1473983466.py:45: SettingWithCopyWarning:\n",
      "\n",
      "\n",
      "A value is trying to be set on a copy of a slice from a DataFrame.\n",
      "Try using .loc[row_indexer,col_indexer] = value instead\n",
      "\n",
      "See the caveats in the documentation: https://pandas.pydata.org/pandas-docs/stable/user_guide/indexing.html#returning-a-view-versus-a-copy\n",
      "\n",
      "C:\\Users\\ciw96\\AppData\\Local\\Temp\\ipykernel_61180\\1473983466.py:20: FutureWarning:\n",
      "\n",
      "Series.__getitem__ treating keys as positions is deprecated. In a future version, integer keys will always be treated as labels (consistent with DataFrame behavior). To access a value by position, use `ser.iloc[pos]`\n",
      "\n"
     ]
    }
   ],
   "source": [
    "import pandas as pd\n",
    "import numpy as np\n",
    "import matplotlib.pyplot as plt\n",
    "from statsmodels.tsa.arima.model import ARIMA\n",
    "from statsmodels.graphics.tsaplots import plot_acf, plot_pacf\n",
    "\n",
    "result = []\n",
    "# ARIMA 모델 학습 및 예측 함수\n",
    "def check_best_arima(data):\n",
    "    for i in range(1,6) : \n",
    "        for j in range(1,3) :\n",
    "            for k in range(1,3) : \n",
    "                model = ARIMA(data, order=(i,j,k))  # ARIMA(p,d,q) 모델 설정1\n",
    "                model_fit = model.fit()\n",
    "                # 예측 결과 출력\n",
    "                print(model_fit.summary())  \n",
    "\n",
    "\n",
    "def arima_forecast(data):\n",
    "    plot_acf(data)\n",
    "    plot_pacf(data)\n",
    "    plt.show()\n",
    "     \n",
    "    #ARIMA 모델 학습\n",
    "    # ARIMA 모델 학습\n",
    "    model = ARIMA(data, order=(1,1,0))  # ARIMA(p,d,q) 모델 설정1\n",
    "    model_fit = model.fit()\n",
    "\n",
    "    # 다음 시간대의 예측값 계산\n",
    "    forecast = model_fit.forecast(steps=1)[0]\n",
    "    \n",
    "    # 예측 결과 출력\n",
    "    print(model_fit.summary())\n",
    "\n",
    "     #시각화\n",
    "    #plt.figure(figsize=(10, 6))\n",
    "    #plt.plot(data.index, data.values, label='Actual')\n",
    "    #plt.plot(data.index, model_fit.predict(start=0, ensd=len(data)-1), label='Predicted', color='red')\n",
    "    #plt.title('Actual vs. Predicted Bike Counts')\n",
    "    #plt.xlabel('Date')\n",
    "    #plt.ylabel('Bike Count')\n",
    "    #plt.legend()\n",
    "    #plt.grid(True)\n",
    "    #plt.show()\n",
    "    \n",
    "    return forecast\n",
    "\n",
    "def arima_test(data, IDS) : \n",
    "# 주거 대여소의 시계열 분석\n",
    "for 주거_ID in 주거_IDs:\n",
    "    \n",
    "    # 해당 주거 대여소의 데이터 추출\n",
    "    주거_data = 주거_강서_df1[주거_강서_df1['시작_대여소_ID'] == 주거_ID]\n",
    "\n",
    "    # 기준_날짜를 날짜형 데이터로 변환\n",
    "    주거_data['기준_날짜'] = pd.to_datetime(주거_data['기준_날짜'])\n",
    "\n",
    "    # 기준_날짜를 인덱스로 설정하고 일별로 집계\n",
    "    주거_data.set_index('기준_날짜', inplace=True)\n",
    "    arima_data = 주거_data.resample('D')['전체_건수'].sum()  # 일별 전체_건수 합계 집계\n",
    "\n",
    "    # ARIMA 모델을 통한 예측\n",
    "    forecast = arima_forecast(arima_data)\n",
    "    result.append(forecast)\n",
    "    print(f\"대여소 {주거_ID}의 다음 시간대 예측값: {forecast}\")"
   ]
  },
  {
   "cell_type": "code",
   "execution_count": null,
   "metadata": {},
   "outputs": [],
   "source": [
    "\n",
    "def arima_test(data, IDs) : \n",
    "    for 주거_ID in IDs:\n",
    "        \n",
    "        # 해당 주거 대여소의 데이터 추출\n",
    "        주거_data = data[data['시작_대여소_ID'] == 주거_ID]\n",
    "\n",
    "        # 기준_날짜를 날짜형 데이터로 변환\n",
    "        주거_data['기준_날짜'] = pd.to_datetime(주거_data['기준_날짜'])\n",
    "\n",
    "        # 기준_날짜를 인덱스로 설정하고 일별로 집계\n",
    "        주거_data.set_index('기준_날짜', inplace=True)\n",
    "        arima_data = 주거_data.resample('D')['전체_건수'].sum()  # 일별 전체_건수 합계 집계\n",
    "\n",
    "        # ARIMA 모델을 통한 예측\n",
    "        forecast = arima_forecast(arima_data)\n",
    "        result.append(forecast)\n",
    "        print(f\"대여소 {주거_ID}의 다음 시간대 예측값: {forecast}\")"
   ]
  },
  {
   "cell_type": "code",
   "execution_count": 19,
   "metadata": {},
   "outputs": [],
   "source": [
    "주거_check=주거_강서_df1[주거_강서_df1['시작_대여소_ID']=='ST-1352'].groupby('기준_날짜')['전체_건수'].sum()"
   ]
  },
  {
   "cell_type": "code",
   "execution_count": 20,
   "metadata": {},
   "outputs": [],
   "source": [
    "주거_check_df = 주거_check.to_frame()\n",
    "주거_check_df.reset_index(inplace=True)\n",
    "주거_check_df.columns = ['기준_날짜', '전체_건수']"
   ]
  },
  {
   "cell_type": "code",
   "execution_count": 21,
   "metadata": {},
   "outputs": [
    {
     "data": {
      "application/vnd.plotly.v1+json": {
       "config": {
        "plotlyServerURL": "https://plot.ly"
       },
       "data": [
        {
         "type": "bar",
         "x": [
          "2024-03-04",
          "2024-03-05",
          "2024-03-06",
          "2024-03-07",
          "2024-03-08",
          "2024-03-11",
          "2024-03-12",
          "2024-03-13",
          "2024-03-14",
          "2024-03-15",
          "2024-03-18",
          "2024-03-19",
          "2024-03-20",
          "2024-03-21",
          "2024-03-22",
          "2024-03-25",
          "2024-03-26",
          "2024-03-27",
          "2024-03-28",
          "2024-03-29"
         ],
         "y": [
          33,
          61,
          55,
          60,
          49,
          47,
          34,
          38,
          57,
          55,
          31,
          44,
          46,
          44,
          27,
          45,
          5,
          52,
          25,
          39
         ]
        }
       ],
       "layout": {
        "hoverlabel": {
         "bgcolor": "white",
         "font": {
          "family": "Rockwell",
          "size": 16
         }
        },
        "hovermode": "x",
        "template": {
         "data": {
          "bar": [
           {
            "error_x": {
             "color": "#2a3f5f"
            },
            "error_y": {
             "color": "#2a3f5f"
            },
            "marker": {
             "line": {
              "color": "#E5ECF6",
              "width": 0.5
             },
             "pattern": {
              "fillmode": "overlay",
              "size": 10,
              "solidity": 0.2
             }
            },
            "type": "bar"
           }
          ],
          "barpolar": [
           {
            "marker": {
             "line": {
              "color": "#E5ECF6",
              "width": 0.5
             },
             "pattern": {
              "fillmode": "overlay",
              "size": 10,
              "solidity": 0.2
             }
            },
            "type": "barpolar"
           }
          ],
          "carpet": [
           {
            "aaxis": {
             "endlinecolor": "#2a3f5f",
             "gridcolor": "white",
             "linecolor": "white",
             "minorgridcolor": "white",
             "startlinecolor": "#2a3f5f"
            },
            "baxis": {
             "endlinecolor": "#2a3f5f",
             "gridcolor": "white",
             "linecolor": "white",
             "minorgridcolor": "white",
             "startlinecolor": "#2a3f5f"
            },
            "type": "carpet"
           }
          ],
          "choropleth": [
           {
            "colorbar": {
             "outlinewidth": 0,
             "ticks": ""
            },
            "type": "choropleth"
           }
          ],
          "contour": [
           {
            "colorbar": {
             "outlinewidth": 0,
             "ticks": ""
            },
            "colorscale": [
             [
              0,
              "#0d0887"
             ],
             [
              0.1111111111111111,
              "#46039f"
             ],
             [
              0.2222222222222222,
              "#7201a8"
             ],
             [
              0.3333333333333333,
              "#9c179e"
             ],
             [
              0.4444444444444444,
              "#bd3786"
             ],
             [
              0.5555555555555556,
              "#d8576b"
             ],
             [
              0.6666666666666666,
              "#ed7953"
             ],
             [
              0.7777777777777778,
              "#fb9f3a"
             ],
             [
              0.8888888888888888,
              "#fdca26"
             ],
             [
              1,
              "#f0f921"
             ]
            ],
            "type": "contour"
           }
          ],
          "contourcarpet": [
           {
            "colorbar": {
             "outlinewidth": 0,
             "ticks": ""
            },
            "type": "contourcarpet"
           }
          ],
          "heatmap": [
           {
            "colorbar": {
             "outlinewidth": 0,
             "ticks": ""
            },
            "colorscale": [
             [
              0,
              "#0d0887"
             ],
             [
              0.1111111111111111,
              "#46039f"
             ],
             [
              0.2222222222222222,
              "#7201a8"
             ],
             [
              0.3333333333333333,
              "#9c179e"
             ],
             [
              0.4444444444444444,
              "#bd3786"
             ],
             [
              0.5555555555555556,
              "#d8576b"
             ],
             [
              0.6666666666666666,
              "#ed7953"
             ],
             [
              0.7777777777777778,
              "#fb9f3a"
             ],
             [
              0.8888888888888888,
              "#fdca26"
             ],
             [
              1,
              "#f0f921"
             ]
            ],
            "type": "heatmap"
           }
          ],
          "heatmapgl": [
           {
            "colorbar": {
             "outlinewidth": 0,
             "ticks": ""
            },
            "colorscale": [
             [
              0,
              "#0d0887"
             ],
             [
              0.1111111111111111,
              "#46039f"
             ],
             [
              0.2222222222222222,
              "#7201a8"
             ],
             [
              0.3333333333333333,
              "#9c179e"
             ],
             [
              0.4444444444444444,
              "#bd3786"
             ],
             [
              0.5555555555555556,
              "#d8576b"
             ],
             [
              0.6666666666666666,
              "#ed7953"
             ],
             [
              0.7777777777777778,
              "#fb9f3a"
             ],
             [
              0.8888888888888888,
              "#fdca26"
             ],
             [
              1,
              "#f0f921"
             ]
            ],
            "type": "heatmapgl"
           }
          ],
          "histogram": [
           {
            "marker": {
             "pattern": {
              "fillmode": "overlay",
              "size": 10,
              "solidity": 0.2
             }
            },
            "type": "histogram"
           }
          ],
          "histogram2d": [
           {
            "colorbar": {
             "outlinewidth": 0,
             "ticks": ""
            },
            "colorscale": [
             [
              0,
              "#0d0887"
             ],
             [
              0.1111111111111111,
              "#46039f"
             ],
             [
              0.2222222222222222,
              "#7201a8"
             ],
             [
              0.3333333333333333,
              "#9c179e"
             ],
             [
              0.4444444444444444,
              "#bd3786"
             ],
             [
              0.5555555555555556,
              "#d8576b"
             ],
             [
              0.6666666666666666,
              "#ed7953"
             ],
             [
              0.7777777777777778,
              "#fb9f3a"
             ],
             [
              0.8888888888888888,
              "#fdca26"
             ],
             [
              1,
              "#f0f921"
             ]
            ],
            "type": "histogram2d"
           }
          ],
          "histogram2dcontour": [
           {
            "colorbar": {
             "outlinewidth": 0,
             "ticks": ""
            },
            "colorscale": [
             [
              0,
              "#0d0887"
             ],
             [
              0.1111111111111111,
              "#46039f"
             ],
             [
              0.2222222222222222,
              "#7201a8"
             ],
             [
              0.3333333333333333,
              "#9c179e"
             ],
             [
              0.4444444444444444,
              "#bd3786"
             ],
             [
              0.5555555555555556,
              "#d8576b"
             ],
             [
              0.6666666666666666,
              "#ed7953"
             ],
             [
              0.7777777777777778,
              "#fb9f3a"
             ],
             [
              0.8888888888888888,
              "#fdca26"
             ],
             [
              1,
              "#f0f921"
             ]
            ],
            "type": "histogram2dcontour"
           }
          ],
          "mesh3d": [
           {
            "colorbar": {
             "outlinewidth": 0,
             "ticks": ""
            },
            "type": "mesh3d"
           }
          ],
          "parcoords": [
           {
            "line": {
             "colorbar": {
              "outlinewidth": 0,
              "ticks": ""
             }
            },
            "type": "parcoords"
           }
          ],
          "pie": [
           {
            "automargin": true,
            "type": "pie"
           }
          ],
          "scatter": [
           {
            "fillpattern": {
             "fillmode": "overlay",
             "size": 10,
             "solidity": 0.2
            },
            "type": "scatter"
           }
          ],
          "scatter3d": [
           {
            "line": {
             "colorbar": {
              "outlinewidth": 0,
              "ticks": ""
             }
            },
            "marker": {
             "colorbar": {
              "outlinewidth": 0,
              "ticks": ""
             }
            },
            "type": "scatter3d"
           }
          ],
          "scattercarpet": [
           {
            "marker": {
             "colorbar": {
              "outlinewidth": 0,
              "ticks": ""
             }
            },
            "type": "scattercarpet"
           }
          ],
          "scattergeo": [
           {
            "marker": {
             "colorbar": {
              "outlinewidth": 0,
              "ticks": ""
             }
            },
            "type": "scattergeo"
           }
          ],
          "scattergl": [
           {
            "marker": {
             "colorbar": {
              "outlinewidth": 0,
              "ticks": ""
             }
            },
            "type": "scattergl"
           }
          ],
          "scattermapbox": [
           {
            "marker": {
             "colorbar": {
              "outlinewidth": 0,
              "ticks": ""
             }
            },
            "type": "scattermapbox"
           }
          ],
          "scatterpolar": [
           {
            "marker": {
             "colorbar": {
              "outlinewidth": 0,
              "ticks": ""
             }
            },
            "type": "scatterpolar"
           }
          ],
          "scatterpolargl": [
           {
            "marker": {
             "colorbar": {
              "outlinewidth": 0,
              "ticks": ""
             }
            },
            "type": "scatterpolargl"
           }
          ],
          "scatterternary": [
           {
            "marker": {
             "colorbar": {
              "outlinewidth": 0,
              "ticks": ""
             }
            },
            "type": "scatterternary"
           }
          ],
          "surface": [
           {
            "colorbar": {
             "outlinewidth": 0,
             "ticks": ""
            },
            "colorscale": [
             [
              0,
              "#0d0887"
             ],
             [
              0.1111111111111111,
              "#46039f"
             ],
             [
              0.2222222222222222,
              "#7201a8"
             ],
             [
              0.3333333333333333,
              "#9c179e"
             ],
             [
              0.4444444444444444,
              "#bd3786"
             ],
             [
              0.5555555555555556,
              "#d8576b"
             ],
             [
              0.6666666666666666,
              "#ed7953"
             ],
             [
              0.7777777777777778,
              "#fb9f3a"
             ],
             [
              0.8888888888888888,
              "#fdca26"
             ],
             [
              1,
              "#f0f921"
             ]
            ],
            "type": "surface"
           }
          ],
          "table": [
           {
            "cells": {
             "fill": {
              "color": "#EBF0F8"
             },
             "line": {
              "color": "white"
             }
            },
            "header": {
             "fill": {
              "color": "#C8D4E3"
             },
             "line": {
              "color": "white"
             }
            },
            "type": "table"
           }
          ]
         },
         "layout": {
          "annotationdefaults": {
           "arrowcolor": "#2a3f5f",
           "arrowhead": 0,
           "arrowwidth": 1
          },
          "autotypenumbers": "strict",
          "coloraxis": {
           "colorbar": {
            "outlinewidth": 0,
            "ticks": ""
           }
          },
          "colorscale": {
           "diverging": [
            [
             0,
             "#8e0152"
            ],
            [
             0.1,
             "#c51b7d"
            ],
            [
             0.2,
             "#de77ae"
            ],
            [
             0.3,
             "#f1b6da"
            ],
            [
             0.4,
             "#fde0ef"
            ],
            [
             0.5,
             "#f7f7f7"
            ],
            [
             0.6,
             "#e6f5d0"
            ],
            [
             0.7,
             "#b8e186"
            ],
            [
             0.8,
             "#7fbc41"
            ],
            [
             0.9,
             "#4d9221"
            ],
            [
             1,
             "#276419"
            ]
           ],
           "sequential": [
            [
             0,
             "#0d0887"
            ],
            [
             0.1111111111111111,
             "#46039f"
            ],
            [
             0.2222222222222222,
             "#7201a8"
            ],
            [
             0.3333333333333333,
             "#9c179e"
            ],
            [
             0.4444444444444444,
             "#bd3786"
            ],
            [
             0.5555555555555556,
             "#d8576b"
            ],
            [
             0.6666666666666666,
             "#ed7953"
            ],
            [
             0.7777777777777778,
             "#fb9f3a"
            ],
            [
             0.8888888888888888,
             "#fdca26"
            ],
            [
             1,
             "#f0f921"
            ]
           ],
           "sequentialminus": [
            [
             0,
             "#0d0887"
            ],
            [
             0.1111111111111111,
             "#46039f"
            ],
            [
             0.2222222222222222,
             "#7201a8"
            ],
            [
             0.3333333333333333,
             "#9c179e"
            ],
            [
             0.4444444444444444,
             "#bd3786"
            ],
            [
             0.5555555555555556,
             "#d8576b"
            ],
            [
             0.6666666666666666,
             "#ed7953"
            ],
            [
             0.7777777777777778,
             "#fb9f3a"
            ],
            [
             0.8888888888888888,
             "#fdca26"
            ],
            [
             1,
             "#f0f921"
            ]
           ]
          },
          "colorway": [
           "#636efa",
           "#EF553B",
           "#00cc96",
           "#ab63fa",
           "#FFA15A",
           "#19d3f3",
           "#FF6692",
           "#B6E880",
           "#FF97FF",
           "#FECB52"
          ],
          "font": {
           "color": "#2a3f5f"
          },
          "geo": {
           "bgcolor": "white",
           "lakecolor": "white",
           "landcolor": "#E5ECF6",
           "showlakes": true,
           "showland": true,
           "subunitcolor": "white"
          },
          "hoverlabel": {
           "align": "left"
          },
          "hovermode": "closest",
          "mapbox": {
           "style": "light"
          },
          "paper_bgcolor": "white",
          "plot_bgcolor": "#E5ECF6",
          "polar": {
           "angularaxis": {
            "gridcolor": "white",
            "linecolor": "white",
            "ticks": ""
           },
           "bgcolor": "#E5ECF6",
           "radialaxis": {
            "gridcolor": "white",
            "linecolor": "white",
            "ticks": ""
           }
          },
          "scene": {
           "xaxis": {
            "backgroundcolor": "#E5ECF6",
            "gridcolor": "white",
            "gridwidth": 2,
            "linecolor": "white",
            "showbackground": true,
            "ticks": "",
            "zerolinecolor": "white"
           },
           "yaxis": {
            "backgroundcolor": "#E5ECF6",
            "gridcolor": "white",
            "gridwidth": 2,
            "linecolor": "white",
            "showbackground": true,
            "ticks": "",
            "zerolinecolor": "white"
           },
           "zaxis": {
            "backgroundcolor": "#E5ECF6",
            "gridcolor": "white",
            "gridwidth": 2,
            "linecolor": "white",
            "showbackground": true,
            "ticks": "",
            "zerolinecolor": "white"
           }
          },
          "shapedefaults": {
           "line": {
            "color": "#2a3f5f"
           }
          },
          "ternary": {
           "aaxis": {
            "gridcolor": "white",
            "linecolor": "white",
            "ticks": ""
           },
           "baxis": {
            "gridcolor": "white",
            "linecolor": "white",
            "ticks": ""
           },
           "bgcolor": "#E5ECF6",
           "caxis": {
            "gridcolor": "white",
            "linecolor": "white",
            "ticks": ""
           }
          },
          "title": {
           "x": 0.05
          },
          "xaxis": {
           "automargin": true,
           "gridcolor": "white",
           "linecolor": "white",
           "ticks": "",
           "title": {
            "standoff": 15
           },
           "zerolinecolor": "white",
           "zerolinewidth": 2
          },
          "yaxis": {
           "automargin": true,
           "gridcolor": "white",
           "linecolor": "white",
           "ticks": "",
           "title": {
            "standoff": 15
           },
           "zerolinecolor": "white",
           "zerolinewidth": 2
          }
         }
        },
        "title": {
         "text": "전체 건수의 시간에 따른 변화"
        },
        "xaxis": {
         "title": {
          "text": "기준 날짜"
         }
        },
        "yaxis": {
         "title": {
          "text": "전체 건수"
         }
        }
       }
      }
     },
     "metadata": {},
     "output_type": "display_data"
    }
   ],
   "source": [
    "import plotly.graph_objects as go\n",
    "\n",
    "fig = go.Figure(data=[go.Bar(x=주거_check_df['기준_날짜'].iloc[-20:], y=주거_check_df['전체_건수'].iloc[-20:])])\n",
    "\n",
    "# 그래프 레이아웃 설정\n",
    "fig.update_layout(\n",
    "    title='전체 건수의 시간에 따른 변화',\n",
    "    xaxis_title='기준 날짜',\n",
    "    yaxis_title='전체 건수',\n",
    "    hovermode='x',\n",
    "    hoverlabel=dict(bgcolor=\"white\", font_size=16, font_family=\"Rockwell\")\n",
    ")\n",
    "\n",
    "# 그래프 표시\n",
    "fig.show()"
   ]
  },
  {
   "cell_type": "code",
   "execution_count": 80,
   "metadata": {},
   "outputs": [
    {
     "name": "stdout",
     "output_type": "stream",
     "text": [
      "ADF 통계량: -21.31795482597928\n",
      "p-value: 0.0\n",
      "p-value가 유의수준보다 작으므로 귀무가설을 기각합니다. 시계열 데이터는 정상성을 만족합니다.\n"
     ]
    }
   ],
   "source": [
    "from statsmodels.tsa.stattools import adfuller\n",
    "\n",
    "# ADF 테스트 수행\n",
    "adf_result = adfuller(주거_강서_df1[주거_강서_df1['종료_대여소_ID']=='ST-2056']['전체_건수'])\n",
    "\n",
    "# ADF 통계량 및 p-value 출력\n",
    "print(f'ADF 통계량: {adf_result[0]}')\n",
    "print(f'p-value: {adf_result[1]}')\n",
    "\n",
    "# 결과 해석\n",
    "if adf_result[1] < 0.05:\n",
    "    print('p-value가 유의수준보다 작으므로 귀무가설을 기각합니다. 시계열 데이터는 정상성을 만족합니다.')\n",
    "else:\n",
    "    print('p-value가 유의수준보다 크거나 같으므로 귀무가설을 기각할 수 없습니다. 시계열 데이터는 정상성을 만족하지 않을 수 있습니다.')"
   ]
  },
  {
   "cell_type": "code",
   "execution_count": 82,
   "metadata": {},
   "outputs": [
    {
     "data": {
      "image/png": "[encoded data removed]",
      "text/plain": [
       "<Figure size 640x480 with 1 Axes>"
      ]
     },
     "metadata": {},
     "output_type": "display_data"
    }
   ],
   "source": [
    "import matplotlib.pyplot as plt\n",
    "\n",
    "# 주어진 데이터 프레임에서 시간에 해당하는 열을 x축으로, 시계열 데이터를 y축으로 선택\n",
    "data_to_plot = 주거_강서_df1[주거_강서_df1['종료_대여소_ID']=='ST-2056']['전체_건수']\n",
    "\n",
    "# 그래프 생성\n",
    "plt.scatter(range(len(data_to_plot)), data_to_plot, color='blue', label='시계열 데이터')\n",
    "\n",
    "# 그래프 제목, x축 및 y축 라벨 추가\n",
    "plt.title('시계열 데이터의 산점도 그래프')\n",
    "plt.xlabel('시간')\n",
    "plt.ylabel('전체 건수')\n",
    "\n",
    "# 그래프 표시\n",
    "plt.show()"
   ]
  },
  {
   "cell_type": "code",
   "execution_count": 79,
   "metadata": {},
   "outputs": [
    {
     "name": "stderr",
     "output_type": "stream",
     "text": [
      "C:\\Users\\ciw96\\AppData\\Local\\Temp\\ipykernel_43876\\3679632164.py:13: SettingWithCopyWarning: \n",
      "A value is trying to be set on a copy of a slice from a DataFrame.\n",
      "Try using .loc[row_indexer,col_indexer] = value instead\n",
      "\n",
      "See the caveats in the documentation: https://pandas.pydata.org/pandas-docs/stable/user_guide/indexing.html#returning-a-view-versus-a-copy\n",
      "  주거_data['기준_날짜'] = pd.to_datetime(주거_data['기준_날짜'])\n"
     ]
    },
    {
     "name": "stdout",
     "output_type": "stream",
     "text": [
      "Performing stepwise search to minimize aic\n",
      " ARIMA(2,0,2)(1,1,1)[5] intercept   : AIC=inf, Time=0.91 sec\n",
      " ARIMA(0,0,0)(0,1,0)[5] intercept   : AIC=1614.168, Time=0.01 sec\n",
      " ARIMA(1,0,0)(1,1,0)[5] intercept   : AIC=1519.029, Time=0.08 sec\n",
      " ARIMA(0,0,1)(0,1,1)[5] intercept   : AIC=inf, Time=0.24 sec\n",
      " ARIMA(0,0,0)(0,1,0)[5]             : AIC=1612.169, Time=0.01 sec\n",
      " ARIMA(1,0,0)(0,1,0)[5] intercept   : AIC=1605.129, Time=0.03 sec\n",
      " ARIMA(1,0,0)(2,1,0)[5] intercept   : AIC=1427.008, Time=0.19 sec\n",
      " ARIMA(1,0,0)(2,1,1)[5] intercept   : AIC=1361.754, Time=0.28 sec\n",
      " ARIMA(1,0,0)(1,1,1)[5] intercept   : AIC=inf, Time=0.51 sec\n",
      " ARIMA(1,0,0)(2,1,2)[5] intercept   : AIC=1363.280, Time=0.40 sec\n",
      " ARIMA(1,0,0)(1,1,2)[5] intercept   : AIC=inf, Time=0.53 sec\n",
      " ARIMA(0,0,0)(2,1,1)[5] intercept   : AIC=1370.802, Time=0.20 sec\n",
      " ARIMA(2,0,0)(2,1,1)[5] intercept   : AIC=1362.160, Time=0.32 sec\n",
      " ARIMA(1,0,1)(2,1,1)[5] intercept   : AIC=1362.379, Time=0.40 sec\n",
      " ARIMA(0,0,1)(2,1,1)[5] intercept   : AIC=1360.481, Time=0.29 sec\n",
      " ARIMA(0,0,1)(1,1,1)[5] intercept   : AIC=inf, Time=0.37 sec\n",
      " ARIMA(0,0,1)(2,1,0)[5] intercept   : AIC=1424.996, Time=0.14 sec\n",
      " ARIMA(0,0,1)(2,1,2)[5] intercept   : AIC=1362.005, Time=0.43 sec\n",
      " ARIMA(0,0,1)(1,1,0)[5] intercept   : AIC=1511.843, Time=0.09 sec\n",
      " ARIMA(0,0,1)(1,1,2)[5] intercept   : AIC=inf, Time=0.44 sec\n",
      " ARIMA(0,0,2)(2,1,1)[5] intercept   : AIC=1362.363, Time=0.29 sec\n",
      " ARIMA(1,0,2)(2,1,1)[5] intercept   : AIC=1364.233, Time=0.66 sec\n",
      " ARIMA(0,0,1)(2,1,1)[5]             : AIC=1358.485, Time=0.17 sec\n",
      " ARIMA(0,0,1)(1,1,1)[5]             : AIC=1364.768, Time=0.19 sec\n",
      " ARIMA(0,0,1)(2,1,0)[5]             : AIC=1423.034, Time=0.13 sec\n",
      " ARIMA(0,0,1)(2,1,2)[5]             : AIC=1360.006, Time=0.27 sec\n",
      " ARIMA(0,0,1)(1,1,0)[5]             : AIC=1509.846, Time=0.04 sec\n",
      " ARIMA(0,0,1)(1,1,2)[5]             : AIC=inf, Time=0.48 sec\n",
      " ARIMA(0,0,0)(2,1,1)[5]             : AIC=1368.945, Time=0.08 sec\n",
      " ARIMA(1,0,1)(2,1,1)[5]             : AIC=1360.389, Time=0.24 sec\n",
      " ARIMA(0,0,2)(2,1,1)[5]             : AIC=1360.374, Time=0.19 sec\n",
      " ARIMA(1,0,0)(2,1,1)[5]             : AIC=1359.754, Time=0.18 sec\n",
      " ARIMA(1,0,2)(2,1,1)[5]             : AIC=1362.249, Time=0.31 sec\n",
      "\n",
      "Best model:  ARIMA(0,0,1)(2,1,1)[5]          \n",
      "Total fit time: 9.102 seconds\n",
      "대여소 의 다음 시간대 예측값: 0.6698952370216735\n"
     ]
    },
    {
     "name": "stderr",
     "output_type": "stream",
     "text": [
      "C:\\Users\\ciw96\\AppData\\Local\\Temp\\ipykernel_43876\\3679632164.py:25: FutureWarning: Series.__getitem__ treating keys as positions is deprecated. In a future version, integer keys will always be treated as labels (consistent with DataFrame behavior). To access a value by position, use `ser.iloc[pos]`\n",
      "  forecast = model_fit.predict(n_periods=1)[0]\n"
     ]
    }
   ],
   "source": [
    "from pmdarima import auto_arima\n",
    "\n",
    "result = []\n",
    "\n",
    "# 주거 대여소의 시계열 분석\n",
    "\n",
    "#for 주거_ID in 주거_IDs:\n",
    "    \n",
    "# 해당 주거 대여소의 데이터 추출\n",
    "주거_data = 주거_강서_df1[주거_강서_df1['종료_대여소_ID'] == 'ST-2056']\n",
    "\n",
    "# 기준_날짜를 날짜형 데이터로 변환\n",
    "주거_data['기준_날짜'] = pd.to_datetime(주거_data['기준_날짜'])\n",
    "\n",
    "# 기준_날짜를 인덱스로 설정하고 일별로 집계\n",
    "주거_data.set_index('기준_날짜', inplace=True)\n",
    "arima_data = 주거_data.resample('D')['전체_건수'].sum()  # 일별 전체_건수 합계 집계\n",
    "\n",
    "# ARIMA 모델의 최적 매개변수 찾기\n",
    "model = auto_arima(arima_data, seasonal=True,m=5, D=1, trace=True, error_action='ignore', suppress_warnings=True)\n",
    "# 최적 매개변수로 ARIMA 모델 학습\n",
    "model_fit = model.fit(arima_data)\n",
    "\n",
    "# 다음 시간대의 예측값 계산\n",
    "forecast = model_fit.predict(n_periods=1)[0]\n",
    "result.append(forecast)\n",
    "\n",
    "print(f\"대여소 의 다음 시간대 예측값: {forecast}\")"
   ]
  },
  {
   "cell_type": "code",
   "execution_count": 56,
   "metadata": {},
   "outputs": [],
   "source": [
    "주거_강서_df1 = 주거_강서_df[주거_강서_df['시간대_구간'] == '06:00~10:00']\n",
    "상업_강서_df1 = 상업_강서_df[상업_강서_df['시간대_구간'] == '06:00~10:00']\n",
    "주거_강서_df2 = 주거_강서_df[주거_강서_df['시간대_구간'] == '17:00~21:00']\n",
    "상업_강서_df2 = 상업_강서_df[상업_강서_df['시간대_구간'] == '17:00~21:00']\n",
    "# 전체 파일에서 1차 전처리 (집계_기준 2개 -> 1개로 줄임, 사용량 =0)\n",
    "주거_강서_df1 = 주거_강서_df1[(주거_강서_df1['전체_이용_분'] != 0) & (주거_강서_df1['전체_이용_거리'] != 0)]\n",
    "상업_강서_df1 = 상업_강서_df1[(상업_강서_df1['전체_이용_분'] != 0) & (상업_강서_df1['전체_이용_거리'] != 0)]\n",
    "주거_강서_df3 = 주거_강서_df1[(주거_강서_df1['전체_이용_분'] != 0) & (주거_강서_df1['전체_이용_거리'] != 0)]\n",
    "상업_강서_df2 = 상업_강서_df2[(상업_강서_df2['전체_이용_분'] != 0) & (상업_강서_df2['전체_이용_거리'] != 0)]\n",
    "\n",
    "\n",
    "# 주거_강서_df1 : 대여 ARIMA(4,1,0)(2,1,0)[5]\n",
    "# 주거_강서_df1 : 반납 ARIMA(4,1,0)(2,1,0)[5]            ? \n",
    "# 주거_강서_df2 : 대여 ARIMA(3,1,0)(2,1,1)[5]   \n",
    "# 주거_강서_df2 : 반납 ARIMA(4,1,0)(2,1,0)[5] \n",
    "# 상업_강서_df1 : 대여 ARIMA(3,1,0)(2,1,0)[5]        df1 : 출근\n",
    "# 상업_강서_df1 : 반납 ARIMA(3,1,0)(2,1,0)[5] \n",
    "# 상업_강서_df2 : 대여 ARIMA(4,1,0)(2,1,0)[5]        df2 : 퇴근\n",
    "# 상업_강서_df2 : 반납 ARIMA(4,1,0)(2,1,0)[5] \n"
   ]
  },
  {
   "cell_type": "code",
   "execution_count": 89,
   "metadata": {},
   "outputs": [
    {
     "name": "stderr",
     "output_type": "stream",
     "text": [
      "C:\\Users\\ciw96\\AppData\\Local\\Temp\\ipykernel_43876\\291262931.py:13: SettingWithCopyWarning: \n",
      "A value is trying to be set on a copy of a slice from a DataFrame.\n",
      "Try using .loc[row_indexer,col_indexer] = value instead\n",
      "\n",
      "See the caveats in the documentation: https://pandas.pydata.org/pandas-docs/stable/user_guide/indexing.html#returning-a-view-versus-a-copy\n",
      "  주거_data['기준_날짜'] = pd.to_datetime(주거_data['기준_날짜'])\n"
     ]
    },
    {
     "name": "stdout",
     "output_type": "stream",
     "text": [
      "Performing stepwise search to minimize aic\n",
      " ARIMA(2,1,2)(1,1,1)[5]             : AIC=inf, Time=0.43 sec\n",
      " ARIMA(0,1,0)(0,1,0)[5]             : AIC=3399.254, Time=0.01 sec\n",
      " ARIMA(1,1,0)(1,1,0)[5]             : AIC=3254.398, Time=0.07 sec\n",
      " ARIMA(0,1,1)(0,1,1)[5]             : AIC=inf, Time=0.13 sec\n",
      " ARIMA(1,1,0)(0,1,0)[5]             : AIC=3393.416, Time=0.01 sec\n",
      " ARIMA(1,1,0)(2,1,0)[5]             : AIC=3174.981, Time=0.15 sec\n",
      " ARIMA(1,1,0)(2,1,1)[5]             : AIC=inf, Time=0.25 sec\n",
      " ARIMA(1,1,0)(1,1,1)[5]             : AIC=inf, Time=0.14 sec\n",
      " ARIMA(0,1,0)(2,1,0)[5]             : AIC=3194.214, Time=0.07 sec\n",
      " ARIMA(2,1,0)(2,1,0)[5]             : AIC=3083.858, Time=0.31 sec\n",
      " ARIMA(2,1,0)(1,1,0)[5]             : AIC=3230.385, Time=0.07 sec\n",
      " ARIMA(2,1,0)(2,1,1)[5]             : AIC=inf, Time=0.30 sec\n",
      " ARIMA(2,1,0)(1,1,1)[5]             : AIC=inf, Time=0.16 sec\n",
      " ARIMA(3,1,0)(2,1,0)[5]             : AIC=3045.701, Time=0.44 sec\n",
      " ARIMA(3,1,0)(1,1,0)[5]             : AIC=3215.910, Time=0.15 sec\n",
      " ARIMA(3,1,0)(2,1,1)[5]             : AIC=2983.417, Time=0.95 sec\n",
      " ARIMA(3,1,0)(1,1,1)[5]             : AIC=inf, Time=0.25 sec\n",
      " ARIMA(3,1,0)(2,1,2)[5]             : AIC=inf, Time=0.60 sec\n",
      " ARIMA(3,1,0)(1,1,2)[5]             : AIC=inf, Time=1.14 sec\n",
      " ARIMA(4,1,0)(2,1,1)[5]             : AIC=inf, Time=0.64 sec\n",
      " ARIMA(3,1,1)(2,1,1)[5]             : AIC=inf, Time=1.07 sec\n",
      " ARIMA(2,1,1)(2,1,1)[5]             : AIC=inf, Time=1.10 sec\n",
      " ARIMA(4,1,1)(2,1,1)[5]             : AIC=inf, Time=1.34 sec\n",
      " ARIMA(3,1,0)(2,1,1)[5] intercept   : AIC=2985.401, Time=1.54 sec\n",
      "\n",
      "Best model:  ARIMA(3,1,0)(2,1,1)[5]          \n",
      "Total fit time: 11.358 seconds\n",
      "                                      SARIMAX Results                                      \n",
      "===========================================================================================\n",
      "Dep. Variable:                                   y   No. Observations:                  362\n",
      "Model:             SARIMAX(3, 1, 0)x(2, 1, [1], 5)   Log Likelihood               -1484.708\n",
      "Date:                             Thu, 09 May 2024   AIC                           2983.417\n",
      "Time:                                     00:55:03   BIC                           3010.541\n",
      "Sample:                                 04-03-2023   HQIC                          2994.207\n",
      "                                      - 03-29-2024                                         \n",
      "Covariance Type:                               opg                                         \n",
      "==============================================================================\n",
      "                 coef    std err          z      P>|z|      [0.025      0.975]\n",
      "------------------------------------------------------------------------------\n",
      "ar.L1         -0.7849      0.047    -16.752      0.000      -0.877      -0.693\n",
      "ar.L2         -0.7192      0.047    -15.230      0.000      -0.812      -0.627\n",
      "ar.L3         -0.2844      0.051     -5.566      0.000      -0.384      -0.184\n",
      "ar.S.L5       -0.2488      0.045     -5.518      0.000      -0.337      -0.160\n",
      "ar.S.L10      -0.5989      0.050    -11.944      0.000      -0.697      -0.501\n",
      "ma.S.L5       -0.9014      0.027    -33.449      0.000      -0.954      -0.849\n",
      "sigma2       231.8611     19.712     11.762      0.000     193.226     270.496\n",
      "===================================================================================\n",
      "Ljung-Box (L1) (Q):                   0.43   Jarque-Bera (JB):                 0.47\n",
      "Prob(Q):                              0.51   Prob(JB):                         0.79\n",
      "Heteroskedasticity (H):               0.41   Skew:                             0.04\n",
      "Prob(H) (two-sided):                  0.00   Kurtosis:                         2.84\n",
      "===================================================================================\n",
      "\n",
      "Warnings:\n",
      "[1] Covariance matrix calculated using the outer product of gradients (complex-step).\n",
      "대여소 ST-2031의 다음 시간대 예측값: 22.715476039042535\n"
     ]
    }
   ],
   "source": [
    "from pmdarima import auto_arima\n",
    "\n",
    "result = []\n",
    "\n",
    "# 주거 대여소의 시계열 분석\n",
    "\n",
    "#for 주거_ID in 주거_IDs:\n",
    "    \n",
    "# 해당 주거 대여소의 데이터 추출\n",
    "주거_data = 주거_강서_df2[주거_강서_df2['시작_대여소_ID'] == 'ST-1645']\n",
    "\n",
    "# 기준_날짜를 날짜형 데이터로 변환\n",
    "주거_data['기준_날짜'] = pd.to_datetime(주거_data['기준_날짜'])\n",
    "\n",
    "# 기준_날짜를 인덱스로 설정하고 일별로 집계\n",
    "주거_data.set_index('기준_날짜', inplace=True)\n",
    "arima_data = 주거_data.resample('D')['전체_건수'].sum()  # 일별 전체_건수 합계 집계\n",
    "\n",
    "# ARIMA 모델의 최적 매개변수 찾기\n",
    "model = auto_arima(arima_data, seasonal=True,d=1, m=5, D=1, trace=True, error_action='ignore', suppress_warnings=True)\n",
    "# 최적 매개변수로 ARIMA 모델 학습\n",
    "model_fit = model.fit(arima_data)\n",
    "\n",
    "# 다음 시간대의 예측값 계산\n",
    "#forecast = model_fit.predict(n_periods=1)[0]\n",
    "#result.append(forecast)\n",
    "\n",
    "print(f\"대여소 ST-2031의 다음 시간대 예측값: {forecast}\")"
   ]
  },
  {
   "cell_type": "code",
   "execution_count": 30,
   "metadata": {},
   "outputs": [
    {
     "name": "stdout",
     "output_type": "stream",
     "text": [
      "ST-1253 :         실제값 : 32  \n",
      "ST-1352 :         실제값 : 56  \n",
      "ST-1645 :         실제값 : 54  \n",
      "ST-2050 :         실제값 : 52  \n",
      "ST-2056 :         실제값 : 34  \n",
      "ST-2557 :         실제값 : 53  \n",
      "ST-2965 :         실제값 : 54  \n"
     ]
    }
   ],
   "source": [
    "check1 = pd.read_csv('tpss_bcycl_od_statnhm_20240401.csv',encoding='cp949')\n",
    "\n",
    "주거_강서_df1 = 주거_강서_df[주거_강서_df['시간대_구간'] == '06:00~10:00']\n",
    "# 전체 파일에서 1차 전처리 (집계_기준 2개 -> 1개로 줄임, 사용량 =0)\n",
    "check1 = check1[check1['집계_기준'] != '도착시간']\n",
    "check1 = check1[(check1['전체_이용_분'] != 0) & (check1['전체_이용_거리'] != 0)]\n",
    "    \n",
    "check1['시간대_구간'] = check1['기준_시간대'].apply(divide_time_range)\n",
    "\n",
    "\n",
    "\n",
    "check1 = check1[check1['시간대_구간'] == '06:00~10:00']\n",
    "\n",
    "for 주거_ID in 주거_IDs:\n",
    "    check =  check1[check1['시작_대여소_ID']==주거_ID]['전체_건수'].sum()\n",
    "    print(f\"{주거_ID} :         실제값 : {check}  \")\n"
   ]
  },
  {
   "cell_type": "code",
   "execution_count": 22,
   "metadata": {},
   "outputs": [
    {
     "data": {
      "text/html": [
       "<div>\n",
       "<style scoped>\n",
       "    .dataframe tbody tr th:only-of-type {\n",
       "        vertical-align: middle;\n",
       "    }\n",
       "\n",
       "    .dataframe tbody tr th {\n",
       "        vertical-align: top;\n",
       "    }\n",
       "\n",
       "    .dataframe thead th {\n",
       "        text-align: right;\n",
       "    }\n",
       "</style>\n",
       "<table border=\"1\" class=\"dataframe\">\n",
       "  <thead>\n",
       "    <tr style=\"text-align: right;\">\n",
       "      <th></th>\n",
       "      <th>기준_날짜</th>\n",
       "      <th>기준_시간대</th>\n",
       "      <th>시작_대여소_ID</th>\n",
       "      <th>종료_대여소_ID</th>\n",
       "      <th>전체_건수</th>\n",
       "      <th>전체_이용_분</th>\n",
       "      <th>전체_이용_거리</th>\n",
       "      <th>요일</th>\n",
       "      <th>주말</th>\n",
       "      <th>휴일</th>\n",
       "      <th>시간대_구간</th>\n",
       "    </tr>\n",
       "  </thead>\n",
       "  <tbody>\n",
       "    <tr>\n",
       "      <th>1599090</th>\n",
       "      <td>2023-04-03</td>\n",
       "      <td>745</td>\n",
       "      <td>ST-1645</td>\n",
       "      <td>ST-2056</td>\n",
       "      <td>1</td>\n",
       "      <td>6</td>\n",
       "      <td>1281</td>\n",
       "      <td>0</td>\n",
       "      <td>0</td>\n",
       "      <td>0</td>\n",
       "      <td>06:00~10:00</td>\n",
       "    </tr>\n",
       "    <tr>\n",
       "      <th>1601475</th>\n",
       "      <td>2023-04-03</td>\n",
       "      <td>955</td>\n",
       "      <td>ST-2557</td>\n",
       "      <td>ST-2047</td>\n",
       "      <td>1</td>\n",
       "      <td>10</td>\n",
       "      <td>1520</td>\n",
       "      <td>0</td>\n",
       "      <td>0</td>\n",
       "      <td>0</td>\n",
       "      <td>06:00~10:00</td>\n",
       "    </tr>\n",
       "    <tr>\n",
       "      <th>1601422</th>\n",
       "      <td>2023-04-03</td>\n",
       "      <td>950</td>\n",
       "      <td>ST-1352</td>\n",
       "      <td>ST-2035</td>\n",
       "      <td>1</td>\n",
       "      <td>6</td>\n",
       "      <td>1171</td>\n",
       "      <td>0</td>\n",
       "      <td>0</td>\n",
       "      <td>0</td>\n",
       "      <td>06:00~10:00</td>\n",
       "    </tr>\n",
       "    <tr>\n",
       "      <th>1601391</th>\n",
       "      <td>2023-04-03</td>\n",
       "      <td>945</td>\n",
       "      <td>ST-2056</td>\n",
       "      <td>ST-1514</td>\n",
       "      <td>1</td>\n",
       "      <td>5</td>\n",
       "      <td>736</td>\n",
       "      <td>0</td>\n",
       "      <td>0</td>\n",
       "      <td>0</td>\n",
       "      <td>06:00~10:00</td>\n",
       "    </tr>\n",
       "    <tr>\n",
       "      <th>1601369</th>\n",
       "      <td>2023-04-03</td>\n",
       "      <td>945</td>\n",
       "      <td>ST-1352</td>\n",
       "      <td>ST-1062</td>\n",
       "      <td>1</td>\n",
       "      <td>10</td>\n",
       "      <td>2071</td>\n",
       "      <td>0</td>\n",
       "      <td>0</td>\n",
       "      <td>0</td>\n",
       "      <td>06:00~10:00</td>\n",
       "    </tr>\n",
       "  </tbody>\n",
       "</table>\n",
       "</div>"
      ],
      "text/plain": [
       "              기준_날짜  기준_시간대 시작_대여소_ID 종료_대여소_ID  전체_건수  전체_이용_분  전체_이용_거리  요일  \\\n",
       "1599090  2023-04-03     745   ST-1645   ST-2056      1        6      1281   0   \n",
       "1601475  2023-04-03     955   ST-2557   ST-2047      1       10      1520   0   \n",
       "1601422  2023-04-03     950   ST-1352   ST-2035      1        6      1171   0   \n",
       "1601391  2023-04-03     945   ST-2056   ST-1514      1        5       736   0   \n",
       "1601369  2023-04-03     945   ST-1352   ST-1062      1       10      2071   0   \n",
       "\n",
       "         주말  휴일       시간대_구간  \n",
       "1599090   0   0  06:00~10:00  \n",
       "1601475   0   0  06:00~10:00  \n",
       "1601422   0   0  06:00~10:00  \n",
       "1601391   0   0  06:00~10:00  \n",
       "1601369   0   0  06:00~10:00  "
      ]
     },
     "execution_count": 22,
     "metadata": {},
     "output_type": "execute_result"
    }
   ],
   "source": [
    "주거_강서_df1.head()"
   ]
  },
  {
   "cell_type": "code",
   "execution_count": 23,
   "metadata": {},
   "outputs": [
    {
     "data": {
      "text/html": [
       "<div>\n",
       "<style scoped>\n",
       "    .dataframe tbody tr th:only-of-type {\n",
       "        vertical-align: middle;\n",
       "    }\n",
       "\n",
       "    .dataframe tbody tr th {\n",
       "        vertical-align: top;\n",
       "    }\n",
       "\n",
       "    .dataframe thead th {\n",
       "        text-align: right;\n",
       "    }\n",
       "</style>\n",
       "<table border=\"1\" class=\"dataframe\">\n",
       "  <thead>\n",
       "    <tr style=\"text-align: right;\">\n",
       "      <th></th>\n",
       "      <th>기준_날짜</th>\n",
       "      <th>기준_시간대</th>\n",
       "      <th>시작_대여소_ID</th>\n",
       "      <th>종료_대여소_ID</th>\n",
       "      <th>전체_건수</th>\n",
       "      <th>전체_이용_분</th>\n",
       "      <th>전체_이용_거리</th>\n",
       "      <th>요일</th>\n",
       "      <th>주말</th>\n",
       "      <th>휴일</th>\n",
       "      <th>시간대_구간</th>\n",
       "    </tr>\n",
       "  </thead>\n",
       "  <tbody>\n",
       "  </tbody>\n",
       "</table>\n",
       "</div>"
      ],
      "text/plain": [
       "Empty DataFrame\n",
       "Columns: [기준_날짜, 기준_시간대, 시작_대여소_ID, 종료_대여소_ID, 전체_건수, 전체_이용_분, 전체_이용_거리, 요일, 주말, 휴일, 시간대_구간]\n",
       "Index: []"
      ]
     },
     "execution_count": 23,
     "metadata": {},
     "output_type": "execute_result"
    }
   ],
   "source": [
    "주거_강서_df2.head()"
   ]
  }
 ],
 "metadata": {
  "kernelspec": {
   "display_name": "base",
   "language": "python",
   "name": "python3"
  },
  "language_info": {
   "codemirror_mode": {
    "name": "ipython",
    "version": 3
   },
   "file_extension": ".py",
   "mimetype": "text/x-python",
   "name": "python",
   "nbconvert_exporter": "python",
   "pygments_lexer": "ipython3",
   "version": "3.10.9"
  }
 },
 "nbformat": 4,
 "nbformat_minor": 2
}
