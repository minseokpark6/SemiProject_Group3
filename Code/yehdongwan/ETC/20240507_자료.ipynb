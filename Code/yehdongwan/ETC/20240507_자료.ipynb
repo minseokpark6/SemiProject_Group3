{
 "cells": [
  {
   "cell_type": "code",
   "execution_count": 1,
   "metadata": {},
   "outputs": [],
   "source": [
    "import pandas as pd\n",
    "import numpy as np\n",
    "import matplotlib.pyplot as plt\n",
    "import matplotlib as mpl\n",
    "import matplotlib.font_manager as fm\n",
    "import seaborn as sns\n",
    "import statsmodels.api as sm\n",
    "\n",
    "font_path = 'C:\\\\Windows\\\\Fonts\\\\gulim.ttc'\n",
    "font = fm.FontProperties(fname=font_path).get_name()\n",
    "mpl.rc('font', family=font)"
   ]
  },
  {
   "cell_type": "code",
   "execution_count": 33,
   "metadata": {},
   "outputs": [
    {
     "name": "stdout",
     "output_type": "stream",
     "text": [
      "3385613\n"
     ]
    }
   ],
   "source": [
    "강서_대여소_ID = pd.read_csv('../../Data/따릉이/강서_따릉이_대여소_ID.csv',encoding='utf-8')\n",
    "\n",
    "강서_데이터1 = pd.read_csv('../../Data/따릉이/강서_따릉이_데이터_01.csv',encoding='utf-8')\n",
    "강서_데이터2 = pd.read_csv('../../Data/따릉이/강서_따릉이_데이터_02.csv',encoding='utf-8')\n",
    "\n",
    "강서_데이터 = pd.concat([강서_데이터1, 강서_데이터2], ignore_index=True)\n",
    "print(len(강서_데이터))\n",
    "\n",
    "top_20_ID = pd.read_csv('../../Data/따릉이/쏠림정도_top20_대여소.csv',encoding='utf-8')"
   ]
  },
  {
   "cell_type": "code",
   "execution_count": 45,
   "metadata": {},
   "outputs": [
    {
     "data": {
      "text/html": [
       "<div>\n",
       "<style scoped>\n",
       "    .dataframe tbody tr th:only-of-type {\n",
       "        vertical-align: middle;\n",
       "    }\n",
       "\n",
       "    .dataframe tbody tr th {\n",
       "        vertical-align: top;\n",
       "    }\n",
       "\n",
       "    .dataframe thead th {\n",
       "        text-align: right;\n",
       "    }\n",
       "</style>\n",
       "<table border=\"1\" class=\"dataframe\">\n",
       "  <thead>\n",
       "    <tr style=\"text-align: right;\">\n",
       "      <th></th>\n",
       "      <th>기준_날짜</th>\n",
       "      <th>기준_시간대</th>\n",
       "      <th>시작_대여소_ID</th>\n",
       "      <th>종료_대여소_ID</th>\n",
       "      <th>전체_건수</th>\n",
       "      <th>전체_이용_분</th>\n",
       "      <th>전체_이용_거리</th>\n",
       "      <th>요일</th>\n",
       "      <th>주말</th>\n",
       "      <th>휴일</th>\n",
       "    </tr>\n",
       "  </thead>\n",
       "  <tbody>\n",
       "    <tr>\n",
       "      <th>0</th>\n",
       "      <td>2023-05-08</td>\n",
       "      <td>200</td>\n",
       "      <td>ST-2037</td>\n",
       "      <td>ST-2037</td>\n",
       "      <td>1</td>\n",
       "      <td>1</td>\n",
       "      <td>30</td>\n",
       "      <td>0</td>\n",
       "      <td>0</td>\n",
       "      <td>0</td>\n",
       "    </tr>\n",
       "    <tr>\n",
       "      <th>1</th>\n",
       "      <td>2023-05-08</td>\n",
       "      <td>1155</td>\n",
       "      <td>ST-824</td>\n",
       "      <td>ST-824</td>\n",
       "      <td>1</td>\n",
       "      <td>1</td>\n",
       "      <td>80</td>\n",
       "      <td>0</td>\n",
       "      <td>0</td>\n",
       "      <td>0</td>\n",
       "    </tr>\n",
       "    <tr>\n",
       "      <th>2</th>\n",
       "      <td>2023-05-08</td>\n",
       "      <td>1230</td>\n",
       "      <td>ST-829</td>\n",
       "      <td>ST-829</td>\n",
       "      <td>1</td>\n",
       "      <td>1</td>\n",
       "      <td>111</td>\n",
       "      <td>0</td>\n",
       "      <td>0</td>\n",
       "      <td>0</td>\n",
       "    </tr>\n",
       "    <tr>\n",
       "      <th>3</th>\n",
       "      <td>2023-05-08</td>\n",
       "      <td>1340</td>\n",
       "      <td>ST-2611</td>\n",
       "      <td>ST-2611</td>\n",
       "      <td>1</td>\n",
       "      <td>1</td>\n",
       "      <td>10</td>\n",
       "      <td>0</td>\n",
       "      <td>0</td>\n",
       "      <td>0</td>\n",
       "    </tr>\n",
       "    <tr>\n",
       "      <th>4</th>\n",
       "      <td>2023-05-08</td>\n",
       "      <td>1635</td>\n",
       "      <td>ST-2031</td>\n",
       "      <td>ST-2031</td>\n",
       "      <td>1</td>\n",
       "      <td>1</td>\n",
       "      <td>170</td>\n",
       "      <td>0</td>\n",
       "      <td>0</td>\n",
       "      <td>0</td>\n",
       "    </tr>\n",
       "    <tr>\n",
       "      <th>...</th>\n",
       "      <td>...</td>\n",
       "      <td>...</td>\n",
       "      <td>...</td>\n",
       "      <td>...</td>\n",
       "      <td>...</td>\n",
       "      <td>...</td>\n",
       "      <td>...</td>\n",
       "      <td>...</td>\n",
       "      <td>...</td>\n",
       "      <td>...</td>\n",
       "    </tr>\n",
       "    <tr>\n",
       "      <th>3385608</th>\n",
       "      <td>2023-08-29</td>\n",
       "      <td>1610</td>\n",
       "      <td>ST-2056</td>\n",
       "      <td>ST-2993</td>\n",
       "      <td>4</td>\n",
       "      <td>30</td>\n",
       "      <td>2837</td>\n",
       "      <td>1</td>\n",
       "      <td>0</td>\n",
       "      <td>0</td>\n",
       "    </tr>\n",
       "    <tr>\n",
       "      <th>3385609</th>\n",
       "      <td>2023-08-29</td>\n",
       "      <td>1705</td>\n",
       "      <td>ST-1712</td>\n",
       "      <td>ST-2045</td>\n",
       "      <td>4</td>\n",
       "      <td>16</td>\n",
       "      <td>3487</td>\n",
       "      <td>1</td>\n",
       "      <td>0</td>\n",
       "      <td>0</td>\n",
       "    </tr>\n",
       "    <tr>\n",
       "      <th>3385610</th>\n",
       "      <td>2023-08-29</td>\n",
       "      <td>2330</td>\n",
       "      <td>ST-513</td>\n",
       "      <td>ST-2482</td>\n",
       "      <td>4</td>\n",
       "      <td>26</td>\n",
       "      <td>3464</td>\n",
       "      <td>1</td>\n",
       "      <td>0</td>\n",
       "      <td>0</td>\n",
       "    </tr>\n",
       "    <tr>\n",
       "      <th>3385611</th>\n",
       "      <td>2023-08-29</td>\n",
       "      <td>830</td>\n",
       "      <td>ST-1506</td>\n",
       "      <td>ST-3068</td>\n",
       "      <td>5</td>\n",
       "      <td>26</td>\n",
       "      <td>4519</td>\n",
       "      <td>1</td>\n",
       "      <td>0</td>\n",
       "      <td>0</td>\n",
       "    </tr>\n",
       "    <tr>\n",
       "      <th>3385612</th>\n",
       "      <td>2023-08-29</td>\n",
       "      <td>1600</td>\n",
       "      <td>ST-1514</td>\n",
       "      <td>ST-2832</td>\n",
       "      <td>5</td>\n",
       "      <td>50</td>\n",
       "      <td>5068</td>\n",
       "      <td>1</td>\n",
       "      <td>0</td>\n",
       "      <td>0</td>\n",
       "    </tr>\n",
       "  </tbody>\n",
       "</table>\n",
       "<p>3385613 rows × 10 columns</p>\n",
       "</div>"
      ],
      "text/plain": [
       "              기준_날짜  기준_시간대 시작_대여소_ID 종료_대여소_ID  전체_건수  전체_이용_분  전체_이용_거리  요일  \\\n",
       "0        2023-05-08     200   ST-2037   ST-2037      1        1        30   0   \n",
       "1        2023-05-08    1155    ST-824    ST-824      1        1        80   0   \n",
       "2        2023-05-08    1230    ST-829    ST-829      1        1       111   0   \n",
       "3        2023-05-08    1340   ST-2611   ST-2611      1        1        10   0   \n",
       "4        2023-05-08    1635   ST-2031   ST-2031      1        1       170   0   \n",
       "...             ...     ...       ...       ...    ...      ...       ...  ..   \n",
       "3385608  2023-08-29    1610   ST-2056   ST-2993      4       30      2837   1   \n",
       "3385609  2023-08-29    1705   ST-1712   ST-2045      4       16      3487   1   \n",
       "3385610  2023-08-29    2330    ST-513   ST-2482      4       26      3464   1   \n",
       "3385611  2023-08-29     830   ST-1506   ST-3068      5       26      4519   1   \n",
       "3385612  2023-08-29    1600   ST-1514   ST-2832      5       50      5068   1   \n",
       "\n",
       "         주말  휴일  \n",
       "0         0   0  \n",
       "1         0   0  \n",
       "2         0   0  \n",
       "3         0   0  \n",
       "4         0   0  \n",
       "...      ..  ..  \n",
       "3385608   0   0  \n",
       "3385609   0   0  \n",
       "3385610   0   0  \n",
       "3385611   0   0  \n",
       "3385612   0   0  \n",
       "\n",
       "[3385613 rows x 10 columns]"
      ]
     },
     "execution_count": 45,
     "metadata": {},
     "output_type": "execute_result"
    }
   ],
   "source": [
    "강서_데이터"
   ]
  },
  {
   "cell_type": "code",
   "execution_count": 35,
   "metadata": {},
   "outputs": [
    {
     "data": {
      "text/html": [
       "<div>\n",
       "<style scoped>\n",
       "    .dataframe tbody tr th:only-of-type {\n",
       "        vertical-align: middle;\n",
       "    }\n",
       "\n",
       "    .dataframe tbody tr th {\n",
       "        vertical-align: top;\n",
       "    }\n",
       "\n",
       "    .dataframe thead th {\n",
       "        text-align: right;\n",
       "    }\n",
       "</style>\n",
       "<table border=\"1\" class=\"dataframe\">\n",
       "  <thead>\n",
       "    <tr style=\"text-align: right;\">\n",
       "      <th></th>\n",
       "      <th>Unnamed: 0</th>\n",
       "      <th>최종용도</th>\n",
       "      <th>대여소_ID</th>\n",
       "      <th>temp_num</th>\n",
       "      <th>출근대여량</th>\n",
       "      <th>출근반납량</th>\n",
       "      <th>대여-반납량_출근</th>\n",
       "      <th>차이절대값_출근</th>\n",
       "      <th>총이용량_출근</th>\n",
       "      <th>퇴근대여량</th>\n",
       "      <th>퇴근반납량</th>\n",
       "      <th>대여-반납량_퇴근</th>\n",
       "      <th>차이절대값_퇴근</th>\n",
       "      <th>총이용량_퇴근</th>\n",
       "      <th>출퇴근_총이용량</th>\n",
       "      <th>차이절대값합</th>\n",
       "    </tr>\n",
       "  </thead>\n",
       "  <tbody>\n",
       "    <tr>\n",
       "      <th>0</th>\n",
       "      <td>0</td>\n",
       "      <td>상업</td>\n",
       "      <td>ST-1064</td>\n",
       "      <td>180</td>\n",
       "      <td>3764</td>\n",
       "      <td>8489</td>\n",
       "      <td>-4725</td>\n",
       "      <td>4725</td>\n",
       "      <td>12253</td>\n",
       "      <td>9005</td>\n",
       "      <td>5562</td>\n",
       "      <td>3443</td>\n",
       "      <td>3443</td>\n",
       "      <td>14567</td>\n",
       "      <td>26820</td>\n",
       "      <td>8168</td>\n",
       "    </tr>\n",
       "    <tr>\n",
       "      <th>1</th>\n",
       "      <td>1</td>\n",
       "      <td>상업</td>\n",
       "      <td>ST-1688</td>\n",
       "      <td>188</td>\n",
       "      <td>881</td>\n",
       "      <td>7017</td>\n",
       "      <td>-6136</td>\n",
       "      <td>6136</td>\n",
       "      <td>7898</td>\n",
       "      <td>7922</td>\n",
       "      <td>3320</td>\n",
       "      <td>4602</td>\n",
       "      <td>4602</td>\n",
       "      <td>11242</td>\n",
       "      <td>19140</td>\n",
       "      <td>10738</td>\n",
       "    </tr>\n",
       "    <tr>\n",
       "      <th>2</th>\n",
       "      <td>2</td>\n",
       "      <td>상업</td>\n",
       "      <td>ST-1712</td>\n",
       "      <td>193</td>\n",
       "      <td>698</td>\n",
       "      <td>11208</td>\n",
       "      <td>-10510</td>\n",
       "      <td>10510</td>\n",
       "      <td>11906</td>\n",
       "      <td>7548</td>\n",
       "      <td>754</td>\n",
       "      <td>6794</td>\n",
       "      <td>6794</td>\n",
       "      <td>8302</td>\n",
       "      <td>20208</td>\n",
       "      <td>17304</td>\n",
       "    </tr>\n",
       "    <tr>\n",
       "      <th>3</th>\n",
       "      <td>3</td>\n",
       "      <td>상업</td>\n",
       "      <td>ST-2031</td>\n",
       "      <td>182</td>\n",
       "      <td>18661</td>\n",
       "      <td>22323</td>\n",
       "      <td>-3662</td>\n",
       "      <td>3662</td>\n",
       "      <td>40984</td>\n",
       "      <td>27533</td>\n",
       "      <td>22552</td>\n",
       "      <td>4981</td>\n",
       "      <td>4981</td>\n",
       "      <td>50085</td>\n",
       "      <td>91069</td>\n",
       "      <td>8643</td>\n",
       "    </tr>\n",
       "    <tr>\n",
       "      <th>4</th>\n",
       "      <td>4</td>\n",
       "      <td>상업</td>\n",
       "      <td>ST-2033</td>\n",
       "      <td>195</td>\n",
       "      <td>927</td>\n",
       "      <td>17721</td>\n",
       "      <td>-16794</td>\n",
       "      <td>16794</td>\n",
       "      <td>18648</td>\n",
       "      <td>14171</td>\n",
       "      <td>3574</td>\n",
       "      <td>10597</td>\n",
       "      <td>10597</td>\n",
       "      <td>17745</td>\n",
       "      <td>36393</td>\n",
       "      <td>27391</td>\n",
       "    </tr>\n",
       "    <tr>\n",
       "      <th>5</th>\n",
       "      <td>5</td>\n",
       "      <td>상업</td>\n",
       "      <td>ST-2035</td>\n",
       "      <td>194</td>\n",
       "      <td>1306</td>\n",
       "      <td>13073</td>\n",
       "      <td>-11767</td>\n",
       "      <td>11767</td>\n",
       "      <td>14379</td>\n",
       "      <td>10752</td>\n",
       "      <td>3553</td>\n",
       "      <td>7199</td>\n",
       "      <td>7199</td>\n",
       "      <td>14305</td>\n",
       "      <td>28684</td>\n",
       "      <td>18966</td>\n",
       "    </tr>\n",
       "    <tr>\n",
       "      <th>6</th>\n",
       "      <td>6</td>\n",
       "      <td>상업</td>\n",
       "      <td>ST-2044</td>\n",
       "      <td>190</td>\n",
       "      <td>1911</td>\n",
       "      <td>11044</td>\n",
       "      <td>-9133</td>\n",
       "      <td>9133</td>\n",
       "      <td>12955</td>\n",
       "      <td>6995</td>\n",
       "      <td>1434</td>\n",
       "      <td>5561</td>\n",
       "      <td>5561</td>\n",
       "      <td>8429</td>\n",
       "      <td>21384</td>\n",
       "      <td>14694</td>\n",
       "    </tr>\n",
       "    <tr>\n",
       "      <th>7</th>\n",
       "      <td>7</td>\n",
       "      <td>상업</td>\n",
       "      <td>ST-2569</td>\n",
       "      <td>176</td>\n",
       "      <td>889</td>\n",
       "      <td>4972</td>\n",
       "      <td>-4083</td>\n",
       "      <td>4083</td>\n",
       "      <td>5861</td>\n",
       "      <td>4068</td>\n",
       "      <td>1503</td>\n",
       "      <td>2565</td>\n",
       "      <td>2565</td>\n",
       "      <td>5571</td>\n",
       "      <td>11432</td>\n",
       "      <td>6648</td>\n",
       "    </tr>\n",
       "    <tr>\n",
       "      <th>8</th>\n",
       "      <td>8</td>\n",
       "      <td>상업</td>\n",
       "      <td>ST-2871</td>\n",
       "      <td>186</td>\n",
       "      <td>5501</td>\n",
       "      <td>10328</td>\n",
       "      <td>-4827</td>\n",
       "      <td>4827</td>\n",
       "      <td>15829</td>\n",
       "      <td>10568</td>\n",
       "      <td>6131</td>\n",
       "      <td>4437</td>\n",
       "      <td>4437</td>\n",
       "      <td>16699</td>\n",
       "      <td>32528</td>\n",
       "      <td>9264</td>\n",
       "    </tr>\n",
       "    <tr>\n",
       "      <th>9</th>\n",
       "      <td>9</td>\n",
       "      <td>상업</td>\n",
       "      <td>ST-2945</td>\n",
       "      <td>177</td>\n",
       "      <td>1201</td>\n",
       "      <td>6098</td>\n",
       "      <td>-4897</td>\n",
       "      <td>4897</td>\n",
       "      <td>7299</td>\n",
       "      <td>5019</td>\n",
       "      <td>2183</td>\n",
       "      <td>2836</td>\n",
       "      <td>2836</td>\n",
       "      <td>7202</td>\n",
       "      <td>14501</td>\n",
       "      <td>7733</td>\n",
       "    </tr>\n",
       "    <tr>\n",
       "      <th>10</th>\n",
       "      <td>10</td>\n",
       "      <td>상업</td>\n",
       "      <td>ST-3094</td>\n",
       "      <td>185</td>\n",
       "      <td>3151</td>\n",
       "      <td>9502</td>\n",
       "      <td>-6351</td>\n",
       "      <td>6351</td>\n",
       "      <td>12653</td>\n",
       "      <td>8887</td>\n",
       "      <td>6352</td>\n",
       "      <td>2535</td>\n",
       "      <td>2535</td>\n",
       "      <td>15239</td>\n",
       "      <td>27892</td>\n",
       "      <td>8886</td>\n",
       "    </tr>\n",
       "    <tr>\n",
       "      <th>11</th>\n",
       "      <td>11</td>\n",
       "      <td>상업</td>\n",
       "      <td>ST-3128</td>\n",
       "      <td>191</td>\n",
       "      <td>574</td>\n",
       "      <td>9570</td>\n",
       "      <td>-8996</td>\n",
       "      <td>8996</td>\n",
       "      <td>10144</td>\n",
       "      <td>6531</td>\n",
       "      <td>715</td>\n",
       "      <td>5816</td>\n",
       "      <td>5816</td>\n",
       "      <td>7246</td>\n",
       "      <td>17390</td>\n",
       "      <td>14812</td>\n",
       "    </tr>\n",
       "    <tr>\n",
       "      <th>12</th>\n",
       "      <td>12</td>\n",
       "      <td>상업</td>\n",
       "      <td>ST-3251</td>\n",
       "      <td>192</td>\n",
       "      <td>769</td>\n",
       "      <td>10360</td>\n",
       "      <td>-9591</td>\n",
       "      <td>9591</td>\n",
       "      <td>11129</td>\n",
       "      <td>6434</td>\n",
       "      <td>444</td>\n",
       "      <td>5990</td>\n",
       "      <td>5990</td>\n",
       "      <td>6878</td>\n",
       "      <td>18007</td>\n",
       "      <td>15581</td>\n",
       "    </tr>\n",
       "    <tr>\n",
       "      <th>13</th>\n",
       "      <td>13</td>\n",
       "      <td>주거</td>\n",
       "      <td>ST-1253</td>\n",
       "      <td>184</td>\n",
       "      <td>6247</td>\n",
       "      <td>652</td>\n",
       "      <td>5595</td>\n",
       "      <td>5595</td>\n",
       "      <td>6899</td>\n",
       "      <td>3257</td>\n",
       "      <td>6462</td>\n",
       "      <td>-3205</td>\n",
       "      <td>3205</td>\n",
       "      <td>9719</td>\n",
       "      <td>16618</td>\n",
       "      <td>8800</td>\n",
       "    </tr>\n",
       "    <tr>\n",
       "      <th>14</th>\n",
       "      <td>14</td>\n",
       "      <td>주거</td>\n",
       "      <td>ST-1352</td>\n",
       "      <td>181</td>\n",
       "      <td>6358</td>\n",
       "      <td>1513</td>\n",
       "      <td>4845</td>\n",
       "      <td>4845</td>\n",
       "      <td>7871</td>\n",
       "      <td>4304</td>\n",
       "      <td>7732</td>\n",
       "      <td>-3428</td>\n",
       "      <td>3428</td>\n",
       "      <td>12036</td>\n",
       "      <td>19907</td>\n",
       "      <td>8273</td>\n",
       "    </tr>\n",
       "    <tr>\n",
       "      <th>15</th>\n",
       "      <td>15</td>\n",
       "      <td>주거</td>\n",
       "      <td>ST-1645</td>\n",
       "      <td>187</td>\n",
       "      <td>7193</td>\n",
       "      <td>903</td>\n",
       "      <td>6290</td>\n",
       "      <td>6290</td>\n",
       "      <td>8096</td>\n",
       "      <td>3332</td>\n",
       "      <td>7134</td>\n",
       "      <td>-3802</td>\n",
       "      <td>3802</td>\n",
       "      <td>10466</td>\n",
       "      <td>18562</td>\n",
       "      <td>10092</td>\n",
       "    </tr>\n",
       "    <tr>\n",
       "      <th>16</th>\n",
       "      <td>16</td>\n",
       "      <td>주거</td>\n",
       "      <td>ST-2050</td>\n",
       "      <td>189</td>\n",
       "      <td>8593</td>\n",
       "      <td>806</td>\n",
       "      <td>7787</td>\n",
       "      <td>7787</td>\n",
       "      <td>9399</td>\n",
       "      <td>2765</td>\n",
       "      <td>7986</td>\n",
       "      <td>-5221</td>\n",
       "      <td>5221</td>\n",
       "      <td>10751</td>\n",
       "      <td>20150</td>\n",
       "      <td>13008</td>\n",
       "    </tr>\n",
       "    <tr>\n",
       "      <th>17</th>\n",
       "      <td>17</td>\n",
       "      <td>주거</td>\n",
       "      <td>ST-2056</td>\n",
       "      <td>179</td>\n",
       "      <td>6728</td>\n",
       "      <td>1794</td>\n",
       "      <td>4934</td>\n",
       "      <td>4934</td>\n",
       "      <td>8522</td>\n",
       "      <td>4114</td>\n",
       "      <td>7311</td>\n",
       "      <td>-3197</td>\n",
       "      <td>3197</td>\n",
       "      <td>11425</td>\n",
       "      <td>19947</td>\n",
       "      <td>8131</td>\n",
       "    </tr>\n",
       "    <tr>\n",
       "      <th>18</th>\n",
       "      <td>18</td>\n",
       "      <td>주거</td>\n",
       "      <td>ST-2557</td>\n",
       "      <td>178</td>\n",
       "      <td>8743</td>\n",
       "      <td>3994</td>\n",
       "      <td>4749</td>\n",
       "      <td>4749</td>\n",
       "      <td>12737</td>\n",
       "      <td>6461</td>\n",
       "      <td>9527</td>\n",
       "      <td>-3066</td>\n",
       "      <td>3066</td>\n",
       "      <td>15988</td>\n",
       "      <td>28725</td>\n",
       "      <td>7815</td>\n",
       "    </tr>\n",
       "    <tr>\n",
       "      <th>19</th>\n",
       "      <td>19</td>\n",
       "      <td>주거</td>\n",
       "      <td>ST-2965</td>\n",
       "      <td>183</td>\n",
       "      <td>6400</td>\n",
       "      <td>1023</td>\n",
       "      <td>5377</td>\n",
       "      <td>5377</td>\n",
       "      <td>7423</td>\n",
       "      <td>2366</td>\n",
       "      <td>5696</td>\n",
       "      <td>-3330</td>\n",
       "      <td>3330</td>\n",
       "      <td>8062</td>\n",
       "      <td>15485</td>\n",
       "      <td>8707</td>\n",
       "    </tr>\n",
       "  </tbody>\n",
       "</table>\n",
       "</div>"
      ],
      "text/plain": [
       "    Unnamed: 0 최종용도   대여소_ID  temp_num  출근대여량  출근반납량  대여-반납량_출근  차이절대값_출근  \\\n",
       "0            0   상업  ST-1064       180   3764   8489      -4725      4725   \n",
       "1            1   상업  ST-1688       188    881   7017      -6136      6136   \n",
       "2            2   상업  ST-1712       193    698  11208     -10510     10510   \n",
       "3            3   상업  ST-2031       182  18661  22323      -3662      3662   \n",
       "4            4   상업  ST-2033       195    927  17721     -16794     16794   \n",
       "5            5   상업  ST-2035       194   1306  13073     -11767     11767   \n",
       "6            6   상업  ST-2044       190   1911  11044      -9133      9133   \n",
       "7            7   상업  ST-2569       176    889   4972      -4083      4083   \n",
       "8            8   상업  ST-2871       186   5501  10328      -4827      4827   \n",
       "9            9   상업  ST-2945       177   1201   6098      -4897      4897   \n",
       "10          10   상업  ST-3094       185   3151   9502      -6351      6351   \n",
       "11          11   상업  ST-3128       191    574   9570      -8996      8996   \n",
       "12          12   상업  ST-3251       192    769  10360      -9591      9591   \n",
       "13          13   주거  ST-1253       184   6247    652       5595      5595   \n",
       "14          14   주거  ST-1352       181   6358   1513       4845      4845   \n",
       "15          15   주거  ST-1645       187   7193    903       6290      6290   \n",
       "16          16   주거  ST-2050       189   8593    806       7787      7787   \n",
       "17          17   주거  ST-2056       179   6728   1794       4934      4934   \n",
       "18          18   주거  ST-2557       178   8743   3994       4749      4749   \n",
       "19          19   주거  ST-2965       183   6400   1023       5377      5377   \n",
       "\n",
       "    총이용량_출근  퇴근대여량  퇴근반납량  대여-반납량_퇴근  차이절대값_퇴근  총이용량_퇴근  출퇴근_총이용량  차이절대값합  \n",
       "0     12253   9005   5562       3443      3443    14567     26820    8168  \n",
       "1      7898   7922   3320       4602      4602    11242     19140   10738  \n",
       "2     11906   7548    754       6794      6794     8302     20208   17304  \n",
       "3     40984  27533  22552       4981      4981    50085     91069    8643  \n",
       "4     18648  14171   3574      10597     10597    17745     36393   27391  \n",
       "5     14379  10752   3553       7199      7199    14305     28684   18966  \n",
       "6     12955   6995   1434       5561      5561     8429     21384   14694  \n",
       "7      5861   4068   1503       2565      2565     5571     11432    6648  \n",
       "8     15829  10568   6131       4437      4437    16699     32528    9264  \n",
       "9      7299   5019   2183       2836      2836     7202     14501    7733  \n",
       "10    12653   8887   6352       2535      2535    15239     27892    8886  \n",
       "11    10144   6531    715       5816      5816     7246     17390   14812  \n",
       "12    11129   6434    444       5990      5990     6878     18007   15581  \n",
       "13     6899   3257   6462      -3205      3205     9719     16618    8800  \n",
       "14     7871   4304   7732      -3428      3428    12036     19907    8273  \n",
       "15     8096   3332   7134      -3802      3802    10466     18562   10092  \n",
       "16     9399   2765   7986      -5221      5221    10751     20150   13008  \n",
       "17     8522   4114   7311      -3197      3197    11425     19947    8131  \n",
       "18    12737   6461   9527      -3066      3066    15988     28725    7815  \n",
       "19     7423   2366   5696      -3330      3330     8062     15485    8707  "
      ]
     },
     "execution_count": 35,
     "metadata": {},
     "output_type": "execute_result"
    }
   ],
   "source": [
    "top_20_ID"
   ]
  },
  {
   "cell_type": "code",
   "execution_count": 36,
   "metadata": {},
   "outputs": [],
   "source": [
    "# 주거와 상업으로 데이터 분할\n",
    "주거_df = top_20_ID[top_20_ID['최종용도'] == '주거']\n",
    "상업_df = top_20_ID[top_20_ID['최종용도'] == '상업']"
   ]
  },
  {
   "cell_type": "code",
   "execution_count": 37,
   "metadata": {},
   "outputs": [],
   "source": [
    "# 주거 데이터에서 대여소_ID 추출\n",
    "주거_IDs = 주거_df['대여소_ID'].unique()\n",
    "\n",
    "# 상업 데이터에서 대여소_ID 추출\n",
    "상업_IDs = 상업_df['대여소_ID'].unique()\n",
    "\n",
    "# 강서 데이터에서 대여소_ID가 주거 데이터에 있는 것만 추출\n",
    "주거_강서_df = 강서_데이터[강서_데이터['시작_대여소_ID'].isin(주거_IDs)]\n",
    "\n",
    "# 강서 데이터에서 대여소_ID가 상업 데이터에 있는 것만 추출\n",
    "상업_강서_df = 강서_데이터[강서_데이터['시작_대여소_ID'].isin(상업_IDs)]"
   ]
  },
  {
   "cell_type": "code",
   "execution_count": 38,
   "metadata": {},
   "outputs": [
    {
     "data": {
      "text/plain": [
       "array(['ST-1253', 'ST-1352', 'ST-1645', 'ST-2050', 'ST-2056', 'ST-2557',\n",
       "       'ST-2965'], dtype=object)"
      ]
     },
     "execution_count": 38,
     "metadata": {},
     "output_type": "execute_result"
    }
   ],
   "source": [
    "주거_IDs"
   ]
  },
  {
   "cell_type": "code",
   "execution_count": 39,
   "metadata": {},
   "outputs": [],
   "source": [
    "주거_강서_df = 주거_강서_df.sort_values(by='기준_날짜')\n",
    "상업_강서_df = 상업_강서_df.sort_values(by='기준_날짜')\n"
   ]
  },
  {
   "cell_type": "code",
   "execution_count": 54,
   "metadata": {},
   "outputs": [],
   "source": [
    "def divide_time_range(time):\n",
    "    if time < 600:\n",
    "        return '00:00~06:00'\n",
    "    elif time < 1000:\n",
    "        return '06:00~10:00' # 출근시간\n",
    "    elif time < 1700:\n",
    "        return '10:00~17:00'\n",
    "    elif time < 2100:\n",
    "        return '17:00~21:00' # 퇴근시간\n",
    "    else:\n",
    "        return '21:00~24:00'\n",
    "    \n",
    "주거_강서_df['시간대_구간'] = 주거_강서_df['기준_시간대'].apply(divide_time_range)\n",
    "\n",
    "\n",
    "상업_강서_df['시간대_구간'] = 상업_강서_df['기준_시간대'].apply(divide_time_range)\n"
   ]
  },
  {
   "cell_type": "code",
   "execution_count": 47,
   "metadata": {},
   "outputs": [
    {
     "data": {
      "text/html": [
       "<div>\n",
       "<style scoped>\n",
       "    .dataframe tbody tr th:only-of-type {\n",
       "        vertical-align: middle;\n",
       "    }\n",
       "\n",
       "    .dataframe tbody tr th {\n",
       "        vertical-align: top;\n",
       "    }\n",
       "\n",
       "    .dataframe thead th {\n",
       "        text-align: right;\n",
       "    }\n",
       "</style>\n",
       "<table border=\"1\" class=\"dataframe\">\n",
       "  <thead>\n",
       "    <tr style=\"text-align: right;\">\n",
       "      <th></th>\n",
       "      <th>기준_날짜</th>\n",
       "      <th>기준_시간대</th>\n",
       "      <th>시작_대여소_ID</th>\n",
       "      <th>종료_대여소_ID</th>\n",
       "      <th>전체_건수</th>\n",
       "      <th>전체_이용_분</th>\n",
       "      <th>전체_이용_거리</th>\n",
       "      <th>요일</th>\n",
       "      <th>주말</th>\n",
       "      <th>휴일</th>\n",
       "      <th>시간대_구간</th>\n",
       "    </tr>\n",
       "  </thead>\n",
       "  <tbody>\n",
       "    <tr>\n",
       "      <th>1612630</th>\n",
       "      <td>2023-04-03</td>\n",
       "      <td>2055</td>\n",
       "      <td>ST-1352</td>\n",
       "      <td>ST-2047</td>\n",
       "      <td>2</td>\n",
       "      <td>17</td>\n",
       "      <td>2843</td>\n",
       "      <td>0</td>\n",
       "      <td>0</td>\n",
       "      <td>0</td>\n",
       "      <td>17:00~21:00</td>\n",
       "    </tr>\n",
       "    <tr>\n",
       "      <th>1608882</th>\n",
       "      <td>2023-04-03</td>\n",
       "      <td>1910</td>\n",
       "      <td>ST-2557</td>\n",
       "      <td>ST-2557</td>\n",
       "      <td>1</td>\n",
       "      <td>26</td>\n",
       "      <td>3485</td>\n",
       "      <td>0</td>\n",
       "      <td>0</td>\n",
       "      <td>0</td>\n",
       "      <td>17:00~21:00</td>\n",
       "    </tr>\n",
       "    <tr>\n",
       "      <th>1608911</th>\n",
       "      <td>2023-04-03</td>\n",
       "      <td>1915</td>\n",
       "      <td>ST-1352</td>\n",
       "      <td>ST-524</td>\n",
       "      <td>1</td>\n",
       "      <td>12</td>\n",
       "      <td>1989</td>\n",
       "      <td>0</td>\n",
       "      <td>0</td>\n",
       "      <td>0</td>\n",
       "      <td>17:00~21:00</td>\n",
       "    </tr>\n",
       "    <tr>\n",
       "      <th>1608917</th>\n",
       "      <td>2023-04-03</td>\n",
       "      <td>1915</td>\n",
       "      <td>ST-1645</td>\n",
       "      <td>ST-2489</td>\n",
       "      <td>1</td>\n",
       "      <td>16</td>\n",
       "      <td>3300</td>\n",
       "      <td>0</td>\n",
       "      <td>0</td>\n",
       "      <td>0</td>\n",
       "      <td>17:00~21:00</td>\n",
       "    </tr>\n",
       "    <tr>\n",
       "      <th>1609001</th>\n",
       "      <td>2023-04-03</td>\n",
       "      <td>1920</td>\n",
       "      <td>ST-1253</td>\n",
       "      <td>ST-1065</td>\n",
       "      <td>1</td>\n",
       "      <td>10</td>\n",
       "      <td>1630</td>\n",
       "      <td>0</td>\n",
       "      <td>0</td>\n",
       "      <td>0</td>\n",
       "      <td>17:00~21:00</td>\n",
       "    </tr>\n",
       "    <tr>\n",
       "      <th>...</th>\n",
       "      <td>...</td>\n",
       "      <td>...</td>\n",
       "      <td>...</td>\n",
       "      <td>...</td>\n",
       "      <td>...</td>\n",
       "      <td>...</td>\n",
       "      <td>...</td>\n",
       "      <td>...</td>\n",
       "      <td>...</td>\n",
       "      <td>...</td>\n",
       "      <td>...</td>\n",
       "    </tr>\n",
       "    <tr>\n",
       "      <th>3294677</th>\n",
       "      <td>2024-03-29</td>\n",
       "      <td>1905</td>\n",
       "      <td>ST-2056</td>\n",
       "      <td>ST-2884</td>\n",
       "      <td>1</td>\n",
       "      <td>6</td>\n",
       "      <td>671</td>\n",
       "      <td>4</td>\n",
       "      <td>0</td>\n",
       "      <td>0</td>\n",
       "      <td>17:00~21:00</td>\n",
       "    </tr>\n",
       "    <tr>\n",
       "      <th>3294686</th>\n",
       "      <td>2024-03-29</td>\n",
       "      <td>1905</td>\n",
       "      <td>ST-2557</td>\n",
       "      <td>ST-1714</td>\n",
       "      <td>2</td>\n",
       "      <td>23</td>\n",
       "      <td>3309</td>\n",
       "      <td>4</td>\n",
       "      <td>0</td>\n",
       "      <td>0</td>\n",
       "      <td>17:00~21:00</td>\n",
       "    </tr>\n",
       "    <tr>\n",
       "      <th>3294687</th>\n",
       "      <td>2024-03-29</td>\n",
       "      <td>1905</td>\n",
       "      <td>ST-2557</td>\n",
       "      <td>ST-530</td>\n",
       "      <td>1</td>\n",
       "      <td>10</td>\n",
       "      <td>1686</td>\n",
       "      <td>4</td>\n",
       "      <td>0</td>\n",
       "      <td>0</td>\n",
       "      <td>17:00~21:00</td>\n",
       "    </tr>\n",
       "    <tr>\n",
       "      <th>3294763</th>\n",
       "      <td>2024-03-29</td>\n",
       "      <td>1910</td>\n",
       "      <td>ST-2056</td>\n",
       "      <td>ST-1694</td>\n",
       "      <td>1</td>\n",
       "      <td>7</td>\n",
       "      <td>1144</td>\n",
       "      <td>4</td>\n",
       "      <td>0</td>\n",
       "      <td>0</td>\n",
       "      <td>17:00~21:00</td>\n",
       "    </tr>\n",
       "    <tr>\n",
       "      <th>3292911</th>\n",
       "      <td>2024-03-29</td>\n",
       "      <td>1735</td>\n",
       "      <td>ST-2965</td>\n",
       "      <td>ST-2857</td>\n",
       "      <td>1</td>\n",
       "      <td>9</td>\n",
       "      <td>1322</td>\n",
       "      <td>4</td>\n",
       "      <td>0</td>\n",
       "      <td>0</td>\n",
       "      <td>17:00~21:00</td>\n",
       "    </tr>\n",
       "  </tbody>\n",
       "</table>\n",
       "<p>48501 rows × 11 columns</p>\n",
       "</div>"
      ],
      "text/plain": [
       "              기준_날짜  기준_시간대 시작_대여소_ID 종료_대여소_ID  전체_건수  전체_이용_분  전체_이용_거리  요일  \\\n",
       "1612630  2023-04-03    2055   ST-1352   ST-2047      2       17      2843   0   \n",
       "1608882  2023-04-03    1910   ST-2557   ST-2557      1       26      3485   0   \n",
       "1608911  2023-04-03    1915   ST-1352    ST-524      1       12      1989   0   \n",
       "1608917  2023-04-03    1915   ST-1645   ST-2489      1       16      3300   0   \n",
       "1609001  2023-04-03    1920   ST-1253   ST-1065      1       10      1630   0   \n",
       "...             ...     ...       ...       ...    ...      ...       ...  ..   \n",
       "3294677  2024-03-29    1905   ST-2056   ST-2884      1        6       671   4   \n",
       "3294686  2024-03-29    1905   ST-2557   ST-1714      2       23      3309   4   \n",
       "3294687  2024-03-29    1905   ST-2557    ST-530      1       10      1686   4   \n",
       "3294763  2024-03-29    1910   ST-2056   ST-1694      1        7      1144   4   \n",
       "3292911  2024-03-29    1735   ST-2965   ST-2857      1        9      1322   4   \n",
       "\n",
       "         주말  휴일       시간대_구간  \n",
       "1612630   0   0  17:00~21:00  \n",
       "1608882   0   0  17:00~21:00  \n",
       "1608911   0   0  17:00~21:00  \n",
       "1608917   0   0  17:00~21:00  \n",
       "1609001   0   0  17:00~21:00  \n",
       "...      ..  ..          ...  \n",
       "3294677   0   0  17:00~21:00  \n",
       "3294686   0   0  17:00~21:00  \n",
       "3294687   0   0  17:00~21:00  \n",
       "3294763   0   0  17:00~21:00  \n",
       "3292911   0   0  17:00~21:00  \n",
       "\n",
       "[48501 rows x 11 columns]"
      ]
     },
     "execution_count": 47,
     "metadata": {},
     "output_type": "execute_result"
    }
   ],
   "source": [
    "주거_강서_df[주거_강서_df['시간대_구간']== '17:00~21:00' ]"
   ]
  },
  {
   "cell_type": "code",
   "execution_count": 50,
   "metadata": {},
   "outputs": [],
   "source": [
    "주거_강서_df1 = 주거_강서_df[주거_강서_df['시간대_구간'] == '06:00~10:00']\n",
    "주거_강서_df2 = 주거_강서_df[주거_강서_df['시간대_구간'] == '17:00~21:00']\n",
    "# 전체 파일에서 1차 전처리 (집계_기준 2개 -> 1개로 줄임, 사용량 =0)\n",
    "주거_강서_df1 = 주거_강서_df1[(주거_강서_df1['전체_이용_분'] != 0) & (주거_강서_df1['전체_이용_거리'] != 0)]\n",
    "주거_강서_df2 = 주거_강서_df2[(주거_강서_df2['전체_이용_분'] != 0) & (주거_강서_df2['전체_이용_거리'] != 0)]"
   ]
  },
  {
   "cell_type": "code",
   "execution_count": 51,
   "metadata": {},
   "outputs": [
    {
     "data": {
      "text/html": [
       "<div>\n",
       "<style scoped>\n",
       "    .dataframe tbody tr th:only-of-type {\n",
       "        vertical-align: middle;\n",
       "    }\n",
       "\n",
       "    .dataframe tbody tr th {\n",
       "        vertical-align: top;\n",
       "    }\n",
       "\n",
       "    .dataframe thead th {\n",
       "        text-align: right;\n",
       "    }\n",
       "</style>\n",
       "<table border=\"1\" class=\"dataframe\">\n",
       "  <thead>\n",
       "    <tr style=\"text-align: right;\">\n",
       "      <th></th>\n",
       "      <th>기준_날짜</th>\n",
       "      <th>기준_시간대</th>\n",
       "      <th>시작_대여소_ID</th>\n",
       "      <th>종료_대여소_ID</th>\n",
       "      <th>전체_건수</th>\n",
       "      <th>전체_이용_분</th>\n",
       "      <th>전체_이용_거리</th>\n",
       "      <th>요일</th>\n",
       "      <th>주말</th>\n",
       "      <th>휴일</th>\n",
       "      <th>시간대_구간</th>\n",
       "    </tr>\n",
       "  </thead>\n",
       "  <tbody>\n",
       "    <tr>\n",
       "      <th>1612630</th>\n",
       "      <td>2023-04-03</td>\n",
       "      <td>2055</td>\n",
       "      <td>ST-1352</td>\n",
       "      <td>ST-2047</td>\n",
       "      <td>2</td>\n",
       "      <td>17</td>\n",
       "      <td>2843</td>\n",
       "      <td>0</td>\n",
       "      <td>0</td>\n",
       "      <td>0</td>\n",
       "      <td>17:00~21:00</td>\n",
       "    </tr>\n",
       "    <tr>\n",
       "      <th>1608882</th>\n",
       "      <td>2023-04-03</td>\n",
       "      <td>1910</td>\n",
       "      <td>ST-2557</td>\n",
       "      <td>ST-2557</td>\n",
       "      <td>1</td>\n",
       "      <td>26</td>\n",
       "      <td>3485</td>\n",
       "      <td>0</td>\n",
       "      <td>0</td>\n",
       "      <td>0</td>\n",
       "      <td>17:00~21:00</td>\n",
       "    </tr>\n",
       "    <tr>\n",
       "      <th>1608911</th>\n",
       "      <td>2023-04-03</td>\n",
       "      <td>1915</td>\n",
       "      <td>ST-1352</td>\n",
       "      <td>ST-524</td>\n",
       "      <td>1</td>\n",
       "      <td>12</td>\n",
       "      <td>1989</td>\n",
       "      <td>0</td>\n",
       "      <td>0</td>\n",
       "      <td>0</td>\n",
       "      <td>17:00~21:00</td>\n",
       "    </tr>\n",
       "    <tr>\n",
       "      <th>1608917</th>\n",
       "      <td>2023-04-03</td>\n",
       "      <td>1915</td>\n",
       "      <td>ST-1645</td>\n",
       "      <td>ST-2489</td>\n",
       "      <td>1</td>\n",
       "      <td>16</td>\n",
       "      <td>3300</td>\n",
       "      <td>0</td>\n",
       "      <td>0</td>\n",
       "      <td>0</td>\n",
       "      <td>17:00~21:00</td>\n",
       "    </tr>\n",
       "    <tr>\n",
       "      <th>1609001</th>\n",
       "      <td>2023-04-03</td>\n",
       "      <td>1920</td>\n",
       "      <td>ST-1253</td>\n",
       "      <td>ST-1065</td>\n",
       "      <td>1</td>\n",
       "      <td>10</td>\n",
       "      <td>1630</td>\n",
       "      <td>0</td>\n",
       "      <td>0</td>\n",
       "      <td>0</td>\n",
       "      <td>17:00~21:00</td>\n",
       "    </tr>\n",
       "    <tr>\n",
       "      <th>...</th>\n",
       "      <td>...</td>\n",
       "      <td>...</td>\n",
       "      <td>...</td>\n",
       "      <td>...</td>\n",
       "      <td>...</td>\n",
       "      <td>...</td>\n",
       "      <td>...</td>\n",
       "      <td>...</td>\n",
       "      <td>...</td>\n",
       "      <td>...</td>\n",
       "      <td>...</td>\n",
       "    </tr>\n",
       "    <tr>\n",
       "      <th>3294677</th>\n",
       "      <td>2024-03-29</td>\n",
       "      <td>1905</td>\n",
       "      <td>ST-2056</td>\n",
       "      <td>ST-2884</td>\n",
       "      <td>1</td>\n",
       "      <td>6</td>\n",
       "      <td>671</td>\n",
       "      <td>4</td>\n",
       "      <td>0</td>\n",
       "      <td>0</td>\n",
       "      <td>17:00~21:00</td>\n",
       "    </tr>\n",
       "    <tr>\n",
       "      <th>3294686</th>\n",
       "      <td>2024-03-29</td>\n",
       "      <td>1905</td>\n",
       "      <td>ST-2557</td>\n",
       "      <td>ST-1714</td>\n",
       "      <td>2</td>\n",
       "      <td>23</td>\n",
       "      <td>3309</td>\n",
       "      <td>4</td>\n",
       "      <td>0</td>\n",
       "      <td>0</td>\n",
       "      <td>17:00~21:00</td>\n",
       "    </tr>\n",
       "    <tr>\n",
       "      <th>3294687</th>\n",
       "      <td>2024-03-29</td>\n",
       "      <td>1905</td>\n",
       "      <td>ST-2557</td>\n",
       "      <td>ST-530</td>\n",
       "      <td>1</td>\n",
       "      <td>10</td>\n",
       "      <td>1686</td>\n",
       "      <td>4</td>\n",
       "      <td>0</td>\n",
       "      <td>0</td>\n",
       "      <td>17:00~21:00</td>\n",
       "    </tr>\n",
       "    <tr>\n",
       "      <th>3294763</th>\n",
       "      <td>2024-03-29</td>\n",
       "      <td>1910</td>\n",
       "      <td>ST-2056</td>\n",
       "      <td>ST-1694</td>\n",
       "      <td>1</td>\n",
       "      <td>7</td>\n",
       "      <td>1144</td>\n",
       "      <td>4</td>\n",
       "      <td>0</td>\n",
       "      <td>0</td>\n",
       "      <td>17:00~21:00</td>\n",
       "    </tr>\n",
       "    <tr>\n",
       "      <th>3292911</th>\n",
       "      <td>2024-03-29</td>\n",
       "      <td>1735</td>\n",
       "      <td>ST-2965</td>\n",
       "      <td>ST-2857</td>\n",
       "      <td>1</td>\n",
       "      <td>9</td>\n",
       "      <td>1322</td>\n",
       "      <td>4</td>\n",
       "      <td>0</td>\n",
       "      <td>0</td>\n",
       "      <td>17:00~21:00</td>\n",
       "    </tr>\n",
       "  </tbody>\n",
       "</table>\n",
       "<p>48501 rows × 11 columns</p>\n",
       "</div>"
      ],
      "text/plain": [
       "              기준_날짜  기준_시간대 시작_대여소_ID 종료_대여소_ID  전체_건수  전체_이용_분  전체_이용_거리  요일  \\\n",
       "1612630  2023-04-03    2055   ST-1352   ST-2047      2       17      2843   0   \n",
       "1608882  2023-04-03    1910   ST-2557   ST-2557      1       26      3485   0   \n",
       "1608911  2023-04-03    1915   ST-1352    ST-524      1       12      1989   0   \n",
       "1608917  2023-04-03    1915   ST-1645   ST-2489      1       16      3300   0   \n",
       "1609001  2023-04-03    1920   ST-1253   ST-1065      1       10      1630   0   \n",
       "...             ...     ...       ...       ...    ...      ...       ...  ..   \n",
       "3294677  2024-03-29    1905   ST-2056   ST-2884      1        6       671   4   \n",
       "3294686  2024-03-29    1905   ST-2557   ST-1714      2       23      3309   4   \n",
       "3294687  2024-03-29    1905   ST-2557    ST-530      1       10      1686   4   \n",
       "3294763  2024-03-29    1910   ST-2056   ST-1694      1        7      1144   4   \n",
       "3292911  2024-03-29    1735   ST-2965   ST-2857      1        9      1322   4   \n",
       "\n",
       "         주말  휴일       시간대_구간  \n",
       "1612630   0   0  17:00~21:00  \n",
       "1608882   0   0  17:00~21:00  \n",
       "1608911   0   0  17:00~21:00  \n",
       "1608917   0   0  17:00~21:00  \n",
       "1609001   0   0  17:00~21:00  \n",
       "...      ..  ..          ...  \n",
       "3294677   0   0  17:00~21:00  \n",
       "3294686   0   0  17:00~21:00  \n",
       "3294687   0   0  17:00~21:00  \n",
       "3294763   0   0  17:00~21:00  \n",
       "3292911   0   0  17:00~21:00  \n",
       "\n",
       "[48501 rows x 11 columns]"
      ]
     },
     "execution_count": 51,
     "metadata": {},
     "output_type": "execute_result"
    }
   ],
   "source": [
    "주거_강서_df2"
   ]
  },
  {
   "cell_type": "code",
   "execution_count": 15,
   "metadata": {},
   "outputs": [
    {
     "name": "stdout",
     "output_type": "stream",
     "text": [
      "           기준_날짜 시작_대여소_ID  전체_건수\n",
      "0     2023-04-03   ST-1253     27\n",
      "1     2023-04-03   ST-1352     56\n",
      "2     2023-04-03   ST-1645     70\n",
      "3     2023-04-03   ST-2056     61\n",
      "4     2023-04-03   ST-2557     49\n",
      "...          ...       ...    ...\n",
      "1637  2024-03-29   ST-1645     62\n",
      "1638  2024-03-29   ST-2050     75\n",
      "1639  2024-03-29   ST-2056     46\n",
      "1640  2024-03-29   ST-2557     57\n",
      "1641  2024-03-29   ST-2965     58\n",
      "\n",
      "[1642 rows x 3 columns]\n"
     ]
    }
   ],
   "source": [
    "grouped_data = 주거_강서_df1.groupby(['기준_날짜', '시작_대여소_ID'])['전체_건수'].sum().reset_index()\n",
    "print(grouped_data)"
   ]
  },
  {
   "cell_type": "code",
   "execution_count": 16,
   "metadata": {},
   "outputs": [
    {
     "data": {
      "text/plain": [
       "7"
      ]
     },
     "execution_count": 16,
     "metadata": {},
     "output_type": "execute_result"
    }
   ],
   "source": [
    "len(주거_IDs)"
   ]
  },
  {
   "cell_type": "code",
   "execution_count": 32,
   "metadata": {},
   "outputs": [
    {
     "name": "stdout",
     "output_type": "stream",
     "text": [
      "                               SARIMAX Results                                \n",
      "==============================================================================\n",
      "Dep. Variable:                  전체_건수   No. Observations:                  362\n",
      "Model:                 ARIMA(1, 1, 0)   Log Likelihood               -1754.964\n",
      "Date:                Wed, 08 May 2024   AIC                           3513.929\n",
      "Time:                        00:02:13   BIC                           3521.707\n",
      "Sample:                    04-03-2023   HQIC                          3517.021\n",
      "                         - 03-29-2024                                         \n",
      "Covariance Type:                  opg                                         \n",
      "==============================================================================\n",
      "                 coef    std err          z      P>|z|      [0.025      0.975]\n",
      "------------------------------------------------------------------------------\n",
      "ar.L1         -0.0956      0.076     -1.255      0.210      -0.245       0.054\n",
      "sigma2       978.8890     73.276     13.359      0.000     835.270    1122.508\n",
      "===================================================================================\n",
      "Ljung-Box (L1) (Q):                   0.17   Jarque-Bera (JB):                19.52\n",
      "Prob(Q):                              0.68   Prob(JB):                         0.00\n",
      "Heteroskedasticity (H):               0.48   Skew:                            -0.56\n",
      "Prob(H) (two-sided):                  0.00   Kurtosis:                         3.22\n",
      "===================================================================================\n",
      "\n",
      "Warnings:\n",
      "[1] Covariance matrix calculated using the outer product of gradients (complex-step).\n",
      "대여소 ST-1253의 다음 시간대 예측값: 51.99319321157202\n",
      "                               SARIMAX Results                                \n",
      "==============================================================================\n",
      "Dep. Variable:                  전체_건수   No. Observations:                  362\n",
      "Model:                 ARIMA(1, 1, 0)   Log Likelihood               -1768.689\n",
      "Date:                Wed, 08 May 2024   AIC                           3541.377\n",
      "Time:                        00:02:13   BIC                           3549.155\n",
      "Sample:                    04-03-2023   HQIC                          3544.469\n",
      "                         - 03-29-2024                                         \n",
      "Covariance Type:                  opg                                         \n",
      "==============================================================================\n",
      "                 coef    std err          z      P>|z|      [0.025      0.975]\n",
      "------------------------------------------------------------------------------\n",
      "ar.L1         -0.1154      0.080     -1.440      0.150      -0.272       0.042\n",
      "sigma2      1056.5286     74.855     14.114      0.000     909.815    1203.242\n",
      "===================================================================================\n",
      "Ljung-Box (L1) (Q):                   0.37   Jarque-Bera (JB):                 4.58\n",
      "Prob(Q):                              0.54   Prob(JB):                         0.10\n",
      "Heteroskedasticity (H):               0.41   Skew:                            -0.19\n",
      "Prob(H) (two-sided):                  0.00   Kurtosis:                         3.40\n",
      "===================================================================================\n",
      "\n",
      "Warnings:\n",
      "[1] Covariance matrix calculated using the outer product of gradients (complex-step).\n",
      "대여소 ST-1352의 다음 시간대 예측값: 37.38497416712348\n",
      "                               SARIMAX Results                                \n",
      "==============================================================================\n",
      "Dep. Variable:                  전체_건수   No. Observations:                  362\n",
      "Model:                 ARIMA(1, 1, 0)   Log Likelihood               -1805.410\n",
      "Date:                Wed, 08 May 2024   AIC                           3614.819\n",
      "Time:                        00:02:13   BIC                           3622.597\n",
      "Sample:                    04-03-2023   HQIC                          3617.911\n",
      "                         - 03-29-2024                                         \n",
      "Covariance Type:                  opg                                         \n",
      "==============================================================================\n",
      "                 coef    std err          z      P>|z|      [0.025      0.975]\n",
      "------------------------------------------------------------------------------\n",
      "ar.L1         -0.1152      0.087     -1.326      0.185      -0.285       0.055\n",
      "sigma2      1296.0986     93.666     13.838      0.000    1112.518    1479.680\n",
      "===================================================================================\n",
      "Ljung-Box (L1) (Q):                   0.46   Jarque-Bera (JB):                 1.69\n",
      "Prob(Q):                              0.50   Prob(JB):                         0.43\n",
      "Heteroskedasticity (H):               0.40   Skew:                            -0.12\n",
      "Prob(H) (two-sided):                  0.00   Kurtosis:                         3.23\n",
      "===================================================================================\n",
      "\n",
      "Warnings:\n",
      "[1] Covariance matrix calculated using the outer product of gradients (complex-step).\n",
      "대여소 ST-1645의 다음 시간대 예측값: 58.313741558475144\n",
      "                               SARIMAX Results                                \n",
      "==============================================================================\n",
      "Dep. Variable:                  전체_건수   No. Observations:                  332\n",
      "Model:                 ARIMA(1, 1, 0)   Log Likelihood               -1726.719\n",
      "Date:                Wed, 08 May 2024   AIC                           3457.437\n",
      "Time:                        00:02:13   BIC                           3465.042\n",
      "Sample:                    05-03-2023   HQIC                          3460.470\n",
      "                         - 03-29-2024                                         \n",
      "Covariance Type:                  opg                                         \n",
      "==============================================================================\n",
      "                 coef    std err          z      P>|z|      [0.025      0.975]\n",
      "------------------------------------------------------------------------------\n",
      "ar.L1         -0.0397      0.084     -0.472      0.637      -0.204       0.125\n",
      "sigma2      1994.3926    148.839     13.400      0.000    1702.673    2286.112\n",
      "===================================================================================\n",
      "Ljung-Box (L1) (Q):                   0.04   Jarque-Bera (JB):                19.56\n",
      "Prob(Q):                              0.85   Prob(JB):                         0.00\n",
      "Heteroskedasticity (H):               0.55   Skew:                            -0.57\n",
      "Prob(H) (two-sided):                  0.00   Kurtosis:                         3.36\n",
      "===================================================================================\n",
      "\n",
      "Warnings:\n",
      "[1] Covariance matrix calculated using the outer product of gradients (complex-step).\n",
      "대여소 ST-2050의 다음 시간대 예측값: 73.29504351876041\n",
      "                               SARIMAX Results                                \n",
      "==============================================================================\n",
      "Dep. Variable:                  전체_건수   No. Observations:                  362\n",
      "Model:                 ARIMA(1, 1, 0)   Log Likelihood               -1804.133\n",
      "Date:                Wed, 08 May 2024   AIC                           3612.267\n",
      "Time:                        00:02:13   BIC                           3620.045\n",
      "Sample:                    04-03-2023   HQIC                          3615.359\n",
      "                         - 03-29-2024                                         \n",
      "Covariance Type:                  opg                                         \n",
      "==============================================================================\n",
      "                 coef    std err          z      P>|z|      [0.025      0.975]\n",
      "------------------------------------------------------------------------------\n",
      "ar.L1         -0.1490      0.070     -2.122      0.034      -0.287      -0.011\n",
      "sigma2      1286.8044     95.642     13.454      0.000    1099.350    1474.259\n",
      "===================================================================================\n",
      "Ljung-Box (L1) (Q):                   0.87   Jarque-Bera (JB):                 0.41\n",
      "Prob(Q):                              0.35   Prob(JB):                         0.82\n",
      "Heteroskedasticity (H):               0.43   Skew:                            -0.07\n",
      "Prob(H) (two-sided):                  0.00   Kurtosis:                         3.10\n",
      "===================================================================================\n",
      "\n",
      "Warnings:\n",
      "[1] Covariance matrix calculated using the outer product of gradients (complex-step).\n",
      "대여소 ST-2056의 다음 시간대 예측값: 40.93429918535808\n",
      "                               SARIMAX Results                                \n",
      "==============================================================================\n",
      "Dep. Variable:                  전체_건수   No. Observations:                  362\n",
      "Model:                 ARIMA(1, 1, 0)   Log Likelihood               -1888.329\n",
      "Date:                Wed, 08 May 2024   AIC                           3780.659\n",
      "Time:                        00:02:13   BIC                           3788.436\n",
      "Sample:                    04-03-2023   HQIC                          3783.751\n",
      "                         - 03-29-2024                                         \n",
      "Covariance Type:                  opg                                         \n",
      "==============================================================================\n",
      "                 coef    std err          z      P>|z|      [0.025      0.975]\n",
      "------------------------------------------------------------------------------\n",
      "ar.L1         -0.1099      0.067     -1.645      0.100      -0.241       0.021\n",
      "sigma2      2049.7368    142.773     14.357      0.000    1769.907    2329.567\n",
      "===================================================================================\n",
      "Ljung-Box (L1) (Q):                   0.41   Jarque-Bera (JB):                 4.62\n",
      "Prob(Q):                              0.52   Prob(JB):                         0.10\n",
      "Heteroskedasticity (H):               0.37   Skew:                            -0.16\n",
      "Prob(H) (two-sided):                  0.00   Kurtosis:                         3.46\n",
      "===================================================================================\n",
      "\n",
      "Warnings:\n",
      "[1] Covariance matrix calculated using the outer product of gradients (complex-step).\n",
      "대여소 ST-2557의 다음 시간대 예측값: 53.153948419412025\n",
      "                               SARIMAX Results                                \n",
      "==============================================================================\n",
      "Dep. Variable:                  전체_건수   No. Observations:                  332\n",
      "Model:                 ARIMA(1, 1, 0)   Log Likelihood               -1644.289\n",
      "Date:                Wed, 08 May 2024   AIC                           3292.578\n",
      "Time:                        00:02:13   BIC                           3300.182\n",
      "Sample:                    05-03-2023   HQIC                          3295.610\n",
      "                         - 03-29-2024                                         \n",
      "Covariance Type:                  opg                                         \n",
      "==============================================================================\n",
      "                 coef    std err          z      P>|z|      [0.025      0.975]\n",
      "------------------------------------------------------------------------------\n",
      "ar.L1         -0.0925      0.080     -1.162      0.245      -0.249       0.064\n",
      "sigma2      1212.0743     94.449     12.833      0.000    1026.958    1397.191\n",
      "===================================================================================\n",
      "Ljung-Box (L1) (Q):                   0.22   Jarque-Bera (JB):                 3.35\n",
      "Prob(Q):                              0.64   Prob(JB):                         0.19\n",
      "Heteroskedasticity (H):               0.49   Skew:                            -0.22\n",
      "Prob(H) (two-sided):                  0.00   Kurtosis:                         3.20\n",
      "===================================================================================\n",
      "\n",
      "Warnings:\n",
      "[1] Covariance matrix calculated using the outer product of gradients (complex-step).\n",
      "대여소 ST-2965의 다음 시간대 예측값: 55.03913024362471\n"
     ]
    },
    {
     "name": "stderr",
     "output_type": "stream",
     "text": [
      "C:\\Users\\ciw96\\AppData\\Local\\Temp\\ipykernel_61180\\1473983466.py:45: SettingWithCopyWarning:\n",
      "\n",
      "\n",
      "A value is trying to be set on a copy of a slice from a DataFrame.\n",
      "Try using .loc[row_indexer,col_indexer] = value instead\n",
      "\n",
      "See the caveats in the documentation: https://pandas.pydata.org/pandas-docs/stable/user_guide/indexing.html#returning-a-view-versus-a-copy\n",
      "\n",
      "C:\\Users\\ciw96\\AppData\\Local\\Temp\\ipykernel_61180\\1473983466.py:20: FutureWarning:\n",
      "\n",
      "Series.__getitem__ treating keys as positions is deprecated. In a future version, integer keys will always be treated as labels (consistent with DataFrame behavior). To access a value by position, use `ser.iloc[pos]`\n",
      "\n",
      "C:\\Users\\ciw96\\AppData\\Local\\Temp\\ipykernel_61180\\1473983466.py:45: SettingWithCopyWarning:\n",
      "\n",
      "\n",
      "A value is trying to be set on a copy of a slice from a DataFrame.\n",
      "Try using .loc[row_indexer,col_indexer] = value instead\n",
      "\n",
      "See the caveats in the documentation: https://pandas.pydata.org/pandas-docs/stable/user_guide/indexing.html#returning-a-view-versus-a-copy\n",
      "\n",
      "C:\\Users\\ciw96\\AppData\\Local\\Temp\\ipykernel_61180\\1473983466.py:20: FutureWarning:\n",
      "\n",
      "Series.__getitem__ treating keys as positions is deprecated. In a future version, integer keys will always be treated as labels (consistent with DataFrame behavior). To access a value by position, use `ser.iloc[pos]`\n",
      "\n",
      "C:\\Users\\ciw96\\AppData\\Local\\Temp\\ipykernel_61180\\1473983466.py:45: SettingWithCopyWarning:\n",
      "\n",
      "\n",
      "A value is trying to be set on a copy of a slice from a DataFrame.\n",
      "Try using .loc[row_indexer,col_indexer] = value instead\n",
      "\n",
      "See the caveats in the documentation: https://pandas.pydata.org/pandas-docs/stable/user_guide/indexing.html#returning-a-view-versus-a-copy\n",
      "\n",
      "C:\\Users\\ciw96\\AppData\\Local\\Temp\\ipykernel_61180\\1473983466.py:20: FutureWarning:\n",
      "\n",
      "Series.__getitem__ treating keys as positions is deprecated. In a future version, integer keys will always be treated as labels (consistent with DataFrame behavior). To access a value by position, use `ser.iloc[pos]`\n",
      "\n",
      "C:\\Users\\ciw96\\AppData\\Local\\Temp\\ipykernel_61180\\1473983466.py:45: SettingWithCopyWarning:\n",
      "\n",
      "\n",
      "A value is trying to be set on a copy of a slice from a DataFrame.\n",
      "Try using .loc[row_indexer,col_indexer] = value instead\n",
      "\n",
      "See the caveats in the documentation: https://pandas.pydata.org/pandas-docs/stable/user_guide/indexing.html#returning-a-view-versus-a-copy\n",
      "\n",
      "C:\\Users\\ciw96\\AppData\\Local\\Temp\\ipykernel_61180\\1473983466.py:20: FutureWarning:\n",
      "\n",
      "Series.__getitem__ treating keys as positions is deprecated. In a future version, integer keys will always be treated as labels (consistent with DataFrame behavior). To access a value by position, use `ser.iloc[pos]`\n",
      "\n",
      "C:\\Users\\ciw96\\AppData\\Local\\Temp\\ipykernel_61180\\1473983466.py:45: SettingWithCopyWarning:\n",
      "\n",
      "\n",
      "A value is trying to be set on a copy of a slice from a DataFrame.\n",
      "Try using .loc[row_indexer,col_indexer] = value instead\n",
      "\n",
      "See the caveats in the documentation: https://pandas.pydata.org/pandas-docs/stable/user_guide/indexing.html#returning-a-view-versus-a-copy\n",
      "\n",
      "C:\\Users\\ciw96\\AppData\\Local\\Temp\\ipykernel_61180\\1473983466.py:20: FutureWarning:\n",
      "\n",
      "Series.__getitem__ treating keys as positions is deprecated. In a future version, integer keys will always be treated as labels (consistent with DataFrame behavior). To access a value by position, use `ser.iloc[pos]`\n",
      "\n",
      "C:\\Users\\ciw96\\AppData\\Local\\Temp\\ipykernel_61180\\1473983466.py:45: SettingWithCopyWarning:\n",
      "\n",
      "\n",
      "A value is trying to be set on a copy of a slice from a DataFrame.\n",
      "Try using .loc[row_indexer,col_indexer] = value instead\n",
      "\n",
      "See the caveats in the documentation: https://pandas.pydata.org/pandas-docs/stable/user_guide/indexing.html#returning-a-view-versus-a-copy\n",
      "\n",
      "C:\\Users\\ciw96\\AppData\\Local\\Temp\\ipykernel_61180\\1473983466.py:20: FutureWarning:\n",
      "\n",
      "Series.__getitem__ treating keys as positions is deprecated. In a future version, integer keys will always be treated as labels (consistent with DataFrame behavior). To access a value by position, use `ser.iloc[pos]`\n",
      "\n",
      "C:\\Users\\ciw96\\AppData\\Local\\Temp\\ipykernel_61180\\1473983466.py:45: SettingWithCopyWarning:\n",
      "\n",
      "\n",
      "A value is trying to be set on a copy of a slice from a DataFrame.\n",
      "Try using .loc[row_indexer,col_indexer] = value instead\n",
      "\n",
      "See the caveats in the documentation: https://pandas.pydata.org/pandas-docs/stable/user_guide/indexing.html#returning-a-view-versus-a-copy\n",
      "\n",
      "C:\\Users\\ciw96\\AppData\\Local\\Temp\\ipykernel_61180\\1473983466.py:20: FutureWarning:\n",
      "\n",
      "Series.__getitem__ treating keys as positions is deprecated. In a future version, integer keys will always be treated as labels (consistent with DataFrame behavior). To access a value by position, use `ser.iloc[pos]`\n",
      "\n"
     ]
    }
   ],
   "source": [
    "import pandas as pd\n",
    "import numpy as np\n",
    "import matplotlib.pyplot as plt\n",
    "from statsmodels.tsa.arima.model import ARIMA\n",
    "from statsmodels.graphics.tsaplots import plot_acf, plot_pacf\n",
    "\n",
    "result = []\n",
    "# ARIMA 모델 학습 및 예측 함수\n",
    "def check_best_arima(data):\n",
    "    for i in range(1,6) : \n",
    "        for j in range(1,3) :\n",
    "            for k in range(1,3) : \n",
    "                model = ARIMA(data, order=(i,j,k))  # ARIMA(p,d,q) 모델 설정1\n",
    "                model_fit = model.fit()\n",
    "                # 예측 결과 출력\n",
    "                print(model_fit.summary())  \n",
    "\n",
    "\n",
    "def arima_forecast(data):\n",
    "    plot_acf(data)\n",
    "    plot_pacf(data)\n",
    "    plt.show()\n",
    "     \n",
    "    #ARIMA 모델 학습\n",
    "    # ARIMA 모델 학습\n",
    "    model = ARIMA(data, order=(1,1,0))  # ARIMA(p,d,q) 모델 설정1\n",
    "    model_fit = model.fit()\n",
    "\n",
    "    # 다음 시간대의 예측값 계산\n",
    "    forecast = model_fit.forecast(steps=1)[0]\n",
    "    \n",
    "    # 예측 결과 출력\n",
    "    print(model_fit.summary())\n",
    "\n",
    "     #시각화\n",
    "    #plt.figure(figsize=(10, 6))\n",
    "    #plt.plot(data.index, data.values, label='Actual')\n",
    "    #plt.plot(data.index, model_fit.predict(start=0, ensd=len(data)-1), label='Predicted', color='red')\n",
    "    #plt.title('Actual vs. Predicted Bike Counts')\n",
    "    #plt.xlabel('Date')\n",
    "    #plt.ylabel('Bike Count')\n",
    "    #plt.legend()\n",
    "    #plt.grid(True)\n",
    "    #plt.show()\n",
    "    \n",
    "    return forecast\n",
    "\n",
    "def arima_test(data, IDS) : \n",
    "# 주거 대여소의 시계열 분석\n",
    "for 주거_ID in 주거_IDs:\n",
    "    \n",
    "    # 해당 주거 대여소의 데이터 추출\n",
    "    주거_data = 주거_강서_df1[주거_강서_df1['시작_대여소_ID'] == 주거_ID]\n",
    "\n",
    "    # 기준_날짜를 날짜형 데이터로 변환\n",
    "    주거_data['기준_날짜'] = pd.to_datetime(주거_data['기준_날짜'])\n",
    "\n",
    "    # 기준_날짜를 인덱스로 설정하고 일별로 집계\n",
    "    주거_data.set_index('기준_날짜', inplace=True)\n",
    "    arima_data = 주거_data.resample('D')['전체_건수'].sum()  # 일별 전체_건수 합계 집계\n",
    "\n",
    "    # ARIMA 모델을 통한 예측\n",
    "    forecast = arima_forecast(arima_data)\n",
    "    result.append(forecast)\n",
    "    print(f\"대여소 {주거_ID}의 다음 시간대 예측값: {forecast}\")"
   ]
  },
  {
   "cell_type": "code",
   "execution_count": null,
   "metadata": {},
   "outputs": [],
   "source": [
    "\n",
    "def arima_test(data, IDs) : \n",
    "    for 주거_ID in IDs:\n",
    "        \n",
    "        # 해당 주거 대여소의 데이터 추출\n",
    "        주거_data = data[data['시작_대여소_ID'] == 주거_ID]\n",
    "\n",
    "        # 기준_날짜를 날짜형 데이터로 변환\n",
    "        주거_data['기준_날짜'] = pd.to_datetime(주거_data['기준_날짜'])\n",
    "\n",
    "        # 기준_날짜를 인덱스로 설정하고 일별로 집계\n",
    "        주거_data.set_index('기준_날짜', inplace=True)\n",
    "        arima_data = 주거_data.resample('D')['전체_건수'].sum()  # 일별 전체_건수 합계 집계\n",
    "\n",
    "        # ARIMA 모델을 통한 예측\n",
    "        forecast = arima_forecast(arima_data)\n",
    "        result.append(forecast)\n",
    "        print(f\"대여소 {주거_ID}의 다음 시간대 예측값: {forecast}\")"
   ]
  },
  {
   "cell_type": "code",
   "execution_count": 19,
   "metadata": {},
   "outputs": [],
   "source": [
    "주거_check=주거_강서_df1[주거_강서_df1['시작_대여소_ID']=='ST-1352'].groupby('기준_날짜')['전체_건수'].sum()"
   ]
  },
  {
   "cell_type": "code",
   "execution_count": 20,
   "metadata": {},
   "outputs": [],
   "source": [
    "주거_check_df = 주거_check.to_frame()\n",
    "주거_check_df.reset_index(inplace=True)\n",
    "주거_check_df.columns = ['기준_날짜', '전체_건수']"
   ]
  },
  {
   "cell_type": "code",
   "execution_count": 21,
   "metadata": {},
   "outputs": [
    {
     "data": {
      "application/vnd.plotly.v1+json": {
       "config": {
        "plotlyServerURL": "https://plot.ly"
       },
       "data": [
        {
         "type": "bar",
         "x": [
          "2024-03-04",
          "2024-03-05",
          "2024-03-06",
          "2024-03-07",
          "2024-03-08",
          "2024-03-11",
          "2024-03-12",
          "2024-03-13",
          "2024-03-14",
          "2024-03-15",
          "2024-03-18",
          "2024-03-19",
          "2024-03-20",
          "2024-03-21",
          "2024-03-22",
          "2024-03-25",
          "2024-03-26",
          "2024-03-27",
          "2024-03-28",
          "2024-03-29"
         ],
         "y": [
          33,
          61,
          55,
          60,
          49,
          47,
          34,
          38,
          57,
          55,
          31,
          44,
          46,
          44,
          27,
          45,
          5,
          52,
          25,
          39
         ]
        }
       ],
       "layout": {
        "hoverlabel": {
         "bgcolor": "white",
         "font": {
          "family": "Rockwell",
          "size": 16
         }
        },
        "hovermode": "x",
        "template": {
         "data": {
          "bar": [
           {
            "error_x": {
             "color": "#2a3f5f"
            },
            "error_y": {
             "color": "#2a3f5f"
            },
            "marker": {
             "line": {
              "color": "#E5ECF6",
              "width": 0.5
             },
             "pattern": {
              "fillmode": "overlay",
              "size": 10,
              "solidity": 0.2
             }
            },
            "type": "bar"
           }
          ],
          "barpolar": [
           {
            "marker": {
             "line": {
              "color": "#E5ECF6",
              "width": 0.5
             },
             "pattern": {
              "fillmode": "overlay",
              "size": 10,
              "solidity": 0.2
             }
            },
            "type": "barpolar"
           }
          ],
          "carpet": [
           {
            "aaxis": {
             "endlinecolor": "#2a3f5f",
             "gridcolor": "white",
             "linecolor": "white",
             "minorgridcolor": "white",
             "startlinecolor": "#2a3f5f"
            },
            "baxis": {
             "endlinecolor": "#2a3f5f",
             "gridcolor": "white",
             "linecolor": "white",
             "minorgridcolor": "white",
             "startlinecolor": "#2a3f5f"
            },
            "type": "carpet"
           }
          ],
          "choropleth": [
           {
            "colorbar": {
             "outlinewidth": 0,
             "ticks": ""
            },
            "type": "choropleth"
           }
          ],
          "contour": [
           {
            "colorbar": {
             "outlinewidth": 0,
             "ticks": ""
            },
            "colorscale": [
             [
              0,
              "#0d0887"
             ],
             [
              0.1111111111111111,
              "#46039f"
             ],
             [
              0.2222222222222222,
              "#7201a8"
             ],
             [
              0.3333333333333333,
              "#9c179e"
             ],
             [
              0.4444444444444444,
              "#bd3786"
             ],
             [
              0.5555555555555556,
              "#d8576b"
             ],
             [
              0.6666666666666666,
              "#ed7953"
             ],
             [
              0.7777777777777778,
              "#fb9f3a"
             ],
             [
              0.8888888888888888,
              "#fdca26"
             ],
             [
              1,
              "#f0f921"
             ]
            ],
            "type": "contour"
           }
          ],
          "contourcarpet": [
           {
            "colorbar": {
             "outlinewidth": 0,
             "ticks": ""
            },
            "type": "contourcarpet"
           }
          ],
          "heatmap": [
           {
            "colorbar": {
             "outlinewidth": 0,
             "ticks": ""
            },
            "colorscale": [
             [
              0,
              "#0d0887"
             ],
             [
              0.1111111111111111,
              "#46039f"
             ],
             [
              0.2222222222222222,
              "#7201a8"
             ],
             [
              0.3333333333333333,
              "#9c179e"
             ],
             [
              0.4444444444444444,
              "#bd3786"
             ],
             [
              0.5555555555555556,
              "#d8576b"
             ],
             [
              0.6666666666666666,
              "#ed7953"
             ],
             [
              0.7777777777777778,
              "#fb9f3a"
             ],
             [
              0.8888888888888888,
              "#fdca26"
             ],
             [
              1,
              "#f0f921"
             ]
            ],
            "type": "heatmap"
           }
          ],
          "heatmapgl": [
           {
            "colorbar": {
             "outlinewidth": 0,
             "ticks": ""
            },
            "colorscale": [
             [
              0,
              "#0d0887"
             ],
             [
              0.1111111111111111,
              "#46039f"
             ],
             [
              0.2222222222222222,
              "#7201a8"
             ],
             [
              0.3333333333333333,
              "#9c179e"
             ],
             [
              0.4444444444444444,
              "#bd3786"
             ],
             [
              0.5555555555555556,
              "#d8576b"
             ],
             [
              0.6666666666666666,
              "#ed7953"
             ],
             [
              0.7777777777777778,
              "#fb9f3a"
             ],
             [
              0.8888888888888888,
              "#fdca26"
             ],
             [
              1,
              "#f0f921"
             ]
            ],
            "type": "heatmapgl"
           }
          ],
          "histogram": [
           {
            "marker": {
             "pattern": {
              "fillmode": "overlay",
              "size": 10,
              "solidity": 0.2
             }
            },
            "type": "histogram"
           }
          ],
          "histogram2d": [
           {
            "colorbar": {
             "outlinewidth": 0,
             "ticks": ""
            },
            "colorscale": [
             [
              0,
              "#0d0887"
             ],
             [
              0.1111111111111111,
              "#46039f"
             ],
             [
              0.2222222222222222,
              "#7201a8"
             ],
             [
              0.3333333333333333,
              "#9c179e"
             ],
             [
              0.4444444444444444,
              "#bd3786"
             ],
             [
              0.5555555555555556,
              "#d8576b"
             ],
             [
              0.6666666666666666,
              "#ed7953"
             ],
             [
              0.7777777777777778,
              "#fb9f3a"
             ],
             [
              0.8888888888888888,
              "#fdca26"
             ],
             [
              1,
              "#f0f921"
             ]
            ],
            "type": "histogram2d"
           }
          ],
          "histogram2dcontour": [
           {
            "colorbar": {
             "outlinewidth": 0,
             "ticks": ""
            },
            "colorscale": [
             [
              0,
              "#0d0887"
             ],
             [
              0.1111111111111111,
              "#46039f"
             ],
             [
              0.2222222222222222,
              "#7201a8"
             ],
             [
              0.3333333333333333,
              "#9c179e"
             ],
             [
              0.4444444444444444,
              "#bd3786"
             ],
             [
              0.5555555555555556,
              "#d8576b"
             ],
             [
              0.6666666666666666,
              "#ed7953"
             ],
             [
              0.7777777777777778,
              "#fb9f3a"
             ],
             [
              0.8888888888888888,
              "#fdca26"
             ],
             [
              1,
              "#f0f921"
             ]
            ],
            "type": "histogram2dcontour"
           }
          ],
          "mesh3d": [
           {
            "colorbar": {
             "outlinewidth": 0,
             "ticks": ""
            },
            "type": "mesh3d"
           }
          ],
          "parcoords": [
           {
            "line": {
             "colorbar": {
              "outlinewidth": 0,
              "ticks": ""
             }
            },
            "type": "parcoords"
           }
          ],
          "pie": [
           {
            "automargin": true,
            "type": "pie"
           }
          ],
          "scatter": [
           {
            "fillpattern": {
             "fillmode": "overlay",
             "size": 10,
             "solidity": 0.2
            },
            "type": "scatter"
           }
          ],
          "scatter3d": [
           {
            "line": {
             "colorbar": {
              "outlinewidth": 0,
              "ticks": ""
             }
            },
            "marker": {
             "colorbar": {
              "outlinewidth": 0,
              "ticks": ""
             }
            },
            "type": "scatter3d"
           }
          ],
          "scattercarpet": [
           {
            "marker": {
             "colorbar": {
              "outlinewidth": 0,
              "ticks": ""
             }
            },
            "type": "scattercarpet"
           }
          ],
          "scattergeo": [
           {
            "marker": {
             "colorbar": {
              "outlinewidth": 0,
              "ticks": ""
             }
            },
            "type": "scattergeo"
           }
          ],
          "scattergl": [
           {
            "marker": {
             "colorbar": {
              "outlinewidth": 0,
              "ticks": ""
             }
            },
            "type": "scattergl"
           }
          ],
          "scattermapbox": [
           {
            "marker": {
             "colorbar": {
              "outlinewidth": 0,
              "ticks": ""
             }
            },
            "type": "scattermapbox"
           }
          ],
          "scatterpolar": [
           {
            "marker": {
             "colorbar": {
              "outlinewidth": 0,
              "ticks": ""
             }
            },
            "type": "scatterpolar"
           }
          ],
          "scatterpolargl": [
           {
            "marker": {
             "colorbar": {
              "outlinewidth": 0,
              "ticks": ""
             }
            },
            "type": "scatterpolargl"
           }
          ],
          "scatterternary": [
           {
            "marker": {
             "colorbar": {
              "outlinewidth": 0,
              "ticks": ""
             }
            },
            "type": "scatterternary"
           }
          ],
          "surface": [
           {
            "colorbar": {
             "outlinewidth": 0,
             "ticks": ""
            },
            "colorscale": [
             [
              0,
              "#0d0887"
             ],
             [
              0.1111111111111111,
              "#46039f"
             ],
             [
              0.2222222222222222,
              "#7201a8"
             ],
             [
              0.3333333333333333,
              "#9c179e"
             ],
             [
              0.4444444444444444,
              "#bd3786"
             ],
             [
              0.5555555555555556,
              "#d8576b"
             ],
             [
              0.6666666666666666,
              "#ed7953"
             ],
             [
              0.7777777777777778,
              "#fb9f3a"
             ],
             [
              0.8888888888888888,
              "#fdca26"
             ],
             [
              1,
              "#f0f921"
             ]
            ],
            "type": "surface"
           }
          ],
          "table": [
           {
            "cells": {
             "fill": {
              "color": "#EBF0F8"
             },
             "line": {
              "color": "white"
             }
            },
            "header": {
             "fill": {
              "color": "#C8D4E3"
             },
             "line": {
              "color": "white"
             }
            },
            "type": "table"
           }
          ]
         },
         "layout": {
          "annotationdefaults": {
           "arrowcolor": "#2a3f5f",
           "arrowhead": 0,
           "arrowwidth": 1
          },
          "autotypenumbers": "strict",
          "coloraxis": {
           "colorbar": {
            "outlinewidth": 0,
            "ticks": ""
           }
          },
          "colorscale": {
           "diverging": [
            [
             0,
             "#8e0152"
            ],
            [
             0.1,
             "#c51b7d"
            ],
            [
             0.2,
             "#de77ae"
            ],
            [
             0.3,
             "#f1b6da"
            ],
            [
             0.4,
             "#fde0ef"
            ],
            [
             0.5,
             "#f7f7f7"
            ],
            [
             0.6,
             "#e6f5d0"
            ],
            [
             0.7,
             "#b8e186"
            ],
            [
             0.8,
             "#7fbc41"
            ],
            [
             0.9,
             "#4d9221"
            ],
            [
             1,
             "#276419"
            ]
           ],
           "sequential": [
            [
             0,
             "#0d0887"
            ],
            [
             0.1111111111111111,
             "#46039f"
            ],
            [
             0.2222222222222222,
             "#7201a8"
            ],
            [
             0.3333333333333333,
             "#9c179e"
            ],
            [
             0.4444444444444444,
             "#bd3786"
            ],
            [
             0.5555555555555556,
             "#d8576b"
            ],
            [
             0.6666666666666666,
             "#ed7953"
            ],
            [
             0.7777777777777778,
             "#fb9f3a"
            ],
            [
             0.8888888888888888,
             "#fdca26"
            ],
            [
             1,
             "#f0f921"
            ]
           ],
           "sequentialminus": [
            [
             0,
             "#0d0887"
            ],
            [
             0.1111111111111111,
             "#46039f"
            ],
            [
             0.2222222222222222,
             "#7201a8"
            ],
            [
             0.3333333333333333,
             "#9c179e"
            ],
            [
             0.4444444444444444,
             "#bd3786"
            ],
            [
             0.5555555555555556,
             "#d8576b"
            ],
            [
             0.6666666666666666,
             "#ed7953"
            ],
            [
             0.7777777777777778,
             "#fb9f3a"
            ],
            [
             0.8888888888888888,
             "#fdca26"
            ],
            [
             1,
             "#f0f921"
            ]
           ]
          },
          "colorway": [
           "#636efa",
           "#EF553B",
           "#00cc96",
           "#ab63fa",
           "#FFA15A",
           "#19d3f3",
           "#FF6692",
           "#B6E880",
           "#FF97FF",
           "#FECB52"
          ],
          "font": {
           "color": "#2a3f5f"
          },
          "geo": {
           "bgcolor": "white",
           "lakecolor": "white",
           "landcolor": "#E5ECF6",
           "showlakes": true,
           "showland": true,
           "subunitcolor": "white"
          },
          "hoverlabel": {
           "align": "left"
          },
          "hovermode": "closest",
          "mapbox": {
           "style": "light"
          },
          "paper_bgcolor": "white",
          "plot_bgcolor": "#E5ECF6",
          "polar": {
           "angularaxis": {
            "gridcolor": "white",
            "linecolor": "white",
            "ticks": ""
           },
           "bgcolor": "#E5ECF6",
           "radialaxis": {
            "gridcolor": "white",
            "linecolor": "white",
            "ticks": ""
           }
          },
          "scene": {
           "xaxis": {
            "backgroundcolor": "#E5ECF6",
            "gridcolor": "white",
            "gridwidth": 2,
            "linecolor": "white",
            "showbackground": true,
            "ticks": "",
            "zerolinecolor": "white"
           },
           "yaxis": {
            "backgroundcolor": "#E5ECF6",
            "gridcolor": "white",
            "gridwidth": 2,
            "linecolor": "white",
            "showbackground": true,
            "ticks": "",
            "zerolinecolor": "white"
           },
           "zaxis": {
            "backgroundcolor": "#E5ECF6",
            "gridcolor": "white",
            "gridwidth": 2,
            "linecolor": "white",
            "showbackground": true,
            "ticks": "",
            "zerolinecolor": "white"
           }
          },
          "shapedefaults": {
           "line": {
            "color": "#2a3f5f"
           }
          },
          "ternary": {
           "aaxis": {
            "gridcolor": "white",
            "linecolor": "white",
            "ticks": ""
           },
           "baxis": {
            "gridcolor": "white",
            "linecolor": "white",
            "ticks": ""
           },
           "bgcolor": "#E5ECF6",
           "caxis": {
            "gridcolor": "white",
            "linecolor": "white",
            "ticks": ""
           }
          },
          "title": {
           "x": 0.05
          },
          "xaxis": {
           "automargin": true,
           "gridcolor": "white",
           "linecolor": "white",
           "ticks": "",
           "title": {
            "standoff": 15
           },
           "zerolinecolor": "white",
           "zerolinewidth": 2
          },
          "yaxis": {
           "automargin": true,
           "gridcolor": "white",
           "linecolor": "white",
           "ticks": "",
           "title": {
            "standoff": 15
           },
           "zerolinecolor": "white",
           "zerolinewidth": 2
          }
         }
        },
        "title": {
         "text": "전체 건수의 시간에 따른 변화"
        },
        "xaxis": {
         "title": {
          "text": "기준 날짜"
         }
        },
        "yaxis": {
         "title": {
          "text": "전체 건수"
         }
        }
       }
      }
     },
     "metadata": {},
     "output_type": "display_data"
    }
   ],
   "source": [
    "import plotly.graph_objects as go\n",
    "\n",
    "fig = go.Figure(data=[go.Bar(x=주거_check_df['기준_날짜'].iloc[-20:], y=주거_check_df['전체_건수'].iloc[-20:])])\n",
    "\n",
    "# 그래프 레이아웃 설정\n",
    "fig.update_layout(\n",
    "    title='전체 건수의 시간에 따른 변화',\n",
    "    xaxis_title='기준 날짜',\n",
    "    yaxis_title='전체 건수',\n",
    "    hovermode='x',\n",
    "    hoverlabel=dict(bgcolor=\"white\", font_size=16, font_family=\"Rockwell\")\n",
    ")\n",
    "\n",
    "# 그래프 표시\n",
    "fig.show()"
   ]
  },
  {
   "cell_type": "code",
   "execution_count": 80,
   "metadata": {},
   "outputs": [
    {
     "name": "stdout",
     "output_type": "stream",
     "text": [
      "ADF 통계량: -21.31795482597928\n",
      "p-value: 0.0\n",
      "p-value가 유의수준보다 작으므로 귀무가설을 기각합니다. 시계열 데이터는 정상성을 만족합니다.\n"
     ]
    }
   ],
   "source": [
    "from statsmodels.tsa.stattools import adfuller\n",
    "\n",
    "# ADF 테스트 수행\n",
    "adf_result = adfuller(주거_강서_df1[주거_강서_df1['종료_대여소_ID']=='ST-2056']['전체_건수'])\n",
    "\n",
    "# ADF 통계량 및 p-value 출력\n",
    "print(f'ADF 통계량: {adf_result[0]}')\n",
    "print(f'p-value: {adf_result[1]}')\n",
    "\n",
    "# 결과 해석\n",
    "if adf_result[1] < 0.05:\n",
    "    print('p-value가 유의수준보다 작으므로 귀무가설을 기각합니다. 시계열 데이터는 정상성을 만족합니다.')\n",
    "else:\n",
    "    print('p-value가 유의수준보다 크거나 같으므로 귀무가설을 기각할 수 없습니다. 시계열 데이터는 정상성을 만족하지 않을 수 있습니다.')"
   ]
  },
  {
   "cell_type": "code",
   "execution_count": 82,
   "metadata": {},
   "outputs": [
    {
     "data": {
      "image/png": "[encoded data removed]",
      "text/plain": [
       "<Figure size 640x480 with 1 Axes>"
      ]
     },
     "metadata": {},
     "output_type": "display_data"
    }
   ],
   "source": [
    "import matplotlib.pyplot as plt\n",
    "\n",
    "# 주어진 데이터 프레임에서 시간에 해당하는 열을 x축으로, 시계열 데이터를 y축으로 선택\n",
    "data_to_plot = 주거_강서_df1[주거_강서_df1['종료_대여소_ID']=='ST-2056']['전체_건수']\n",
    "\n",
    "# 그래프 생성\n",
    "plt.scatter(range(len(data_to_plot)), data_to_plot, color='blue', label='시계열 데이터')\n",
    "\n",
    "# 그래프 제목, x축 및 y축 라벨 추가\n",
    "plt.title('시계열 데이터의 산점도 그래프')\n",
    "plt.xlabel('시간')\n",
    "plt.ylabel('전체 건수')\n",
    "\n",
    "# 그래프 표시\n",
    "plt.show()"
   ]
  },
  {
   "cell_type": "code",
   "execution_count": 79,
   "metadata": {},
   "outputs": [
    {
     "name": "stderr",
     "output_type": "stream",
     "text": [
      "C:\\Users\\ciw96\\AppData\\Local\\Temp\\ipykernel_43876\\3679632164.py:13: SettingWithCopyWarning: \n",
      "A value is trying to be set on a copy of a slice from a DataFrame.\n",
      "Try using .loc[row_indexer,col_indexer] = value instead\n",
      "\n",
      "See the caveats in the documentation: https://pandas.pydata.org/pandas-docs/stable/user_guide/indexing.html#returning-a-view-versus-a-copy\n",
      "  주거_data['기준_날짜'] = pd.to_datetime(주거_data['기준_날짜'])\n"
     ]
    },
    {
     "name": "stdout",
     "output_type": "stream",
     "text": [
      "Performing stepwise search to minimize aic\n",
      " ARIMA(2,0,2)(1,1,1)[5] intercept   : AIC=inf, Time=0.91 sec\n",
      " ARIMA(0,0,0)(0,1,0)[5] intercept   : AIC=1614.168, Time=0.01 sec\n",
      " ARIMA(1,0,0)(1,1,0)[5] intercept   : AIC=1519.029, Time=0.08 sec\n",
      " ARIMA(0,0,1)(0,1,1)[5] intercept   : AIC=inf, Time=0.24 sec\n",
      " ARIMA(0,0,0)(0,1,0)[5]             : AIC=1612.169, Time=0.01 sec\n",
      " ARIMA(1,0,0)(0,1,0)[5] intercept   : AIC=1605.129, Time=0.03 sec\n",
      " ARIMA(1,0,0)(2,1,0)[5] intercept   : AIC=1427.008, Time=0.19 sec\n",
      " ARIMA(1,0,0)(2,1,1)[5] intercept   : AIC=1361.754, Time=0.28 sec\n",
      " ARIMA(1,0,0)(1,1,1)[5] intercept   : AIC=inf, Time=0.51 sec\n",
      " ARIMA(1,0,0)(2,1,2)[5] intercept   : AIC=1363.280, Time=0.40 sec\n",
      " ARIMA(1,0,0)(1,1,2)[5] intercept   : AIC=inf, Time=0.53 sec\n",
      " ARIMA(0,0,0)(2,1,1)[5] intercept   : AIC=1370.802, Time=0.20 sec\n",
      " ARIMA(2,0,0)(2,1,1)[5] intercept   : AIC=1362.160, Time=0.32 sec\n",
      " ARIMA(1,0,1)(2,1,1)[5] intercept   : AIC=1362.379, Time=0.40 sec\n",
      " ARIMA(0,0,1)(2,1,1)[5] intercept   : AIC=1360.481, Time=0.29 sec\n",
      " ARIMA(0,0,1)(1,1,1)[5] intercept   : AIC=inf, Time=0.37 sec\n",
      " ARIMA(0,0,1)(2,1,0)[5] intercept   : AIC=1424.996, Time=0.14 sec\n",
      " ARIMA(0,0,1)(2,1,2)[5] intercept   : AIC=1362.005, Time=0.43 sec\n",
      " ARIMA(0,0,1)(1,1,0)[5] intercept   : AIC=1511.843, Time=0.09 sec\n",
      " ARIMA(0,0,1)(1,1,2)[5] intercept   : AIC=inf, Time=0.44 sec\n",
      " ARIMA(0,0,2)(2,1,1)[5] intercept   : AIC=1362.363, Time=0.29 sec\n",
      " ARIMA(1,0,2)(2,1,1)[5] intercept   : AIC=1364.233, Time=0.66 sec\n",
      " ARIMA(0,0,1)(2,1,1)[5]             : AIC=1358.485, Time=0.17 sec\n",
      " ARIMA(0,0,1)(1,1,1)[5]             : AIC=1364.768, Time=0.19 sec\n",
      " ARIMA(0,0,1)(2,1,0)[5]             : AIC=1423.034, Time=0.13 sec\n",
      " ARIMA(0,0,1)(2,1,2)[5]             : AIC=1360.006, Time=0.27 sec\n",
      " ARIMA(0,0,1)(1,1,0)[5]             : AIC=1509.846, Time=0.04 sec\n",
      " ARIMA(0,0,1)(1,1,2)[5]             : AIC=inf, Time=0.48 sec\n",
      " ARIMA(0,0,0)(2,1,1)[5]             : AIC=1368.945, Time=0.08 sec\n",
      " ARIMA(1,0,1)(2,1,1)[5]             : AIC=1360.389, Time=0.24 sec\n",
      " ARIMA(0,0,2)(2,1,1)[5]             : AIC=1360.374, Time=0.19 sec\n",
      " ARIMA(1,0,0)(2,1,1)[5]             : AIC=1359.754, Time=0.18 sec\n",
      " ARIMA(1,0,2)(2,1,1)[5]             : AIC=1362.249, Time=0.31 sec\n",
      "\n",
      "Best model:  ARIMA(0,0,1)(2,1,1)[5]          \n",
      "Total fit time: 9.102 seconds\n",
      "대여소 의 다음 시간대 예측값: 0.6698952370216735\n"
     ]
    },
    {
     "name": "stderr",
     "output_type": "stream",
     "text": [
      "C:\\Users\\ciw96\\AppData\\Local\\Temp\\ipykernel_43876\\3679632164.py:25: FutureWarning: Series.__getitem__ treating keys as positions is deprecated. In a future version, integer keys will always be treated as labels (consistent with DataFrame behavior). To access a value by position, use `ser.iloc[pos]`\n",
      "  forecast = model_fit.predict(n_periods=1)[0]\n"
     ]
    }
   ],
   "source": [
    "from pmdarima import auto_arima\n",
    "\n",
    "result = []\n",
    "\n",
    "# 주거 대여소의 시계열 분석\n",
    "\n",
    "#for 주거_ID in 주거_IDs:\n",
    "    \n",
    "# 해당 주거 대여소의 데이터 추출\n",
    "주거_data = 주거_강서_df1[주거_강서_df1['종료_대여소_ID'] == 'ST-2056']\n",
    "\n",
    "# 기준_날짜를 날짜형 데이터로 변환\n",
    "주거_data['기준_날짜'] = pd.to_datetime(주거_data['기준_날짜'])\n",
    "\n",
    "# 기준_날짜를 인덱스로 설정하고 일별로 집계\n",
    "주거_data.set_index('기준_날짜', inplace=True)\n",
    "arima_data = 주거_data.resample('D')['전체_건수'].sum()  # 일별 전체_건수 합계 집계\n",
    "\n",
    "# ARIMA 모델의 최적 매개변수 찾기\n",
    "model = auto_arima(arima_data, seasonal=True,m=5, D=1, trace=True, error_action='ignore', suppress_warnings=True)\n",
    "# 최적 매개변수로 ARIMA 모델 학습\n",
    "model_fit = model.fit(arima_data)\n",
    "\n",
    "# 다음 시간대의 예측값 계산\n",
    "forecast = model_fit.predict(n_periods=1)[0]\n",
    "result.append(forecast)\n",
    "\n",
    "print(f\"대여소 의 다음 시간대 예측값: {forecast}\")"
   ]
  },
  {
   "cell_type": "code",
   "execution_count": 56,
   "metadata": {},
   "outputs": [],
   "source": [
    "주거_강서_df1 = 주거_강서_df[주거_강서_df['시간대_구간'] == '06:00~10:00']\n",
    "상업_강서_df1 = 상업_강서_df[상업_강서_df['시간대_구간'] == '06:00~10:00']\n",
    "주거_강서_df2 = 주거_강서_df[주거_강서_df['시간대_구간'] == '17:00~21:00']\n",
    "상업_강서_df2 = 상업_강서_df[상업_강서_df['시간대_구간'] == '17:00~21:00']\n",
    "# 전체 파일에서 1차 전처리 (집계_기준 2개 -> 1개로 줄임, 사용량 =0)\n",
    "주거_강서_df1 = 주거_강서_df1[(주거_강서_df1['전체_이용_분'] != 0) & (주거_강서_df1['전체_이용_거리'] != 0)]\n",
    "상업_강서_df1 = 상업_강서_df1[(상업_강서_df1['전체_이용_분'] != 0) & (상업_강서_df1['전체_이용_거리'] != 0)]\n",
    "주거_강서_df3 = 주거_강서_df1[(주거_강서_df1['전체_이용_분'] != 0) & (주거_강서_df1['전체_이용_거리'] != 0)]\n",
    "상업_강서_df2 = 상업_강서_df2[(상업_강서_df2['전체_이용_분'] != 0) & (상업_강서_df2['전체_이용_거리'] != 0)]\n",
    "\n",
    "\n",
    "# 주거_강서_df1 : 대여 ARIMA(4,0,0)(2,1,1)[5]\n",
    "# 주거_강서_df1 : 반납 ARIMA(0,0,0)(2,1,0)[5]        ? \n",
    "# 주거_강서_df2 : 대여 ARIMA(2,0,3)(2,1,0)[5]   \n",
    "# 주거_강서_df2 : 반납 ARIMA(0,0,1)(2,1,1)[5] \n",
    "# 상업_강서_df1 : 대여 ARIMA(4,0,2)(2,1,0)[5]\n",
    "# 상업_강서_df1 : 반납 ARIMA(3,0,3)(1,1,0)[5] \n",
    "# 상업_강서_df2 : 대여 ARIMA(4,0,2)(2,1,0)[5]\n",
    "# 상업_강서_df2 : 반납 ARIMA(4,0,2)(2,1,0)[5]\n"
   ]
  },
  {
   "cell_type": "code",
   "execution_count": 64,
   "metadata": {},
   "outputs": [
    {
     "data": {
      "text/html": [
       "<div>\n",
       "<style scoped>\n",
       "    .dataframe tbody tr th:only-of-type {\n",
       "        vertical-align: middle;\n",
       "    }\n",
       "\n",
       "    .dataframe tbody tr th {\n",
       "        vertical-align: top;\n",
       "    }\n",
       "\n",
       "    .dataframe thead th {\n",
       "        text-align: right;\n",
       "    }\n",
       "</style>\n",
       "<table border=\"1\" class=\"dataframe\">\n",
       "  <thead>\n",
       "    <tr style=\"text-align: right;\">\n",
       "      <th></th>\n",
       "      <th>기준_날짜</th>\n",
       "      <th>기준_시간대</th>\n",
       "      <th>시작_대여소_ID</th>\n",
       "      <th>종료_대여소_ID</th>\n",
       "      <th>전체_건수</th>\n",
       "      <th>전체_이용_분</th>\n",
       "      <th>전체_이용_거리</th>\n",
       "      <th>요일</th>\n",
       "      <th>주말</th>\n",
       "      <th>휴일</th>\n",
       "      <th>시간대_구간</th>\n",
       "    </tr>\n",
       "  </thead>\n",
       "  <tbody>\n",
       "    <tr>\n",
       "      <th>1612769</th>\n",
       "      <td>2023-04-03</td>\n",
       "      <td>820</td>\n",
       "      <td>ST-2031</td>\n",
       "      <td>ST-2044</td>\n",
       "      <td>4</td>\n",
       "      <td>11</td>\n",
       "      <td>2604</td>\n",
       "      <td>0</td>\n",
       "      <td>0</td>\n",
       "      <td>0</td>\n",
       "      <td>06:00~10:00</td>\n",
       "    </tr>\n",
       "    <tr>\n",
       "      <th>1612737</th>\n",
       "      <td>2023-04-03</td>\n",
       "      <td>935</td>\n",
       "      <td>ST-2031</td>\n",
       "      <td>ST-2033</td>\n",
       "      <td>3</td>\n",
       "      <td>17</td>\n",
       "      <td>1162</td>\n",
       "      <td>0</td>\n",
       "      <td>0</td>\n",
       "      <td>0</td>\n",
       "      <td>06:00~10:00</td>\n",
       "    </tr>\n",
       "    <tr>\n",
       "      <th>1612732</th>\n",
       "      <td>2023-04-03</td>\n",
       "      <td>840</td>\n",
       "      <td>ST-2031</td>\n",
       "      <td>ST-2044</td>\n",
       "      <td>3</td>\n",
       "      <td>8</td>\n",
       "      <td>629</td>\n",
       "      <td>0</td>\n",
       "      <td>0</td>\n",
       "      <td>0</td>\n",
       "      <td>06:00~10:00</td>\n",
       "    </tr>\n",
       "    <tr>\n",
       "      <th>1612731</th>\n",
       "      <td>2023-04-03</td>\n",
       "      <td>840</td>\n",
       "      <td>ST-2031</td>\n",
       "      <td>ST-2032</td>\n",
       "      <td>3</td>\n",
       "      <td>8</td>\n",
       "      <td>1587</td>\n",
       "      <td>0</td>\n",
       "      <td>0</td>\n",
       "      <td>0</td>\n",
       "      <td>06:00~10:00</td>\n",
       "    </tr>\n",
       "    <tr>\n",
       "      <th>1612727</th>\n",
       "      <td>2023-04-03</td>\n",
       "      <td>825</td>\n",
       "      <td>ST-2031</td>\n",
       "      <td>ST-2044</td>\n",
       "      <td>3</td>\n",
       "      <td>8</td>\n",
       "      <td>1127</td>\n",
       "      <td>0</td>\n",
       "      <td>0</td>\n",
       "      <td>0</td>\n",
       "      <td>06:00~10:00</td>\n",
       "    </tr>\n",
       "    <tr>\n",
       "      <th>...</th>\n",
       "      <td>...</td>\n",
       "      <td>...</td>\n",
       "      <td>...</td>\n",
       "      <td>...</td>\n",
       "      <td>...</td>\n",
       "      <td>...</td>\n",
       "      <td>...</td>\n",
       "      <td>...</td>\n",
       "      <td>...</td>\n",
       "      <td>...</td>\n",
       "      <td>...</td>\n",
       "    </tr>\n",
       "    <tr>\n",
       "      <th>3288180</th>\n",
       "      <td>2024-03-29</td>\n",
       "      <td>735</td>\n",
       "      <td>ST-3094</td>\n",
       "      <td>ST-2044</td>\n",
       "      <td>1</td>\n",
       "      <td>12</td>\n",
       "      <td>2240</td>\n",
       "      <td>4</td>\n",
       "      <td>0</td>\n",
       "      <td>0</td>\n",
       "      <td>06:00~10:00</td>\n",
       "    </tr>\n",
       "    <tr>\n",
       "      <th>3288169</th>\n",
       "      <td>2024-03-29</td>\n",
       "      <td>735</td>\n",
       "      <td>ST-2871</td>\n",
       "      <td>ST-1727</td>\n",
       "      <td>2</td>\n",
       "      <td>11</td>\n",
       "      <td>2501</td>\n",
       "      <td>4</td>\n",
       "      <td>0</td>\n",
       "      <td>0</td>\n",
       "      <td>06:00~10:00</td>\n",
       "    </tr>\n",
       "    <tr>\n",
       "      <th>3288133</th>\n",
       "      <td>2024-03-29</td>\n",
       "      <td>735</td>\n",
       "      <td>ST-2033</td>\n",
       "      <td>ST-2044</td>\n",
       "      <td>1</td>\n",
       "      <td>3</td>\n",
       "      <td>509</td>\n",
       "      <td>4</td>\n",
       "      <td>0</td>\n",
       "      <td>0</td>\n",
       "      <td>06:00~10:00</td>\n",
       "    </tr>\n",
       "    <tr>\n",
       "      <th>3288132</th>\n",
       "      <td>2024-03-29</td>\n",
       "      <td>735</td>\n",
       "      <td>ST-2033</td>\n",
       "      <td>ST-2031</td>\n",
       "      <td>1</td>\n",
       "      <td>4</td>\n",
       "      <td>950</td>\n",
       "      <td>4</td>\n",
       "      <td>0</td>\n",
       "      <td>0</td>\n",
       "      <td>06:00~10:00</td>\n",
       "    </tr>\n",
       "    <tr>\n",
       "      <th>3288246</th>\n",
       "      <td>2024-03-29</td>\n",
       "      <td>740</td>\n",
       "      <td>ST-2031</td>\n",
       "      <td>ST-1351</td>\n",
       "      <td>1</td>\n",
       "      <td>8</td>\n",
       "      <td>1540</td>\n",
       "      <td>4</td>\n",
       "      <td>0</td>\n",
       "      <td>0</td>\n",
       "      <td>06:00~10:00</td>\n",
       "    </tr>\n",
       "  </tbody>\n",
       "</table>\n",
       "<p>69744 rows × 11 columns</p>\n",
       "</div>"
      ],
      "text/plain": [
       "              기준_날짜  기준_시간대 시작_대여소_ID 종료_대여소_ID  전체_건수  전체_이용_분  전체_이용_거리  요일  \\\n",
       "1612769  2023-04-03     820   ST-2031   ST-2044      4       11      2604   0   \n",
       "1612737  2023-04-03     935   ST-2031   ST-2033      3       17      1162   0   \n",
       "1612732  2023-04-03     840   ST-2031   ST-2044      3        8       629   0   \n",
       "1612731  2023-04-03     840   ST-2031   ST-2032      3        8      1587   0   \n",
       "1612727  2023-04-03     825   ST-2031   ST-2044      3        8      1127   0   \n",
       "...             ...     ...       ...       ...    ...      ...       ...  ..   \n",
       "3288180  2024-03-29     735   ST-3094   ST-2044      1       12      2240   4   \n",
       "3288169  2024-03-29     735   ST-2871   ST-1727      2       11      2501   4   \n",
       "3288133  2024-03-29     735   ST-2033   ST-2044      1        3       509   4   \n",
       "3288132  2024-03-29     735   ST-2033   ST-2031      1        4       950   4   \n",
       "3288246  2024-03-29     740   ST-2031   ST-1351      1        8      1540   4   \n",
       "\n",
       "         주말  휴일       시간대_구간  \n",
       "1612769   0   0  06:00~10:00  \n",
       "1612737   0   0  06:00~10:00  \n",
       "1612732   0   0  06:00~10:00  \n",
       "1612731   0   0  06:00~10:00  \n",
       "1612727   0   0  06:00~10:00  \n",
       "...      ..  ..          ...  \n",
       "3288180   0   0  06:00~10:00  \n",
       "3288169   0   0  06:00~10:00  \n",
       "3288133   0   0  06:00~10:00  \n",
       "3288132   0   0  06:00~10:00  \n",
       "3288246   0   0  06:00~10:00  \n",
       "\n",
       "[69744 rows x 11 columns]"
      ]
     },
     "execution_count": 64,
     "metadata": {},
     "output_type": "execute_result"
    }
   ],
   "source": [
    "상업_강서_df1"
   ]
  },
  {
   "cell_type": "code",
   "execution_count": 72,
   "metadata": {},
   "outputs": [
    {
     "name": "stderr",
     "output_type": "stream",
     "text": [
      "C:\\Users\\ciw96\\AppData\\Local\\Temp\\ipykernel_43876\\2810811870.py:13: SettingWithCopyWarning: \n",
      "A value is trying to be set on a copy of a slice from a DataFrame.\n",
      "Try using .loc[row_indexer,col_indexer] = value instead\n",
      "\n",
      "See the caveats in the documentation: https://pandas.pydata.org/pandas-docs/stable/user_guide/indexing.html#returning-a-view-versus-a-copy\n",
      "  주거_data['기준_날짜'] = pd.to_datetime(주거_data['기준_날짜'])\n"
     ]
    },
    {
     "name": "stdout",
     "output_type": "stream",
     "text": [
      "Performing stepwise search to minimize aic\n",
      " ARIMA(2,0,2)(1,1,1)[5] intercept   : AIC=inf, Time=1.00 sec\n",
      " ARIMA(0,0,0)(0,1,0)[5] intercept   : AIC=3286.116, Time=0.01 sec\n",
      " ARIMA(1,0,0)(1,1,0)[5] intercept   : AIC=3154.080, Time=0.12 sec\n",
      " ARIMA(0,0,1)(0,1,1)[5] intercept   : AIC=inf, Time=0.35 sec\n",
      " ARIMA(0,0,0)(0,1,0)[5]             : AIC=3284.119, Time=0.01 sec\n",
      " ARIMA(1,0,0)(0,1,0)[5] intercept   : AIC=3243.627, Time=0.04 sec\n",
      " ARIMA(1,0,0)(2,1,0)[5] intercept   : AIC=3027.802, Time=0.20 sec\n",
      " ARIMA(1,0,0)(2,1,1)[5] intercept   : AIC=inf, Time=0.31 sec\n",
      " ARIMA(1,0,0)(1,1,1)[5] intercept   : AIC=inf, Time=0.39 sec\n",
      " ARIMA(0,0,0)(2,1,0)[5] intercept   : AIC=3044.914, Time=0.31 sec\n",
      " ARIMA(2,0,0)(2,1,0)[5] intercept   : AIC=2992.411, Time=0.33 sec\n",
      " ARIMA(2,0,0)(1,1,0)[5] intercept   : AIC=3059.997, Time=0.19 sec\n",
      " ARIMA(2,0,0)(2,1,1)[5] intercept   : AIC=2930.707, Time=0.63 sec\n",
      " ARIMA(2,0,0)(1,1,1)[5] intercept   : AIC=inf, Time=0.26 sec\n",
      " ARIMA(2,0,0)(2,1,2)[5] intercept   : AIC=inf, Time=0.85 sec\n",
      " ARIMA(2,0,0)(1,1,2)[5] intercept   : AIC=inf, Time=0.49 sec\n",
      " ARIMA(3,0,0)(2,1,1)[5] intercept   : AIC=inf, Time=0.52 sec\n",
      " ARIMA(2,0,1)(2,1,1)[5] intercept   : AIC=inf, Time=0.57 sec\n",
      " ARIMA(1,0,1)(2,1,1)[5] intercept   : AIC=2931.100, Time=0.91 sec\n",
      " ARIMA(3,0,1)(2,1,1)[5] intercept   : AIC=inf, Time=0.71 sec\n",
      " ARIMA(2,0,0)(2,1,1)[5]             : AIC=2929.391, Time=0.51 sec\n",
      " ARIMA(2,0,0)(1,1,1)[5]             : AIC=2930.367, Time=0.40 sec\n",
      " ARIMA(2,0,0)(2,1,0)[5]             : AIC=2990.451, Time=0.20 sec\n",
      " ARIMA(2,0,0)(2,1,2)[5]             : AIC=inf, Time=0.57 sec\n",
      " ARIMA(2,0,0)(1,1,0)[5]             : AIC=3058.015, Time=0.07 sec\n",
      " ARIMA(2,0,0)(1,1,2)[5]             : AIC=inf, Time=0.29 sec\n",
      " ARIMA(1,0,0)(2,1,1)[5]             : AIC=2942.115, Time=0.34 sec\n",
      " ARIMA(3,0,0)(2,1,1)[5]             : AIC=2931.182, Time=0.65 sec\n",
      " ARIMA(2,0,1)(2,1,1)[5]             : AIC=2930.785, Time=1.28 sec\n",
      " ARIMA(1,0,1)(2,1,1)[5]             : AIC=2929.629, Time=0.58 sec\n",
      " ARIMA(3,0,1)(2,1,1)[5]             : AIC=2932.589, Time=1.34 sec\n",
      "\n",
      "Best model:  ARIMA(2,0,0)(2,1,1)[5]          \n",
      "Total fit time: 14.429 seconds\n",
      "대여소 ST-2031의 다음 시간대 예측값: 21.21875470842348\n"
     ]
    },
    {
     "name": "stderr",
     "output_type": "stream",
     "text": [
      "C:\\Users\\ciw96\\AppData\\Local\\Temp\\ipykernel_43876\\2810811870.py:25: FutureWarning: Series.__getitem__ treating keys as positions is deprecated. In a future version, integer keys will always be treated as labels (consistent with DataFrame behavior). To access a value by position, use `ser.iloc[pos]`\n",
      "  forecast = model_fit.predict(n_periods=1)[0]\n"
     ]
    }
   ],
   "source": [
    "from pmdarima import auto_arima\n",
    "\n",
    "result = []\n",
    "\n",
    "# 주거 대여소의 시계열 분석\n",
    "\n",
    "#for 주거_ID in 주거_IDs:\n",
    "    \n",
    "# 해당 주거 대여소의 데이터 추출\n",
    "주거_data = 주거_강서_df1[주거_강서_df1['종료_대여소_ID'] == 'ST-2031']\n",
    "\n",
    "# 기준_날짜를 날짜형 데이터로 변환\n",
    "주거_data['기준_날짜'] = pd.to_datetime(주거_data['기준_날짜'])\n",
    "\n",
    "# 기준_날짜를 인덱스로 설정하고 일별로 집계\n",
    "주거_data.set_index('기준_날짜', inplace=True)\n",
    "arima_data = 주거_data.resample('D')['전체_건수'].sum()  # 일별 전체_건수 합계 집계\n",
    "\n",
    "# ARIMA 모델의 최적 매개변수 찾기\n",
    "model = auto_arima(arima_data, seasonal=True, m=5, D=1, trace=True, error_action='ignore', suppress_warnings=True)\n",
    "# 최적 매개변수로 ARIMA 모델 학습\n",
    "model_fit = model.fit(arima_data)\n",
    "\n",
    "# 다음 시간대의 예측값 계산\n",
    "forecast = model_fit.predict(n_periods=1)[0]\n",
    "result.append(forecast)\n",
    "\n",
    "print(f\"대여소 ST-2031의 다음 시간대 예측값: {forecast}\")"
   ]
  },
  {
   "cell_type": "code",
   "execution_count": 30,
   "metadata": {},
   "outputs": [
    {
     "name": "stdout",
     "output_type": "stream",
     "text": [
      "ST-1253 :         실제값 : 32  \n",
      "ST-1352 :         실제값 : 56  \n",
      "ST-1645 :         실제값 : 54  \n",
      "ST-2050 :         실제값 : 52  \n",
      "ST-2056 :         실제값 : 34  \n",
      "ST-2557 :         실제값 : 53  \n",
      "ST-2965 :         실제값 : 54  \n"
     ]
    }
   ],
   "source": [
    "check1 = pd.read_csv('tpss_bcycl_od_statnhm_20240401.csv',encoding='cp949')\n",
    "\n",
    "주거_강서_df1 = 주거_강서_df[주거_강서_df['시간대_구간'] == '06:00~10:00']\n",
    "# 전체 파일에서 1차 전처리 (집계_기준 2개 -> 1개로 줄임, 사용량 =0)\n",
    "check1 = check1[check1['집계_기준'] != '도착시간']\n",
    "check1 = check1[(check1['전체_이용_분'] != 0) & (check1['전체_이용_거리'] != 0)]\n",
    "    \n",
    "check1['시간대_구간'] = check1['기준_시간대'].apply(divide_time_range)\n",
    "\n",
    "\n",
    "\n",
    "check1 = check1[check1['시간대_구간'] == '06:00~10:00']\n",
    "\n",
    "for 주거_ID in 주거_IDs:\n",
    "    check =  check1[check1['시작_대여소_ID']==주거_ID]['전체_건수'].sum()\n",
    "    print(f\"{주거_ID} :         실제값 : {check}  \")\n"
   ]
  },
  {
   "cell_type": "code",
   "execution_count": 22,
   "metadata": {},
   "outputs": [
    {
     "data": {
      "text/html": [
       "<div>\n",
       "<style scoped>\n",
       "    .dataframe tbody tr th:only-of-type {\n",
       "        vertical-align: middle;\n",
       "    }\n",
       "\n",
       "    .dataframe tbody tr th {\n",
       "        vertical-align: top;\n",
       "    }\n",
       "\n",
       "    .dataframe thead th {\n",
       "        text-align: right;\n",
       "    }\n",
       "</style>\n",
       "<table border=\"1\" class=\"dataframe\">\n",
       "  <thead>\n",
       "    <tr style=\"text-align: right;\">\n",
       "      <th></th>\n",
       "      <th>기준_날짜</th>\n",
       "      <th>기준_시간대</th>\n",
       "      <th>시작_대여소_ID</th>\n",
       "      <th>종료_대여소_ID</th>\n",
       "      <th>전체_건수</th>\n",
       "      <th>전체_이용_분</th>\n",
       "      <th>전체_이용_거리</th>\n",
       "      <th>요일</th>\n",
       "      <th>주말</th>\n",
       "      <th>휴일</th>\n",
       "      <th>시간대_구간</th>\n",
       "    </tr>\n",
       "  </thead>\n",
       "  <tbody>\n",
       "    <tr>\n",
       "      <th>1599090</th>\n",
       "      <td>2023-04-03</td>\n",
       "      <td>745</td>\n",
       "      <td>ST-1645</td>\n",
       "      <td>ST-2056</td>\n",
       "      <td>1</td>\n",
       "      <td>6</td>\n",
       "      <td>1281</td>\n",
       "      <td>0</td>\n",
       "      <td>0</td>\n",
       "      <td>0</td>\n",
       "      <td>06:00~10:00</td>\n",
       "    </tr>\n",
       "    <tr>\n",
       "      <th>1601475</th>\n",
       "      <td>2023-04-03</td>\n",
       "      <td>955</td>\n",
       "      <td>ST-2557</td>\n",
       "      <td>ST-2047</td>\n",
       "      <td>1</td>\n",
       "      <td>10</td>\n",
       "      <td>1520</td>\n",
       "      <td>0</td>\n",
       "      <td>0</td>\n",
       "      <td>0</td>\n",
       "      <td>06:00~10:00</td>\n",
       "    </tr>\n",
       "    <tr>\n",
       "      <th>1601422</th>\n",
       "      <td>2023-04-03</td>\n",
       "      <td>950</td>\n",
       "      <td>ST-1352</td>\n",
       "      <td>ST-2035</td>\n",
       "      <td>1</td>\n",
       "      <td>6</td>\n",
       "      <td>1171</td>\n",
       "      <td>0</td>\n",
       "      <td>0</td>\n",
       "      <td>0</td>\n",
       "      <td>06:00~10:00</td>\n",
       "    </tr>\n",
       "    <tr>\n",
       "      <th>1601391</th>\n",
       "      <td>2023-04-03</td>\n",
       "      <td>945</td>\n",
       "      <td>ST-2056</td>\n",
       "      <td>ST-1514</td>\n",
       "      <td>1</td>\n",
       "      <td>5</td>\n",
       "      <td>736</td>\n",
       "      <td>0</td>\n",
       "      <td>0</td>\n",
       "      <td>0</td>\n",
       "      <td>06:00~10:00</td>\n",
       "    </tr>\n",
       "    <tr>\n",
       "      <th>1601369</th>\n",
       "      <td>2023-04-03</td>\n",
       "      <td>945</td>\n",
       "      <td>ST-1352</td>\n",
       "      <td>ST-1062</td>\n",
       "      <td>1</td>\n",
       "      <td>10</td>\n",
       "      <td>2071</td>\n",
       "      <td>0</td>\n",
       "      <td>0</td>\n",
       "      <td>0</td>\n",
       "      <td>06:00~10:00</td>\n",
       "    </tr>\n",
       "  </tbody>\n",
       "</table>\n",
       "</div>"
      ],
      "text/plain": [
       "              기준_날짜  기준_시간대 시작_대여소_ID 종료_대여소_ID  전체_건수  전체_이용_분  전체_이용_거리  요일  \\\n",
       "1599090  2023-04-03     745   ST-1645   ST-2056      1        6      1281   0   \n",
       "1601475  2023-04-03     955   ST-2557   ST-2047      1       10      1520   0   \n",
       "1601422  2023-04-03     950   ST-1352   ST-2035      1        6      1171   0   \n",
       "1601391  2023-04-03     945   ST-2056   ST-1514      1        5       736   0   \n",
       "1601369  2023-04-03     945   ST-1352   ST-1062      1       10      2071   0   \n",
       "\n",
       "         주말  휴일       시간대_구간  \n",
       "1599090   0   0  06:00~10:00  \n",
       "1601475   0   0  06:00~10:00  \n",
       "1601422   0   0  06:00~10:00  \n",
       "1601391   0   0  06:00~10:00  \n",
       "1601369   0   0  06:00~10:00  "
      ]
     },
     "execution_count": 22,
     "metadata": {},
     "output_type": "execute_result"
    }
   ],
   "source": [
    "주거_강서_df1.head()"
   ]
  },
  {
   "cell_type": "code",
   "execution_count": 23,
   "metadata": {},
   "outputs": [
    {
     "data": {
      "text/html": [
       "<div>\n",
       "<style scoped>\n",
       "    .dataframe tbody tr th:only-of-type {\n",
       "        vertical-align: middle;\n",
       "    }\n",
       "\n",
       "    .dataframe tbody tr th {\n",
       "        vertical-align: top;\n",
       "    }\n",
       "\n",
       "    .dataframe thead th {\n",
       "        text-align: right;\n",
       "    }\n",
       "</style>\n",
       "<table border=\"1\" class=\"dataframe\">\n",
       "  <thead>\n",
       "    <tr style=\"text-align: right;\">\n",
       "      <th></th>\n",
       "      <th>기준_날짜</th>\n",
       "      <th>기준_시간대</th>\n",
       "      <th>시작_대여소_ID</th>\n",
       "      <th>종료_대여소_ID</th>\n",
       "      <th>전체_건수</th>\n",
       "      <th>전체_이용_분</th>\n",
       "      <th>전체_이용_거리</th>\n",
       "      <th>요일</th>\n",
       "      <th>주말</th>\n",
       "      <th>휴일</th>\n",
       "      <th>시간대_구간</th>\n",
       "    </tr>\n",
       "  </thead>\n",
       "  <tbody>\n",
       "  </tbody>\n",
       "</table>\n",
       "</div>"
      ],
      "text/plain": [
       "Empty DataFrame\n",
       "Columns: [기준_날짜, 기준_시간대, 시작_대여소_ID, 종료_대여소_ID, 전체_건수, 전체_이용_분, 전체_이용_거리, 요일, 주말, 휴일, 시간대_구간]\n",
       "Index: []"
      ]
     },
     "execution_count": 23,
     "metadata": {},
     "output_type": "execute_result"
    }
   ],
   "source": [
    "주거_강서_df2.head()"
   ]
  }
 ],
 "metadata": {
  "kernelspec": {
   "display_name": "base",
   "language": "python",
   "name": "python3"
  },
  "language_info": {
   "codemirror_mode": {
    "name": "ipython",
    "version": 3
   },
   "file_extension": ".py",
   "mimetype": "text/x-python",
   "name": "python",
   "nbconvert_exporter": "python",
   "pygments_lexer": "ipython3",
   "version": "3.10.9"
  }
 },
 "nbformat": 4,
 "nbformat_minor": 2
}
