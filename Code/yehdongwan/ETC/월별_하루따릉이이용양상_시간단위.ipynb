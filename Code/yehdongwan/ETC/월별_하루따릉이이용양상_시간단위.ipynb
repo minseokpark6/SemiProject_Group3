{
 "cells": [
  {
   "cell_type": "markdown",
   "metadata": {},
   "source": [
    "폴리움"
   ]
  },
  {
   "cell_type": "code",
   "execution_count": null,
   "metadata": {},
   "outputs": [],
   "source": []
  },
  {
   "cell_type": "code",
   "execution_count": 15,
   "metadata": {},
   "outputs": [
    {
     "name": "stdout",
     "output_type": "stream",
     "text": [
      "      대여소_ID\n",
      "0     ST-975\n",
      "1     ST-837\n",
      "2     ST-836\n",
      "3     ST-835\n",
      "4     ST-834\n",
      "..       ...\n",
      "219  ST-1066\n",
      "220  ST-1065\n",
      "221  ST-1064\n",
      "222  ST-1063\n",
      "223  ST-1062\n",
      "\n",
      "[224 rows x 1 columns]\n"
     ]
    }
   ],
   "source": [
    "import pandas as pd\n",
    "import numpy as np\n",
    "import matplotlib.pyplot as plt\n",
    "import matplotlib as mpl\n",
    "import matplotlib.font_manager as fm\n",
    "font_path = 'C:\\\\Windows\\\\Fonts\\\\gulim.ttc'\n",
    "font = fm.FontProperties(fname=font_path).get_name()\n",
    "mpl.rc('font', family=font)\n",
    "\n",
    "강서_대여소_ID = pd.read_csv('../../Data/따릉이/강서_따릉이_대여소_ID.csv',encoding='utf-8')\n",
    "print(강서_대여소_ID)"
   ]
  },
  {
   "cell_type": "code",
   "execution_count": 16,
   "metadata": {},
   "outputs": [
    {
     "name": "stdout",
     "output_type": "stream",
     "text": [
      "       대여소_ID                      주소1            주소2         위도          경도\n",
      "0      ST-999       서울특별시 양천구 목동서로 280  목동아파트 8단지 상가동   0.000000    0.000000\n",
      "1      ST-998       서울특별시 양천구 목동서로 130  목동아파트 4단지 상가동   0.000000    0.000000\n",
      "2      ST-997       서울특별시 양천구 목동중앙로 49  목동3단지 시내버스정류장  37.534390  126.869598\n",
      "3      ST-996   서울특별시 양천구 남부순환로88길5-16     양강중학교앞 교차로  37.524334  126.850548\n",
      "4      ST-995  서울특별시 양천구 중앙로 153 공중화장실            NaN  37.510597  126.857323\n",
      "...       ...                      ...            ...        ...         ...\n",
      "3281  ST-1002     서울특별시 양천구 목동동로 316-6   서울시 도로환경관리센터  37.529900  126.876541\n",
      "3282  ST-1001      서울특별시 양천구 남부순환로4길20        서서울호수공원   0.000000    0.000000\n",
      "3283  ST-1000        서울특별시 양천구 신정동 236    서부식자재마트 건너편  37.510380  126.866798\n",
      "3284   ST-100       서울특별시 광진구 아차산로 262    더샵스타시티 C동 앞  37.536667  127.073593\n",
      "3285    ST-10         서울특별시 마포구 양화로 93            427  37.552746  126.918617\n",
      "\n",
      "[3286 rows x 5 columns]\n"
     ]
    }
   ],
   "source": [
    "따릉이대여소_마스터정보 = pd.read_csv('../../Data/따릉이/서울시 따릉이대여소 마스터 정보.csv',encoding='cp949')\n",
    "print(따릉이대여소_마스터정보)"
   ]
  },
  {
   "cell_type": "code",
   "execution_count": 17,
   "metadata": {},
   "outputs": [],
   "source": [
    "강서_마스터정보 = 따릉이대여소_마스터정보[따릉이대여소_마스터정보['대여소_ID'].isin(강서_대여소_ID['대여소_ID'])]"
   ]
  },
  {
   "cell_type": "code",
   "execution_count": 18,
   "metadata": {},
   "outputs": [],
   "source": [
    "강서_마스터정보 = 강서_마스터정보.reset_index()"
   ]
  },
  {
   "cell_type": "code",
   "execution_count": 19,
   "metadata": {},
   "outputs": [
    {
     "name": "stdout",
     "output_type": "stream",
     "text": [
      "<class 'pandas.core.frame.DataFrame'>\n",
      "RangeIndex: 224 entries, 0 to 223\n",
      "Data columns (total 6 columns):\n",
      " #   Column  Non-Null Count  Dtype  \n",
      "---  ------  --------------  -----  \n",
      " 0   index   224 non-null    int64  \n",
      " 1   대여소_ID  224 non-null    object \n",
      " 2   주소1     224 non-null    object \n",
      " 3   주소2     80 non-null     object \n",
      " 4   위도      224 non-null    float64\n",
      " 5   경도      224 non-null    float64\n",
      "dtypes: float64(2), int64(1), object(3)\n",
      "memory usage: 10.6+ KB\n"
     ]
    }
   ],
   "source": [
    "강서_마스터정보.info()"
   ]
  },
  {
   "cell_type": "code",
   "execution_count": 20,
   "metadata": {},
   "outputs": [
    {
     "data": {
      "text/html": [
       "<div>\n",
       "<style scoped>\n",
       "    .dataframe tbody tr th:only-of-type {\n",
       "        vertical-align: middle;\n",
       "    }\n",
       "\n",
       "    .dataframe tbody tr th {\n",
       "        vertical-align: top;\n",
       "    }\n",
       "\n",
       "    .dataframe thead th {\n",
       "        text-align: right;\n",
       "    }\n",
       "</style>\n",
       "<table border=\"1\" class=\"dataframe\">\n",
       "  <thead>\n",
       "    <tr style=\"text-align: right;\">\n",
       "      <th></th>\n",
       "      <th>대여소_ID</th>\n",
       "      <th>주소1</th>\n",
       "      <th>주소2</th>\n",
       "      <th>위도</th>\n",
       "      <th>경도</th>\n",
       "    </tr>\n",
       "  </thead>\n",
       "  <tbody>\n",
       "    <tr>\n",
       "      <th>0</th>\n",
       "      <td>ST-975</td>\n",
       "      <td>서울특별시 강서구 마곡서1로 111-12</td>\n",
       "      <td>신방화역환승주차장</td>\n",
       "      <td>37.567284</td>\n",
       "      <td>126.818275</td>\n",
       "    </tr>\n",
       "    <tr>\n",
       "      <th>1</th>\n",
       "      <td>ST-837</td>\n",
       "      <td>서울특별시 강서구 강서로 지하 54</td>\n",
       "      <td>강서구 화곡동 662-5</td>\n",
       "      <td>37.532551</td>\n",
       "      <td>126.846321</td>\n",
       "    </tr>\n",
       "    <tr>\n",
       "      <th>2</th>\n",
       "      <td>ST-836</td>\n",
       "      <td>서울특별시 강서구 곰달래로37길 13</td>\n",
       "      <td>강서구곰달래로37길 13</td>\n",
       "      <td>37.531780</td>\n",
       "      <td>126.854485</td>\n",
       "    </tr>\n",
       "    <tr>\n",
       "      <th>3</th>\n",
       "      <td>ST-835</td>\n",
       "      <td>서울특별시 강서구 강서로 304</td>\n",
       "      <td>강서구 내발산동 724-42</td>\n",
       "      <td>37.552914</td>\n",
       "      <td>126.836571</td>\n",
       "    </tr>\n",
       "    <tr>\n",
       "      <th>4</th>\n",
       "      <td>ST-834</td>\n",
       "      <td>서울특별시 강서구 공항대로 329</td>\n",
       "      <td>강서구 등촌동 675-7</td>\n",
       "      <td>37.558197</td>\n",
       "      <td>126.844261</td>\n",
       "    </tr>\n",
       "    <tr>\n",
       "      <th>...</th>\n",
       "      <td>...</td>\n",
       "      <td>...</td>\n",
       "      <td>...</td>\n",
       "      <td>...</td>\n",
       "      <td>...</td>\n",
       "    </tr>\n",
       "    <tr>\n",
       "      <th>219</th>\n",
       "      <td>ST-1066</td>\n",
       "      <td>서울특별시 서울 강서구 내발산동 741-8</td>\n",
       "      <td>마곡수명산파크2단지 교차로</td>\n",
       "      <td>0.000000</td>\n",
       "      <td>0.000000</td>\n",
       "    </tr>\n",
       "    <tr>\n",
       "      <th>220</th>\n",
       "      <td>ST-1065</td>\n",
       "      <td>서울특별시 강서구 마곡동 797-5</td>\n",
       "      <td>NaN</td>\n",
       "      <td>37.558949</td>\n",
       "      <td>126.837173</td>\n",
       "    </tr>\n",
       "    <tr>\n",
       "      <th>221</th>\n",
       "      <td>ST-1064</td>\n",
       "      <td>서울특별시 강서구 마곡동 728-168</td>\n",
       "      <td>마곡역7번출구</td>\n",
       "      <td>37.558311</td>\n",
       "      <td>126.826523</td>\n",
       "    </tr>\n",
       "    <tr>\n",
       "      <th>222</th>\n",
       "      <td>ST-1063</td>\n",
       "      <td>서울특별시 강서구 공항대로 163 마곡역(5호선)</td>\n",
       "      <td>NaN</td>\n",
       "      <td>37.560207</td>\n",
       "      <td>126.824142</td>\n",
       "    </tr>\n",
       "    <tr>\n",
       "      <th>223</th>\n",
       "      <td>ST-1062</td>\n",
       "      <td>서울특별시 강서구 공항대로 33 송정역(5호선)</td>\n",
       "      <td>NaN</td>\n",
       "      <td>37.561531</td>\n",
       "      <td>126.810699</td>\n",
       "    </tr>\n",
       "  </tbody>\n",
       "</table>\n",
       "<p>224 rows × 5 columns</p>\n",
       "</div>"
      ],
      "text/plain": [
       "      대여소_ID                          주소1              주소2         위도  \\\n",
       "0     ST-975       서울특별시 강서구 마곡서1로 111-12        신방화역환승주차장  37.567284   \n",
       "1     ST-837          서울특별시 강서구 강서로 지하 54    강서구 화곡동 662-5  37.532551   \n",
       "2     ST-836         서울특별시 강서구 곰달래로37길 13    강서구곰달래로37길 13  37.531780   \n",
       "3     ST-835            서울특별시 강서구 강서로 304  강서구 내발산동 724-42  37.552914   \n",
       "4     ST-834           서울특별시 강서구 공항대로 329    강서구 등촌동 675-7  37.558197   \n",
       "..       ...                          ...              ...        ...   \n",
       "219  ST-1066      서울특별시 서울 강서구 내발산동 741-8   마곡수명산파크2단지 교차로   0.000000   \n",
       "220  ST-1065          서울특별시 강서구 마곡동 797-5              NaN  37.558949   \n",
       "221  ST-1064        서울특별시 강서구 마곡동 728-168          마곡역7번출구  37.558311   \n",
       "222  ST-1063  서울특별시 강서구 공항대로 163 마곡역(5호선)              NaN  37.560207   \n",
       "223  ST-1062   서울특별시 강서구 공항대로 33 송정역(5호선)              NaN  37.561531   \n",
       "\n",
       "             경도  \n",
       "0    126.818275  \n",
       "1    126.846321  \n",
       "2    126.854485  \n",
       "3    126.836571  \n",
       "4    126.844261  \n",
       "..          ...  \n",
       "219    0.000000  \n",
       "220  126.837173  \n",
       "221  126.826523  \n",
       "222  126.824142  \n",
       "223  126.810699  \n",
       "\n",
       "[224 rows x 5 columns]"
      ]
     },
     "execution_count": 20,
     "metadata": {},
     "output_type": "execute_result"
    }
   ],
   "source": [
    "강서_마스터정보 = 강서_마스터정보.drop('index',axis=1)\n",
    "강서_마스터정보"
   ]
  },
  {
   "cell_type": "markdown",
   "metadata": {},
   "source": [
    "ㅇㅇㅇㅇ\n"
   ]
  },
  {
   "cell_type": "code",
   "execution_count": 22,
   "metadata": {},
   "outputs": [
    {
     "name": "stdout",
     "output_type": "stream",
     "text": [
      "      대여소_ID\n",
      "0     ST-975\n",
      "1     ST-837\n",
      "2     ST-836\n",
      "3     ST-835\n",
      "4     ST-834\n",
      "..       ...\n",
      "219  ST-1066\n",
      "220  ST-1065\n",
      "221  ST-1064\n",
      "222  ST-1063\n",
      "223  ST-1062\n",
      "\n",
      "[224 rows x 1 columns]\n"
     ]
    }
   ],
   "source": [
    "import pandas as pd\n",
    "import numpy as np\n",
    "import matplotlib.pyplot as plt\n",
    "import matplotlib as mpl\n",
    "import matplotlib.font_manager as fm\n",
    "font_path = 'C:\\\\Windows\\\\Fonts\\\\gulim.ttc'\n",
    "font = fm.FontProperties(fname=font_path).get_name()\n",
    "mpl.rc('font', family=font)\n",
    "\n",
    "강서_대여소_ID = pd.read_csv('../../Data/따릉이/강서_따릉이_대여소_ID.csv',encoding='utf-8')\n",
    "print(강서_대여소_ID)"
   ]
  },
  {
   "cell_type": "code",
   "execution_count": 25,
   "metadata": {},
   "outputs": [
    {
     "name": "stdout",
     "output_type": "stream",
     "text": [
      "              기준_날짜  기준_시간대 시작_대여소_ID 종료_대여소_ID  전체_건수  전체_이용_분  전체_이용_거리  요일  \\\n",
      "0        2023-05-08     200   ST-2037   ST-2037      1        1        30   0   \n",
      "1        2023-05-08    1155    ST-824    ST-824      1        1        80   0   \n",
      "2        2023-05-08    1230    ST-829    ST-829      1        1       111   0   \n",
      "3        2023-05-08    1340   ST-2611   ST-2611      1        1        10   0   \n",
      "4        2023-05-08    1635   ST-2031   ST-2031      1        1       170   0   \n",
      "...             ...     ...       ...       ...    ...      ...       ...  ..   \n",
      "1646325  2023-08-29    1610   ST-2056   ST-2993      4       30      2837   1   \n",
      "1646326  2023-08-29    1705   ST-1712   ST-2045      4       16      3487   1   \n",
      "1646327  2023-08-29    2330    ST-513   ST-2482      4       26      3464   1   \n",
      "1646328  2023-08-29     830   ST-1506   ST-3068      5       26      4519   1   \n",
      "1646329  2023-08-29    1600   ST-1514   ST-2832      5       50      5068   1   \n",
      "\n",
      "         주말  휴일  \n",
      "0         0   0  \n",
      "1         0   0  \n",
      "2         0   0  \n",
      "3         0   0  \n",
      "4         0   0  \n",
      "...      ..  ..  \n",
      "1646325   0   0  \n",
      "1646326   0   0  \n",
      "1646327   0   0  \n",
      "1646328   0   0  \n",
      "1646329   0   0  \n",
      "\n",
      "[3385613 rows x 10 columns]\n"
     ]
    }
   ],
   "source": [
    "강서_데이터1 = pd.read_csv('../../Data/따릉이/강서_따릉이_데이터_01.csv',encoding='utf-8')\n",
    "강서_데이터2 = pd.read_csv('../../Data/따릉이/강서_따릉이_데이터_02.csv',encoding='utf-8')\n",
    "강서_데이터 = pd.concat([강서_데이터1,강서_데이터2])\n",
    "print(강서_데이터)"
   ]
  },
  {
   "cell_type": "code",
   "execution_count": 24,
   "metadata": {},
   "outputs": [
    {
     "name": "stdout",
     "output_type": "stream",
     "text": [
      "기준_날짜\n",
      "2023-04-03    421\n",
      "2023-04-05     56\n",
      "2023-04-10    362\n",
      "2023-04-11    355\n",
      "2023-04-14    434\n",
      "             ... \n",
      "2024-03-18    350\n",
      "2024-03-19    353\n",
      "2024-03-21    388\n",
      "2024-03-25    249\n",
      "2024-03-27    390\n",
      "Name: 전체_건수, Length: 120, dtype: int64\n"
     ]
    }
   ],
   "source": [
    "condition = 강서_데이터['시작_대여소_ID'] == 'ST-1718'\n",
    "\n",
    "a = 강서_데이터[condition].groupby('기준_날짜')['전체_건수'].sum()\n",
    "\n",
    "print(a)"
   ]
  },
  {
   "cell_type": "code",
   "execution_count": null,
   "metadata": {},
   "outputs": [
    {
     "data": {
      "image/png": "[encoded data removed]",
      "text/plain": [
       "<Figure size 2000x600 with 1 Axes>"
      ]
     },
     "metadata": {},
     "output_type": "display_data"
    }
   ],
   "source": [
    "# ['시작_대여소_ID'] == 'ST-1718' 의 일일 대여량 >> 127일치(데이터 분할)\n",
    "fig, ax = plt.subplots(figsize = (20,6))\n",
    "ax.bar(a.index, a.values)\n",
    "plt.title('ST-1718')\n",
    "plt.xlabel('날짜')\n",
    "plt.ylabel('대여 건수')\n",
    "plt.xticks(rotation=90)\n",
    "\n",
    "# plt.xlim(0, len(a))\n",
    "\n",
    "plt.show()"
   ]
  },
  {
   "cell_type": "markdown",
   "metadata": {},
   "source": [
    "위의 그래프"
   ]
  },
  {
   "cell_type": "code",
   "execution_count": null,
   "metadata": {},
   "outputs": [
    {
     "name": "stdout",
     "output_type": "stream",
     "text": [
      "기준_날짜\n",
      "2023-04-03    416\n",
      "2023-04-05     55\n",
      "2023-04-10    362\n",
      "2023-04-11    351\n",
      "2023-04-14    428\n",
      "             ... \n",
      "2024-03-18    329\n",
      "2024-03-19    349\n",
      "2024-03-21    379\n",
      "2024-03-25    240\n",
      "2024-03-27    378\n",
      "Name: 전체_건수, Length: 127, dtype: int64\n"
     ]
    }
   ],
   "source": [
    "condition2 = 강서_데이터['종료_대여소_ID'] == 'ST-1718'\n",
    "\n",
    "b = 강서_데이터[condition2].groupby('기준_날짜')['전체_건수'].sum()\n",
    "\n",
    "print(b)"
   ]
  }
 ],
 "metadata": {
  "kernelspec": {
   "display_name": "dw_test1",
   "language": "python",
   "name": "python3"
  },
  "language_info": {
   "codemirror_mode": {
    "name": "ipython",
    "version": 3
   },
   "file_extension": ".py",
   "mimetype": "text/x-python",
   "name": "python",
   "nbconvert_exporter": "python",
   "pygments_lexer": "ipython3",
   "version": "3.10.14"
  }
 },
 "nbformat": 4,
 "nbformat_minor": 2
}
