{
 "cells": [
  {
   "cell_type": "code",
   "execution_count": 1,
   "metadata": {},
   "outputs": [],
   "source": [
    "import pandas as pd\n",
    "import numpy as np\n",
    "import matplotlib.pyplot as plt\n",
    "import matplotlib as mpl\n",
    "import matplotlib.font_manager as fm\n",
    "import seaborn as sns\n",
    "import statsmodels.api as sm\n",
    "\n",
    "font_path = 'C:\\\\Windows\\\\Fonts\\\\gulim.ttc'\n",
    "font = fm.FontProperties(fname=font_path).get_name()\n",
    "mpl.rc('font', family=font)"
   ]
  },
  {
   "cell_type": "code",
   "execution_count": 2,
   "metadata": {},
   "outputs": [
    {
     "name": "stdout",
     "output_type": "stream",
     "text": [
      "3385613\n"
     ]
    }
   ],
   "source": [
    "font_path = 'C:\\\\Windows\\\\Fonts\\\\gulim.ttc'\n",
    "font = fm.FontProperties(fname=font_path).get_name()\n",
    "mpl.rc('font', family=font)\n",
    "\n",
    "강서_대여소_ID = pd.read_csv('../../Data/따릉이/강서_따릉이_대여소_ID.csv',encoding='utf-8')\n",
    "\n",
    "강서_데이터1 = pd.read_csv('../../Data/따릉이/강서_따릉이_데이터_01.csv',encoding='utf-8')\n",
    "강서_데이터2 = pd.read_csv('../../Data/따릉이/강서_따릉이_데이터_02.csv',encoding='utf-8')\n",
    "\n",
    "강서_데이터 = pd.concat([강서_데이터1, 강서_데이터2], ignore_index=True)\n",
    "print(len(강서_데이터))\n",
    "일별_강서_데이터= 강서_데이터.groupby('기준_날짜')['전체_건수'].sum()\n",
    "\n",
    "# Series를 DataFrame으로 변환\n",
    "일별_강서_데이터 = pd.DataFrame(일별_강서_데이터.items(), columns=['기준_날짜', '전체_건수'])\n"
   ]
  },
  {
   "cell_type": "code",
   "execution_count": 12,
   "metadata": {},
   "outputs": [
    {
     "data": {
      "text/html": [
       "<div>\n",
       "<style scoped>\n",
       "    .dataframe tbody tr th:only-of-type {\n",
       "        vertical-align: middle;\n",
       "    }\n",
       "\n",
       "    .dataframe tbody tr th {\n",
       "        vertical-align: top;\n",
       "    }\n",
       "\n",
       "    .dataframe thead th {\n",
       "        text-align: right;\n",
       "    }\n",
       "</style>\n",
       "<table border=\"1\" class=\"dataframe\">\n",
       "  <thead>\n",
       "    <tr style=\"text-align: right;\">\n",
       "      <th></th>\n",
       "      <th>기준_날짜</th>\n",
       "      <th>미세먼지</th>\n",
       "      <th>초미세먼지</th>\n",
       "      <th>지점</th>\n",
       "      <th>지점명</th>\n",
       "      <th>평균기온(°C)</th>\n",
       "      <th>일강수량(mm)</th>\n",
       "    </tr>\n",
       "  </thead>\n",
       "  <tbody>\n",
       "    <tr>\n",
       "      <th>0</th>\n",
       "      <td>2023-04-01</td>\n",
       "      <td>111.0</td>\n",
       "      <td>56.0</td>\n",
       "      <td>108.0</td>\n",
       "      <td>서울</td>\n",
       "      <td>17.5</td>\n",
       "      <td>0.0</td>\n",
       "    </tr>\n",
       "    <tr>\n",
       "      <th>1</th>\n",
       "      <td>2023-04-02</td>\n",
       "      <td>60.0</td>\n",
       "      <td>32.0</td>\n",
       "      <td>108.0</td>\n",
       "      <td>서울</td>\n",
       "      <td>18.8</td>\n",
       "      <td>0.0</td>\n",
       "    </tr>\n",
       "    <tr>\n",
       "      <th>2</th>\n",
       "      <td>2023-04-03</td>\n",
       "      <td>58.0</td>\n",
       "      <td>32.0</td>\n",
       "      <td>108.0</td>\n",
       "      <td>서울</td>\n",
       "      <td>19.0</td>\n",
       "      <td>0.0</td>\n",
       "    </tr>\n",
       "    <tr>\n",
       "      <th>3</th>\n",
       "      <td>2023-04-04</td>\n",
       "      <td>38.0</td>\n",
       "      <td>18.0</td>\n",
       "      <td>108.0</td>\n",
       "      <td>서울</td>\n",
       "      <td>17.6</td>\n",
       "      <td>6.9</td>\n",
       "    </tr>\n",
       "    <tr>\n",
       "      <th>4</th>\n",
       "      <td>2023-04-05</td>\n",
       "      <td>20.0</td>\n",
       "      <td>10.0</td>\n",
       "      <td>108.0</td>\n",
       "      <td>서울</td>\n",
       "      <td>11.9</td>\n",
       "      <td>50.3</td>\n",
       "    </tr>\n",
       "    <tr>\n",
       "      <th>...</th>\n",
       "      <td>...</td>\n",
       "      <td>...</td>\n",
       "      <td>...</td>\n",
       "      <td>...</td>\n",
       "      <td>...</td>\n",
       "      <td>...</td>\n",
       "      <td>...</td>\n",
       "    </tr>\n",
       "    <tr>\n",
       "      <th>362</th>\n",
       "      <td>2024-03-27</td>\n",
       "      <td>24.0</td>\n",
       "      <td>15.0</td>\n",
       "      <td>108.0</td>\n",
       "      <td>서울</td>\n",
       "      <td>10.4</td>\n",
       "      <td>0.0</td>\n",
       "    </tr>\n",
       "    <tr>\n",
       "      <th>363</th>\n",
       "      <td>2024-03-28</td>\n",
       "      <td>25.0</td>\n",
       "      <td>11.0</td>\n",
       "      <td>108.0</td>\n",
       "      <td>서울</td>\n",
       "      <td>10.3</td>\n",
       "      <td>1.9</td>\n",
       "    </tr>\n",
       "    <tr>\n",
       "      <th>364</th>\n",
       "      <td>2024-03-29</td>\n",
       "      <td>277.0</td>\n",
       "      <td>43.0</td>\n",
       "      <td>108.0</td>\n",
       "      <td>서울</td>\n",
       "      <td>7.6</td>\n",
       "      <td>1.4</td>\n",
       "    </tr>\n",
       "    <tr>\n",
       "      <th>365</th>\n",
       "      <td>2024-03-30</td>\n",
       "      <td>104.0</td>\n",
       "      <td>23.0</td>\n",
       "      <td>108.0</td>\n",
       "      <td>서울</td>\n",
       "      <td>8.8</td>\n",
       "      <td>0.0</td>\n",
       "    </tr>\n",
       "    <tr>\n",
       "      <th>366</th>\n",
       "      <td>2024-03-31</td>\n",
       "      <td>50.0</td>\n",
       "      <td>10.0</td>\n",
       "      <td>108.0</td>\n",
       "      <td>서울</td>\n",
       "      <td>10.6</td>\n",
       "      <td>0.0</td>\n",
       "    </tr>\n",
       "  </tbody>\n",
       "</table>\n",
       "<p>367 rows × 7 columns</p>\n",
       "</div>"
      ],
      "text/plain": [
       "          기준_날짜   미세먼지  초미세먼지     지점 지점명  평균기온(°C)  일강수량(mm)\n",
       "0    2023-04-01  111.0   56.0  108.0  서울      17.5       0.0\n",
       "1    2023-04-02   60.0   32.0  108.0  서울      18.8       0.0\n",
       "2    2023-04-03   58.0   32.0  108.0  서울      19.0       0.0\n",
       "3    2023-04-04   38.0   18.0  108.0  서울      17.6       6.9\n",
       "4    2023-04-05   20.0   10.0  108.0  서울      11.9      50.3\n",
       "..          ...    ...    ...    ...  ..       ...       ...\n",
       "362  2024-03-27   24.0   15.0  108.0  서울      10.4       0.0\n",
       "363  2024-03-28   25.0   11.0  108.0  서울      10.3       1.9\n",
       "364  2024-03-29  277.0   43.0  108.0  서울       7.6       1.4\n",
       "365  2024-03-30  104.0   23.0  108.0  서울       8.8       0.0\n",
       "366  2024-03-31   50.0   10.0  108.0  서울      10.6       0.0\n",
       "\n",
       "[367 rows x 7 columns]"
      ]
     },
     "execution_count": 12,
     "metadata": {},
     "output_type": "execute_result"
    }
   ],
   "source": [
    "기상청_데이터 = pd. read_csv('../../Data/기상청/기온강수량미세먼지2.csv',encoding='cp949')\n",
    "# 강수량 0인부분 채우기\n",
    "기상청_데이터.fillna(0, inplace=True)\n",
    "기상청_데이터.rename(columns={'일시': '기준_날짜'}, inplace=True)\n",
    "기상청_데이터 = 기상청_데이터.iloc[:-1]\n",
    "기상청_데이터"
   ]
  },
  {
   "cell_type": "code",
   "execution_count": 14,
   "metadata": {},
   "outputs": [],
   "source": [
    "\n",
    "# 휴일 데이터\n",
    "휴일 = [\n",
    "    {\"날짜\": \"2023-05-05\"},\n",
    "    {\"날짜\": \"2023-05-29\"},\n",
    "    {\"날짜\": \"2023-06-06\"},\n",
    "    {\"날짜\": \"2023-08-15\"},\n",
    "    {\"날짜\": \"2023-09-28\"},\n",
    "    {\"날짜\": \"2023-09-29\"},\n",
    "    {\"날짜\": \"2023-10-02\"},\n",
    "    {\"날짜\": \"2023-10-03\"},\n",
    "    {\"날짜\": \"2023-10-09\"},\n",
    "    {\"날짜\": \"2023-12-25\"},\n",
    "    {\"날짜\": \"2024-01-01\"},\n",
    "    {\"날짜\": \"2024-02-09\"},\n",
    "    {\"날짜\": \"2024-02-12\"},\n",
    "    {\"날짜\": \"2024-03-01\"},\n",
    "]\n",
    "# 주말과 휴일을 분류하는 함수 정의\n",
    "def classify_weekend_and_holidays(df, holidays):\n",
    "    # '일시' 열을 datetime 형식으로 변환\n",
    "    df['기준_날짜'] = pd.to_datetime(df['기준_날짜'])\n",
    "    \n",
    "    # 주말(토요일: 5, 일요일: 6)인지 여부를 나타내는 열 추가\n",
    "    df['요일'] = df['기준_날짜'].dt.dayofweek  # 0: 월요일, 1: 화요일, ..., 6: 일요일\n",
    "    df['주말'] = df['요일'].apply(lambda x: 1 if x >= 5 else 0)  # 토요일(5) 또는 일요일(6)이면 주말로 분류\n",
    "    \n",
    "    # 휴일인지 여부를 나타내는 열 추가\n",
    "    df['휴일'] = df['기준_날짜'].apply(lambda x: 1 if str(x.date()) in [h['날짜'] for h in holidays] else 0)\n",
    "    \n",
    "    # 주말과 휴일으로 데이터 분리\n",
    "    주말_df = df[(df['주말'] == 1) | (df['휴일'] == 1)]\n",
    "    주중_df = df[(df['주말'] == 0) & (df['휴일'] == 0)]\n",
    "    \n",
    "    return 주말_df, 주중_df\n",
    "\n",
    "# 함수 호출\n",
    "일별_휴일_데이터, 일별_강서_데이터 = classify_weekend_and_holidays(일별_강서_데이터, 휴일)\n",
    "\n",
    "기상청_주말_데이터, 기상청_주중_데이터 = classify_weekend_and_holidays(기상청_데이터, 휴일)\n",
    "\n"
   ]
  },
  {
   "cell_type": "code",
   "execution_count": 15,
   "metadata": {},
   "outputs": [
    {
     "data": {
      "text/html": [
       "<div>\n",
       "<style scoped>\n",
       "    .dataframe tbody tr th:only-of-type {\n",
       "        vertical-align: middle;\n",
       "    }\n",
       "\n",
       "    .dataframe tbody tr th {\n",
       "        vertical-align: top;\n",
       "    }\n",
       "\n",
       "    .dataframe thead th {\n",
       "        text-align: right;\n",
       "    }\n",
       "</style>\n",
       "<table border=\"1\" class=\"dataframe\">\n",
       "  <thead>\n",
       "    <tr style=\"text-align: right;\">\n",
       "      <th></th>\n",
       "      <th>기준_날짜</th>\n",
       "      <th>전체_건수</th>\n",
       "      <th>요일</th>\n",
       "      <th>주말</th>\n",
       "      <th>휴일</th>\n",
       "    </tr>\n",
       "  </thead>\n",
       "  <tbody>\n",
       "    <tr>\n",
       "      <th>0</th>\n",
       "      <td>2023-04-03</td>\n",
       "      <td>16354</td>\n",
       "      <td>0</td>\n",
       "      <td>0</td>\n",
       "      <td>0</td>\n",
       "    </tr>\n",
       "    <tr>\n",
       "      <th>1</th>\n",
       "      <td>2023-04-04</td>\n",
       "      <td>13309</td>\n",
       "      <td>1</td>\n",
       "      <td>0</td>\n",
       "      <td>0</td>\n",
       "    </tr>\n",
       "    <tr>\n",
       "      <th>2</th>\n",
       "      <td>2023-04-05</td>\n",
       "      <td>2191</td>\n",
       "      <td>2</td>\n",
       "      <td>0</td>\n",
       "      <td>0</td>\n",
       "    </tr>\n",
       "    <tr>\n",
       "      <th>3</th>\n",
       "      <td>2023-04-06</td>\n",
       "      <td>7303</td>\n",
       "      <td>3</td>\n",
       "      <td>0</td>\n",
       "      <td>0</td>\n",
       "    </tr>\n",
       "    <tr>\n",
       "      <th>4</th>\n",
       "      <td>2023-04-07</td>\n",
       "      <td>14320</td>\n",
       "      <td>4</td>\n",
       "      <td>0</td>\n",
       "      <td>0</td>\n",
       "    </tr>\n",
       "    <tr>\n",
       "      <th>...</th>\n",
       "      <td>...</td>\n",
       "      <td>...</td>\n",
       "      <td>...</td>\n",
       "      <td>...</td>\n",
       "      <td>...</td>\n",
       "    </tr>\n",
       "    <tr>\n",
       "      <th>236</th>\n",
       "      <td>2024-03-25</td>\n",
       "      <td>6757</td>\n",
       "      <td>0</td>\n",
       "      <td>0</td>\n",
       "      <td>0</td>\n",
       "    </tr>\n",
       "    <tr>\n",
       "      <th>237</th>\n",
       "      <td>2024-03-26</td>\n",
       "      <td>9299</td>\n",
       "      <td>1</td>\n",
       "      <td>0</td>\n",
       "      <td>0</td>\n",
       "    </tr>\n",
       "    <tr>\n",
       "      <th>238</th>\n",
       "      <td>2024-03-27</td>\n",
       "      <td>15206</td>\n",
       "      <td>2</td>\n",
       "      <td>0</td>\n",
       "      <td>0</td>\n",
       "    </tr>\n",
       "    <tr>\n",
       "      <th>239</th>\n",
       "      <td>2024-03-28</td>\n",
       "      <td>9280</td>\n",
       "      <td>3</td>\n",
       "      <td>0</td>\n",
       "      <td>0</td>\n",
       "    </tr>\n",
       "    <tr>\n",
       "      <th>240</th>\n",
       "      <td>2024-03-29</td>\n",
       "      <td>10772</td>\n",
       "      <td>4</td>\n",
       "      <td>0</td>\n",
       "      <td>0</td>\n",
       "    </tr>\n",
       "  </tbody>\n",
       "</table>\n",
       "<p>241 rows × 5 columns</p>\n",
       "</div>"
      ],
      "text/plain": [
       "         기준_날짜  전체_건수  요일  주말  휴일\n",
       "0   2023-04-03  16354   0   0   0\n",
       "1   2023-04-04  13309   1   0   0\n",
       "2   2023-04-05   2191   2   0   0\n",
       "3   2023-04-06   7303   3   0   0\n",
       "4   2023-04-07  14320   4   0   0\n",
       "..         ...    ...  ..  ..  ..\n",
       "236 2024-03-25   6757   0   0   0\n",
       "237 2024-03-26   9299   1   0   0\n",
       "238 2024-03-27  15206   2   0   0\n",
       "239 2024-03-28   9280   3   0   0\n",
       "240 2024-03-29  10772   4   0   0\n",
       "\n",
       "[241 rows x 5 columns]"
      ]
     },
     "execution_count": 15,
     "metadata": {},
     "output_type": "execute_result"
    }
   ],
   "source": [
    "일별_강서_데이터"
   ]
  },
  {
   "cell_type": "code",
   "execution_count": 16,
   "metadata": {},
   "outputs": [
    {
     "name": "stdout",
     "output_type": "stream",
     "text": [
      "기상청 데이터에만 있는 날짜:\n",
      "277   2024-01-02\n",
      "311   2024-02-05\n",
      "312   2024-02-06\n",
      "325   2024-02-19\n",
      "326   2024-02-20\n",
      "Name: 기준_날짜, dtype: datetime64[ns]\n"
     ]
    },
    {
     "name": "stderr",
     "output_type": "stream",
     "text": [
      "C:\\Users\\ciw96\\AppData\\Local\\Temp\\ipykernel_53752\\3106720689.py:2: SettingWithCopyWarning: \n",
      "A value is trying to be set on a copy of a slice from a DataFrame.\n",
      "Try using .loc[row_indexer,col_indexer] = value instead\n",
      "\n",
      "See the caveats in the documentation: https://pandas.pydata.org/pandas-docs/stable/user_guide/indexing.html#returning-a-view-versus-a-copy\n",
      "  기상청_주중_데이터['기준_날짜'] = pd.to_datetime(기상청_주중_데이터['기준_날짜'])\n"
     ]
    }
   ],
   "source": [
    "# 기상청_주중_데이터의 '기준_날짜' 열을 datetime 형식으로 변환\n",
    "기상청_주중_데이터['기준_날짜'] = pd.to_datetime(기상청_주중_데이터['기준_날짜'])\n",
    "\n",
    "# 일별_강서_데이터의 '기준_날짜' 열을 datetime 형식으로 변환\n",
    "일별_강서_데이터['기준_날짜'] = pd.to_datetime(일별_강서_데이터['기준_날짜'])\n",
    "\n",
    "# 두 데이터프레임의 '기준_날짜' 값을 비교하여 있는 값과 없는 값을 구분\n",
    "공통_날짜 = pd.merge(기상청_주중_데이터, 일별_강서_데이터, on='기준_날짜', how='inner')['기준_날짜']\n",
    "기상청_누락_날짜 = 기상청_주중_데이터[~기상청_주중_데이터['기준_날짜'].isin(공통_날짜)]['기준_날짜']\n",
    "강서_누락_날짜 = 일별_강서_데이터[~일별_강서_데이터['기준_날짜'].isin(공통_날짜)]['기준_날짜']\n",
    "\n",
    "print(\"기상청 데이터에만 있는 날짜:\")\n",
    "print(기상청_누락_날짜)\n",
    "기상청_주중_데이터 = 기상청_주중_데이터[~기상청_주중_데이터['기준_날짜'].isin(기상청_누락_날짜)]\n"
   ]
  },
  {
   "cell_type": "code",
   "execution_count": 17,
   "metadata": {},
   "outputs": [],
   "source": [
    "기상청_주중_데이터 = 기상청_주중_데이터[~기상청_주중_데이터['기준_날짜'].isin(기상청_누락_날짜)]\n",
    "기상청_주중_데이터 = 기상청_주중_데이터.rename(columns={'일강수량(mm)': '강수량'})\n",
    "기상청_주중_데이터.drop_duplicates(inplace=True)"
   ]
  },
  {
   "cell_type": "code",
   "execution_count": 18,
   "metadata": {},
   "outputs": [
    {
     "data": {
      "text/html": [
       "<div>\n",
       "<style scoped>\n",
       "    .dataframe tbody tr th:only-of-type {\n",
       "        vertical-align: middle;\n",
       "    }\n",
       "\n",
       "    .dataframe tbody tr th {\n",
       "        vertical-align: top;\n",
       "    }\n",
       "\n",
       "    .dataframe thead th {\n",
       "        text-align: right;\n",
       "    }\n",
       "</style>\n",
       "<table border=\"1\" class=\"dataframe\">\n",
       "  <thead>\n",
       "    <tr style=\"text-align: right;\">\n",
       "      <th></th>\n",
       "      <th>기준_날짜</th>\n",
       "      <th>강수량</th>\n",
       "      <th>전체_건수</th>\n",
       "    </tr>\n",
       "  </thead>\n",
       "  <tbody>\n",
       "    <tr>\n",
       "      <th>0</th>\n",
       "      <td>2023-04-03</td>\n",
       "      <td>0.0</td>\n",
       "      <td>16354</td>\n",
       "    </tr>\n",
       "    <tr>\n",
       "      <th>1</th>\n",
       "      <td>2023-04-04</td>\n",
       "      <td>6.9</td>\n",
       "      <td>13309</td>\n",
       "    </tr>\n",
       "    <tr>\n",
       "      <th>2</th>\n",
       "      <td>2023-04-05</td>\n",
       "      <td>50.3</td>\n",
       "      <td>2191</td>\n",
       "    </tr>\n",
       "    <tr>\n",
       "      <th>3</th>\n",
       "      <td>2023-04-06</td>\n",
       "      <td>2.7</td>\n",
       "      <td>7303</td>\n",
       "    </tr>\n",
       "    <tr>\n",
       "      <th>4</th>\n",
       "      <td>2023-04-07</td>\n",
       "      <td>0.0</td>\n",
       "      <td>14320</td>\n",
       "    </tr>\n",
       "    <tr>\n",
       "      <th>...</th>\n",
       "      <td>...</td>\n",
       "      <td>...</td>\n",
       "      <td>...</td>\n",
       "    </tr>\n",
       "    <tr>\n",
       "      <th>236</th>\n",
       "      <td>2024-03-25</td>\n",
       "      <td>5.1</td>\n",
       "      <td>6757</td>\n",
       "    </tr>\n",
       "    <tr>\n",
       "      <th>237</th>\n",
       "      <td>2024-03-26</td>\n",
       "      <td>11.5</td>\n",
       "      <td>9299</td>\n",
       "    </tr>\n",
       "    <tr>\n",
       "      <th>238</th>\n",
       "      <td>2024-03-27</td>\n",
       "      <td>0.0</td>\n",
       "      <td>15206</td>\n",
       "    </tr>\n",
       "    <tr>\n",
       "      <th>239</th>\n",
       "      <td>2024-03-28</td>\n",
       "      <td>1.9</td>\n",
       "      <td>9280</td>\n",
       "    </tr>\n",
       "    <tr>\n",
       "      <th>240</th>\n",
       "      <td>2024-03-29</td>\n",
       "      <td>1.4</td>\n",
       "      <td>10772</td>\n",
       "    </tr>\n",
       "  </tbody>\n",
       "</table>\n",
       "<p>241 rows × 3 columns</p>\n",
       "</div>"
      ],
      "text/plain": [
       "         기준_날짜   강수량  전체_건수\n",
       "0   2023-04-03   0.0  16354\n",
       "1   2023-04-04   6.9  13309\n",
       "2   2023-04-05  50.3   2191\n",
       "3   2023-04-06   2.7   7303\n",
       "4   2023-04-07   0.0  14320\n",
       "..         ...   ...    ...\n",
       "236 2024-03-25   5.1   6757\n",
       "237 2024-03-26  11.5   9299\n",
       "238 2024-03-27   0.0  15206\n",
       "239 2024-03-28   1.9   9280\n",
       "240 2024-03-29   1.4  10772\n",
       "\n",
       "[241 rows x 3 columns]"
      ]
     },
     "execution_count": 18,
     "metadata": {},
     "output_type": "execute_result"
    }
   ],
   "source": [
    "\n",
    "# 기상청 데이터와 일별 데이터를 기준_날짜를 기준으로 병합\n",
    "기상청_분석 = pd.merge(기상청_주중_데이터, 일별_강서_데이터, on='기준_날짜', how='inner')\n",
    "\n",
    "기상청_분석 = 기상청_분석[['기준_날짜','강수량','전체_건수']]\n",
    "기상청_분석 = 기상청_분석.loc[:,~기상청_분석.columns.duplicated()]\n",
    "기상청_분석"
   ]
  },
  {
   "cell_type": "code",
   "execution_count": 19,
   "metadata": {},
   "outputs": [
    {
     "name": "stdout",
     "output_type": "stream",
     "text": [
      "         기준_날짜  강수량  전체_건수\n",
      "20  2023-05-01  0.0  14548\n",
      "21  2023-05-02  0.0  18444\n",
      "22  2023-05-03  0.0  19330\n",
      "23  2023-05-04  0.0  18824\n",
      "24  2023-05-08  0.0  18482\n",
      "..         ...  ...    ...\n",
      "138 2023-10-25  0.0  21856\n",
      "139 2023-10-26  0.0  19820\n",
      "140 2023-10-27  0.0  21286\n",
      "141 2023-10-30  0.0  20988\n",
      "142 2023-10-31  0.0  21598\n",
      "\n",
      "[123 rows x 3 columns]\n"
     ]
    }
   ],
   "source": [
    "\n",
    "# '기준_날짜' column을 날짜형식으로 변환\n",
    "기상청_분석['기준_날짜'] = pd.to_datetime(기상청_분석['기준_날짜'])\n",
    "\n",
    "# '기준_날짜'를 기준으로 5~10월 데이터 추출\n",
    "기상청_분석_01 = 기상청_분석[(기상청_분석['기준_날짜'].dt.month >= 5) & (기상청_분석['기준_날짜'].dt.month <= 10)]\n",
    "\n",
    "# 데이터프레임 확인\n",
    "print(기상청_분석_01)"
   ]
  },
  {
   "cell_type": "code",
   "execution_count": 20,
   "metadata": {},
   "outputs": [
    {
     "name": "stdout",
     "output_type": "stream",
     "text": [
      "5~10월 강수량과 전체_건수 간의 상관 관계: -0.8377191903020267\n"
     ]
    }
   ],
   "source": [
    "\n",
    "# 상관 관계 계산\n",
    "correlation = 기상청_분석_01['강수량'].corr(기상청_분석_01['전체_건수'])\n",
    "\n",
    "print(\"5~10월 강수량과 전체_건수 간의 상관 관계:\", correlation)\n"
   ]
  },
  {
   "cell_type": "code",
   "execution_count": 21,
   "metadata": {},
   "outputs": [
    {
     "name": "stdout",
     "output_type": "stream",
     "text": [
      "                            OLS Regression Results                            \n",
      "==============================================================================\n",
      "Dep. Variable:                  전체_건수   R-squared:                       0.702\n",
      "Model:                            OLS   Adj. R-squared:                  0.699\n",
      "Method:                 Least Squares   F-statistic:                     284.7\n",
      "Date:                Tue, 07 May 2024   Prob (F-statistic):           1.40e-33\n",
      "Time:                        17:24:17   Log-Likelihood:                -1146.1\n",
      "No. Observations:                 123   AIC:                             2296.\n",
      "Df Residuals:                     121   BIC:                             2302.\n",
      "Df Model:                           1                                         \n",
      "Covariance Type:            nonrobust                                         \n",
      "==============================================================================\n",
      "                 coef    std err          t      P>|t|      [0.025      0.975]\n",
      "------------------------------------------------------------------------------\n",
      "const       1.961e+04    263.775     74.337      0.000    1.91e+04    2.01e+04\n",
      "강수량         -228.1194     13.519    -16.874      0.000    -254.884    -201.355\n",
      "==============================================================================\n",
      "Omnibus:                       41.735   Durbin-Watson:                   1.711\n",
      "Prob(Omnibus):                  0.000   Jarque-Bera (JB):              106.636\n",
      "Skew:                          -1.306   Prob(JB):                     6.99e-24\n",
      "Kurtosis:                       6.740   Cond. No.                         21.0\n",
      "==============================================================================\n",
      "\n",
      "Notes:\n",
      "[1] Standard Errors assume that the covariance matrix of the errors is correctly specified.\n"
     ]
    }
   ],
   "source": [
    "# 독립 변수(X)와 종속 변수(Y) 선택\n",
    "X = 기상청_분석_01['강수량']\n",
    "Y = 기상청_분석_01['전체_건수']\n",
    "\n",
    "# 상수항 추가\n",
    "X = sm.add_constant(X)\n",
    "\n",
    "# 회귀 모델 생성 및 피팅\n",
    "model = sm.OLS(Y, X).fit()\n",
    "\n",
    "# 회귀 분석 결과 출력\n",
    "print(model.summary())"
   ]
  },
  {
   "cell_type": "code",
   "execution_count": 30,
   "metadata": {},
   "outputs": [
    {
     "data": {
      "image/png": "[encoded data removed]",
      "text/plain": [
       "<Figure size 640x480 with 1 Axes>"
      ]
     },
     "metadata": {},
     "output_type": "display_data"
    },
    {
     "data": {
      "image/png": "[encoded data removed]",
      "text/plain": [
       "<Figure size 640x480 with 1 Axes>"
      ]
     },
     "metadata": {},
     "output_type": "display_data"
    },
    {
     "name": "stdout",
     "output_type": "stream",
     "text": [
      "                               SARIMAX Results                                \n",
      "==============================================================================\n",
      "Dep. Variable:                  전체_건수   No. Observations:                  123\n",
      "Model:                 ARIMA(6, 2, 0)   Log Likelihood               -1223.191\n",
      "Date:                Tue, 07 May 2024   AIC                           2460.382\n",
      "Time:                        17:26:36   BIC                           2479.952\n",
      "Sample:                             0   HQIC                          2468.330\n",
      "                                - 123                                         \n",
      "Covariance Type:                  opg                                         \n",
      "==============================================================================\n",
      "                 coef    std err          z      P>|z|      [0.025      0.975]\n",
      "------------------------------------------------------------------------------\n",
      "ar.L1         -1.2755      0.080    -15.974      0.000      -1.432      -1.119\n",
      "ar.L2         -1.4310      0.125    -11.415      0.000      -1.677      -1.185\n",
      "ar.L3         -1.1102      0.171     -6.508      0.000      -1.445      -0.776\n",
      "ar.L4         -0.8171      0.189     -4.316      0.000      -1.188      -0.446\n",
      "ar.L5         -0.4282      0.155     -2.759      0.006      -0.732      -0.124\n",
      "ar.L6         -0.2066      0.102     -2.035      0.042      -0.406      -0.008\n",
      "sigma2      3.517e+07   3.48e-09   1.01e+16      0.000    3.52e+07    3.52e+07\n",
      "===================================================================================\n",
      "Ljung-Box (L1) (Q):                   0.27   Jarque-Bera (JB):                 6.97\n",
      "Prob(Q):                              0.61   Prob(JB):                         0.03\n",
      "Heteroskedasticity (H):               2.14   Skew:                            -0.45\n",
      "Prob(H) (two-sided):                  0.02   Kurtosis:                         3.76\n",
      "===================================================================================\n",
      "\n",
      "Warnings:\n",
      "[1] Covariance matrix calculated using the outer product of gradients (complex-step).\n",
      "[2] Covariance matrix is singular or near-singular, with condition number 6.9e+31. Standard errors may be unstable.\n"
     ]
    },
    {
     "name": "stderr",
     "output_type": "stream",
     "text": [
      "C:\\Users\\ciw96\\AppData\\Local\\Temp\\ipykernel_53752\\1560948155.py:11: SettingWithCopyWarning: \n",
      "A value is trying to be set on a copy of a slice from a DataFrame.\n",
      "Try using .loc[row_indexer,col_indexer] = value instead\n",
      "\n",
      "See the caveats in the documentation: https://pandas.pydata.org/pandas-docs/stable/user_guide/indexing.html#returning-a-view-versus-a-copy\n",
      "  기상청_분석_01['기준_날짜'] = pd.to_datetime(기상청_분석_01['기준_날짜'])\n",
      "c:\\ProgramData\\anaconda3\\Lib\\site-packages\\statsmodels\\tsa\\base\\tsa_model.py:473: ValueWarning: An unsupported index was provided and will be ignored when e.g. forecasting.\n",
      "  self._init_dates(dates, freq)\n",
      "c:\\ProgramData\\anaconda3\\Lib\\site-packages\\statsmodels\\tsa\\base\\tsa_model.py:473: ValueWarning: An unsupported index was provided and will be ignored when e.g. forecasting.\n",
      "  self._init_dates(dates, freq)\n",
      "c:\\ProgramData\\anaconda3\\Lib\\site-packages\\statsmodels\\tsa\\base\\tsa_model.py:473: ValueWarning: An unsupported index was provided and will be ignored when e.g. forecasting.\n",
      "  self._init_dates(dates, freq)\n"
     ]
    },
    {
     "data": {
      "image/png": "[encoded data removed]",
      "text/plain": [
       "<Figure size 1000x600 with 1 Axes>"
      ]
     },
     "metadata": {},
     "output_type": "display_data"
    }
   ],
   "source": [
    "import pandas as pd\n",
    "import numpy as np\n",
    "import matplotlib.pyplot as plt\n",
    "from statsmodels.tsa.arima.model import ARIMA\n",
    "from statsmodels.graphics.tsaplots import plot_acf, plot_pacf\n",
    "\n",
    "plot_acf(기상청_분석['전체_건수'])\n",
    "plot_pacf(기상청_분석['전체_건수'])\n",
    "plt.show()\n",
    "# 데이터 전처리\n",
    "기상청_분석_01['기준_날짜'] = pd.to_datetime(기상청_분석_01['기준_날짜'])\n",
    "\n",
    "# ARIMA 모델을 학습하기 위한 시계열 데이터 준비\n",
    "시계열_데이터 = 기상청_분석_01['전체_건수']\n",
    "\n",
    "# ARIMA 모델 학습\n",
    "model = ARIMA(시계열_데이터, order=(6,2,0)) # ARIMA 모델 생성\n",
    "model_fit = model.fit() # 모델 학습\n",
    "\n",
    "# 예측 결과 출력\n",
    "print(model_fit.summary())\n",
    "\n",
    "# 시각화\n",
    "plt.figure(figsize=(10, 6))\n",
    "plt.plot(시계열_데이터.index, 시계열_데이터.values, label='Actual')\n",
    "plt.plot(시계열_데이터.index, model_fit.predict(start=0, end=len(시계열_데이터)-1), label='Predicted', color='red')\n",
    "plt.title('Actual vs. Predicted Bike Counts')\n",
    "plt.xlabel('Date')\n",
    "plt.ylabel('Bike Count')\n",
    "plt.legend()\n",
    "plt.grid(True)\n",
    "plt.show()"
   ]
  },
  {
   "cell_type": "code",
   "execution_count": 143,
   "metadata": {},
   "outputs": [
    {
     "data": {
      "text/html": [
       "<div>\n",
       "<style scoped>\n",
       "    .dataframe tbody tr th:only-of-type {\n",
       "        vertical-align: middle;\n",
       "    }\n",
       "\n",
       "    .dataframe tbody tr th {\n",
       "        vertical-align: top;\n",
       "    }\n",
       "\n",
       "    .dataframe thead th {\n",
       "        text-align: right;\n",
       "    }\n",
       "</style>\n",
       "<table border=\"1\" class=\"dataframe\">\n",
       "  <thead>\n",
       "    <tr style=\"text-align: right;\">\n",
       "      <th></th>\n",
       "      <th>강수량</th>\n",
       "      <th>전체_건수</th>\n",
       "    </tr>\n",
       "    <tr>\n",
       "      <th>기준_날짜</th>\n",
       "      <th></th>\n",
       "      <th></th>\n",
       "    </tr>\n",
       "  </thead>\n",
       "  <tbody>\n",
       "    <tr>\n",
       "      <th>2023-05-01</th>\n",
       "      <td>0.0</td>\n",
       "      <td>14548</td>\n",
       "    </tr>\n",
       "    <tr>\n",
       "      <th>2023-05-02</th>\n",
       "      <td>0.0</td>\n",
       "      <td>18444</td>\n",
       "    </tr>\n",
       "    <tr>\n",
       "      <th>2023-05-03</th>\n",
       "      <td>0.0</td>\n",
       "      <td>19330</td>\n",
       "    </tr>\n",
       "    <tr>\n",
       "      <th>2023-05-04</th>\n",
       "      <td>0.0</td>\n",
       "      <td>18824</td>\n",
       "    </tr>\n",
       "    <tr>\n",
       "      <th>2023-05-08</th>\n",
       "      <td>0.0</td>\n",
       "      <td>18482</td>\n",
       "    </tr>\n",
       "    <tr>\n",
       "      <th>...</th>\n",
       "      <td>...</td>\n",
       "      <td>...</td>\n",
       "    </tr>\n",
       "    <tr>\n",
       "      <th>2023-10-25</th>\n",
       "      <td>0.0</td>\n",
       "      <td>21856</td>\n",
       "    </tr>\n",
       "    <tr>\n",
       "      <th>2023-10-26</th>\n",
       "      <td>0.0</td>\n",
       "      <td>19820</td>\n",
       "    </tr>\n",
       "    <tr>\n",
       "      <th>2023-10-27</th>\n",
       "      <td>0.0</td>\n",
       "      <td>21286</td>\n",
       "    </tr>\n",
       "    <tr>\n",
       "      <th>2023-10-30</th>\n",
       "      <td>0.0</td>\n",
       "      <td>20988</td>\n",
       "    </tr>\n",
       "    <tr>\n",
       "      <th>2023-10-31</th>\n",
       "      <td>0.0</td>\n",
       "      <td>21598</td>\n",
       "    </tr>\n",
       "  </tbody>\n",
       "</table>\n",
       "<p>123 rows × 2 columns</p>\n",
       "</div>"
      ],
      "text/plain": [
       "            강수량  전체_건수\n",
       "기준_날짜                 \n",
       "2023-05-01  0.0  14548\n",
       "2023-05-02  0.0  18444\n",
       "2023-05-03  0.0  19330\n",
       "2023-05-04  0.0  18824\n",
       "2023-05-08  0.0  18482\n",
       "...         ...    ...\n",
       "2023-10-25  0.0  21856\n",
       "2023-10-26  0.0  19820\n",
       "2023-10-27  0.0  21286\n",
       "2023-10-30  0.0  20988\n",
       "2023-10-31  0.0  21598\n",
       "\n",
       "[123 rows x 2 columns]"
      ]
     },
     "execution_count": 143,
     "metadata": {},
     "output_type": "execute_result"
    }
   ],
   "source": [
    "기상청_분석_01"
   ]
  },
  {
   "cell_type": "code",
   "execution_count": 31,
   "metadata": {},
   "outputs": [
    {
     "name": "stderr",
     "output_type": "stream",
     "text": [
      "C:\\Users\\ciw96\\AppData\\Local\\Temp\\ipykernel_53752\\3529106228.py:6: SettingWithCopyWarning: \n",
      "A value is trying to be set on a copy of a slice from a DataFrame.\n",
      "Try using .loc[row_indexer,col_indexer] = value instead\n",
      "\n",
      "See the caveats in the documentation: https://pandas.pydata.org/pandas-docs/stable/user_guide/indexing.html#returning-a-view-versus-a-copy\n",
      "  기상청_분석_01['기준_날짜'] = pd.to_datetime(기상청_분석_01['기준_날짜'])  # 기준_날짜를 datetime 형식으로 변환\n"
     ]
    },
    {
     "data": {
      "image/png": "[encoded data removed]",
      "text/plain": [
       "<Figure size 1000x600 with 1 Axes>"
      ]
     },
     "metadata": {},
     "output_type": "display_data"
    }
   ],
   "source": [
    "import pandas as pd\n",
    "import matplotlib.pyplot as plt\n",
    "\n",
    "\n",
    "\n",
    "기상청_분석_01['기준_날짜'] = pd.to_datetime(기상청_분석_01['기준_날짜'])  # 기준_날짜를 datetime 형식으로 변환\n",
    "\n",
    "\n",
    "# 시각화\n",
    "plt.figure(figsize=(10, 6))\n",
    "plt.plot(기상청_분석_01.index, 기상청_분석_01['강수량'], label='강수량', color='blue')\n",
    "plt.plot(기상청_분석_01.index, 기상청_분석_01['전체_건수'], label='전체 건수', color='green')\n",
    "plt.xlabel('날짜')\n",
    "plt.ylabel('강수량 / 전체 건수')\n",
    "plt.title('날짜별 강수량 및 전체 건수')\n",
    "plt.legend()\n",
    "plt.show()"
   ]
  },
  {
   "cell_type": "code",
   "execution_count": 33,
   "metadata": {},
   "outputs": [
    {
     "data": {
      "text/html": [
       "<div>\n",
       "<style scoped>\n",
       "    .dataframe tbody tr th:only-of-type {\n",
       "        vertical-align: middle;\n",
       "    }\n",
       "\n",
       "    .dataframe tbody tr th {\n",
       "        vertical-align: top;\n",
       "    }\n",
       "\n",
       "    .dataframe thead th {\n",
       "        text-align: right;\n",
       "    }\n",
       "</style>\n",
       "<table border=\"1\" class=\"dataframe\">\n",
       "  <thead>\n",
       "    <tr style=\"text-align: right;\">\n",
       "      <th></th>\n",
       "      <th>기준_날짜</th>\n",
       "      <th>강수량</th>\n",
       "      <th>전체_건수</th>\n",
       "    </tr>\n",
       "  </thead>\n",
       "  <tbody>\n",
       "    <tr>\n",
       "      <th>0</th>\n",
       "      <td>2023-04-03</td>\n",
       "      <td>0.0</td>\n",
       "      <td>16354</td>\n",
       "    </tr>\n",
       "    <tr>\n",
       "      <th>1</th>\n",
       "      <td>2023-04-04</td>\n",
       "      <td>6.9</td>\n",
       "      <td>13309</td>\n",
       "    </tr>\n",
       "    <tr>\n",
       "      <th>2</th>\n",
       "      <td>2023-04-05</td>\n",
       "      <td>50.3</td>\n",
       "      <td>2191</td>\n",
       "    </tr>\n",
       "    <tr>\n",
       "      <th>3</th>\n",
       "      <td>2023-04-06</td>\n",
       "      <td>2.7</td>\n",
       "      <td>7303</td>\n",
       "    </tr>\n",
       "    <tr>\n",
       "      <th>4</th>\n",
       "      <td>2023-04-07</td>\n",
       "      <td>0.0</td>\n",
       "      <td>14320</td>\n",
       "    </tr>\n",
       "    <tr>\n",
       "      <th>...</th>\n",
       "      <td>...</td>\n",
       "      <td>...</td>\n",
       "      <td>...</td>\n",
       "    </tr>\n",
       "    <tr>\n",
       "      <th>236</th>\n",
       "      <td>2024-03-25</td>\n",
       "      <td>5.1</td>\n",
       "      <td>6757</td>\n",
       "    </tr>\n",
       "    <tr>\n",
       "      <th>237</th>\n",
       "      <td>2024-03-26</td>\n",
       "      <td>11.5</td>\n",
       "      <td>9299</td>\n",
       "    </tr>\n",
       "    <tr>\n",
       "      <th>238</th>\n",
       "      <td>2024-03-27</td>\n",
       "      <td>0.0</td>\n",
       "      <td>15206</td>\n",
       "    </tr>\n",
       "    <tr>\n",
       "      <th>239</th>\n",
       "      <td>2024-03-28</td>\n",
       "      <td>1.9</td>\n",
       "      <td>9280</td>\n",
       "    </tr>\n",
       "    <tr>\n",
       "      <th>240</th>\n",
       "      <td>2024-03-29</td>\n",
       "      <td>1.4</td>\n",
       "      <td>10772</td>\n",
       "    </tr>\n",
       "  </tbody>\n",
       "</table>\n",
       "<p>241 rows × 3 columns</p>\n",
       "</div>"
      ],
      "text/plain": [
       "         기준_날짜   강수량  전체_건수\n",
       "0   2023-04-03   0.0  16354\n",
       "1   2023-04-04   6.9  13309\n",
       "2   2023-04-05  50.3   2191\n",
       "3   2023-04-06   2.7   7303\n",
       "4   2023-04-07   0.0  14320\n",
       "..         ...   ...    ...\n",
       "236 2024-03-25   5.1   6757\n",
       "237 2024-03-26  11.5   9299\n",
       "238 2024-03-27   0.0  15206\n",
       "239 2024-03-28   1.9   9280\n",
       "240 2024-03-29   1.4  10772\n",
       "\n",
       "[241 rows x 3 columns]"
      ]
     },
     "execution_count": 33,
     "metadata": {},
     "output_type": "execute_result"
    }
   ],
   "source": [
    "기상청_분석"
   ]
  },
  {
   "cell_type": "code",
   "execution_count": 32,
   "metadata": {},
   "outputs": [
    {
     "name": "stdout",
     "output_type": "stream",
     "text": [
      "ADF 검정 통계량: -1.4282100852735171\n",
      "p-value: 0.5686796443010156\n",
      "Critical Values:\n",
      "   1%: -3.459105583381277\n",
      "   5%: -2.8741898504150574\n",
      "   10%: -2.5735117958412097\n"
     ]
    }
   ],
   "source": [
    "from statsmodels.tsa.stattools import adfuller\n",
    "\n",
    "# ADF 검정 수행 함수 정의\n",
    "def adf_test(timeseries):\n",
    "    # ADF 검정 수행\n",
    "    result = adfuller(timeseries)\n",
    "    \n",
    "    # 결과 출력\n",
    "    print('ADF 검정 통계량:', result[0])\n",
    "    print('p-value:', result[1])\n",
    "    print('Critical Values:')\n",
    "    for key, value in result[4].items():\n",
    "        print(f'   {key}: {value}')\n",
    "\n",
    "# 시계열 데이터에 대한 ADF 검정 수행\n",
    "adf_test(기상청_분석['전체_건수'])"
   ]
  },
  {
   "cell_type": "code",
   "execution_count": 34,
   "metadata": {},
   "outputs": [
    {
     "data": {
      "image/png": "[encoded data removed]",
      "text/plain": [
       "<Figure size 1000x600 with 1 Axes>"
      ]
     },
     "metadata": {},
     "output_type": "display_data"
    },
    {
     "name": "stdout",
     "output_type": "stream",
     "text": [
      "    강수량(mm)      이용량_감소\n",
      "0         0   38.166069\n",
      "1         1  -27.699213\n",
      "2         2   -9.342712\n",
      "3         3  -10.863618\n",
      "4         4  -11.678390\n",
      "5         5  -11.977835\n",
      "6         6  -13.739282\n",
      "7         7   86.716789\n",
      "8         8   86.716789\n",
      "9         9   99.104902\n",
      "10       10  102.775454\n",
      "11       11  110.997491\n",
      "12       12  219.879019\n",
      "13       13  219.879019\n",
      "14       14  219.879019\n",
      "15       15  230.349449\n",
      "16       16  254.596759\n",
      "17       17  254.596759\n",
      "18       18    9.733587\n",
      "19       19    9.733587\n",
      "20       20    9.733587\n",
      "21       21    9.733587\n",
      "22       22    9.733587\n",
      "23       23    9.733587\n",
      "24       24    9.733587\n",
      "25       25   10.341936\n",
      "26       26   10.341936\n",
      "27       27   10.341936\n",
      "28       28   11.031398\n",
      "29       29   11.031398\n",
      "30       30   11.031398\n"
     ]
    }
   ],
   "source": [
    "import pandas as pd\n",
    "import matplotlib.pyplot as plt\n",
    "from statsmodels.tsa.arima.model import ARIMA\n",
    "\n",
    "# ARIMA 모델을 학습하기 위한 시계열 데이터 준비\n",
    "시계열_데이터 = 기상청_분석[['강수량', '전체_건수']]\n",
    "\n",
    "# ARIMA 모델 학습\n",
    "model = ARIMA(시계열_데이터['전체_건수'], order=(3,1,0))  # ARIMA 모델 생성\n",
    "model_fit = model.fit()  # 모델 학습\n",
    "\n",
    "# 결과를 저장할 빈 리스트 생성\n",
    "결과 = []\n",
    "\n",
    "# 0mm부터 30mm까지의 강수량 범위에 대해 반복문 실행\n",
    "for 강수량 in range(31):\n",
    "    # 예측 결과에서 특정 강수량 범위 내의 이용량 감소 확인\n",
    "    특정_강수량_범위_이용량 = model_fit.predict(start=0, end=len(기상청_분석)-1)\n",
    "    특정_강수량_범위_이용량 = 특정_강수량_범위_이용량[기상청_분석['강수량'] >= 강수량]\n",
    "    이용량_감소 = 특정_강수량_범위_이용량.diff().dropna()\n",
    "\n",
    "    # 결과를 딕셔너리 형태로 저장\n",
    "    결과.append({\n",
    "        '강수량(mm)': 강수량,\n",
    "        '이용량_감소': 이용량_감소.mean() if len(이용량_감소) > 0 else 0\n",
    "    })\n",
    "\n",
    "# 결과를 DataFrame으로 변환\n",
    "결과_df = pd.DataFrame(결과)\n",
    "\n",
    "# 시각화\n",
    "plt.figure(figsize=(10, 6))\n",
    "plt.plot(결과_df['강수량(mm)'], 결과_df['이용량_감소'], marker='o', linestyle='-')\n",
    "plt.title('Bike Count Reduction vs. Rainfall')\n",
    "plt.xlabel('Rainfall (mm)')\n",
    "plt.ylabel('Bike Count Reduction')\n",
    "plt.grid(True)\n",
    "plt.show()\n",
    "\n",
    "# 결과 출력\n",
    "print(결과_df)"
   ]
  },
  {
   "cell_type": "code",
   "execution_count": 160,
   "metadata": {},
   "outputs": [
    {
     "data": {
      "text/html": [
       "<div>\n",
       "<style scoped>\n",
       "    .dataframe tbody tr th:only-of-type {\n",
       "        vertical-align: middle;\n",
       "    }\n",
       "\n",
       "    .dataframe tbody tr th {\n",
       "        vertical-align: top;\n",
       "    }\n",
       "\n",
       "    .dataframe thead th {\n",
       "        text-align: right;\n",
       "    }\n",
       "</style>\n",
       "<table border=\"1\" class=\"dataframe\">\n",
       "  <thead>\n",
       "    <tr style=\"text-align: right;\">\n",
       "      <th></th>\n",
       "      <th>기준_날짜</th>\n",
       "      <th>강수량</th>\n",
       "      <th>전체_건수</th>\n",
       "    </tr>\n",
       "  </thead>\n",
       "  <tbody>\n",
       "    <tr>\n",
       "      <th>20</th>\n",
       "      <td>2023-05-01</td>\n",
       "      <td>0.0</td>\n",
       "      <td>14548</td>\n",
       "    </tr>\n",
       "    <tr>\n",
       "      <th>21</th>\n",
       "      <td>2023-05-02</td>\n",
       "      <td>0.0</td>\n",
       "      <td>18444</td>\n",
       "    </tr>\n",
       "    <tr>\n",
       "      <th>22</th>\n",
       "      <td>2023-05-03</td>\n",
       "      <td>0.0</td>\n",
       "      <td>19330</td>\n",
       "    </tr>\n",
       "    <tr>\n",
       "      <th>23</th>\n",
       "      <td>2023-05-04</td>\n",
       "      <td>0.0</td>\n",
       "      <td>18824</td>\n",
       "    </tr>\n",
       "    <tr>\n",
       "      <th>24</th>\n",
       "      <td>2023-05-08</td>\n",
       "      <td>0.0</td>\n",
       "      <td>18482</td>\n",
       "    </tr>\n",
       "    <tr>\n",
       "      <th>...</th>\n",
       "      <td>...</td>\n",
       "      <td>...</td>\n",
       "      <td>...</td>\n",
       "    </tr>\n",
       "    <tr>\n",
       "      <th>138</th>\n",
       "      <td>2023-10-25</td>\n",
       "      <td>0.0</td>\n",
       "      <td>21856</td>\n",
       "    </tr>\n",
       "    <tr>\n",
       "      <th>139</th>\n",
       "      <td>2023-10-26</td>\n",
       "      <td>0.0</td>\n",
       "      <td>19820</td>\n",
       "    </tr>\n",
       "    <tr>\n",
       "      <th>140</th>\n",
       "      <td>2023-10-27</td>\n",
       "      <td>0.0</td>\n",
       "      <td>21286</td>\n",
       "    </tr>\n",
       "    <tr>\n",
       "      <th>141</th>\n",
       "      <td>2023-10-30</td>\n",
       "      <td>0.0</td>\n",
       "      <td>20988</td>\n",
       "    </tr>\n",
       "    <tr>\n",
       "      <th>142</th>\n",
       "      <td>2023-10-31</td>\n",
       "      <td>0.0</td>\n",
       "      <td>21598</td>\n",
       "    </tr>\n",
       "  </tbody>\n",
       "</table>\n",
       "<p>123 rows × 3 columns</p>\n",
       "</div>"
      ],
      "text/plain": [
       "         기준_날짜  강수량  전체_건수\n",
       "20  2023-05-01  0.0  14548\n",
       "21  2023-05-02  0.0  18444\n",
       "22  2023-05-03  0.0  19330\n",
       "23  2023-05-04  0.0  18824\n",
       "24  2023-05-08  0.0  18482\n",
       "..         ...  ...    ...\n",
       "138 2023-10-25  0.0  21856\n",
       "139 2023-10-26  0.0  19820\n",
       "140 2023-10-27  0.0  21286\n",
       "141 2023-10-30  0.0  20988\n",
       "142 2023-10-31  0.0  21598\n",
       "\n",
       "[123 rows x 3 columns]"
      ]
     },
     "execution_count": 160,
     "metadata": {},
     "output_type": "execute_result"
    }
   ],
   "source": [
    "기상청_분석_01"
   ]
  },
  {
   "cell_type": "code",
   "execution_count": 35,
   "metadata": {},
   "outputs": [
    {
     "name": "stderr",
     "output_type": "stream",
     "text": [
      "c:\\ProgramData\\anaconda3\\Lib\\site-packages\\seaborn\\_oldcore.py:1119: FutureWarning: use_inf_as_na option is deprecated and will be removed in a future version. Convert inf values to NaN before operating instead.\n",
      "  with pd.option_context('mode.use_inf_as_na', True):\n",
      "c:\\ProgramData\\anaconda3\\Lib\\site-packages\\seaborn\\_oldcore.py:1119: FutureWarning: use_inf_as_na option is deprecated and will be removed in a future version. Convert inf values to NaN before operating instead.\n",
      "  with pd.option_context('mode.use_inf_as_na', True):\n",
      "C:\\Users\\ciw96\\AppData\\Local\\Temp\\ipykernel_53752\\1324120273.py:30: UserWarning: Glyph 45216 (\\N{HANGUL SYLLABLE NAL}) missing from current font.\n",
      "  plt.tight_layout()\n",
      "C:\\Users\\ciw96\\AppData\\Local\\Temp\\ipykernel_53752\\1324120273.py:30: UserWarning: Glyph 51676 (\\N{HANGUL SYLLABLE JJA}) missing from current font.\n",
      "  plt.tight_layout()\n",
      "C:\\Users\\ciw96\\AppData\\Local\\Temp\\ipykernel_53752\\1324120273.py:30: UserWarning: Glyph 44053 (\\N{HANGUL SYLLABLE GANG}) missing from current font.\n",
      "  plt.tight_layout()\n",
      "C:\\Users\\ciw96\\AppData\\Local\\Temp\\ipykernel_53752\\1324120273.py:30: UserWarning: Glyph 49688 (\\N{HANGUL SYLLABLE SU}) missing from current font.\n",
      "  plt.tight_layout()\n",
      "C:\\Users\\ciw96\\AppData\\Local\\Temp\\ipykernel_53752\\1324120273.py:30: UserWarning: Glyph 47049 (\\N{HANGUL SYLLABLE RYANG}) missing from current font.\n",
      "  plt.tight_layout()\n",
      "C:\\Users\\ciw96\\AppData\\Local\\Temp\\ipykernel_53752\\1324120273.py:30: UserWarning: Glyph 51068 (\\N{HANGUL SYLLABLE IL}) missing from current font.\n",
      "  plt.tight_layout()\n",
      "C:\\Users\\ciw96\\AppData\\Local\\Temp\\ipykernel_53752\\1324120273.py:30: UserWarning: Glyph 48324 (\\N{HANGUL SYLLABLE BYEOL}) missing from current font.\n",
      "  plt.tight_layout()\n",
      "C:\\Users\\ciw96\\AppData\\Local\\Temp\\ipykernel_53752\\1324120273.py:30: UserWarning: Glyph 51088 (\\N{HANGUL SYLLABLE JA}) missing from current font.\n",
      "  plt.tight_layout()\n",
      "C:\\Users\\ciw96\\AppData\\Local\\Temp\\ipykernel_53752\\1324120273.py:30: UserWarning: Glyph 51204 (\\N{HANGUL SYLLABLE JEON}) missing from current font.\n",
      "  plt.tight_layout()\n",
      "C:\\Users\\ciw96\\AppData\\Local\\Temp\\ipykernel_53752\\1324120273.py:30: UserWarning: Glyph 44144 (\\N{HANGUL SYLLABLE GEO}) missing from current font.\n",
      "  plt.tight_layout()\n",
      "C:\\Users\\ciw96\\AppData\\Local\\Temp\\ipykernel_53752\\1324120273.py:30: UserWarning: Glyph 51060 (\\N{HANGUL SYLLABLE I}) missing from current font.\n",
      "  plt.tight_layout()\n",
      "C:\\Users\\ciw96\\AppData\\Local\\Temp\\ipykernel_53752\\1324120273.py:30: UserWarning: Glyph 50857 (\\N{HANGUL SYLLABLE YONG}) missing from current font.\n",
      "  plt.tight_layout()\n",
      "c:\\ProgramData\\anaconda3\\Lib\\site-packages\\IPython\\core\\pylabtools.py:152: UserWarning: Glyph 45216 (\\N{HANGUL SYLLABLE NAL}) missing from current font.\n",
      "  fig.canvas.print_figure(bytes_io, **kw)\n",
      "c:\\ProgramData\\anaconda3\\Lib\\site-packages\\IPython\\core\\pylabtools.py:152: UserWarning: Glyph 51676 (\\N{HANGUL SYLLABLE JJA}) missing from current font.\n",
      "  fig.canvas.print_figure(bytes_io, **kw)\n",
      "c:\\ProgramData\\anaconda3\\Lib\\site-packages\\IPython\\core\\pylabtools.py:152: UserWarning: Glyph 44053 (\\N{HANGUL SYLLABLE GANG}) missing from current font.\n",
      "  fig.canvas.print_figure(bytes_io, **kw)\n",
      "c:\\ProgramData\\anaconda3\\Lib\\site-packages\\IPython\\core\\pylabtools.py:152: UserWarning: Glyph 49688 (\\N{HANGUL SYLLABLE SU}) missing from current font.\n",
      "  fig.canvas.print_figure(bytes_io, **kw)\n",
      "c:\\ProgramData\\anaconda3\\Lib\\site-packages\\IPython\\core\\pylabtools.py:152: UserWarning: Glyph 47049 (\\N{HANGUL SYLLABLE RYANG}) missing from current font.\n",
      "  fig.canvas.print_figure(bytes_io, **kw)\n",
      "c:\\ProgramData\\anaconda3\\Lib\\site-packages\\IPython\\core\\pylabtools.py:152: UserWarning: Glyph 51068 (\\N{HANGUL SYLLABLE IL}) missing from current font.\n",
      "  fig.canvas.print_figure(bytes_io, **kw)\n",
      "c:\\ProgramData\\anaconda3\\Lib\\site-packages\\IPython\\core\\pylabtools.py:152: UserWarning: Glyph 48324 (\\N{HANGUL SYLLABLE BYEOL}) missing from current font.\n",
      "  fig.canvas.print_figure(bytes_io, **kw)\n",
      "c:\\ProgramData\\anaconda3\\Lib\\site-packages\\IPython\\core\\pylabtools.py:152: UserWarning: Glyph 51088 (\\N{HANGUL SYLLABLE JA}) missing from current font.\n",
      "  fig.canvas.print_figure(bytes_io, **kw)\n",
      "c:\\ProgramData\\anaconda3\\Lib\\site-packages\\IPython\\core\\pylabtools.py:152: UserWarning: Glyph 51204 (\\N{HANGUL SYLLABLE JEON}) missing from current font.\n",
      "  fig.canvas.print_figure(bytes_io, **kw)\n",
      "c:\\ProgramData\\anaconda3\\Lib\\site-packages\\IPython\\core\\pylabtools.py:152: UserWarning: Glyph 44144 (\\N{HANGUL SYLLABLE GEO}) missing from current font.\n",
      "  fig.canvas.print_figure(bytes_io, **kw)\n",
      "c:\\ProgramData\\anaconda3\\Lib\\site-packages\\IPython\\core\\pylabtools.py:152: UserWarning: Glyph 51060 (\\N{HANGUL SYLLABLE I}) missing from current font.\n",
      "  fig.canvas.print_figure(bytes_io, **kw)\n",
      "c:\\ProgramData\\anaconda3\\Lib\\site-packages\\IPython\\core\\pylabtools.py:152: UserWarning: Glyph 50857 (\\N{HANGUL SYLLABLE YONG}) missing from current font.\n",
      "  fig.canvas.print_figure(bytes_io, **kw)\n"
     ]
    },
    {
     "data": {
      "image/png": "[encoded data removed]",
      "text/plain": [
       "<Figure size 1200x1000 with 2 Axes>"
      ]
     },
     "metadata": {},
     "output_type": "display_data"
    }
   ],
   "source": [
    "import seaborn as sns\n",
    "import matplotlib.pyplot as plt\n",
    "import matplotlib.dates as mdates\n",
    "\n",
    "# 그래프 스타일 설정\n",
    "sns.set_style(\"whitegrid\")\n",
    "mpl.rcParams['font.family'] = 'serif'\n",
    "\n",
    "# 그래프 크기 및 서브플롯 설정\n",
    "fig, axes = plt.subplots(2, 1, figsize=(12, 10))\n",
    "\n",
    "# 일별 강수량 막대 그래프\n",
    "sns.barplot(x='기준_날짜', y='강수량', data=기상청_분석_01, ax=axes[0], color='blue')\n",
    "axes[0].set_title('일별 강수량')\n",
    "axes[0].set_xlabel('날짜')\n",
    "axes[0].set_ylabel('강수량 (mm)')\n",
    "axes[0].tick_params(axis='x', rotation=45)\n",
    "axes[0].xaxis.set_major_locator(mdates.MonthLocator()) # 월 단위로 x 축 눈금 표시\n",
    "axes[0].xaxis.set_major_formatter(mdates.DateFormatter('%Y-%m')) # 날짜 형식 지정\n",
    "\n",
    "# 일별 이용량 선 그래프\n",
    "sns.lineplot(x='기준_날짜', y='전체_건수', data=기상청_분석_01, ax=axes[1], color='green')\n",
    "axes[1].set_title('일별 자전거 이용량')\n",
    "axes[1].set_xlabel('날짜')\n",
    "axes[1].set_ylabel('자전거 이용량')\n",
    "axes[1].tick_params(axis='x', rotation=45)\n",
    "axes[1].xaxis.set_major_locator(mdates.MonthLocator()) # 월 단위로 x 축 눈금 표시\n",
    "axes[1].xaxis.set_major_formatter(mdates.DateFormatter('%Y-%m')) # 날짜 형식 지정\n",
    "\n",
    "plt.tight_layout()\n",
    "plt.show()"
   ]
  },
  {
   "cell_type": "code",
   "execution_count": 49,
   "metadata": {},
   "outputs": [
    {
     "name": "stdout",
     "output_type": "stream",
     "text": [
      "                            OLS Regression Results                            \n",
      "==============================================================================\n",
      "Dep. Variable:                  전체_건수   R-squared:                       0.702\n",
      "Model:                            OLS   Adj. R-squared:                  0.699\n",
      "Method:                 Least Squares   F-statistic:                     284.7\n",
      "Date:                Tue, 07 May 2024   Prob (F-statistic):           1.40e-33\n",
      "Time:                        17:45:24   Log-Likelihood:                -1146.1\n",
      "No. Observations:                 123   AIC:                             2296.\n",
      "Df Residuals:                     121   BIC:                             2302.\n",
      "Df Model:                           1                                         \n",
      "Covariance Type:            nonrobust                                         \n",
      "==============================================================================\n",
      "                 coef    std err          t      P>|t|      [0.025      0.975]\n",
      "------------------------------------------------------------------------------\n",
      "const       1.961e+04    263.775     74.337      0.000    1.91e+04    2.01e+04\n",
      "강수량         -228.1194     13.519    -16.874      0.000    -254.884    -201.355\n",
      "==============================================================================\n",
      "Omnibus:                       41.735   Durbin-Watson:                   1.711\n",
      "Prob(Omnibus):                  0.000   Jarque-Bera (JB):              106.636\n",
      "Skew:                          -1.306   Prob(JB):                     6.99e-24\n",
      "Kurtosis:                       6.740   Cond. No.                         21.0\n",
      "==============================================================================\n",
      "\n",
      "Notes:\n",
      "[1] Standard Errors assume that the covariance matrix of the errors is correctly specified.\n"
     ]
    },
    {
     "name": "stderr",
     "output_type": "stream",
     "text": [
      "c:\\ProgramData\\anaconda3\\Lib\\site-packages\\IPython\\core\\pylabtools.py:152: UserWarning:\n",
      "\n",
      "Glyph 44053 (\\N{HANGUL SYLLABLE GANG}) missing from current font.\n",
      "\n",
      "c:\\ProgramData\\anaconda3\\Lib\\site-packages\\IPython\\core\\pylabtools.py:152: UserWarning:\n",
      "\n",
      "Glyph 49688 (\\N{HANGUL SYLLABLE SU}) missing from current font.\n",
      "\n",
      "c:\\ProgramData\\anaconda3\\Lib\\site-packages\\IPython\\core\\pylabtools.py:152: UserWarning:\n",
      "\n",
      "Glyph 47049 (\\N{HANGUL SYLLABLE RYANG}) missing from current font.\n",
      "\n",
      "c:\\ProgramData\\anaconda3\\Lib\\site-packages\\IPython\\core\\pylabtools.py:152: UserWarning:\n",
      "\n",
      "Glyph 51204 (\\N{HANGUL SYLLABLE JEON}) missing from current font.\n",
      "\n",
      "c:\\ProgramData\\anaconda3\\Lib\\site-packages\\IPython\\core\\pylabtools.py:152: UserWarning:\n",
      "\n",
      "Glyph 52404 (\\N{HANGUL SYLLABLE CE}) missing from current font.\n",
      "\n",
      "c:\\ProgramData\\anaconda3\\Lib\\site-packages\\IPython\\core\\pylabtools.py:152: UserWarning:\n",
      "\n",
      "Glyph 44148 (\\N{HANGUL SYLLABLE GEON}) missing from current font.\n",
      "\n",
      "c:\\ProgramData\\anaconda3\\Lib\\site-packages\\IPython\\core\\pylabtools.py:152: UserWarning:\n",
      "\n",
      "Glyph 44284 (\\N{HANGUL SYLLABLE GWA}) missing from current font.\n",
      "\n",
      "c:\\ProgramData\\anaconda3\\Lib\\site-packages\\IPython\\core\\pylabtools.py:152: UserWarning:\n",
      "\n",
      "Glyph 54924 (\\N{HANGUL SYLLABLE HOE}) missing from current font.\n",
      "\n",
      "c:\\ProgramData\\anaconda3\\Lib\\site-packages\\IPython\\core\\pylabtools.py:152: UserWarning:\n",
      "\n",
      "Glyph 44480 (\\N{HANGUL SYLLABLE GWI}) missing from current font.\n",
      "\n",
      "c:\\ProgramData\\anaconda3\\Lib\\site-packages\\IPython\\core\\pylabtools.py:152: UserWarning:\n",
      "\n",
      "Glyph 48516 (\\N{HANGUL SYLLABLE BUN}) missing from current font.\n",
      "\n",
      "c:\\ProgramData\\anaconda3\\Lib\\site-packages\\IPython\\core\\pylabtools.py:152: UserWarning:\n",
      "\n",
      "Glyph 49437 (\\N{HANGUL SYLLABLE SEOG}) missing from current font.\n",
      "\n"
     ]
    },
    {
     "data": {
      "image/png": "[encoded data removed]",
      "text/plain": [
       "<Figure size 640x480 with 1 Axes>"
      ]
     },
     "metadata": {},
     "output_type": "display_data"
    },
    {
     "name": "stderr",
     "output_type": "stream",
     "text": [
      "c:\\ProgramData\\anaconda3\\Lib\\site-packages\\statsmodels\\tsa\\base\\tsa_model.py:473: ValueWarning:\n",
      "\n",
      "An unsupported index was provided and will be ignored when e.g. forecasting.\n",
      "\n",
      "c:\\ProgramData\\anaconda3\\Lib\\site-packages\\statsmodels\\tsa\\base\\tsa_model.py:473: ValueWarning:\n",
      "\n",
      "An unsupported index was provided and will be ignored when e.g. forecasting.\n",
      "\n",
      "c:\\ProgramData\\anaconda3\\Lib\\site-packages\\statsmodels\\tsa\\base\\tsa_model.py:473: ValueWarning:\n",
      "\n",
      "An unsupported index was provided and will be ignored when e.g. forecasting.\n",
      "\n",
      "c:\\ProgramData\\anaconda3\\Lib\\site-packages\\IPython\\core\\pylabtools.py:152: UserWarning:\n",
      "\n",
      "Glyph 45216 (\\N{HANGUL SYLLABLE NAL}) missing from current font.\n",
      "\n",
      "c:\\ProgramData\\anaconda3\\Lib\\site-packages\\IPython\\core\\pylabtools.py:152: UserWarning:\n",
      "\n",
      "Glyph 51676 (\\N{HANGUL SYLLABLE JJA}) missing from current font.\n",
      "\n",
      "c:\\ProgramData\\anaconda3\\Lib\\site-packages\\IPython\\core\\pylabtools.py:152: UserWarning:\n",
      "\n",
      "Glyph 51204 (\\N{HANGUL SYLLABLE JEON}) missing from current font.\n",
      "\n",
      "c:\\ProgramData\\anaconda3\\Lib\\site-packages\\IPython\\core\\pylabtools.py:152: UserWarning:\n",
      "\n",
      "Glyph 52404 (\\N{HANGUL SYLLABLE CE}) missing from current font.\n",
      "\n",
      "c:\\ProgramData\\anaconda3\\Lib\\site-packages\\IPython\\core\\pylabtools.py:152: UserWarning:\n",
      "\n",
      "Glyph 44148 (\\N{HANGUL SYLLABLE GEON}) missing from current font.\n",
      "\n",
      "c:\\ProgramData\\anaconda3\\Lib\\site-packages\\IPython\\core\\pylabtools.py:152: UserWarning:\n",
      "\n",
      "Glyph 49688 (\\N{HANGUL SYLLABLE SU}) missing from current font.\n",
      "\n",
      "c:\\ProgramData\\anaconda3\\Lib\\site-packages\\IPython\\core\\pylabtools.py:152: UserWarning:\n",
      "\n",
      "Glyph 47784 (\\N{HANGUL SYLLABLE MO}) missing from current font.\n",
      "\n",
      "c:\\ProgramData\\anaconda3\\Lib\\site-packages\\IPython\\core\\pylabtools.py:152: UserWarning:\n",
      "\n",
      "Glyph 45944 (\\N{HANGUL SYLLABLE DEL}) missing from current font.\n",
      "\n",
      "c:\\ProgramData\\anaconda3\\Lib\\site-packages\\IPython\\core\\pylabtools.py:152: UserWarning:\n",
      "\n",
      "Glyph 51012 (\\N{HANGUL SYLLABLE EUL}) missing from current font.\n",
      "\n",
      "c:\\ProgramData\\anaconda3\\Lib\\site-packages\\IPython\\core\\pylabtools.py:152: UserWarning:\n",
      "\n",
      "Glyph 53685 (\\N{HANGUL SYLLABLE TONG}) missing from current font.\n",
      "\n",
      "c:\\ProgramData\\anaconda3\\Lib\\site-packages\\IPython\\core\\pylabtools.py:152: UserWarning:\n",
      "\n",
      "Glyph 54620 (\\N{HANGUL SYLLABLE HAN}) missing from current font.\n",
      "\n",
      "c:\\ProgramData\\anaconda3\\Lib\\site-packages\\IPython\\core\\pylabtools.py:152: UserWarning:\n",
      "\n",
      "Glyph 50696 (\\N{HANGUL SYLLABLE YE}) missing from current font.\n",
      "\n",
      "c:\\ProgramData\\anaconda3\\Lib\\site-packages\\IPython\\core\\pylabtools.py:152: UserWarning:\n",
      "\n",
      "Glyph 52769 (\\N{HANGUL SYLLABLE CEUG}) missing from current font.\n",
      "\n"
     ]
    },
    {
     "data": {
      "image/png": "[encoded data removed]",
      "text/plain": [
       "<Figure size 640x480 with 1 Axes>"
      ]
     },
     "metadata": {},
     "output_type": "display_data"
    }
   ],
   "source": [
    "import pandas as pd\n",
    "import matplotlib.pyplot as plt\n",
    "from statsmodels.tsa.arima.model import ARIMA\n",
    "from statsmodels.api import OLS, add_constant\n",
    "\n",
    "# 강수량과 전체_건수 데이터 준비\n",
    "강수량 = 기상청_분석_01['강수량']\n",
    "전체_건수 = 기상청_분석_01['전체_건수']\n",
    "\n",
    "# 회귀 분석을 위해 데이터 프레임 생성\n",
    "data = pd.DataFrame({'강수량': 강수량, '전체_건수': 전체_건수})\n",
    "\n",
    "# 회귀 모델 학습\n",
    "X = data['강수량']\n",
    "y = data['전체_건수']\n",
    "X = add_constant(X)  # 상수항 추가\n",
    "model = OLS(y, X)\n",
    "result = model.fit()\n",
    "print(result.summary())\n",
    "\n",
    "# 회귀 분석 결과 시각화\n",
    "plt.scatter(강수량, 전체_건수, label='Observations')\n",
    "plt.plot(강수량, result.predict(X), color='red', label='Regression Line')\n",
    "plt.xlabel('강수량(mm)')\n",
    "plt.ylabel('전체_건수')\n",
    "plt.title('강수량과 전체_건수 회귀 분석')\n",
    "plt.legend()\n",
    "plt.show()\n",
    "\n",
    "# ARIMA 모델 학습\n",
    "model_arima = ARIMA(전체_건수, order=(3, 1, 0))\n",
    "model_arima_fit = model_arima.fit()\n",
    "\n",
    "# ARIMA 모델 결과 시각화\n",
    "plt.plot(전체_건수, label='Observations')\n",
    "plt.plot(model_arima_fit.fittedvalues, color='red', label='ARIMA Fit')\n",
    "plt.xlabel('날짜')\n",
    "plt.ylabel('전체_건수')\n",
    "plt.title('ARIMA 모델을 통한 전체_건수 예측')\n",
    "plt.legend()\n",
    "plt.show()"
   ]
  },
  {
   "cell_type": "code",
   "execution_count": 50,
   "metadata": {},
   "outputs": [
    {
     "name": "stdout",
     "output_type": "stream",
     "text": [
      "강수량이 갑자기 줄어드는 구간에서의 전체_건수 변화량:\n",
      "13              NaN\n",
      "19              NaN\n",
      "26       833.716676\n",
      "27       257.014584\n",
      "30       369.068857\n",
      "35      1270.096033\n",
      "38      -315.728708\n",
      "39      -454.793966\n",
      "41       665.151761\n",
      "42       180.635394\n",
      "44       629.244575\n",
      "45     -1693.494487\n",
      "49     -1079.379337\n",
      "51       187.079615\n",
      "52      -398.058346\n",
      "54     -8484.051417\n",
      "59       626.616243\n",
      "60    -12285.541147\n",
      "63     -4543.153080\n",
      "71     -4149.731459\n",
      "72      8230.501978\n",
      "74      9921.783166\n",
      "76       561.061862\n",
      "78      -271.394697\n",
      "79     -1056.045640\n",
      "80       130.526571\n",
      "83       284.070699\n",
      "84       -47.446029\n",
      "87      -187.197534\n",
      "94      8605.502647\n",
      "96      -231.765002\n",
      "99      1926.249331\n",
      "103     2982.925060\n",
      "105     7649.585486\n",
      "115    -6259.134822\n",
      "dtype: float64\n",
      "\n",
      "강수량이 갑자기 줄어든 구간에서의 t-statistic: nan\n",
      "강수량이 갑자기 줄어든 구간에서의 p-value: nan\n"
     ]
    }
   ],
   "source": [
    "import numpy as np\n",
    "\n",
    "# 예측된 전체_건수 계산\n",
    "예측_전체건수 = model_fit.predict()\n",
    "\n",
    "# 강수량의 변화량 계산\n",
    "강수량_변화량 = np.diff(기상청_분석_01['강수량'], prepend=0)\n",
    "\n",
    "# 예측된 전체_건수와 실제 전체_건수의 차이 계산\n",
    "전체건수_차이 = 기상청_분석_01['전체_건수'] - 예측_전체건수\n",
    "\n",
    "# 강수량이 갑자기 줄어드는 구간에서 전체_건수의 변화량이 큰지 확인\n",
    "강수량_변화량_줄어드는_구간 = np.where(강수량_변화량 < 0)[0]\n",
    "전체건수_변화량_줄어드는_구간 = 전체건수_차이[강수량_변화량_줄어드는_구간]\n",
    "\n",
    "# 통계적 검정을 위한 분석 수행 (예시로 t-test를 사용)\n",
    "from scipy import stats\n",
    "\n",
    "# 강수량이 갑자기 줄어든 구간의 전체_건수 변화량에 대한 t-test 수행\n",
    "t_statistic, p_value = stats.ttest_1samp(전체건수_변화량_줄어드는_구간, 0)\n",
    "\n",
    "# 결과 출력\n",
    "print(\"강수량이 갑자기 줄어드는 구간에서의 전체_건수 변화량:\")\n",
    "print(전체건수_변화량_줄어드는_구간)\n",
    "\n",
    "print(\"\\n강수량이 갑자기 줄어든 구간에서의 t-statistic:\", t_statistic)\n",
    "print(\"강수량이 갑자기 줄어든 구간에서의 p-value:\", p_value)"
   ]
  },
  {
   "cell_type": "code",
   "execution_count": 51,
   "metadata": {},
   "outputs": [
    {
     "ename": "KeyError",
     "evalue": "'[13, 19] not in index'",
     "output_type": "error",
     "traceback": [
      "\u001b[1;31m---------------------------------------------------------------------------\u001b[0m",
      "\u001b[1;31mKeyError\u001b[0m                                  Traceback (most recent call last)",
      "Cell \u001b[1;32mIn[51], line 3\u001b[0m\n\u001b[0;32m      1\u001b[0m \u001b[38;5;66;03m# 새로운 DataFrame 생성\u001b[39;00m\n\u001b[0;32m      2\u001b[0m df \u001b[38;5;241m=\u001b[39m pd\u001b[38;5;241m.\u001b[39mDataFrame({\n\u001b[1;32m----> 3\u001b[0m     \u001b[38;5;124m'\u001b[39m\u001b[38;5;124m강수량\u001b[39m\u001b[38;5;124m'\u001b[39m: 기상청_분석_01[\u001b[38;5;124m'\u001b[39m\u001b[38;5;124m강수량\u001b[39m\u001b[38;5;124m'\u001b[39m][강수량_변화량_줄어드는_구간]\u001b[38;5;241m.\u001b[39mvalues,\n\u001b[0;32m      4\u001b[0m     \u001b[38;5;124m'\u001b[39m\u001b[38;5;124m변화량\u001b[39m\u001b[38;5;124m'\u001b[39m: 전체건수_변화량_줄어드는_구간\u001b[38;5;241m.\u001b[39mvalues\n\u001b[0;32m      5\u001b[0m })\n\u001b[0;32m      7\u001b[0m df\u001b[38;5;241m.\u001b[39mto_csv(\u001b[38;5;124m'\u001b[39m\u001b[38;5;124m전체건수_변화량_줄어드는_구간.csv\u001b[39m\u001b[38;5;124m'\u001b[39m)\n",
      "File \u001b[1;32mc:\\ProgramData\\anaconda3\\Lib\\site-packages\\pandas\\core\\series.py:1072\u001b[0m, in \u001b[0;36mSeries.__getitem__\u001b[1;34m(self, key)\u001b[0m\n\u001b[0;32m   1069\u001b[0m     key \u001b[38;5;241m=\u001b[39m np\u001b[38;5;241m.\u001b[39masarray(key, dtype\u001b[38;5;241m=\u001b[39m\u001b[38;5;28mbool\u001b[39m)\n\u001b[0;32m   1070\u001b[0m     \u001b[38;5;28;01mreturn\u001b[39;00m \u001b[38;5;28mself\u001b[39m\u001b[38;5;241m.\u001b[39m_get_rows_with_mask(key)\n\u001b[1;32m-> 1072\u001b[0m \u001b[38;5;28;01mreturn\u001b[39;00m \u001b[38;5;28mself\u001b[39m\u001b[38;5;241m.\u001b[39m_get_with(key)\n",
      "File \u001b[1;32mc:\\ProgramData\\anaconda3\\Lib\\site-packages\\pandas\\core\\series.py:1099\u001b[0m, in \u001b[0;36mSeries._get_with\u001b[1;34m(self, key)\u001b[0m\n\u001b[0;32m   1095\u001b[0m \u001b[38;5;28;01mif\u001b[39;00m key_type \u001b[38;5;241m==\u001b[39m \u001b[38;5;124m\"\u001b[39m\u001b[38;5;124minteger\u001b[39m\u001b[38;5;124m\"\u001b[39m:\n\u001b[0;32m   1096\u001b[0m     \u001b[38;5;66;03m# We need to decide whether to treat this as a positional indexer\u001b[39;00m\n\u001b[0;32m   1097\u001b[0m     \u001b[38;5;66;03m#  (i.e. self.iloc) or label-based (i.e. self.loc)\u001b[39;00m\n\u001b[0;32m   1098\u001b[0m     \u001b[38;5;28;01mif\u001b[39;00m \u001b[38;5;129;01mnot\u001b[39;00m \u001b[38;5;28mself\u001b[39m\u001b[38;5;241m.\u001b[39mindex\u001b[38;5;241m.\u001b[39m_should_fallback_to_positional:\n\u001b[1;32m-> 1099\u001b[0m         \u001b[38;5;28;01mreturn\u001b[39;00m \u001b[38;5;28mself\u001b[39m\u001b[38;5;241m.\u001b[39mloc[key]\n\u001b[0;32m   1100\u001b[0m     \u001b[38;5;28;01melse\u001b[39;00m:\n\u001b[0;32m   1101\u001b[0m         warnings\u001b[38;5;241m.\u001b[39mwarn(\n\u001b[0;32m   1102\u001b[0m             \u001b[38;5;66;03m# GH#50617\u001b[39;00m\n\u001b[0;32m   1103\u001b[0m             \u001b[38;5;124m\"\u001b[39m\u001b[38;5;124mSeries.__getitem__ treating keys as positions is deprecated. \u001b[39m\u001b[38;5;124m\"\u001b[39m\n\u001b[1;32m   (...)\u001b[0m\n\u001b[0;32m   1108\u001b[0m             stacklevel\u001b[38;5;241m=\u001b[39mfind_stack_level(),\n\u001b[0;32m   1109\u001b[0m         )\n",
      "File \u001b[1;32mc:\\ProgramData\\anaconda3\\Lib\\site-packages\\pandas\\core\\indexing.py:1153\u001b[0m, in \u001b[0;36m_LocationIndexer.__getitem__\u001b[1;34m(self, key)\u001b[0m\n\u001b[0;32m   1150\u001b[0m axis \u001b[38;5;241m=\u001b[39m \u001b[38;5;28mself\u001b[39m\u001b[38;5;241m.\u001b[39maxis \u001b[38;5;129;01mor\u001b[39;00m \u001b[38;5;241m0\u001b[39m\n\u001b[0;32m   1152\u001b[0m maybe_callable \u001b[38;5;241m=\u001b[39m com\u001b[38;5;241m.\u001b[39mapply_if_callable(key, \u001b[38;5;28mself\u001b[39m\u001b[38;5;241m.\u001b[39mobj)\n\u001b[1;32m-> 1153\u001b[0m \u001b[38;5;28;01mreturn\u001b[39;00m \u001b[38;5;28mself\u001b[39m\u001b[38;5;241m.\u001b[39m_getitem_axis(maybe_callable, axis\u001b[38;5;241m=\u001b[39maxis)\n",
      "File \u001b[1;32mc:\\ProgramData\\anaconda3\\Lib\\site-packages\\pandas\\core\\indexing.py:1382\u001b[0m, in \u001b[0;36m_LocIndexer._getitem_axis\u001b[1;34m(self, key, axis)\u001b[0m\n\u001b[0;32m   1379\u001b[0m     \u001b[38;5;28;01mif\u001b[39;00m \u001b[38;5;28mhasattr\u001b[39m(key, \u001b[38;5;124m\"\u001b[39m\u001b[38;5;124mndim\u001b[39m\u001b[38;5;124m\"\u001b[39m) \u001b[38;5;129;01mand\u001b[39;00m key\u001b[38;5;241m.\u001b[39mndim \u001b[38;5;241m>\u001b[39m \u001b[38;5;241m1\u001b[39m:\n\u001b[0;32m   1380\u001b[0m         \u001b[38;5;28;01mraise\u001b[39;00m \u001b[38;5;167;01mValueError\u001b[39;00m(\u001b[38;5;124m\"\u001b[39m\u001b[38;5;124mCannot index with multidimensional key\u001b[39m\u001b[38;5;124m\"\u001b[39m)\n\u001b[1;32m-> 1382\u001b[0m     \u001b[38;5;28;01mreturn\u001b[39;00m \u001b[38;5;28mself\u001b[39m\u001b[38;5;241m.\u001b[39m_getitem_iterable(key, axis\u001b[38;5;241m=\u001b[39maxis)\n\u001b[0;32m   1384\u001b[0m \u001b[38;5;66;03m# nested tuple slicing\u001b[39;00m\n\u001b[0;32m   1385\u001b[0m \u001b[38;5;28;01mif\u001b[39;00m is_nested_tuple(key, labels):\n",
      "File \u001b[1;32mc:\\ProgramData\\anaconda3\\Lib\\site-packages\\pandas\\core\\indexing.py:1322\u001b[0m, in \u001b[0;36m_LocIndexer._getitem_iterable\u001b[1;34m(self, key, axis)\u001b[0m\n\u001b[0;32m   1319\u001b[0m \u001b[38;5;28mself\u001b[39m\u001b[38;5;241m.\u001b[39m_validate_key(key, axis)\n\u001b[0;32m   1321\u001b[0m \u001b[38;5;66;03m# A collection of keys\u001b[39;00m\n\u001b[1;32m-> 1322\u001b[0m keyarr, indexer \u001b[38;5;241m=\u001b[39m \u001b[38;5;28mself\u001b[39m\u001b[38;5;241m.\u001b[39m_get_listlike_indexer(key, axis)\n\u001b[0;32m   1323\u001b[0m \u001b[38;5;28;01mreturn\u001b[39;00m \u001b[38;5;28mself\u001b[39m\u001b[38;5;241m.\u001b[39mobj\u001b[38;5;241m.\u001b[39m_reindex_with_indexers(\n\u001b[0;32m   1324\u001b[0m     {axis: [keyarr, indexer]}, copy\u001b[38;5;241m=\u001b[39m\u001b[38;5;28;01mTrue\u001b[39;00m, allow_dups\u001b[38;5;241m=\u001b[39m\u001b[38;5;28;01mTrue\u001b[39;00m\n\u001b[0;32m   1325\u001b[0m )\n",
      "File \u001b[1;32mc:\\ProgramData\\anaconda3\\Lib\\site-packages\\pandas\\core\\indexing.py:1520\u001b[0m, in \u001b[0;36m_LocIndexer._get_listlike_indexer\u001b[1;34m(self, key, axis)\u001b[0m\n\u001b[0;32m   1517\u001b[0m ax \u001b[38;5;241m=\u001b[39m \u001b[38;5;28mself\u001b[39m\u001b[38;5;241m.\u001b[39mobj\u001b[38;5;241m.\u001b[39m_get_axis(axis)\n\u001b[0;32m   1518\u001b[0m axis_name \u001b[38;5;241m=\u001b[39m \u001b[38;5;28mself\u001b[39m\u001b[38;5;241m.\u001b[39mobj\u001b[38;5;241m.\u001b[39m_get_axis_name(axis)\n\u001b[1;32m-> 1520\u001b[0m keyarr, indexer \u001b[38;5;241m=\u001b[39m ax\u001b[38;5;241m.\u001b[39m_get_indexer_strict(key, axis_name)\n\u001b[0;32m   1522\u001b[0m \u001b[38;5;28;01mreturn\u001b[39;00m keyarr, indexer\n",
      "File \u001b[1;32mc:\\ProgramData\\anaconda3\\Lib\\site-packages\\pandas\\core\\indexes\\base.py:6115\u001b[0m, in \u001b[0;36mIndex._get_indexer_strict\u001b[1;34m(self, key, axis_name)\u001b[0m\n\u001b[0;32m   6112\u001b[0m \u001b[38;5;28;01melse\u001b[39;00m:\n\u001b[0;32m   6113\u001b[0m     keyarr, indexer, new_indexer \u001b[38;5;241m=\u001b[39m \u001b[38;5;28mself\u001b[39m\u001b[38;5;241m.\u001b[39m_reindex_non_unique(keyarr)\n\u001b[1;32m-> 6115\u001b[0m \u001b[38;5;28mself\u001b[39m\u001b[38;5;241m.\u001b[39m_raise_if_missing(keyarr, indexer, axis_name)\n\u001b[0;32m   6117\u001b[0m keyarr \u001b[38;5;241m=\u001b[39m \u001b[38;5;28mself\u001b[39m\u001b[38;5;241m.\u001b[39mtake(indexer)\n\u001b[0;32m   6118\u001b[0m \u001b[38;5;28;01mif\u001b[39;00m \u001b[38;5;28misinstance\u001b[39m(key, Index):\n\u001b[0;32m   6119\u001b[0m     \u001b[38;5;66;03m# GH 42790 - Preserve name from an Index\u001b[39;00m\n",
      "File \u001b[1;32mc:\\ProgramData\\anaconda3\\Lib\\site-packages\\pandas\\core\\indexes\\base.py:6179\u001b[0m, in \u001b[0;36mIndex._raise_if_missing\u001b[1;34m(self, key, indexer, axis_name)\u001b[0m\n\u001b[0;32m   6176\u001b[0m     \u001b[38;5;28;01mraise\u001b[39;00m \u001b[38;5;167;01mKeyError\u001b[39;00m(\u001b[38;5;124mf\u001b[39m\u001b[38;5;124m\"\u001b[39m\u001b[38;5;124mNone of [\u001b[39m\u001b[38;5;132;01m{\u001b[39;00mkey\u001b[38;5;132;01m}\u001b[39;00m\u001b[38;5;124m] are in the [\u001b[39m\u001b[38;5;132;01m{\u001b[39;00maxis_name\u001b[38;5;132;01m}\u001b[39;00m\u001b[38;5;124m]\u001b[39m\u001b[38;5;124m\"\u001b[39m)\n\u001b[0;32m   6178\u001b[0m not_found \u001b[38;5;241m=\u001b[39m \u001b[38;5;28mlist\u001b[39m(ensure_index(key)[missing_mask\u001b[38;5;241m.\u001b[39mnonzero()[\u001b[38;5;241m0\u001b[39m]]\u001b[38;5;241m.\u001b[39munique())\n\u001b[1;32m-> 6179\u001b[0m \u001b[38;5;28;01mraise\u001b[39;00m \u001b[38;5;167;01mKeyError\u001b[39;00m(\u001b[38;5;124mf\u001b[39m\u001b[38;5;124m\"\u001b[39m\u001b[38;5;132;01m{\u001b[39;00mnot_found\u001b[38;5;132;01m}\u001b[39;00m\u001b[38;5;124m not in index\u001b[39m\u001b[38;5;124m\"\u001b[39m)\n",
      "\u001b[1;31mKeyError\u001b[0m: '[13, 19] not in index'"
     ]
    }
   ],
   "source": [
    "# 새로운 DataFrame 생성\n",
    "df = pd.DataFrame({\n",
    "    '강수량': 기상청_분석_01['강수량'][강수량_변화량_줄어드는_구간].values,\n",
    "    '변화량': 전체건수_변화량_줄어드는_구간.values\n",
    "})\n",
    "\n",
    "df.to_csv('전체건수_변화량_줄어드는_구간.csv')"
   ]
  },
  {
   "cell_type": "code",
   "execution_count": 52,
   "metadata": {},
   "outputs": [
    {
     "name": "stderr",
     "output_type": "stream",
     "text": [
      "C:\\Users\\ciw96\\AppData\\Local\\Temp\\ipykernel_53752\\2487816119.py:12: UserWarning:\n",
      "\n",
      "Glyph 44053 (\\N{HANGUL SYLLABLE GANG}) missing from current font.\n",
      "\n",
      "C:\\Users\\ciw96\\AppData\\Local\\Temp\\ipykernel_53752\\2487816119.py:12: UserWarning:\n",
      "\n",
      "Glyph 49688 (\\N{HANGUL SYLLABLE SU}) missing from current font.\n",
      "\n",
      "C:\\Users\\ciw96\\AppData\\Local\\Temp\\ipykernel_53752\\2487816119.py:12: UserWarning:\n",
      "\n",
      "Glyph 47049 (\\N{HANGUL SYLLABLE RYANG}) missing from current font.\n",
      "\n",
      "C:\\Users\\ciw96\\AppData\\Local\\Temp\\ipykernel_53752\\2487816119.py:12: UserWarning:\n",
      "\n",
      "Glyph 51060 (\\N{HANGUL SYLLABLE I}) missing from current font.\n",
      "\n",
      "C:\\Users\\ciw96\\AppData\\Local\\Temp\\ipykernel_53752\\2487816119.py:12: UserWarning:\n",
      "\n",
      "Glyph 51460 (\\N{HANGUL SYLLABLE JUL}) missing from current font.\n",
      "\n",
      "C:\\Users\\ciw96\\AppData\\Local\\Temp\\ipykernel_53752\\2487816119.py:12: UserWarning:\n",
      "\n",
      "Glyph 50612 (\\N{HANGUL SYLLABLE EO}) missing from current font.\n",
      "\n",
      "C:\\Users\\ciw96\\AppData\\Local\\Temp\\ipykernel_53752\\2487816119.py:12: UserWarning:\n",
      "\n",
      "Glyph 46304 (\\N{HANGUL SYLLABLE DEUN}) missing from current font.\n",
      "\n",
      "C:\\Users\\ciw96\\AppData\\Local\\Temp\\ipykernel_53752\\2487816119.py:12: UserWarning:\n",
      "\n",
      "Glyph 44396 (\\N{HANGUL SYLLABLE GU}) missing from current font.\n",
      "\n",
      "C:\\Users\\ciw96\\AppData\\Local\\Temp\\ipykernel_53752\\2487816119.py:12: UserWarning:\n",
      "\n",
      "Glyph 44036 (\\N{HANGUL SYLLABLE GAN}) missing from current font.\n",
      "\n",
      "C:\\Users\\ciw96\\AppData\\Local\\Temp\\ipykernel_53752\\2487816119.py:12: UserWarning:\n",
      "\n",
      "Glyph 51064 (\\N{HANGUL SYLLABLE IN}) missing from current font.\n",
      "\n",
      "C:\\Users\\ciw96\\AppData\\Local\\Temp\\ipykernel_53752\\2487816119.py:12: UserWarning:\n",
      "\n",
      "Glyph 45937 (\\N{HANGUL SYLLABLE DEG}) missing from current font.\n",
      "\n",
      "C:\\Users\\ciw96\\AppData\\Local\\Temp\\ipykernel_53752\\2487816119.py:12: UserWarning:\n",
      "\n",
      "Glyph 49828 (\\N{HANGUL SYLLABLE SEU}) missing from current font.\n",
      "\n",
      "C:\\Users\\ciw96\\AppData\\Local\\Temp\\ipykernel_53752\\2487816119.py:12: UserWarning:\n",
      "\n",
      "Glyph 51204 (\\N{HANGUL SYLLABLE JEON}) missing from current font.\n",
      "\n",
      "C:\\Users\\ciw96\\AppData\\Local\\Temp\\ipykernel_53752\\2487816119.py:12: UserWarning:\n",
      "\n",
      "Glyph 52404 (\\N{HANGUL SYLLABLE CE}) missing from current font.\n",
      "\n",
      "C:\\Users\\ciw96\\AppData\\Local\\Temp\\ipykernel_53752\\2487816119.py:12: UserWarning:\n",
      "\n",
      "Glyph 44148 (\\N{HANGUL SYLLABLE GEON}) missing from current font.\n",
      "\n",
      "C:\\Users\\ciw96\\AppData\\Local\\Temp\\ipykernel_53752\\2487816119.py:12: UserWarning:\n",
      "\n",
      "Glyph 48320 (\\N{HANGUL SYLLABLE BYEON}) missing from current font.\n",
      "\n",
      "C:\\Users\\ciw96\\AppData\\Local\\Temp\\ipykernel_53752\\2487816119.py:12: UserWarning:\n",
      "\n",
      "Glyph 54868 (\\N{HANGUL SYLLABLE HWA}) missing from current font.\n",
      "\n",
      "C:\\Users\\ciw96\\AppData\\Local\\Temp\\ipykernel_53752\\2487816119.py:12: UserWarning:\n",
      "\n",
      "Glyph 44049 (\\N{HANGUL SYLLABLE GAB}) missing from current font.\n",
      "\n",
      "C:\\Users\\ciw96\\AppData\\Local\\Temp\\ipykernel_53752\\2487816119.py:12: UserWarning:\n",
      "\n",
      "Glyph 51088 (\\N{HANGUL SYLLABLE JA}) missing from current font.\n",
      "\n",
      "C:\\Users\\ciw96\\AppData\\Local\\Temp\\ipykernel_53752\\2487816119.py:12: UserWarning:\n",
      "\n",
      "Glyph 44592 (\\N{HANGUL SYLLABLE GI}) missing from current font.\n",
      "\n",
      "c:\\ProgramData\\anaconda3\\Lib\\site-packages\\IPython\\core\\pylabtools.py:152: UserWarning:\n",
      "\n",
      "Glyph 44053 (\\N{HANGUL SYLLABLE GANG}) missing from current font.\n",
      "\n",
      "c:\\ProgramData\\anaconda3\\Lib\\site-packages\\IPython\\core\\pylabtools.py:152: UserWarning:\n",
      "\n",
      "Glyph 49688 (\\N{HANGUL SYLLABLE SU}) missing from current font.\n",
      "\n",
      "c:\\ProgramData\\anaconda3\\Lib\\site-packages\\IPython\\core\\pylabtools.py:152: UserWarning:\n",
      "\n",
      "Glyph 47049 (\\N{HANGUL SYLLABLE RYANG}) missing from current font.\n",
      "\n",
      "c:\\ProgramData\\anaconda3\\Lib\\site-packages\\IPython\\core\\pylabtools.py:152: UserWarning:\n",
      "\n",
      "Glyph 51060 (\\N{HANGUL SYLLABLE I}) missing from current font.\n",
      "\n",
      "c:\\ProgramData\\anaconda3\\Lib\\site-packages\\IPython\\core\\pylabtools.py:152: UserWarning:\n",
      "\n",
      "Glyph 51460 (\\N{HANGUL SYLLABLE JUL}) missing from current font.\n",
      "\n",
      "c:\\ProgramData\\anaconda3\\Lib\\site-packages\\IPython\\core\\pylabtools.py:152: UserWarning:\n",
      "\n",
      "Glyph 50612 (\\N{HANGUL SYLLABLE EO}) missing from current font.\n",
      "\n",
      "c:\\ProgramData\\anaconda3\\Lib\\site-packages\\IPython\\core\\pylabtools.py:152: UserWarning:\n",
      "\n",
      "Glyph 46304 (\\N{HANGUL SYLLABLE DEUN}) missing from current font.\n",
      "\n",
      "c:\\ProgramData\\anaconda3\\Lib\\site-packages\\IPython\\core\\pylabtools.py:152: UserWarning:\n",
      "\n",
      "Glyph 44396 (\\N{HANGUL SYLLABLE GU}) missing from current font.\n",
      "\n",
      "c:\\ProgramData\\anaconda3\\Lib\\site-packages\\IPython\\core\\pylabtools.py:152: UserWarning:\n",
      "\n",
      "Glyph 44036 (\\N{HANGUL SYLLABLE GAN}) missing from current font.\n",
      "\n",
      "c:\\ProgramData\\anaconda3\\Lib\\site-packages\\IPython\\core\\pylabtools.py:152: UserWarning:\n",
      "\n",
      "Glyph 51064 (\\N{HANGUL SYLLABLE IN}) missing from current font.\n",
      "\n",
      "c:\\ProgramData\\anaconda3\\Lib\\site-packages\\IPython\\core\\pylabtools.py:152: UserWarning:\n",
      "\n",
      "Glyph 45937 (\\N{HANGUL SYLLABLE DEG}) missing from current font.\n",
      "\n",
      "c:\\ProgramData\\anaconda3\\Lib\\site-packages\\IPython\\core\\pylabtools.py:152: UserWarning:\n",
      "\n",
      "Glyph 49828 (\\N{HANGUL SYLLABLE SEU}) missing from current font.\n",
      "\n",
      "c:\\ProgramData\\anaconda3\\Lib\\site-packages\\IPython\\core\\pylabtools.py:152: UserWarning:\n",
      "\n",
      "Glyph 51204 (\\N{HANGUL SYLLABLE JEON}) missing from current font.\n",
      "\n",
      "c:\\ProgramData\\anaconda3\\Lib\\site-packages\\IPython\\core\\pylabtools.py:152: UserWarning:\n",
      "\n",
      "Glyph 52404 (\\N{HANGUL SYLLABLE CE}) missing from current font.\n",
      "\n",
      "c:\\ProgramData\\anaconda3\\Lib\\site-packages\\IPython\\core\\pylabtools.py:152: UserWarning:\n",
      "\n",
      "Glyph 44148 (\\N{HANGUL SYLLABLE GEON}) missing from current font.\n",
      "\n",
      "c:\\ProgramData\\anaconda3\\Lib\\site-packages\\IPython\\core\\pylabtools.py:152: UserWarning:\n",
      "\n",
      "Glyph 48320 (\\N{HANGUL SYLLABLE BYEON}) missing from current font.\n",
      "\n",
      "c:\\ProgramData\\anaconda3\\Lib\\site-packages\\IPython\\core\\pylabtools.py:152: UserWarning:\n",
      "\n",
      "Glyph 54868 (\\N{HANGUL SYLLABLE HWA}) missing from current font.\n",
      "\n",
      "c:\\ProgramData\\anaconda3\\Lib\\site-packages\\IPython\\core\\pylabtools.py:152: UserWarning:\n",
      "\n",
      "Glyph 44049 (\\N{HANGUL SYLLABLE GAB}) missing from current font.\n",
      "\n",
      "c:\\ProgramData\\anaconda3\\Lib\\site-packages\\IPython\\core\\pylabtools.py:152: UserWarning:\n",
      "\n",
      "Glyph 51088 (\\N{HANGUL SYLLABLE JA}) missing from current font.\n",
      "\n",
      "c:\\ProgramData\\anaconda3\\Lib\\site-packages\\IPython\\core\\pylabtools.py:152: UserWarning:\n",
      "\n",
      "Glyph 44592 (\\N{HANGUL SYLLABLE GI}) missing from current font.\n",
      "\n"
     ]
    },
    {
     "data": {
      "image/png": "[encoded data removed]",
      "text/plain": [
       "<Figure size 1000x600 with 1 Axes>"
      ]
     },
     "metadata": {},
     "output_type": "display_data"
    }
   ],
   "source": [
    "import matplotlib.pyplot as plt\n",
    "\n",
    "# 시각화\n",
    "plt.figure(figsize=(10, 6))\n",
    "plt.bar(전체건수_변화량_줄어드는_구간.index, 전체건수_변화량_줄어드는_구간, color='skyblue')\n",
    "plt.axhline(y=0, color='gray', linestyle='--', linewidth=1)  # y=0 수평선 추가\n",
    "plt.title('전체_건수 변화량: 강수량이 갑자기 줄어든 구간')\n",
    "plt.xlabel('강수량이 줄어든 구간 인덱스')\n",
    "plt.ylabel('전체_건수 변화량')\n",
    "plt.xticks(rotation=45)  # x 축 눈금 레이블 회전\n",
    "plt.grid(True)\n",
    "plt.tight_layout()\n",
    "plt.show()"
   ]
  },
  {
   "cell_type": "code",
   "execution_count": 53,
   "metadata": {},
   "outputs": [
    {
     "name": "stdout",
     "output_type": "stream",
     "text": [
      "강수량\n",
      "0     16402.342857\n",
      "1     15525.000000\n",
      "2     13856.181818\n",
      "3      9285.500000\n",
      "4     13037.500000\n",
      "5     11786.500000\n",
      "6     18615.500000\n",
      "7     13309.000000\n",
      "8     13051.333333\n",
      "9      4066.000000\n",
      "10     5577.500000\n",
      "11     4607.500000\n",
      "12    13768.000000\n",
      "15    16837.500000\n",
      "16     7108.000000\n",
      "17     4068.000000\n",
      "18     1349.000000\n",
      "25    11768.000000\n",
      "28     3338.000000\n",
      "30     7569.000000\n",
      "31    11795.500000\n",
      "36     4612.000000\n",
      "42     7958.000000\n",
      "43    12898.000000\n",
      "46     6968.000000\n",
      "47     5212.000000\n",
      "50     2191.000000\n",
      "55     7528.000000\n",
      "58     5911.000000\n",
      "62     9247.000000\n",
      "64     3807.000000\n",
      "73     3852.000000\n",
      "86     1395.000000\n",
      "92     5287.000000\n",
      "Name: 전체_건수, dtype: float64\n"
     ]
    }
   ],
   "source": [
    "# 강수량을 반올림하여 정수로 변환\n",
    "기상청_분석['강수량'] = 기상청_분석['강수량'].round().astype(int)\n",
    "\n",
    "# 각각의 강수량에 대한 전체_건수 평균 계산\n",
    "avg_total_count_by_rainfall = 기상청_분석.groupby('강수량')['전체_건수'].mean()\n",
    "\n",
    "print(avg_total_count_by_rainfall)"
   ]
  },
  {
   "cell_type": "code",
   "execution_count": 54,
   "metadata": {},
   "outputs": [
    {
     "data": {
      "application/vnd.plotly.v1+json": {
       "config": {
        "plotlyServerURL": "https://plot.ly"
       },
       "data": [
        {
         "alignmentgroup": "True",
         "hovertemplate": "강수량(mm)=%{x}<br>평균 전체_건수=%{y}<extra></extra>",
         "legendgroup": "",
         "marker": {
          "color": "#636efa",
          "pattern": {
           "shape": ""
          }
         },
         "name": "",
         "offsetgroup": "",
         "orientation": "v",
         "showlegend": false,
         "textposition": "auto",
         "type": "bar",
         "x": [
          0,
          1,
          2,
          3,
          4,
          5,
          6,
          7,
          8,
          9,
          10,
          11,
          12,
          15,
          16,
          17,
          18,
          25,
          28,
          30,
          31,
          36,
          42,
          43,
          46,
          47,
          50,
          55,
          58,
          62,
          64,
          73,
          86,
          92
         ],
         "xaxis": "x",
         "y": [
          16402.342857142856,
          15525,
          13856.181818181818,
          9285.5,
          13037.5,
          11786.5,
          18615.5,
          13309,
          13051.333333333334,
          4066,
          5577.5,
          4607.5,
          13768,
          16837.5,
          7108,
          4068,
          1349,
          11768,
          3338,
          7569,
          11795.5,
          4612,
          7958,
          12898,
          6968,
          5212,
          2191,
          7528,
          5911,
          9247,
          3807,
          3852,
          1395,
          5287
         ],
         "yaxis": "y"
        }
       ],
       "layout": {
        "barmode": "relative",
        "legend": {
         "tracegroupgap": 0
        },
        "template": {
         "data": {
          "bar": [
           {
            "error_x": {
             "color": "#2a3f5f"
            },
            "error_y": {
             "color": "#2a3f5f"
            },
            "marker": {
             "line": {
              "color": "#E5ECF6",
              "width": 0.5
             },
             "pattern": {
              "fillmode": "overlay",
              "size": 10,
              "solidity": 0.2
             }
            },
            "type": "bar"
           }
          ],
          "barpolar": [
           {
            "marker": {
             "line": {
              "color": "#E5ECF6",
              "width": 0.5
             },
             "pattern": {
              "fillmode": "overlay",
              "size": 10,
              "solidity": 0.2
             }
            },
            "type": "barpolar"
           }
          ],
          "carpet": [
           {
            "aaxis": {
             "endlinecolor": "#2a3f5f",
             "gridcolor": "white",
             "linecolor": "white",
             "minorgridcolor": "white",
             "startlinecolor": "#2a3f5f"
            },
            "baxis": {
             "endlinecolor": "#2a3f5f",
             "gridcolor": "white",
             "linecolor": "white",
             "minorgridcolor": "white",
             "startlinecolor": "#2a3f5f"
            },
            "type": "carpet"
           }
          ],
          "choropleth": [
           {
            "colorbar": {
             "outlinewidth": 0,
             "ticks": ""
            },
            "type": "choropleth"
           }
          ],
          "contour": [
           {
            "colorbar": {
             "outlinewidth": 0,
             "ticks": ""
            },
            "colorscale": [
             [
              0,
              "#0d0887"
             ],
             [
              0.1111111111111111,
              "#46039f"
             ],
             [
              0.2222222222222222,
              "#7201a8"
             ],
             [
              0.3333333333333333,
              "#9c179e"
             ],
             [
              0.4444444444444444,
              "#bd3786"
             ],
             [
              0.5555555555555556,
              "#d8576b"
             ],
             [
              0.6666666666666666,
              "#ed7953"
             ],
             [
              0.7777777777777778,
              "#fb9f3a"
             ],
             [
              0.8888888888888888,
              "#fdca26"
             ],
             [
              1,
              "#f0f921"
             ]
            ],
            "type": "contour"
           }
          ],
          "contourcarpet": [
           {
            "colorbar": {
             "outlinewidth": 0,
             "ticks": ""
            },
            "type": "contourcarpet"
           }
          ],
          "heatmap": [
           {
            "colorbar": {
             "outlinewidth": 0,
             "ticks": ""
            },
            "colorscale": [
             [
              0,
              "#0d0887"
             ],
             [
              0.1111111111111111,
              "#46039f"
             ],
             [
              0.2222222222222222,
              "#7201a8"
             ],
             [
              0.3333333333333333,
              "#9c179e"
             ],
             [
              0.4444444444444444,
              "#bd3786"
             ],
             [
              0.5555555555555556,
              "#d8576b"
             ],
             [
              0.6666666666666666,
              "#ed7953"
             ],
             [
              0.7777777777777778,
              "#fb9f3a"
             ],
             [
              0.8888888888888888,
              "#fdca26"
             ],
             [
              1,
              "#f0f921"
             ]
            ],
            "type": "heatmap"
           }
          ],
          "heatmapgl": [
           {
            "colorbar": {
             "outlinewidth": 0,
             "ticks": ""
            },
            "colorscale": [
             [
              0,
              "#0d0887"
             ],
             [
              0.1111111111111111,
              "#46039f"
             ],
             [
              0.2222222222222222,
              "#7201a8"
             ],
             [
              0.3333333333333333,
              "#9c179e"
             ],
             [
              0.4444444444444444,
              "#bd3786"
             ],
             [
              0.5555555555555556,
              "#d8576b"
             ],
             [
              0.6666666666666666,
              "#ed7953"
             ],
             [
              0.7777777777777778,
              "#fb9f3a"
             ],
             [
              0.8888888888888888,
              "#fdca26"
             ],
             [
              1,
              "#f0f921"
             ]
            ],
            "type": "heatmapgl"
           }
          ],
          "histogram": [
           {
            "marker": {
             "pattern": {
              "fillmode": "overlay",
              "size": 10,
              "solidity": 0.2
             }
            },
            "type": "histogram"
           }
          ],
          "histogram2d": [
           {
            "colorbar": {
             "outlinewidth": 0,
             "ticks": ""
            },
            "colorscale": [
             [
              0,
              "#0d0887"
             ],
             [
              0.1111111111111111,
              "#46039f"
             ],
             [
              0.2222222222222222,
              "#7201a8"
             ],
             [
              0.3333333333333333,
              "#9c179e"
             ],
             [
              0.4444444444444444,
              "#bd3786"
             ],
             [
              0.5555555555555556,
              "#d8576b"
             ],
             [
              0.6666666666666666,
              "#ed7953"
             ],
             [
              0.7777777777777778,
              "#fb9f3a"
             ],
             [
              0.8888888888888888,
              "#fdca26"
             ],
             [
              1,
              "#f0f921"
             ]
            ],
            "type": "histogram2d"
           }
          ],
          "histogram2dcontour": [
           {
            "colorbar": {
             "outlinewidth": 0,
             "ticks": ""
            },
            "colorscale": [
             [
              0,
              "#0d0887"
             ],
             [
              0.1111111111111111,
              "#46039f"
             ],
             [
              0.2222222222222222,
              "#7201a8"
             ],
             [
              0.3333333333333333,
              "#9c179e"
             ],
             [
              0.4444444444444444,
              "#bd3786"
             ],
             [
              0.5555555555555556,
              "#d8576b"
             ],
             [
              0.6666666666666666,
              "#ed7953"
             ],
             [
              0.7777777777777778,
              "#fb9f3a"
             ],
             [
              0.8888888888888888,
              "#fdca26"
             ],
             [
              1,
              "#f0f921"
             ]
            ],
            "type": "histogram2dcontour"
           }
          ],
          "mesh3d": [
           {
            "colorbar": {
             "outlinewidth": 0,
             "ticks": ""
            },
            "type": "mesh3d"
           }
          ],
          "parcoords": [
           {
            "line": {
             "colorbar": {
              "outlinewidth": 0,
              "ticks": ""
             }
            },
            "type": "parcoords"
           }
          ],
          "pie": [
           {
            "automargin": true,
            "type": "pie"
           }
          ],
          "scatter": [
           {
            "fillpattern": {
             "fillmode": "overlay",
             "size": 10,
             "solidity": 0.2
            },
            "type": "scatter"
           }
          ],
          "scatter3d": [
           {
            "line": {
             "colorbar": {
              "outlinewidth": 0,
              "ticks": ""
             }
            },
            "marker": {
             "colorbar": {
              "outlinewidth": 0,
              "ticks": ""
             }
            },
            "type": "scatter3d"
           }
          ],
          "scattercarpet": [
           {
            "marker": {
             "colorbar": {
              "outlinewidth": 0,
              "ticks": ""
             }
            },
            "type": "scattercarpet"
           }
          ],
          "scattergeo": [
           {
            "marker": {
             "colorbar": {
              "outlinewidth": 0,
              "ticks": ""
             }
            },
            "type": "scattergeo"
           }
          ],
          "scattergl": [
           {
            "marker": {
             "colorbar": {
              "outlinewidth": 0,
              "ticks": ""
             }
            },
            "type": "scattergl"
           }
          ],
          "scattermapbox": [
           {
            "marker": {
             "colorbar": {
              "outlinewidth": 0,
              "ticks": ""
             }
            },
            "type": "scattermapbox"
           }
          ],
          "scatterpolar": [
           {
            "marker": {
             "colorbar": {
              "outlinewidth": 0,
              "ticks": ""
             }
            },
            "type": "scatterpolar"
           }
          ],
          "scatterpolargl": [
           {
            "marker": {
             "colorbar": {
              "outlinewidth": 0,
              "ticks": ""
             }
            },
            "type": "scatterpolargl"
           }
          ],
          "scatterternary": [
           {
            "marker": {
             "colorbar": {
              "outlinewidth": 0,
              "ticks": ""
             }
            },
            "type": "scatterternary"
           }
          ],
          "surface": [
           {
            "colorbar": {
             "outlinewidth": 0,
             "ticks": ""
            },
            "colorscale": [
             [
              0,
              "#0d0887"
             ],
             [
              0.1111111111111111,
              "#46039f"
             ],
             [
              0.2222222222222222,
              "#7201a8"
             ],
             [
              0.3333333333333333,
              "#9c179e"
             ],
             [
              0.4444444444444444,
              "#bd3786"
             ],
             [
              0.5555555555555556,
              "#d8576b"
             ],
             [
              0.6666666666666666,
              "#ed7953"
             ],
             [
              0.7777777777777778,
              "#fb9f3a"
             ],
             [
              0.8888888888888888,
              "#fdca26"
             ],
             [
              1,
              "#f0f921"
             ]
            ],
            "type": "surface"
           }
          ],
          "table": [
           {
            "cells": {
             "fill": {
              "color": "#EBF0F8"
             },
             "line": {
              "color": "white"
             }
            },
            "header": {
             "fill": {
              "color": "#C8D4E3"
             },
             "line": {
              "color": "white"
             }
            },
            "type": "table"
           }
          ]
         },
         "layout": {
          "annotationdefaults": {
           "arrowcolor": "#2a3f5f",
           "arrowhead": 0,
           "arrowwidth": 1
          },
          "autotypenumbers": "strict",
          "coloraxis": {
           "colorbar": {
            "outlinewidth": 0,
            "ticks": ""
           }
          },
          "colorscale": {
           "diverging": [
            [
             0,
             "#8e0152"
            ],
            [
             0.1,
             "#c51b7d"
            ],
            [
             0.2,
             "#de77ae"
            ],
            [
             0.3,
             "#f1b6da"
            ],
            [
             0.4,
             "#fde0ef"
            ],
            [
             0.5,
             "#f7f7f7"
            ],
            [
             0.6,
             "#e6f5d0"
            ],
            [
             0.7,
             "#b8e186"
            ],
            [
             0.8,
             "#7fbc41"
            ],
            [
             0.9,
             "#4d9221"
            ],
            [
             1,
             "#276419"
            ]
           ],
           "sequential": [
            [
             0,
             "#0d0887"
            ],
            [
             0.1111111111111111,
             "#46039f"
            ],
            [
             0.2222222222222222,
             "#7201a8"
            ],
            [
             0.3333333333333333,
             "#9c179e"
            ],
            [
             0.4444444444444444,
             "#bd3786"
            ],
            [
             0.5555555555555556,
             "#d8576b"
            ],
            [
             0.6666666666666666,
             "#ed7953"
            ],
            [
             0.7777777777777778,
             "#fb9f3a"
            ],
            [
             0.8888888888888888,
             "#fdca26"
            ],
            [
             1,
             "#f0f921"
            ]
           ],
           "sequentialminus": [
            [
             0,
             "#0d0887"
            ],
            [
             0.1111111111111111,
             "#46039f"
            ],
            [
             0.2222222222222222,
             "#7201a8"
            ],
            [
             0.3333333333333333,
             "#9c179e"
            ],
            [
             0.4444444444444444,
             "#bd3786"
            ],
            [
             0.5555555555555556,
             "#d8576b"
            ],
            [
             0.6666666666666666,
             "#ed7953"
            ],
            [
             0.7777777777777778,
             "#fb9f3a"
            ],
            [
             0.8888888888888888,
             "#fdca26"
            ],
            [
             1,
             "#f0f921"
            ]
           ]
          },
          "colorway": [
           "#636efa",
           "#EF553B",
           "#00cc96",
           "#ab63fa",
           "#FFA15A",
           "#19d3f3",
           "#FF6692",
           "#B6E880",
           "#FF97FF",
           "#FECB52"
          ],
          "font": {
           "color": "#2a3f5f"
          },
          "geo": {
           "bgcolor": "white",
           "lakecolor": "white",
           "landcolor": "#E5ECF6",
           "showlakes": true,
           "showland": true,
           "subunitcolor": "white"
          },
          "hoverlabel": {
           "align": "left"
          },
          "hovermode": "closest",
          "mapbox": {
           "style": "light"
          },
          "paper_bgcolor": "white",
          "plot_bgcolor": "#E5ECF6",
          "polar": {
           "angularaxis": {
            "gridcolor": "white",
            "linecolor": "white",
            "ticks": ""
           },
           "bgcolor": "#E5ECF6",
           "radialaxis": {
            "gridcolor": "white",
            "linecolor": "white",
            "ticks": ""
           }
          },
          "scene": {
           "xaxis": {
            "backgroundcolor": "#E5ECF6",
            "gridcolor": "white",
            "gridwidth": 2,
            "linecolor": "white",
            "showbackground": true,
            "ticks": "",
            "zerolinecolor": "white"
           },
           "yaxis": {
            "backgroundcolor": "#E5ECF6",
            "gridcolor": "white",
            "gridwidth": 2,
            "linecolor": "white",
            "showbackground": true,
            "ticks": "",
            "zerolinecolor": "white"
           },
           "zaxis": {
            "backgroundcolor": "#E5ECF6",
            "gridcolor": "white",
            "gridwidth": 2,
            "linecolor": "white",
            "showbackground": true,
            "ticks": "",
            "zerolinecolor": "white"
           }
          },
          "shapedefaults": {
           "line": {
            "color": "#2a3f5f"
           }
          },
          "ternary": {
           "aaxis": {
            "gridcolor": "white",
            "linecolor": "white",
            "ticks": ""
           },
           "baxis": {
            "gridcolor": "white",
            "linecolor": "white",
            "ticks": ""
           },
           "bgcolor": "#E5ECF6",
           "caxis": {
            "gridcolor": "white",
            "linecolor": "white",
            "ticks": ""
           }
          },
          "title": {
           "x": 0.05
          },
          "xaxis": {
           "automargin": true,
           "gridcolor": "white",
           "linecolor": "white",
           "ticks": "",
           "title": {
            "standoff": 15
           },
           "zerolinecolor": "white",
           "zerolinewidth": 2
          },
          "yaxis": {
           "automargin": true,
           "gridcolor": "white",
           "linecolor": "white",
           "ticks": "",
           "title": {
            "standoff": 15
           },
           "zerolinecolor": "white",
           "zerolinewidth": 2
          }
         }
        },
        "title": {
         "text": "강수량별 평균 전체_건수"
        },
        "xaxis": {
         "anchor": "y",
         "domain": [
          0,
          1
         ],
         "title": {
          "text": "강수량(mm)"
         }
        },
        "yaxis": {
         "anchor": "x",
         "domain": [
          0,
          1
         ],
         "title": {
          "text": "평균 전체_건수"
         }
        }
       }
      }
     },
     "metadata": {},
     "output_type": "display_data"
    }
   ],
   "source": [
    "import plotly.express as px\n",
    "\n",
    "# 강수량별 평균 전체_건수 데이터프레임 생성\n",
    "avg_total_count_by_rainfall_df = avg_total_count_by_rainfall.reset_index()\n",
    "avg_total_count_by_rainfall_df.columns = ['강수량', '평균_전체_건수']\n",
    "\n",
    "# Plotly를 사용하여 인터랙티브 바 그래프 생성\n",
    "fig = px.bar(avg_total_count_by_rainfall_df, x='강수량', y='평균_전체_건수', title='강수량별 평균 전체_건수',\n",
    "             labels={'강수량': '강수량(mm)', '평균_전체_건수': '평균 전체_건수'})\n",
    "\n",
    "# 그래프 출력\n",
    "fig.show()"
   ]
  },
  {
   "cell_type": "code",
   "execution_count": 47,
   "metadata": {},
   "outputs": [
    {
     "data": {
      "text/html": [
       "<div>\n",
       "<style scoped>\n",
       "    .dataframe tbody tr th:only-of-type {\n",
       "        vertical-align: middle;\n",
       "    }\n",
       "\n",
       "    .dataframe tbody tr th {\n",
       "        vertical-align: top;\n",
       "    }\n",
       "\n",
       "    .dataframe thead th {\n",
       "        text-align: right;\n",
       "    }\n",
       "</style>\n",
       "<table border=\"1\" class=\"dataframe\">\n",
       "  <thead>\n",
       "    <tr style=\"text-align: right;\">\n",
       "      <th></th>\n",
       "      <th>기준_날짜</th>\n",
       "      <th>강수량</th>\n",
       "      <th>전체_건수</th>\n",
       "    </tr>\n",
       "  </thead>\n",
       "  <tbody>\n",
       "    <tr>\n",
       "      <th>0</th>\n",
       "      <td>2023-04-03</td>\n",
       "      <td>0</td>\n",
       "      <td>16354</td>\n",
       "    </tr>\n",
       "    <tr>\n",
       "      <th>1</th>\n",
       "      <td>2023-04-04</td>\n",
       "      <td>7</td>\n",
       "      <td>13309</td>\n",
       "    </tr>\n",
       "    <tr>\n",
       "      <th>2</th>\n",
       "      <td>2023-04-05</td>\n",
       "      <td>50</td>\n",
       "      <td>2191</td>\n",
       "    </tr>\n",
       "    <tr>\n",
       "      <th>3</th>\n",
       "      <td>2023-04-06</td>\n",
       "      <td>3</td>\n",
       "      <td>7303</td>\n",
       "    </tr>\n",
       "    <tr>\n",
       "      <th>4</th>\n",
       "      <td>2023-04-07</td>\n",
       "      <td>0</td>\n",
       "      <td>14320</td>\n",
       "    </tr>\n",
       "    <tr>\n",
       "      <th>...</th>\n",
       "      <td>...</td>\n",
       "      <td>...</td>\n",
       "      <td>...</td>\n",
       "    </tr>\n",
       "    <tr>\n",
       "      <th>236</th>\n",
       "      <td>2024-03-25</td>\n",
       "      <td>5</td>\n",
       "      <td>6757</td>\n",
       "    </tr>\n",
       "    <tr>\n",
       "      <th>237</th>\n",
       "      <td>2024-03-26</td>\n",
       "      <td>12</td>\n",
       "      <td>9299</td>\n",
       "    </tr>\n",
       "    <tr>\n",
       "      <th>238</th>\n",
       "      <td>2024-03-27</td>\n",
       "      <td>0</td>\n",
       "      <td>15206</td>\n",
       "    </tr>\n",
       "    <tr>\n",
       "      <th>239</th>\n",
       "      <td>2024-03-28</td>\n",
       "      <td>2</td>\n",
       "      <td>9280</td>\n",
       "    </tr>\n",
       "    <tr>\n",
       "      <th>240</th>\n",
       "      <td>2024-03-29</td>\n",
       "      <td>1</td>\n",
       "      <td>10772</td>\n",
       "    </tr>\n",
       "  </tbody>\n",
       "</table>\n",
       "<p>241 rows × 3 columns</p>\n",
       "</div>"
      ],
      "text/plain": [
       "         기준_날짜  강수량  전체_건수\n",
       "0   2023-04-03    0  16354\n",
       "1   2023-04-04    7  13309\n",
       "2   2023-04-05   50   2191\n",
       "3   2023-04-06    3   7303\n",
       "4   2023-04-07    0  14320\n",
       "..         ...  ...    ...\n",
       "236 2024-03-25    5   6757\n",
       "237 2024-03-26   12   9299\n",
       "238 2024-03-27    0  15206\n",
       "239 2024-03-28    2   9280\n",
       "240 2024-03-29    1  10772\n",
       "\n",
       "[241 rows x 3 columns]"
      ]
     },
     "execution_count": 47,
     "metadata": {},
     "output_type": "execute_result"
    }
   ],
   "source": [
    "기상청_분석"
   ]
  }
 ],
 "metadata": {
  "kernelspec": {
   "display_name": "base",
   "language": "python",
   "name": "python3"
  },
  "language_info": {
   "codemirror_mode": {
    "name": "ipython",
    "version": 3
   },
   "file_extension": ".py",
   "mimetype": "text/x-python",
   "name": "python",
   "nbconvert_exporter": "python",
   "pygments_lexer": "ipython3",
   "version": "3.11.7"
  }
 },
 "nbformat": 4,
 "nbformat_minor": 2
}
